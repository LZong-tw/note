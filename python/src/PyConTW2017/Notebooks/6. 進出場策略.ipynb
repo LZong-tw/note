{
 "cells": [
  {
   "cell_type": "markdown",
   "metadata": {},
   "source": [
    "# 進出場策略 (Entry & Exit Strategies)"
   ]
  },
  {
   "cell_type": "markdown",
   "metadata": {},
   "source": [
    "## 看一下單一股票的進出場狀況"
   ]
  },
  {
   "cell_type": "code",
   "execution_count": null,
   "metadata": {
    "collapsed": false
   },
   "outputs": [],
   "source": [
    "import ffn\n",
    "\n",
    "%matplotlib inline\n",
    "\n",
    "import pandas_datareader.data as web\n",
    "import pandas as pd\n",
    "from pandas import Series, DataFrame\n",
    "\n",
    "import matplotlib.pyplot as plt\n",
    "import numpy as np\n",
    "\n",
    "from datetime import datetime"
   ]
  },
  {
   "cell_type": "code",
   "execution_count": null,
   "metadata": {
    "collapsed": true
   },
   "outputs": [],
   "source": [
    "# 讀取從指定日期之後的股價資訊\n",
    "df = web.DataReader(\"TSLA\", 'google', datetime(2016,8,1))"
   ]
  },
  {
   "cell_type": "code",
   "execution_count": null,
   "metadata": {
    "collapsed": false
   },
   "outputs": [],
   "source": [
    "# 計算均線\n",
    "df['20d'] = pd.Series.rolling(df['Close'], window=20).mean()\n",
    "df['60d'] = pd.Series.rolling(df['Close'], window=60).mean()"
   ]
  },
  {
   "cell_type": "code",
   "execution_count": null,
   "metadata": {
    "collapsed": false
   },
   "outputs": [],
   "source": [
    "df[['Close','20d','60d']].plot(grid=True, figsize=(10,8))"
   ]
  },
  {
   "cell_type": "code",
   "execution_count": null,
   "metadata": {
    "collapsed": false
   },
   "outputs": [],
   "source": [
    "# Donchian Channel\n",
    "df['20d_high'] = pd.Series.rolling(df['Close'], window=20).max()\n",
    "df['10d_low'] = pd.Series.rolling(df['Close'], window=10).min()"
   ]
  },
  {
   "cell_type": "code",
   "execution_count": null,
   "metadata": {
    "collapsed": false
   },
   "outputs": [],
   "source": [
    "df[['Close','20d_high','10d_low']].plot(grid=True, figsize=(10,8))"
   ]
  },
  {
   "cell_type": "markdown",
   "metadata": {},
   "source": [
    "## 策略"
   ]
  },
  {
   "cell_type": "markdown",
   "metadata": {},
   "source": [
    "進出點的計算，可以參考：\n",
    "\n",
    "https://www.quantstart.com/articles/Backtesting-a-Moving-Average-Crossover-in-Python-with-pandas"
   ]
  },
  {
   "cell_type": "code",
   "execution_count": null,
   "metadata": {
    "collapsed": true
   },
   "outputs": [],
   "source": [
    "# 第一個策略\n",
    "def strategy1(df):\n",
    "    # 計算均線\n",
    "    df['20d'] = pd.Series.rolling(df['Close'], window=20).mean()\n",
    "    df['60d'] = pd.Series.rolling(df['Close'], window=60).mean()\n",
    "    \n",
    "    df['positions'] = np.where(df['20d']-df['60d'] > 0, 1.0, 0.0)\n",
    "    df['signals'] = df['positions'].diff()\n",
    "    df[['signals', 'positions']].plot(subplots = True, ylim=(-1.1, 1.1), figsize = (10, 8))"
   ]
  },
  {
   "cell_type": "code",
   "execution_count": null,
   "metadata": {
    "collapsed": true
   },
   "outputs": [],
   "source": [
    "# 第二個策略\n",
    "def strategy2(df):\n",
    "    # 計算均線\n",
    "    df['20d'] = pd.Series.rolling(df['Close'], window=20).mean()\n",
    "    df['60d'] = pd.Series.rolling(df['Close'], window=60).mean()\n",
    "    \n",
    "    # 判斷均線向上或向下\n",
    "    df['20d_diff'] = np.round(df['20d'].diff(), 2)\n",
    "    df['60d_diff'] = np.round(df['60d'].diff(), 2)\n",
    "    \n",
    "    df['positions'] = np.where(np.logical_and(df['20d']-df['60d'] > 0, df['20d_diff'] > 0), 1.0, 0.0)\n",
    "    df['signals'] = df['positions'].diff()\n",
    "    df[['signals', 'positions']].plot(subplots = True, ylim=(-1.1, 1.1), figsize = (10, 8))"
   ]
  },
  {
   "cell_type": "code",
   "execution_count": null,
   "metadata": {
    "collapsed": false
   },
   "outputs": [],
   "source": [
    "# 第三個策略\n",
    "def breakout(df):\n",
    "    # Donchian Channel\n",
    "    df['20d_high'] = pd.Series.rolling(df['Close'], window=20).max()\n",
    "    df['10d_low'] = pd.Series.rolling(df['Close'], window=10).min()\n",
    "\n",
    "    has_position = False\n",
    "    df['signals'] = np.zeros(np.size(df['Close']))\n",
    "    for t in range(2, df['signals'].size):\n",
    "        if df['Close'][t] > df['20d_high'][t-1]:\n",
    "            if not has_position:\n",
    "                df.loc[df.index[t], 'signals'] = 1.0\n",
    "                has_position = True\n",
    "        elif df['Close'][t] < df['10d_low'][t-1]:\n",
    "            if has_position:\n",
    "                df.loc[df.index[t], 'signals'] = -1.0\n",
    "                has_position = False\n",
    "\n",
    "    df['positions'] = df['signals'].cumsum()\n",
    "\n",
    "    df[['signals', 'positions']].plot(subplots = True, ylim=(-1.1, 1.1), figsize = (10, 8))"
   ]
  },
  {
   "cell_type": "code",
   "execution_count": null,
   "metadata": {
    "collapsed": true
   },
   "outputs": [],
   "source": [
    "def apply_strategy(strategy, df):\n",
    "    return strategy(df)"
   ]
  },
  {
   "cell_type": "code",
   "execution_count": null,
   "metadata": {
    "collapsed": false
   },
   "outputs": [],
   "source": [
    "apply_strategy(breakout, df)"
   ]
  },
  {
   "cell_type": "code",
   "execution_count": null,
   "metadata": {
    "collapsed": false
   },
   "outputs": [],
   "source": [
    "fig = plt.figure()\n",
    "#fig.patch.set_facecolor('white')     # Set the outer colour to white\n",
    "ax1 = fig.add_subplot(111,  ylabel='Price in $')\n",
    "    \n",
    "df['Close'].plot(ax=ax1, color='gray', lw=1., figsize=(10,8))\n",
    "\n",
    "# Plot the \"buy\" trades\n",
    "ax1.plot(df.ix[df.signals == 1.0].index,df['Close'][df.signals == 1.0],'^', markersize=10, color='r')\n",
    "\n",
    "# Plot the \"sell\" trades\n",
    "ax1.plot(df.ix[df.signals == -1.0].index, df['Close'][df.signals == -1.0], 'v', markersize=10, color='k')"
   ]
  },
  {
   "cell_type": "markdown",
   "metadata": {},
   "source": [
    "## 計算Sharpe Ratio"
   ]
  },
  {
   "cell_type": "code",
   "execution_count": null,
   "metadata": {
    "collapsed": true
   },
   "outputs": [],
   "source": [
    "dailyRet = df['Close'].pct_change()"
   ]
  },
  {
   "cell_type": "code",
   "execution_count": null,
   "metadata": {
    "collapsed": false
   },
   "outputs": [],
   "source": [
    "#假設無風險利率為 4%\n",
    "#假設一年有252個交易日\n",
    "excessRet = (dailyRet - 0.04/252)[df['positions']==1.0]\n",
    "\n",
    "sharpeRatio = np.sqrt(252.0)*np.mean(excessRet)/np.std(excessRet)"
   ]
  },
  {
   "cell_type": "code",
   "execution_count": null,
   "metadata": {
    "collapsed": false
   },
   "outputs": [],
   "source": [
    "sharpeRatio"
   ]
  },
  {
   "cell_type": "markdown",
   "metadata": {},
   "source": [
    "## 計算MaxDD跟MaxDDD"
   ]
  },
  {
   "cell_type": "code",
   "execution_count": null,
   "metadata": {
    "collapsed": true
   },
   "outputs": [],
   "source": [
    "cumRet = np.cumprod(1 + excessRet)"
   ]
  },
  {
   "cell_type": "code",
   "execution_count": null,
   "metadata": {
    "collapsed": false
   },
   "outputs": [],
   "source": [
    "cumRet.plot(style='ro-')"
   ]
  },
  {
   "cell_type": "code",
   "execution_count": null,
   "metadata": {
    "collapsed": true
   },
   "outputs": [],
   "source": [
    "def DrawDownAnalysis(cumRet):\n",
    "    dd_series = ffn.core.to_drawdown_series(cumRet)\n",
    "    dd_details = ffn.core.drawdown_details(dd_series)\n",
    "    return dd_details['drawdown'].min(), dd_details['days'].max()"
   ]
  },
  {
   "cell_type": "code",
   "execution_count": null,
   "metadata": {
    "collapsed": false
   },
   "outputs": [],
   "source": [
    "DrawDownAnalysis(cumRet)"
   ]
  }
 ],
 "metadata": {
  "anaconda-cloud": {},
  "kernelspec": {
   "display_name": "Python [conda root]",
   "language": "python",
   "name": "conda-root-py"
  },
  "language_info": {
   "codemirror_mode": {
    "name": "ipython",
    "version": 3
   },
   "file_extension": ".py",
   "mimetype": "text/x-python",
   "name": "python",
   "nbconvert_exporter": "python",
   "pygments_lexer": "ipython3",
   "version": "3.5.2"
  }
 },
 "nbformat": 4,
 "nbformat_minor": 0
}
