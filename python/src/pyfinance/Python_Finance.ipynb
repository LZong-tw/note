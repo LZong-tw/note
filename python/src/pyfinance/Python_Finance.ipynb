{
 "cells": [
  {
   "cell_type": "markdown",
   "metadata": {},
   "source": [
    "## 使用GET 抓取頁面資訊"
   ]
  },
  {
   "cell_type": "code",
   "execution_count": 3,
   "metadata": {
    "collapsed": false
   },
   "outputs": [
    {
     "name": "stdout",
     "output_type": "stream",
     "text": [
      "<Response [200]>\n"
     ]
    }
   ],
   "source": [
    "import requests\n",
    "res = requests.get('https://tw.stock.yahoo.com/q/q?s=2330')\n",
    "print res"
   ]
  },
  {
   "cell_type": "markdown",
   "metadata": {},
   "source": [
    "## 使用Help 與 dir 查詢套件與函式"
   ]
  },
  {
   "cell_type": "code",
   "execution_count": 4,
   "metadata": {
    "collapsed": false
   },
   "outputs": [
    {
     "name": "stdout",
     "output_type": "stream",
     "text": [
      "Help on package requests:\n",
      "\n",
      "NAME\n",
      "    requests\n",
      "\n",
      "FILE\n",
      "    c:\\anaconda2\\lib\\site-packages\\requests\\__init__.py\n",
      "\n",
      "DESCRIPTION\n",
      "    Requests HTTP library\n",
      "    ~~~~~~~~~~~~~~~~~~~~~\n",
      "    \n",
      "    Requests is an HTTP library, written in Python, for human beings. Basic GET\n",
      "    usage:\n",
      "    \n",
      "       >>> import requests\n",
      "       >>> r = requests.get('https://www.python.org')\n",
      "       >>> r.status_code\n",
      "       200\n",
      "       >>> 'Python is a programming language' in r.content\n",
      "       True\n",
      "    \n",
      "    ... or POST:\n",
      "    \n",
      "       >>> payload = dict(key1='value1', key2='value2')\n",
      "       >>> r = requests.post('http://httpbin.org/post', data=payload)\n",
      "       >>> print(r.text)\n",
      "       {\n",
      "         ...\n",
      "         \"form\": {\n",
      "           \"key2\": \"value2\",\n",
      "           \"key1\": \"value1\"\n",
      "         },\n",
      "         ...\n",
      "       }\n",
      "    \n",
      "    The other HTTP methods are supported - see `requests.api`. Full documentation\n",
      "    is at <http://python-requests.org>.\n",
      "    \n",
      "    :copyright: (c) 2015 by Kenneth Reitz.\n",
      "    :license: Apache 2.0, see LICENSE for more details.\n",
      "\n",
      "PACKAGE CONTENTS\n",
      "    adapters\n",
      "    api\n",
      "    auth\n",
      "    certs\n",
      "    compat\n",
      "    cookies\n",
      "    exceptions\n",
      "    hooks\n",
      "    models\n",
      "    packages (package)\n",
      "    sessions\n",
      "    status_codes\n",
      "    structures\n",
      "    utils\n",
      "\n",
      "DATA\n",
      "    __author__ = 'Kenneth Reitz'\n",
      "    __build__ = 133121\n",
      "    __copyright__ = 'Copyright 2015 Kenneth Reitz'\n",
      "    __license__ = 'Apache 2.0'\n",
      "    __title__ = 'requests'\n",
      "    __version__ = '2.8.1'\n",
      "    codes = <lookup 'status_codes'>\n",
      "\n",
      "VERSION\n",
      "    2.8.1\n",
      "\n",
      "AUTHOR\n",
      "    Kenneth Reitz\n",
      "\n",
      "\n",
      "Help on function get in module requests.api:\n",
      "\n",
      "get(url, params=None, **kwargs)\n",
      "    Sends a GET request.\n",
      "    \n",
      "    :param url: URL for the new :class:`Request` object.\n",
      "    :param params: (optional) Dictionary or bytes to be sent in the query string for the :class:`Request`.\n",
      "    :param \\*\\*kwargs: Optional arguments that ``request`` takes.\n",
      "    :return: :class:`Response <Response>` object\n",
      "    :rtype: requests.Response\n",
      "\n"
     ]
    }
   ],
   "source": [
    "import requests\n",
    "help(requests)\n",
    "\n",
    "\n",
    "dir(requests)\n",
    "\n",
    "help(requests.get)\n",
    "? requests.get"
   ]
  },
  {
   "cell_type": "markdown",
   "metadata": {},
   "source": [
    "## 使用POST 取得三大法人買賣超日報資訊"
   ]
  },
  {
   "cell_type": "code",
   "execution_count": 7,
   "metadata": {
    "collapsed": false
   },
   "outputs": [],
   "source": [
    "import requests\n",
    "payload = {\n",
    "'qdate':'105/05/06',\n",
    "'select2':'ALL',\n",
    "'sorting':'by_issue'    \n",
    "}\n",
    "res = requests.post('http://www.twse.com.tw/ch/trading/fund/T86/T86.php', data=payload)\n",
    "#print res.text"
   ]
  },
  {
   "cell_type": "markdown",
   "metadata": {},
   "source": [
    "## BeautifulSoup 範例"
   ]
  },
  {
   "cell_type": "code",
   "execution_count": 9,
   "metadata": {
    "collapsed": false
   },
   "outputs": [
    {
     "name": "stdout",
     "output_type": "stream",
     "text": [
      "\n",
      "\n",
      "\n",
      "Hello World\n",
      "This is link1\n",
      "This is link2\n",
      "\n",
      "\n"
     ]
    }
   ],
   "source": [
    "from bs4 import BeautifulSoup \n",
    "html_sample = ''' \n",
    "<html> \n",
    " <body> \n",
    " <h1 id=\"title\">Hello World</h1> \n",
    " <a href=\"#\" class=\"link\">This is link1</a> \n",
    " <a href=\"# link2\" class=\"link\">This is link2</a> \n",
    " </body> \n",
    " </html>'''\n",
    "\n",
    "soup = BeautifulSoup(html_sample, 'html.parser')\n",
    "print soup.text"
   ]
  },
  {
   "cell_type": "markdown",
   "metadata": {},
   "source": [
    "## 找出所有含a tag 的HTML 元素"
   ]
  },
  {
   "cell_type": "code",
   "execution_count": 10,
   "metadata": {
    "collapsed": false
   },
   "outputs": [
    {
     "name": "stdout",
     "output_type": "stream",
     "text": [
      "[<a class=\"link\" href=\"#\">This is link1</a>, <a class=\"link\" href=\"# link2\">This is link2</a>]\n"
     ]
    }
   ],
   "source": [
    "soup = BeautifulSoup(html_sample, 'html.parser') \n",
    "alink = soup.select('a') \n",
    "print alink\n"
   ]
  },
  {
   "cell_type": "markdown",
   "metadata": {},
   "source": [
    "## 取得含有特定ID的元素"
   ]
  },
  {
   "cell_type": "code",
   "execution_count": 11,
   "metadata": {
    "collapsed": false
   },
   "outputs": [
    {
     "name": "stdout",
     "output_type": "stream",
     "text": [
      "[<h1 id=\"title\">Hello World</h1>]\n"
     ]
    }
   ],
   "source": [
    "alink = soup.select('#title') \n",
    "print alink"
   ]
  },
  {
   "cell_type": "markdown",
   "metadata": {},
   "source": [
    "## 取得含有特定class的元素"
   ]
  },
  {
   "cell_type": "code",
   "execution_count": 12,
   "metadata": {
    "collapsed": false
   },
   "outputs": [
    {
     "name": "stdout",
     "output_type": "stream",
     "text": [
      "<a class=\"link\" href=\"#\">This is link1</a>\n",
      "<a class=\"link\" href=\"# link2\">This is link2</a>\n"
     ]
    }
   ],
   "source": [
    "soup = BeautifulSoup(html_sample, 'html.parser') \n",
    "for link in soup.select('.link'): \n",
    "    print link"
   ]
  },
  {
   "cell_type": "markdown",
   "metadata": {},
   "source": [
    "## 取得所有a tag 內的連結"
   ]
  },
  {
   "cell_type": "code",
   "execution_count": 13,
   "metadata": {
    "collapsed": false
   },
   "outputs": [
    {
     "name": "stdout",
     "output_type": "stream",
     "text": [
      "#\n",
      "# link2\n"
     ]
    }
   ],
   "source": [
    "alinks = soup.select('a') \n",
    "for link in alinks: \n",
    "    print link['href']"
   ]
  },
  {
   "cell_type": "markdown",
   "metadata": {},
   "source": [
    "## 抓取成交價格"
   ]
  },
  {
   "cell_type": "code",
   "execution_count": 15,
   "metadata": {
    "collapsed": false
   },
   "outputs": [
    {
     "name": "stdout",
     "output_type": "stream",
     "text": [
      "[<b>148.0</b>]\n",
      "148.0\n"
     ]
    }
   ],
   "source": [
    "import requests\n",
    "from bs4 import BeautifulSoup as bs\n",
    "res = requests.get('https://tw.stock.yahoo.com/q/q?s=2330')\n",
    "soup = bs(res.text, 'html.parser')\n",
    "print soup.select('b')\n",
    "print soup.select('b')[0].text\n"
   ]
  },
  {
   "cell_type": "markdown",
   "metadata": {},
   "source": [
    "## 使用read_html 讀取表格"
   ]
  },
  {
   "cell_type": "code",
   "execution_count": 17,
   "metadata": {
    "collapsed": false
   },
   "outputs": [
    {
     "data": {
      "text/html": [
       "<div>\n",
       "<table border=\"1\" class=\"dataframe\">\n",
       "  <thead>\n",
       "    <tr style=\"text-align: right;\">\n",
       "      <th></th>\n",
       "      <th>Month</th>\n",
       "      <th>Savings</th>\n",
       "    </tr>\n",
       "  </thead>\n",
       "  <tbody>\n",
       "    <tr>\n",
       "      <th>0</th>\n",
       "      <td>January</td>\n",
       "      <td>$100</td>\n",
       "    </tr>\n",
       "    <tr>\n",
       "      <th>1</th>\n",
       "      <td>February</td>\n",
       "      <td>$80</td>\n",
       "    </tr>\n",
       "    <tr>\n",
       "      <th>2</th>\n",
       "      <td>Sum</td>\n",
       "      <td>$180</td>\n",
       "    </tr>\n",
       "  </tbody>\n",
       "</table>\n",
       "</div>"
      ],
      "text/plain": [
       "      Month Savings\n",
       "0   January    $100\n",
       "1  February     $80\n",
       "2       Sum    $180"
      ]
     },
     "execution_count": 17,
     "metadata": {},
     "output_type": "execute_result"
    }
   ],
   "source": [
    "table = \"\"\"\n",
    "<table> \n",
    "    <thead> \n",
    "        <tr> \n",
    "        <th>Month</th>  \n",
    "        <th>Savings</th> \n",
    "        </tr> \n",
    "    </thead> \n",
    "    <tbody> \n",
    "        <tr> <td>January</td> <td>$100</td></tr> \n",
    "        <tr> <td>February</td> <td>$80</td></tr> \n",
    "    </tbody> \n",
    "    <tfoot> \n",
    "        <tr> <td>Sum</td> <td>$180</td> </tr> \n",
    "    </tfoot> \n",
    "</table>\n",
    "\"\"\"\n",
    "import pandas as pd\n",
    "dfs = pd.read_html(table)\n",
    "dfs[0]\n"
   ]
  },
  {
   "cell_type": "markdown",
   "metadata": {},
   "source": [
    "## 使用read_html 讀取Yahoo 股市表格"
   ]
  },
  {
   "cell_type": "code",
   "execution_count": 19,
   "metadata": {
    "collapsed": false
   },
   "outputs": [
    {
     "data": {
      "text/html": [
       "<div>\n",
       "<table border=\"1\" class=\"dataframe\">\n",
       "  <thead>\n",
       "    <tr style=\"text-align: right;\">\n",
       "      <th></th>\n",
       "      <th>股票  代號</th>\n",
       "      <th>時間</th>\n",
       "      <th>成交</th>\n",
       "      <th>買進</th>\n",
       "      <th>賣出</th>\n",
       "      <th>漲跌</th>\n",
       "      <th>張數</th>\n",
       "      <th>昨收</th>\n",
       "      <th>開盤</th>\n",
       "      <th>最高</th>\n",
       "      <th>最低</th>\n",
       "      <th>個股資料</th>\n",
       "    </tr>\n",
       "  </thead>\n",
       "  <tbody>\n",
       "    <tr>\n",
       "      <th>0</th>\n",
       "      <td>2330台積電  加到投資組合</td>\n",
       "      <td>14:30</td>\n",
       "      <td>148</td>\n",
       "      <td>147.5</td>\n",
       "      <td>148</td>\n",
       "      <td>△0.5</td>\n",
       "      <td>36528</td>\n",
       "      <td>147.5</td>\n",
       "      <td>148.5</td>\n",
       "      <td>148.5</td>\n",
       "      <td>147</td>\n",
       "      <td>成交明細  技術  新聞  基本  籌碼  個股健診</td>\n",
       "    </tr>\n",
       "    <tr>\n",
       "      <th>1</th>\n",
       "      <td>凱基證券下單</td>\n",
       "      <td>買  賣  張  零股交易</td>\n",
       "      <td>NaN</td>\n",
       "      <td>NaN</td>\n",
       "      <td>NaN</td>\n",
       "      <td>NaN</td>\n",
       "      <td>NaN</td>\n",
       "      <td>NaN</td>\n",
       "      <td>NaN</td>\n",
       "      <td>NaN</td>\n",
       "      <td>NaN</td>\n",
       "      <td>NaN</td>\n",
       "    </tr>\n",
       "  </tbody>\n",
       "</table>\n",
       "</div>"
      ],
      "text/plain": [
       "            股票  代號             時間   成交     買進   賣出    漲跌     張數     昨收     開盤  \\\n",
       "0  2330台積電  加到投資組合          14:30  148  147.5  148  △0.5  36528  147.5  148.5   \n",
       "1           凱基證券下單  買  賣  張  零股交易  NaN    NaN  NaN   NaN    NaN    NaN    NaN   \n",
       "\n",
       "      最高   最低                        個股資料  \n",
       "0  148.5  147  成交明細  技術  新聞  基本  籌碼  個股健診  \n",
       "1    NaN  NaN                         NaN  "
      ]
     },
     "execution_count": 19,
     "metadata": {},
     "output_type": "execute_result"
    }
   ],
   "source": [
    "import pandas as pd\n",
    "table =  soup.select('table + table table')[0]\n",
    "dfs = pd.read_html(table.prettify('utf-8'), encoding= 'utf-8', header=0)\n",
    "dfs[0]"
   ]
  },
  {
   "cell_type": "code",
   "execution_count": 20,
   "metadata": {
    "collapsed": false
   },
   "outputs": [
    {
     "name": "stdout",
     "output_type": "stream",
     "text": [
      "148.0\n"
     ]
    }
   ],
   "source": [
    "print dfs[0]['成交'.decode('utf-8')][0]"
   ]
  },
  {
   "cell_type": "markdown",
   "metadata": {},
   "source": [
    "## 抓取三大法人買賣超日報資訊"
   ]
  },
  {
   "cell_type": "code",
   "execution_count": 21,
   "metadata": {
    "collapsed": true
   },
   "outputs": [],
   "source": [
    "import requests\n",
    "payload = {\n",
    "'qdate':'105/05/06',\n",
    "'select2':'ALL',\n",
    "'sorting':'by_issue'    \n",
    "}\n",
    "\n",
    "res = requests.post('http://www.twse.com.tw/ch/trading/fund/T86/T86.php', data=payload)\n",
    "#print res.text"
   ]
  },
  {
   "cell_type": "code",
   "execution_count": 27,
   "metadata": {
    "collapsed": false
   },
   "outputs": [],
   "source": [
    "from bs4 import BeautifulSoup as bs\n",
    "import pandas as pd\n",
    "soup = bs(res.text, 'html5lib')\n",
    "tbl = soup.select('#tbl-sortable')[0]\n",
    "dfs = pd.read_html(tbl.prettify('utf-8'), encoding='utf-8')"
   ]
  },
  {
   "cell_type": "code",
   "execution_count": 46,
   "metadata": {
    "collapsed": false
   },
   "outputs": [],
   "source": [
    "stockdf = dfs[0]"
   ]
  },
  {
   "cell_type": "code",
   "execution_count": 50,
   "metadata": {
    "collapsed": false
   },
   "outputs": [
    {
     "data": {
      "text/html": [
       "<div>\n",
       "<table border=\"1\" class=\"dataframe\">\n",
       "  <thead>\n",
       "    <tr style=\"text-align: right;\">\n",
       "      <th></th>\n",
       "      <th>證券  代號</th>\n",
       "      <th>證券  名稱</th>\n",
       "      <th>外資  買進股數</th>\n",
       "      <th>外資  賣出股數</th>\n",
       "      <th>外資  買賣超股數</th>\n",
       "      <th>投信  買進股數</th>\n",
       "      <th>投信  賣出股數</th>\n",
       "      <th>投信  買賣超股數</th>\n",
       "      <th>自營商  買賣超股數</th>\n",
       "      <th>自營商  買進股數  (自行買賣)</th>\n",
       "      <th>自營商  賣出股數  (自行買賣)</th>\n",
       "      <th>自營商  買賣超股數  (自行買賣)</th>\n",
       "      <th>自營商  買進股數  (避險)</th>\n",
       "      <th>自營商  賣出股數  (避險)</th>\n",
       "      <th>自營商  買賣超股數  (避險)</th>\n",
       "      <th>三大法人  買賣超股數</th>\n",
       "    </tr>\n",
       "  </thead>\n",
       "  <tbody>\n",
       "    <tr>\n",
       "      <th>0</th>\n",
       "      <td>00632R</td>\n",
       "      <td>T50反1</td>\n",
       "      <td>350000</td>\n",
       "      <td>391000</td>\n",
       "      <td>-41000</td>\n",
       "      <td>0</td>\n",
       "      <td>5243000</td>\n",
       "      <td>-5243000</td>\n",
       "      <td>65286000</td>\n",
       "      <td>1195000</td>\n",
       "      <td>1030000</td>\n",
       "      <td>165000</td>\n",
       "      <td>72370000</td>\n",
       "      <td>7249000</td>\n",
       "      <td>65121000</td>\n",
       "      <td>60002000</td>\n",
       "    </tr>\n",
       "    <tr>\n",
       "      <th>1</th>\n",
       "      <td>042800</td>\n",
       "      <td>永豐EX</td>\n",
       "      <td>0</td>\n",
       "      <td>45000</td>\n",
       "      <td>-45000</td>\n",
       "      <td>0</td>\n",
       "      <td>0</td>\n",
       "      <td>0</td>\n",
       "      <td>9533000</td>\n",
       "      <td>0</td>\n",
       "      <td>0</td>\n",
       "      <td>0</td>\n",
       "      <td>10102000</td>\n",
       "      <td>569000</td>\n",
       "      <td>9533000</td>\n",
       "      <td>9488000</td>\n",
       "    </tr>\n",
       "    <tr>\n",
       "      <th>2</th>\n",
       "      <td>2349</td>\n",
       "      <td>錸德</td>\n",
       "      <td>9648000</td>\n",
       "      <td>997000</td>\n",
       "      <td>8651000</td>\n",
       "      <td>0</td>\n",
       "      <td>0</td>\n",
       "      <td>0</td>\n",
       "      <td>0</td>\n",
       "      <td>0</td>\n",
       "      <td>0</td>\n",
       "      <td>0</td>\n",
       "      <td>0</td>\n",
       "      <td>0</td>\n",
       "      <td>0</td>\n",
       "      <td>8651000</td>\n",
       "    </tr>\n",
       "    <tr>\n",
       "      <th>3</th>\n",
       "      <td>2345</td>\n",
       "      <td>智邦</td>\n",
       "      <td>2484000</td>\n",
       "      <td>804000</td>\n",
       "      <td>1680000</td>\n",
       "      <td>1854000</td>\n",
       "      <td>0</td>\n",
       "      <td>1854000</td>\n",
       "      <td>509000</td>\n",
       "      <td>472000</td>\n",
       "      <td>66000</td>\n",
       "      <td>406000</td>\n",
       "      <td>182000</td>\n",
       "      <td>79000</td>\n",
       "      <td>103000</td>\n",
       "      <td>4043000</td>\n",
       "    </tr>\n",
       "    <tr>\n",
       "      <th>4</th>\n",
       "      <td>03039P</td>\n",
       "      <td>凱基5K</td>\n",
       "      <td>0</td>\n",
       "      <td>0</td>\n",
       "      <td>0</td>\n",
       "      <td>0</td>\n",
       "      <td>0</td>\n",
       "      <td>0</td>\n",
       "      <td>4017000</td>\n",
       "      <td>0</td>\n",
       "      <td>0</td>\n",
       "      <td>0</td>\n",
       "      <td>4349000</td>\n",
       "      <td>332000</td>\n",
       "      <td>4017000</td>\n",
       "      <td>4017000</td>\n",
       "    </tr>\n",
       "  </tbody>\n",
       "</table>\n",
       "</div>"
      ],
      "text/plain": [
       "   證券  代號 證券  名稱  外資  買進股數  外資  賣出股數  外資  買賣超股數  投信  買進股數  投信  賣出股數  \\\n",
       "0  00632R  T50反1    350000    391000     -41000         0   5243000   \n",
       "1  042800   永豐EX         0     45000     -45000         0         0   \n",
       "2    2349     錸德   9648000    997000    8651000         0         0   \n",
       "3    2345     智邦   2484000    804000    1680000   1854000         0   \n",
       "4  03039P   凱基5K         0         0          0         0         0   \n",
       "\n",
       "   投信  買賣超股數  自營商  買賣超股數  自營商  買進股數  (自行買賣)  自營商  賣出股數  (自行買賣)  \\\n",
       "0   -5243000    65286000            1195000            1030000   \n",
       "1          0     9533000                  0                  0   \n",
       "2          0           0                  0                  0   \n",
       "3    1854000      509000             472000              66000   \n",
       "4          0     4017000                  0                  0   \n",
       "\n",
       "   自營商  買賣超股數  (自行買賣)  自營商  買進股數  (避險)  自營商  賣出股數  (避險)  自營商  買賣超股數  (避險)  \\\n",
       "0              165000         72370000          7249000          65121000   \n",
       "1                   0         10102000           569000           9533000   \n",
       "2                   0                0                0                 0   \n",
       "3              406000           182000            79000            103000   \n",
       "4                   0          4349000           332000           4017000   \n",
       "\n",
       "   三大法人  買賣超股數  \n",
       "0     60002000  \n",
       "1      9488000  \n",
       "2      8651000  \n",
       "3      4043000  \n",
       "4      4017000  "
      ]
     },
     "execution_count": 50,
     "metadata": {},
     "output_type": "execute_result"
    }
   ],
   "source": [
    "stockdf.head()"
   ]
  },
  {
   "cell_type": "code",
   "execution_count": 51,
   "metadata": {
    "collapsed": false
   },
   "outputs": [
    {
     "data": {
      "text/plain": [
       "Index([u'證券  代號', u'證券  名稱', u'外資  買進股數', u'外資  賣出股數', u'外資  買賣超股數',\n",
       "       u'投信  買進股數', u'投信  賣出股數', u'投信  買賣超股數', u'自營商  買賣超股數',\n",
       "       u'自營商  買進股數  (自行買賣)', u'自營商  賣出股數  (自行買賣)', u'自營商  買賣超股數  (自行買賣)',\n",
       "       u'自營商  買進股數  (避險)', u'自營商  賣出股數  (避險)', u'自營商  買賣超股數  (避險)',\n",
       "       u'三大法人  買賣超股數'],\n",
       "      dtype='object')"
      ]
     },
     "execution_count": 51,
     "metadata": {},
     "output_type": "execute_result"
    }
   ],
   "source": [
    "stockdf.columns"
   ]
  },
  {
   "cell_type": "markdown",
   "metadata": {},
   "source": [
    "## 猜猜哪隻股票外資買賣超最多?"
   ]
  },
  {
   "cell_type": "code",
   "execution_count": 54,
   "metadata": {
    "collapsed": false
   },
   "outputs": [
    {
     "data": {
      "text/html": [
       "<div>\n",
       "<table border=\"1\" class=\"dataframe\">\n",
       "  <thead>\n",
       "    <tr style=\"text-align: right;\">\n",
       "      <th></th>\n",
       "      <th>證券  代號</th>\n",
       "      <th>證券  名稱</th>\n",
       "      <th>外資  買進股數</th>\n",
       "      <th>外資  賣出股數</th>\n",
       "      <th>外資  買賣超股數</th>\n",
       "      <th>投信  買進股數</th>\n",
       "      <th>投信  賣出股數</th>\n",
       "      <th>投信  買賣超股數</th>\n",
       "      <th>自營商  買賣超股數</th>\n",
       "      <th>自營商  買進股數  (自行買賣)</th>\n",
       "      <th>自營商  賣出股數  (自行買賣)</th>\n",
       "      <th>自營商  買賣超股數  (自行買賣)</th>\n",
       "      <th>自營商  買進股數  (避險)</th>\n",
       "      <th>自營商  賣出股數  (避險)</th>\n",
       "      <th>自營商  買賣超股數  (避險)</th>\n",
       "      <th>三大法人  買賣超股數</th>\n",
       "    </tr>\n",
       "  </thead>\n",
       "  <tbody>\n",
       "    <tr>\n",
       "      <th>2</th>\n",
       "      <td>2349</td>\n",
       "      <td>錸德</td>\n",
       "      <td>9648000</td>\n",
       "      <td>997000</td>\n",
       "      <td>8651000</td>\n",
       "      <td>0</td>\n",
       "      <td>0</td>\n",
       "      <td>0</td>\n",
       "      <td>0</td>\n",
       "      <td>0</td>\n",
       "      <td>0</td>\n",
       "      <td>0</td>\n",
       "      <td>0</td>\n",
       "      <td>0</td>\n",
       "      <td>0</td>\n",
       "      <td>8651000</td>\n",
       "    </tr>\n",
       "  </tbody>\n",
       "</table>\n",
       "</div>"
      ],
      "text/plain": [
       "  證券  代號 證券  名稱  外資  買進股數  外資  賣出股數  外資  買賣超股數  投信  買進股數  投信  賣出股數  投信  買賣超股數  \\\n",
       "2   2349     錸德   9648000    997000    8651000         0         0          0   \n",
       "\n",
       "   自營商  買賣超股數  自營商  買進股數  (自行買賣)  自營商  賣出股數  (自行買賣)  自營商  買賣超股數  (自行買賣)  \\\n",
       "2           0                  0                  0                   0   \n",
       "\n",
       "   自營商  買進股數  (避險)  自營商  賣出股數  (避險)  自營商  買賣超股數  (避險)  三大法人  買賣超股數  \n",
       "2                0                0                 0      8651000  "
      ]
     },
     "execution_count": 54,
     "metadata": {},
     "output_type": "execute_result"
    }
   ],
   "source": [
    "stockdf[stockdf['外資  買賣超股數'.decode('utf-8')]==stockdf['外資  買賣超股數'.decode('utf-8')].max()]"
   ]
  },
  {
   "cell_type": "markdown",
   "metadata": {},
   "source": [
    "## 根據買賣超排序"
   ]
  },
  {
   "cell_type": "code",
   "execution_count": 56,
   "metadata": {
    "collapsed": false,
    "scrolled": true
   },
   "outputs": [
    {
     "data": {
      "text/html": [
       "<div>\n",
       "<table border=\"1\" class=\"dataframe\">\n",
       "  <thead>\n",
       "    <tr style=\"text-align: right;\">\n",
       "      <th></th>\n",
       "      <th>證券  代號</th>\n",
       "      <th>證券  名稱</th>\n",
       "      <th>外資  買進股數</th>\n",
       "      <th>外資  賣出股數</th>\n",
       "      <th>外資  買賣超股數</th>\n",
       "      <th>投信  買進股數</th>\n",
       "      <th>投信  賣出股數</th>\n",
       "      <th>投信  買賣超股數</th>\n",
       "      <th>自營商  買賣超股數</th>\n",
       "      <th>自營商  買進股數  (自行買賣)</th>\n",
       "      <th>自營商  賣出股數  (自行買賣)</th>\n",
       "      <th>自營商  買賣超股數  (自行買賣)</th>\n",
       "      <th>自營商  買進股數  (避險)</th>\n",
       "      <th>自營商  賣出股數  (避險)</th>\n",
       "      <th>自營商  買賣超股數  (避險)</th>\n",
       "      <th>三大法人  買賣超股數</th>\n",
       "    </tr>\n",
       "  </thead>\n",
       "  <tbody>\n",
       "    <tr>\n",
       "      <th>2</th>\n",
       "      <td>2349</td>\n",
       "      <td>錸德</td>\n",
       "      <td>9648000</td>\n",
       "      <td>997000</td>\n",
       "      <td>8651000</td>\n",
       "      <td>0</td>\n",
       "      <td>0</td>\n",
       "      <td>0</td>\n",
       "      <td>0</td>\n",
       "      <td>0</td>\n",
       "      <td>0</td>\n",
       "      <td>0</td>\n",
       "      <td>0</td>\n",
       "      <td>0</td>\n",
       "      <td>0</td>\n",
       "      <td>8651000</td>\n",
       "    </tr>\n",
       "    <tr>\n",
       "      <th>6</th>\n",
       "      <td>3023</td>\n",
       "      <td>信邦</td>\n",
       "      <td>4756000</td>\n",
       "      <td>1194000</td>\n",
       "      <td>3562000</td>\n",
       "      <td>214000</td>\n",
       "      <td>0</td>\n",
       "      <td>214000</td>\n",
       "      <td>-164000</td>\n",
       "      <td>118000</td>\n",
       "      <td>348000</td>\n",
       "      <td>-230000</td>\n",
       "      <td>340000</td>\n",
       "      <td>274000</td>\n",
       "      <td>66000</td>\n",
       "      <td>3612000</td>\n",
       "    </tr>\n",
       "    <tr>\n",
       "      <th>18</th>\n",
       "      <td>1312</td>\n",
       "      <td>國喬</td>\n",
       "      <td>3830000</td>\n",
       "      <td>713000</td>\n",
       "      <td>3117000</td>\n",
       "      <td>0</td>\n",
       "      <td>1326000</td>\n",
       "      <td>-1326000</td>\n",
       "      <td>198000</td>\n",
       "      <td>75000</td>\n",
       "      <td>0</td>\n",
       "      <td>75000</td>\n",
       "      <td>249000</td>\n",
       "      <td>126000</td>\n",
       "      <td>123000</td>\n",
       "      <td>1989000</td>\n",
       "    </tr>\n",
       "    <tr>\n",
       "      <th>5</th>\n",
       "      <td>1605</td>\n",
       "      <td>華新</td>\n",
       "      <td>3451000</td>\n",
       "      <td>1257000</td>\n",
       "      <td>2194000</td>\n",
       "      <td>1500000</td>\n",
       "      <td>0</td>\n",
       "      <td>1500000</td>\n",
       "      <td>-61000</td>\n",
       "      <td>1000</td>\n",
       "      <td>100000</td>\n",
       "      <td>-99000</td>\n",
       "      <td>210000</td>\n",
       "      <td>172000</td>\n",
       "      <td>38000</td>\n",
       "      <td>3633000</td>\n",
       "    </tr>\n",
       "    <tr>\n",
       "      <th>14</th>\n",
       "      <td>3474</td>\n",
       "      <td>華亞科</td>\n",
       "      <td>5865836</td>\n",
       "      <td>3726000</td>\n",
       "      <td>2139836</td>\n",
       "      <td>0</td>\n",
       "      <td>0</td>\n",
       "      <td>0</td>\n",
       "      <td>-4000</td>\n",
       "      <td>0</td>\n",
       "      <td>0</td>\n",
       "      <td>0</td>\n",
       "      <td>0</td>\n",
       "      <td>4000</td>\n",
       "      <td>-4000</td>\n",
       "      <td>2135836</td>\n",
       "    </tr>\n",
       "  </tbody>\n",
       "</table>\n",
       "</div>"
      ],
      "text/plain": [
       "   證券  代號 證券  名稱  外資  買進股數  外資  賣出股數  外資  買賣超股數  投信  買進股數  投信  賣出股數  \\\n",
       "2    2349     錸德   9648000    997000    8651000         0         0   \n",
       "6    3023     信邦   4756000   1194000    3562000    214000         0   \n",
       "18   1312     國喬   3830000    713000    3117000         0   1326000   \n",
       "5    1605     華新   3451000   1257000    2194000   1500000         0   \n",
       "14   3474    華亞科   5865836   3726000    2139836         0         0   \n",
       "\n",
       "    投信  買賣超股數  自營商  買賣超股數  自營商  買進股數  (自行買賣)  自營商  賣出股數  (自行買賣)  \\\n",
       "2           0           0                  0                  0   \n",
       "6      214000     -164000             118000             348000   \n",
       "18   -1326000      198000              75000                  0   \n",
       "5     1500000      -61000               1000             100000   \n",
       "14          0       -4000                  0                  0   \n",
       "\n",
       "    自營商  買賣超股數  (自行買賣)  自營商  買進股數  (避險)  自營商  賣出股數  (避險)  自營商  買賣超股數  (避險)  \\\n",
       "2                    0                0                0                 0   \n",
       "6              -230000           340000           274000             66000   \n",
       "18               75000           249000           126000            123000   \n",
       "5               -99000           210000           172000             38000   \n",
       "14                   0                0             4000             -4000   \n",
       "\n",
       "    三大法人  買賣超股數  \n",
       "2       8651000  \n",
       "6       3612000  \n",
       "18      1989000  \n",
       "5       3633000  \n",
       "14      2135836  "
      ]
     },
     "execution_count": 56,
     "metadata": {},
     "output_type": "execute_result"
    }
   ],
   "source": [
    "stockdf.sort_values( by= '外資  買賣超股數'.decode('utf-8'), ascending=False).head()"
   ]
  },
  {
   "cell_type": "markdown",
   "metadata": {},
   "source": [
    "## 定義函式"
   ]
  },
  {
   "cell_type": "code",
   "execution_count": 71,
   "metadata": {
    "collapsed": true
   },
   "outputs": [],
   "source": [
    "def getTradingVolume(date):\n",
    "    payload['qdate'] = date\n",
    "    res = requests.post('http://www.twse.com.tw/ch/trading/fund/T86/T86.php', data=payload)\n",
    "    soup = bs(res.text, 'html5lib')\n",
    "    tbl = soup.select('#tbl-sortable')[0]\n",
    "    dfs = pd.read_html(tbl.prettify('utf-8'), encoding='utf-8')\n",
    "    stockdf = dfs[0]\n",
    "    return stockdf"
   ]
  },
  {
   "cell_type": "markdown",
   "metadata": {},
   "source": [
    "## 時間跟字串轉換"
   ]
  },
  {
   "cell_type": "code",
   "execution_count": 58,
   "metadata": {
    "collapsed": false
   },
   "outputs": [
    {
     "name": "stdout",
     "output_type": "stream",
     "text": [
      "2016-05-08\n",
      "2014-05-03 14:00:00\n"
     ]
    }
   ],
   "source": [
    "from datetime import date,datetime \n",
    "currenttime = datetime.now() \n",
    "print currenttime.strftime(\"%Y-%m-%d\") \n",
    "\n",
    "\n",
    "a = '2014-05-03 14:00' \n",
    "print datetime.strptime(a, \"%Y-%m-%d %H:%M\")"
   ]
  },
  {
   "cell_type": "markdown",
   "metadata": {},
   "source": [
    "## 產生日期"
   ]
  },
  {
   "cell_type": "code",
   "execution_count": 63,
   "metadata": {
    "collapsed": false
   },
   "outputs": [
    {
     "name": "stdout",
     "output_type": "stream",
     "text": [
      "2016-05-07 00:52:46.981000\n",
      "2016/05/07\n",
      "2016-05-06 00:52:46.981000\n",
      "2016/05/06\n"
     ]
    }
   ],
   "source": [
    "from datetime import date,datetime, timedelta \n",
    "currenttime = datetime.now() \n",
    "for i in range(1,3):\n",
    "    dt = currenttime - timedelta(days = i) \n",
    "    print dt\n",
    "    print dt.strftime('%Y/%m/%d')"
   ]
  },
  {
   "cell_type": "markdown",
   "metadata": {},
   "source": [
    "## 產生民國日期"
   ]
  },
  {
   "cell_type": "code",
   "execution_count": 64,
   "metadata": {
    "collapsed": false
   },
   "outputs": [
    {
     "name": "stdout",
     "output_type": "stream",
     "text": [
      "105/05/07\n",
      "105/05/06\n"
     ]
    }
   ],
   "source": [
    "from datetime import date,datetime, timedelta \n",
    "currenttime = datetime.now() \n",
    "for i in range(1,3):\n",
    "    dt = currenttime - timedelta(days = i) \n",
    "    year = int(dt.strftime('%Y')) - 1911\n",
    "    monthdate = dt.strftime('%m/%d')\n",
    "    print '{}/{}'.format(year, monthdate)"
   ]
  },
  {
   "cell_type": "markdown",
   "metadata": {},
   "source": [
    "## 增加日期轉換函式"
   ]
  },
  {
   "cell_type": "code",
   "execution_count": 90,
   "metadata": {
    "collapsed": true
   },
   "outputs": [],
   "source": [
    "def getTWDate(dt):\n",
    "    year = int(dt.strftime('%Y')) - 1911\n",
    "    monthdate = dt.strftime('%m/%d')\n",
    "    ymd = '{}/{}'.format(year, monthdate)\n",
    "    return ymd"
   ]
  },
  {
   "cell_type": "markdown",
   "metadata": {},
   "source": [
    "## 修改原本函式"
   ]
  },
  {
   "cell_type": "code",
   "execution_count": 96,
   "metadata": {
    "collapsed": true
   },
   "outputs": [],
   "source": [
    "def getTradingVolume(dt):\n",
    "    payload['qdate'] = getTWDate(dt)\n",
    "    res = requests.post('http://www.twse.com.tw/ch/trading/fund/T86/T86.php', data=payload)\n",
    "    soup = bs(res.text, 'html5lib')\n",
    "    tbl = soup.select('#tbl-sortable')[0]\n",
    "    dfs = pd.read_html(tbl.prettify('utf-8'), encoding='utf-8')\n",
    "    stockdf = dfs[0]\n",
    "    stockdf['ymd'] = dt\n",
    "    return stockdf"
   ]
  },
  {
   "cell_type": "markdown",
   "metadata": {},
   "source": [
    "## 批次執行30天的資料"
   ]
  },
  {
   "cell_type": "code",
   "execution_count": 97,
   "metadata": {
    "collapsed": false
   },
   "outputs": [
    {
     "name": "stdout",
     "output_type": "stream",
     "text": [
      "2016-05-07 2016-05-06 2016-05-05 2016-05-04 2016-05-03 2016-05-02 2016-05-01 2016-04-30 2016-04-29 2016-04-28 2016-04-27 2016-04-26 2016-04-25 2016-04-24 2016-04-23 2016-04-22 2016-04-21 2016-04-20 2016-04-19 2016-04-18 2016-04-17 2016-04-16 2016-04-15 2016-04-14 2016-04-13 2016-04-12 2016-04-11 2016-04-10 2016-04-09\n"
     ]
    }
   ],
   "source": [
    "payload['select2'] = '24'\n",
    "\n",
    "dfs = []\n",
    "currenttime = datetime.now() \n",
    "for i in range(1,30):\n",
    "    dt = currenttime.date() - timedelta(days = i) \n",
    "    dfs.append(getTradingVolume(dt))\n",
    "    print dt,"
   ]
  },
  {
   "cell_type": "markdown",
   "metadata": {},
   "source": [
    "## 合併所有的Data Frame"
   ]
  },
  {
   "cell_type": "code",
   "execution_count": 98,
   "metadata": {
    "collapsed": false
   },
   "outputs": [
    {
     "data": {
      "text/plain": [
       "1336"
      ]
     },
     "execution_count": 98,
     "metadata": {},
     "output_type": "execute_result"
    }
   ],
   "source": [
    "stockdf = pd.concat(dfs, ignore_index=True)\n",
    "len(stockdf)"
   ]
  },
  {
   "cell_type": "code",
   "execution_count": 99,
   "metadata": {
    "collapsed": false,
    "scrolled": true
   },
   "outputs": [
    {
     "data": {
      "text/html": [
       "<div>\n",
       "<table border=\"1\" class=\"dataframe\">\n",
       "  <thead>\n",
       "    <tr style=\"text-align: right;\">\n",
       "      <th></th>\n",
       "      <th>證券  代號</th>\n",
       "      <th>證券  名稱</th>\n",
       "      <th>外資  買進股數</th>\n",
       "      <th>外資  賣出股數</th>\n",
       "      <th>外資  買賣超股數</th>\n",
       "      <th>投信  買進股數</th>\n",
       "      <th>投信  賣出股數</th>\n",
       "      <th>投信  買賣超股數</th>\n",
       "      <th>自營商  買賣超股數</th>\n",
       "      <th>自營商  買進股數  (自行買賣)</th>\n",
       "      <th>自營商  賣出股數  (自行買賣)</th>\n",
       "      <th>自營商  買賣超股數  (自行買賣)</th>\n",
       "      <th>自營商  買進股數  (避險)</th>\n",
       "      <th>自營商  賣出股數  (避險)</th>\n",
       "      <th>自營商  買賣超股數  (避險)</th>\n",
       "      <th>三大法人  買賣超股數</th>\n",
       "      <th>ymd</th>\n",
       "    </tr>\n",
       "  </thead>\n",
       "  <tbody>\n",
       "    <tr>\n",
       "      <th>0</th>\n",
       "      <td>3474</td>\n",
       "      <td>華亞科</td>\n",
       "      <td>5865836</td>\n",
       "      <td>3726000</td>\n",
       "      <td>2139836</td>\n",
       "      <td>0</td>\n",
       "      <td>0</td>\n",
       "      <td>0</td>\n",
       "      <td>-4000</td>\n",
       "      <td>0</td>\n",
       "      <td>0</td>\n",
       "      <td>0</td>\n",
       "      <td>0</td>\n",
       "      <td>4000</td>\n",
       "      <td>-4000</td>\n",
       "      <td>2135836</td>\n",
       "      <td>2016-05-06</td>\n",
       "    </tr>\n",
       "    <tr>\n",
       "      <th>1</th>\n",
       "      <td>2408</td>\n",
       "      <td>南亞科</td>\n",
       "      <td>2755000</td>\n",
       "      <td>1194000</td>\n",
       "      <td>1561000</td>\n",
       "      <td>0</td>\n",
       "      <td>0</td>\n",
       "      <td>0</td>\n",
       "      <td>104000</td>\n",
       "      <td>1000</td>\n",
       "      <td>0</td>\n",
       "      <td>1000</td>\n",
       "      <td>106000</td>\n",
       "      <td>3000</td>\n",
       "      <td>103000</td>\n",
       "      <td>1665000</td>\n",
       "      <td>2016-05-06</td>\n",
       "    </tr>\n",
       "    <tr>\n",
       "      <th>2</th>\n",
       "      <td>2449</td>\n",
       "      <td>京元電</td>\n",
       "      <td>6490000</td>\n",
       "      <td>5054000</td>\n",
       "      <td>1436000</td>\n",
       "      <td>144000</td>\n",
       "      <td>443000</td>\n",
       "      <td>-299000</td>\n",
       "      <td>131000</td>\n",
       "      <td>42000</td>\n",
       "      <td>77000</td>\n",
       "      <td>-35000</td>\n",
       "      <td>509000</td>\n",
       "      <td>343000</td>\n",
       "      <td>166000</td>\n",
       "      <td>1268000</td>\n",
       "      <td>2016-05-06</td>\n",
       "    </tr>\n",
       "    <tr>\n",
       "      <th>3</th>\n",
       "      <td>2458</td>\n",
       "      <td>義隆</td>\n",
       "      <td>818000</td>\n",
       "      <td>289000</td>\n",
       "      <td>529000</td>\n",
       "      <td>0</td>\n",
       "      <td>0</td>\n",
       "      <td>0</td>\n",
       "      <td>-46000</td>\n",
       "      <td>12000</td>\n",
       "      <td>34000</td>\n",
       "      <td>-22000</td>\n",
       "      <td>63000</td>\n",
       "      <td>87000</td>\n",
       "      <td>-24000</td>\n",
       "      <td>483000</td>\n",
       "      <td>2016-05-06</td>\n",
       "    </tr>\n",
       "    <tr>\n",
       "      <th>4</th>\n",
       "      <td>3545</td>\n",
       "      <td>敦泰</td>\n",
       "      <td>604000</td>\n",
       "      <td>176000</td>\n",
       "      <td>428000</td>\n",
       "      <td>0</td>\n",
       "      <td>0</td>\n",
       "      <td>0</td>\n",
       "      <td>-6000</td>\n",
       "      <td>0</td>\n",
       "      <td>4000</td>\n",
       "      <td>-4000</td>\n",
       "      <td>12000</td>\n",
       "      <td>14000</td>\n",
       "      <td>-2000</td>\n",
       "      <td>422000</td>\n",
       "      <td>2016-05-06</td>\n",
       "    </tr>\n",
       "  </tbody>\n",
       "</table>\n",
       "</div>"
      ],
      "text/plain": [
       "   證券  代號 證券  名稱  外資  買進股數  外資  賣出股數  外資  買賣超股數  投信  買進股數  投信  賣出股數  \\\n",
       "0    3474    華亞科   5865836   3726000    2139836         0         0   \n",
       "1    2408    南亞科   2755000   1194000    1561000         0         0   \n",
       "2    2449    京元電   6490000   5054000    1436000    144000    443000   \n",
       "3    2458     義隆    818000    289000     529000         0         0   \n",
       "4    3545     敦泰    604000    176000     428000         0         0   \n",
       "\n",
       "   投信  買賣超股數  自營商  買賣超股數  自營商  買進股數  (自行買賣)  自營商  賣出股數  (自行買賣)  \\\n",
       "0          0       -4000                  0                  0   \n",
       "1          0      104000               1000                  0   \n",
       "2    -299000      131000              42000              77000   \n",
       "3          0      -46000              12000              34000   \n",
       "4          0       -6000                  0               4000   \n",
       "\n",
       "   自營商  買賣超股數  (自行買賣)  自營商  買進股數  (避險)  自營商  賣出股數  (避險)  自營商  買賣超股數  (避險)  \\\n",
       "0                   0                0             4000             -4000   \n",
       "1                1000           106000             3000            103000   \n",
       "2              -35000           509000           343000            166000   \n",
       "3              -22000            63000            87000            -24000   \n",
       "4               -4000            12000            14000             -2000   \n",
       "\n",
       "   三大法人  買賣超股數         ymd  \n",
       "0      2135836  2016-05-06  \n",
       "1      1665000  2016-05-06  \n",
       "2      1268000  2016-05-06  \n",
       "3       483000  2016-05-06  \n",
       "4       422000  2016-05-06  "
      ]
     },
     "execution_count": 99,
     "metadata": {},
     "output_type": "execute_result"
    }
   ],
   "source": [
    "stockdf.head()"
   ]
  },
  {
   "cell_type": "markdown",
   "metadata": {},
   "source": [
    "## 篩選出台積電股票"
   ]
  },
  {
   "cell_type": "code",
   "execution_count": 102,
   "metadata": {
    "collapsed": false
   },
   "outputs": [
    {
     "data": {
      "text/html": [
       "<div>\n",
       "<table border=\"1\" class=\"dataframe\">\n",
       "  <thead>\n",
       "    <tr style=\"text-align: right;\">\n",
       "      <th></th>\n",
       "      <th>證券  代號</th>\n",
       "      <th>證券  名稱</th>\n",
       "      <th>外資  買進股數</th>\n",
       "      <th>外資  賣出股數</th>\n",
       "      <th>外資  買賣超股數</th>\n",
       "      <th>投信  買進股數</th>\n",
       "      <th>投信  賣出股數</th>\n",
       "      <th>投信  買賣超股數</th>\n",
       "      <th>自營商  買賣超股數</th>\n",
       "      <th>自營商  買進股數  (自行買賣)</th>\n",
       "      <th>自營商  賣出股數  (自行買賣)</th>\n",
       "      <th>自營商  買賣超股數  (自行買賣)</th>\n",
       "      <th>自營商  買進股數  (避險)</th>\n",
       "      <th>自營商  賣出股數  (避險)</th>\n",
       "      <th>自營商  買賣超股數  (避險)</th>\n",
       "      <th>三大法人  買賣超股數</th>\n",
       "      <th>ymd</th>\n",
       "    </tr>\n",
       "  </thead>\n",
       "  <tbody>\n",
       "    <tr>\n",
       "      <th>66</th>\n",
       "      <td>2330</td>\n",
       "      <td>台積電</td>\n",
       "      <td>30192917</td>\n",
       "      <td>36329176</td>\n",
       "      <td>-6136259</td>\n",
       "      <td>11000</td>\n",
       "      <td>19000</td>\n",
       "      <td>-8000</td>\n",
       "      <td>123000</td>\n",
       "      <td>270000</td>\n",
       "      <td>202000</td>\n",
       "      <td>68000</td>\n",
       "      <td>337000</td>\n",
       "      <td>282000</td>\n",
       "      <td>55000</td>\n",
       "      <td>-6021259</td>\n",
       "      <td>2016-05-06</td>\n",
       "    </tr>\n",
       "    <tr>\n",
       "      <th>137</th>\n",
       "      <td>2330</td>\n",
       "      <td>台積電</td>\n",
       "      <td>23891785</td>\n",
       "      <td>37758202</td>\n",
       "      <td>-13866417</td>\n",
       "      <td>127000</td>\n",
       "      <td>53000</td>\n",
       "      <td>74000</td>\n",
       "      <td>1451000</td>\n",
       "      <td>1437000</td>\n",
       "      <td>98000</td>\n",
       "      <td>1339000</td>\n",
       "      <td>307000</td>\n",
       "      <td>195000</td>\n",
       "      <td>112000</td>\n",
       "      <td>-12341417</td>\n",
       "      <td>2016-05-05</td>\n",
       "    </tr>\n",
       "    <tr>\n",
       "      <th>209</th>\n",
       "      <td>2330</td>\n",
       "      <td>台積電</td>\n",
       "      <td>23512540</td>\n",
       "      <td>50354331</td>\n",
       "      <td>-26841791</td>\n",
       "      <td>10000</td>\n",
       "      <td>165000</td>\n",
       "      <td>-155000</td>\n",
       "      <td>1010000</td>\n",
       "      <td>1045000</td>\n",
       "      <td>37000</td>\n",
       "      <td>1008000</td>\n",
       "      <td>404000</td>\n",
       "      <td>402000</td>\n",
       "      <td>2000</td>\n",
       "      <td>-25986791</td>\n",
       "      <td>2016-05-04</td>\n",
       "    </tr>\n",
       "    <tr>\n",
       "      <th>278</th>\n",
       "      <td>2330</td>\n",
       "      <td>台積電</td>\n",
       "      <td>16652487</td>\n",
       "      <td>63959515</td>\n",
       "      <td>-47307028</td>\n",
       "      <td>7000</td>\n",
       "      <td>380000</td>\n",
       "      <td>-373000</td>\n",
       "      <td>2474000</td>\n",
       "      <td>2046000</td>\n",
       "      <td>206000</td>\n",
       "      <td>1840000</td>\n",
       "      <td>989000</td>\n",
       "      <td>355000</td>\n",
       "      <td>634000</td>\n",
       "      <td>-45206028</td>\n",
       "      <td>2016-05-03</td>\n",
       "    </tr>\n",
       "    <tr>\n",
       "      <th>349</th>\n",
       "      <td>2330</td>\n",
       "      <td>台積電</td>\n",
       "      <td>37765618</td>\n",
       "      <td>66262467</td>\n",
       "      <td>-28496849</td>\n",
       "      <td>0</td>\n",
       "      <td>1187000</td>\n",
       "      <td>-1187000</td>\n",
       "      <td>2040000</td>\n",
       "      <td>1379000</td>\n",
       "      <td>111000</td>\n",
       "      <td>1268000</td>\n",
       "      <td>1120000</td>\n",
       "      <td>348000</td>\n",
       "      <td>772000</td>\n",
       "      <td>-27643849</td>\n",
       "      <td>2016-04-29</td>\n",
       "    </tr>\n",
       "  </tbody>\n",
       "</table>\n",
       "</div>"
      ],
      "text/plain": [
       "     證券  代號 證券  名稱  外資  買進股數  外資  賣出股數  外資  買賣超股數  投信  買進股數  投信  賣出股數  \\\n",
       "66     2330    台積電  30192917  36329176   -6136259     11000     19000   \n",
       "137    2330    台積電  23891785  37758202  -13866417    127000     53000   \n",
       "209    2330    台積電  23512540  50354331  -26841791     10000    165000   \n",
       "278    2330    台積電  16652487  63959515  -47307028      7000    380000   \n",
       "349    2330    台積電  37765618  66262467  -28496849         0   1187000   \n",
       "\n",
       "     投信  買賣超股數  自營商  買賣超股數  自營商  買進股數  (自行買賣)  自營商  賣出股數  (自行買賣)  \\\n",
       "66       -8000      123000             270000             202000   \n",
       "137      74000     1451000            1437000              98000   \n",
       "209    -155000     1010000            1045000              37000   \n",
       "278    -373000     2474000            2046000             206000   \n",
       "349   -1187000     2040000            1379000             111000   \n",
       "\n",
       "     自營商  買賣超股數  (自行買賣)  自營商  買進股數  (避險)  自營商  賣出股數  (避險)  自營商  買賣超股數  (避險)  \\\n",
       "66                68000           337000           282000             55000   \n",
       "137             1339000           307000           195000            112000   \n",
       "209             1008000           404000           402000              2000   \n",
       "278             1840000           989000           355000            634000   \n",
       "349             1268000          1120000           348000            772000   \n",
       "\n",
       "     三大法人  買賣超股數         ymd  \n",
       "66      -6021259  2016-05-06  \n",
       "137    -12341417  2016-05-05  \n",
       "209    -25986791  2016-05-04  \n",
       "278    -45206028  2016-05-03  \n",
       "349    -27643849  2016-04-29  "
      ]
     },
     "execution_count": 102,
     "metadata": {},
     "output_type": "execute_result"
    }
   ],
   "source": [
    "stockdf[stockdf['證券  代號'.decode('utf-8')] == 2330].head()"
   ]
  },
  {
   "cell_type": "code",
   "execution_count": 104,
   "metadata": {
    "collapsed": false
   },
   "outputs": [
    {
     "name": "stdout",
     "output_type": "stream",
     "text": [
      "Populating the interactive namespace from numpy and matplotlib\n"
     ]
    },
    {
     "name": "stderr",
     "output_type": "stream",
     "text": [
      "WARNING: pylab import has clobbered these variables: ['table', 'datetime']\n",
      "`%matplotlib` prevents importing * from pylab and numpy\n"
     ]
    }
   ],
   "source": [
    "%pylab inline"
   ]
  },
  {
   "cell_type": "code",
   "execution_count": 109,
   "metadata": {
    "collapsed": false
   },
   "outputs": [
    {
     "data": {
      "text/plain": [
       "<matplotlib.axes._subplots.AxesSubplot at 0x19f5b128>"
      ]
     },
     "execution_count": 109,
     "metadata": {},
     "output_type": "execute_result"
    },
    {
     "data": {
      "image/png": "[encoded data removed]",
      "text/plain": [
       "<matplotlib.figure.Figure at 0x19f28f98>"
      ]
     },
     "metadata": {},
     "output_type": "display_data"
    }
   ],
   "source": [
    "df2330 =stockdf[stockdf['證券  代號'.decode('utf-8')] == 2330]\n",
    "df2330.plot.line(x = 'ymd', y= '外資  買賣超股數'.decode('utf-8') )\n"
   ]
  },
  {
   "cell_type": "markdown",
   "metadata": {},
   "source": [
    "## 使用Pandas 將資料塞進資料庫"
   ]
  },
  {
   "cell_type": "code",
   "execution_count": 110,
   "metadata": {
    "collapsed": false
   },
   "outputs": [
    {
     "name": "stderr",
     "output_type": "stream",
     "text": [
      "C:\\Anaconda2\\lib\\site-packages\\ipykernel\\__main__.py:3: UserWarning: The spaces in these column names will not be changed. In pandas versions < 0.14, spaces were converted to underscores.\n",
      "  app.launch_new_instance()\n"
     ]
    }
   ],
   "source": [
    "import sqlite3 as lite\n",
    "with lite.connect('finance.sqlite') as db:\n",
    "    stockdf.to_sql(name='trading_volume', index=False, con=db, if_exists='replace')\n"
   ]
  },
  {
   "cell_type": "markdown",
   "metadata": {},
   "source": [
    "## 使用Pandas 下SQL 查詢資料"
   ]
  },
  {
   "cell_type": "code",
   "execution_count": 111,
   "metadata": {
    "collapsed": false
   },
   "outputs": [
    {
     "data": {
      "text/html": [
       "<div>\n",
       "<table border=\"1\" class=\"dataframe\">\n",
       "  <thead>\n",
       "    <tr style=\"text-align: right;\">\n",
       "      <th></th>\n",
       "      <th>count(1)</th>\n",
       "    </tr>\n",
       "  </thead>\n",
       "  <tbody>\n",
       "    <tr>\n",
       "      <th>0</th>\n",
       "      <td>1336</td>\n",
       "    </tr>\n",
       "  </tbody>\n",
       "</table>\n",
       "</div>"
      ],
      "text/plain": [
       "   count(1)\n",
       "0      1336"
      ]
     },
     "execution_count": 111,
     "metadata": {},
     "output_type": "execute_result"
    }
   ],
   "source": [
    "import sqlite3 as lite\n",
    "with lite.connect('finance.sqlite') as db:\n",
    "    df = pd.read_sql_query('SELECT count(1) FROM trading_volume;', db)\n",
    "df \n"
   ]
  },
  {
   "cell_type": "code",
   "execution_count": null,
   "metadata": {
    "collapsed": true
   },
   "outputs": [],
   "source": []
  }
 ],
 "metadata": {
  "kernelspec": {
   "display_name": "Python 2",
   "language": "python",
   "name": "python2"
  },
  "language_info": {
   "codemirror_mode": {
    "name": "ipython",
    "version": 2
   },
   "file_extension": ".py",
   "mimetype": "text/x-python",
   "name": "python",
   "nbconvert_exporter": "python",
   "pygments_lexer": "ipython2",
   "version": "2.7.11"
  }
 },
 "nbformat": 4,
 "nbformat_minor": 0
}
