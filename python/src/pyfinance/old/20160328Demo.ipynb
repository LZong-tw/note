{
 "cells": [
  {
   "cell_type": "code",
   "execution_count": 10,
   "metadata": {
    "collapsed": false
   },
   "outputs": [
    {
     "name": "stdout",
     "output_type": "stream",
     "text": [
      "hello world\n"
     ]
    }
   ],
   "source": [
    "hi = \"hello world\"\n",
    "print hi"
   ]
  },
  {
   "cell_type": "code",
   "execution_count": 11,
   "metadata": {
    "collapsed": false
   },
   "outputs": [
    {
     "name": "stdout",
     "output_type": "stream",
     "text": [
      "hello world, my name is david\n"
     ]
    }
   ],
   "source": [
    "print hi + \", my name is david\""
   ]
  },
  {
   "cell_type": "code",
   "execution_count": 12,
   "metadata": {
    "collapsed": false
   },
   "outputs": [
    {
     "name": "stdout",
     "output_type": "stream",
     "text": [
      "<Response [200]>\n"
     ]
    }
   ],
   "source": [
    "import requests\n",
    "res = requests.get('https://tw.stock.yahoo.com/q/q?s=2330')\n",
    "print res"
   ]
  },
  {
   "cell_type": "code",
   "execution_count": 13,
   "metadata": {
    "collapsed": true
   },
   "outputs": [],
   "source": [
    "#print res.text"
   ]
  },
  {
   "cell_type": "code",
   "execution_count": 14,
   "metadata": {
    "collapsed": false
   },
   "outputs": [
    {
     "name": "stdout",
     "output_type": "stream",
     "text": [
      "ISO-8859-1\n"
     ]
    }
   ],
   "source": [
    "import requests\n",
    "res = requests.get('http://justdata.yuanta.com.tw/z/zk/zkf/zkResult.asp?D=1&A=x@10,a@30&site=')\n",
    "print res.encoding\n",
    "res.encoding = 'big5'\n",
    "#print res.text"
   ]
  },
  {
   "cell_type": "code",
   "execution_count": 15,
   "metadata": {
    "collapsed": true
   },
   "outputs": [],
   "source": [
    "payload = {\n",
    "'encodeURIComponent':'1',\n",
    "'step':'1',\n",
    "'firstin':'1',\n",
    "'TYPEK':'sii',\n",
    "'code':'',\n",
    "'year':'104',\n",
    "'season':'03',    \n",
    "}"
   ]
  },
  {
   "cell_type": "code",
   "execution_count": 16,
   "metadata": {
    "collapsed": false
   },
   "outputs": [
    {
     "name": "stdout",
     "output_type": "stream",
     "text": [
      "104\n"
     ]
    }
   ],
   "source": [
    "print payload['year']"
   ]
  },
  {
   "cell_type": "code",
   "execution_count": 19,
   "metadata": {
    "collapsed": false
   },
   "outputs": [],
   "source": [
    "import requests\n",
    "#print dir(requests)\n",
    "res = requests.post('http://mops.twse.com.tw/mops/web/ajax_t163sb19', data = payload)\n",
    "#print res.text"
   ]
  },
  {
   "cell_type": "code",
   "execution_count": 21,
   "metadata": {
    "collapsed": false
   },
   "outputs": [],
   "source": [
    "res.encoding = 'utf-8'\n",
    "#print res.text"
   ]
  },
  {
   "cell_type": "code",
   "execution_count": 31,
   "metadata": {
    "collapsed": false
   },
   "outputs": [
    {
     "name": "stdout",
     "output_type": "stream",
     "text": [
      "<class 'requests.models.Response'>\n"
     ]
    }
   ],
   "source": [
    "import requests\n",
    "payload = {\n",
    "'select_item':'1',\n",
    "'select_subitem':'1',\n",
    "'Submit':'%B7j%B4M'\n",
    "}\n",
    "res = requests.post('http://www.twse.com.tw/ch/listed/listing_profile_inquiry.php', data=payload)\n",
    "res.encoding = 'big5'\n",
    "print type(res)\n",
    "#print res.text"
   ]
  },
  {
   "cell_type": "code",
   "execution_count": 55,
   "metadata": {
    "collapsed": false
   },
   "outputs": [
    {
     "name": "stdout",
     "output_type": "stream",
     "text": [
      "\n",
      "\n",
      "\n",
      "Hello World\n",
      "This is link1\n",
      "This is link2\n",
      "\n",
      "\n"
     ]
    }
   ],
   "source": [
    "from bs4 import BeautifulSoup \n",
    "html_sample = ''' \n",
    "<html> \n",
    " <body> \n",
    " <h1 id=\"title\">Hello World</h1> \n",
    " <a href=\"#\" class=\"link\">This is link1</a> \n",
    " <a href=\"# link2\" class=\"link\">This is link2</a> \n",
    " </body> \n",
    " </html>'''\n",
    "\n",
    "soup = BeautifulSoup(html_sample, 'html.parser')\n",
    "#print soup\n",
    "#print type(soup)\n",
    "print soup.text"
   ]
  },
  {
   "cell_type": "code",
   "execution_count": 56,
   "metadata": {
    "collapsed": false
   },
   "outputs": [
    {
     "name": "stdout",
     "output_type": "stream",
     "text": [
      "<type 'list'>\n",
      "<a class=\"link\" href=\"#\">This is link1</a>\n",
      "<class 'bs4.element.Tag'>\n"
     ]
    }
   ],
   "source": [
    "soup = BeautifulSoup(html_sample, 'html.parser') \n",
    "alink = soup.select('a') \n",
    "print type(alink)\n",
    "print alink[0]\n",
    "print type(alink[0])"
   ]
  },
  {
   "cell_type": "code",
   "execution_count": 57,
   "metadata": {
    "collapsed": false
   },
   "outputs": [
    {
     "name": "stdout",
     "output_type": "stream",
     "text": [
      "[<h1 id=\"title\">Hello World</h1>]\n",
      "<h1 id=\"title\">Hello World</h1>\n",
      "Hello World\n"
     ]
    }
   ],
   "source": [
    "h1 = soup.select('h1')\n",
    "print h1\n",
    "print h1[0]\n",
    "print h1[0].text"
   ]
  },
  {
   "cell_type": "code",
   "execution_count": 58,
   "metadata": {
    "collapsed": false
   },
   "outputs": [
    {
     "name": "stdout",
     "output_type": "stream",
     "text": [
      "[<h1 id=\"title\">Hello World</h1>]\n",
      "<h1 id=\"title\">Hello World</h1>\n",
      "Hello World\n"
     ]
    }
   ],
   "source": [
    "h1 = soup.select('#title') # id => #\n",
    "print h1\n",
    "print h1[0]\n",
    "print h1[0].text"
   ]
  },
  {
   "cell_type": "code",
   "execution_count": 59,
   "metadata": {
    "collapsed": false
   },
   "outputs": [
    {
     "name": "stdout",
     "output_type": "stream",
     "text": [
      "[<a class=\"link\" href=\"#\">This is link1</a>, <a class=\"link\" href=\"# link2\">This is link2</a>]\n",
      "<a class=\"link\" href=\"# link2\">This is link2</a>\n",
      "This is link2\n"
     ]
    }
   ],
   "source": [
    "links = soup.select('.link') # class => .\n",
    "print links\n",
    "print links[1]\n",
    "print links[1].text\n",
    "#print h1[0].text"
   ]
  },
  {
   "cell_type": "code",
   "execution_count": 60,
   "metadata": {
    "collapsed": false
   },
   "outputs": [
    {
     "name": "stdout",
     "output_type": "stream",
     "text": [
      "<a class=\"link\" href=\"#\">This is link1</a>\n",
      "#\n"
     ]
    }
   ],
   "source": [
    "links = soup.select('a')\n",
    "print links[0]\n",
    "print links[0]['href']"
   ]
  },
  {
   "cell_type": "code",
   "execution_count": 61,
   "metadata": {
    "collapsed": false
   },
   "outputs": [
    {
     "name": "stdout",
     "output_type": "stream",
     "text": [
      "<a href=\"google\" qoo=\"123\">test</a>\n",
      "123\n",
      "google\n"
     ]
    }
   ],
   "source": [
    "a = '<a qoo=123 href=google>test</a>'\n",
    "soup2 = BeautifulSoup(a, 'html.parser')\n",
    "print soup2\n",
    "print soup2.select('a')[0]['qoo']\n",
    "print soup2.select('a')[0]['href']\n",
    "#print soup['qoo']"
   ]
  },
  {
   "cell_type": "code",
   "execution_count": 62,
   "metadata": {
    "collapsed": false
   },
   "outputs": [
    {
     "name": "stdout",
     "output_type": "stream",
     "text": [
      "#\n",
      "# link2\n"
     ]
    }
   ],
   "source": [
    "links = soup.select('a')\n",
    "for link in links:\n",
    "    print link['href']\n"
   ]
  },
  {
   "cell_type": "code",
   "execution_count": 66,
   "metadata": {
    "collapsed": false
   },
   "outputs": [],
   "source": [
    "#yui_3_5_1_13_1459136205160_7 > table:nth-child(9) > tbody > tr > td > table > tbody > tr:nth-child(2) > td:nth-child(3) > b\n",
    "# pip install beautifulsoup4\n",
    "import requests\n",
    "from bs4 import BeautifulSoup as bs\n",
    "res = requests.get('https://tw.stock.yahoo.com/q/q?s=2330')\n"
   ]
  },
  {
   "cell_type": "code",
   "execution_count": 69,
   "metadata": {
    "collapsed": false
   },
   "outputs": [
    {
     "name": "stdout",
     "output_type": "stream",
     "text": [
      "[<b>158.5</b>]\n",
      "<b>158.5</b>\n",
      "158.5\n"
     ]
    }
   ],
   "source": [
    "#print res.text\n",
    "soup = bs(res.text)\n",
    "#print soup.text\n",
    "print soup.select('b')\n",
    "print soup.select('b')[0]\n",
    "print soup.select('b')[0].text"
   ]
  },
  {
   "cell_type": "code",
   "execution_count": 74,
   "metadata": {
    "collapsed": false
   },
   "outputs": [
    {
     "name": "stdout",
     "output_type": "stream",
     "text": [
      "2330台積電\n"
     ]
    }
   ],
   "source": [
    "table = soup.select('table + table table')\n",
    "tr = table[0].select('tr')[1]\n",
    "print tr.select('td')[0].select('a')[0].text"
   ]
  },
  {
   "cell_type": "code",
   "execution_count": 94,
   "metadata": {
    "collapsed": false
   },
   "outputs": [
    {
     "name": "stdout",
     "output_type": "stream",
     "text": [
      "2330台積電\n"
     ]
    }
   ],
   "source": [
    "print soup.select('td a')[12].text"
   ]
  },
  {
   "cell_type": "code",
   "execution_count": 95,
   "metadata": {
    "collapsed": true
   },
   "outputs": [],
   "source": [
    "import requests\n",
    "from bs4 import BeautifulSoup as bs\n",
    "res = requests.get('https://tw.stock.yahoo.com/q/q?s=2330')\n",
    "soup = bs(res.text)"
   ]
  },
  {
   "cell_type": "code",
   "execution_count": 96,
   "metadata": {
    "collapsed": true
   },
   "outputs": [],
   "source": [
    "table = soup.select('table + table table')[0]"
   ]
  },
  {
   "cell_type": "code",
   "execution_count": 100,
   "metadata": {
    "collapsed": false
   },
   "outputs": [
    {
     "name": "stdout",
     "output_type": "stream",
     "text": [
      "2330台積電加到投資組合\n",
      "13:30\n",
      "159.0\n",
      "158.5\n",
      "159.0\n",
      "△1.0\n",
      "                \n",
      "15,268\n",
      "158.0\n",
      "158.0\n",
      "159.0\n",
      "157.0\n",
      "\n",
      "成交明細技術　新聞基本　籌碼個股健診\n"
     ]
    }
   ],
   "source": [
    "tr  = table.select('tr')\n",
    "for td in tr[1].select('td'):\n",
    "    print td.text"
   ]
  },
  {
   "cell_type": "code",
   "execution_count": 101,
   "metadata": {
    "collapsed": false
   },
   "outputs": [
    {
     "name": "stdout",
     "output_type": "stream",
     "text": [
      " \t string test \t \n",
      "\n",
      "\r",
      " \t string test \t \n",
      "\n",
      "\r\n"
     ]
    }
   ],
   "source": [
    "s = \" \\t string test \\t \\n\\n\\r\" ' \\t string test \\t \\n\\n\\r' \n",
    "print s"
   ]
  },
  {
   "cell_type": "code",
   "execution_count": 102,
   "metadata": {
    "collapsed": false
   },
   "outputs": [
    {
     "name": "stdout",
     "output_type": "stream",
     "text": [
      "string test \t \n",
      "\n",
      "\r",
      " \t string test \t \n",
      "\n",
      "\r\n"
     ]
    }
   ],
   "source": [
    "print s.lstrip()"
   ]
  },
  {
   "cell_type": "code",
   "execution_count": 103,
   "metadata": {
    "collapsed": false
   },
   "outputs": [
    {
     "name": "stdout",
     "output_type": "stream",
     "text": [
      " \t string test \t \n",
      "\n",
      "\r",
      " \t string test\n"
     ]
    }
   ],
   "source": [
    "print s.rstrip()"
   ]
  },
  {
   "cell_type": "code",
   "execution_count": 104,
   "metadata": {
    "collapsed": false
   },
   "outputs": [
    {
     "name": "stdout",
     "output_type": "stream",
     "text": [
      "string test \t \n",
      "\n",
      "\r",
      " \t string test\n"
     ]
    }
   ],
   "source": [
    "print s.strip()"
   ]
  },
  {
   "cell_type": "code",
   "execution_count": 107,
   "metadata": {
    "collapsed": false
   },
   "outputs": [
    {
     "data": {
      "text/plain": [
       "'23'"
      ]
     },
     "execution_count": 107,
     "metadata": {},
     "output_type": "execute_result"
    }
   ],
   "source": [
    "a = '12311111'\n",
    "a.strip('1')"
   ]
  },
  {
   "cell_type": "code",
   "execution_count": 108,
   "metadata": {
    "collapsed": false
   },
   "outputs": [
    {
     "name": "stdout",
     "output_type": "stream",
     "text": [
      "2330台積電加到投資組合\n",
      "13:30\n",
      "159.0\n",
      "158.5\n",
      "159.0\n",
      "△1.0\n",
      "15,268\n",
      "158.0\n",
      "158.0\n",
      "159.0\n",
      "157.0\n",
      "成交明細技術　新聞基本　籌碼個股健診\n"
     ]
    }
   ],
   "source": [
    "tr  = table.select('tr')\n",
    "for td in tr[1].select('td'):\n",
    "    print td.text.strip()"
   ]
  },
  {
   "cell_type": "code",
   "execution_count": 109,
   "metadata": {
    "collapsed": false
   },
   "outputs": [
    {
     "name": "stdout",
     "output_type": "stream",
     "text": [
      "股票代號\n",
      "時間\n",
      "成交\n",
      "買進\n",
      "賣出\n",
      "漲跌\n",
      "張數\n",
      "昨收\n",
      "開盤\n",
      "最高\n",
      "最低\n",
      "個股資料\n"
     ]
    }
   ],
   "source": [
    "tr  = table.select('tr')\n",
    "for th in tr[0].select('th'):\n",
    "    print th.text.strip()"
   ]
  },
  {
   "cell_type": "code",
   "execution_count": 112,
   "metadata": {
    "collapsed": false
   },
   "outputs": [
    {
     "name": "stdout",
     "output_type": "stream",
     "text": [
      "[1, 2]\n"
     ]
    }
   ],
   "source": [
    "a = []\n",
    "a.append(1)\n",
    "a.append(2)\n",
    "print a"
   ]
  },
  {
   "cell_type": "code",
   "execution_count": 111,
   "metadata": {
    "collapsed": false
   },
   "outputs": [],
   "source": [
    "value = []\n",
    "tr  = table.select('tr')\n",
    "for td in tr[1].select('td'):\n",
    "    value.append(td.text.strip())\n",
    "#print value"
   ]
  },
  {
   "cell_type": "code",
   "execution_count": 114,
   "metadata": {
    "collapsed": false
   },
   "outputs": [],
   "source": [
    "name = []\n",
    "tr  = table.select('tr')\n",
    "for th in tr[0].select('th'):\n",
    "    name.append(th.text.strip())\n",
    "#print name"
   ]
  },
  {
   "cell_type": "code",
   "execution_count": 115,
   "metadata": {
    "collapsed": false
   },
   "outputs": [
    {
     "name": "stdout",
     "output_type": "stream",
     "text": [
      "{'a': 100, 'c': 0.98, 'b': 'yes'}\n"
     ]
    }
   ],
   "source": [
    "#declare dictionary \n",
    "dic = {'a':100, 'b':\"yes\", 'c':0.98} \n",
    "print dic "
   ]
  },
  {
   "cell_type": "code",
   "execution_count": 116,
   "metadata": {
    "collapsed": false
   },
   "outputs": [
    {
     "name": "stdout",
     "output_type": "stream",
     "text": [
      "['a', 'c', 'b']\n"
     ]
    }
   ],
   "source": [
    "#get keys in dictionary \n",
    "print dic.keys() "
   ]
  },
  {
   "cell_type": "code",
   "execution_count": 117,
   "metadata": {
    "collapsed": false
   },
   "outputs": [
    {
     "name": "stdout",
     "output_type": "stream",
     "text": [
      "[100, 0.98, 'yes']\n"
     ]
    }
   ],
   "source": [
    "#get values in dictionary \n",
    "print dic.values() "
   ]
  },
  {
   "cell_type": "code",
   "execution_count": 118,
   "metadata": {
    "collapsed": false
   },
   "outputs": [
    {
     "name": "stdout",
     "output_type": "stream",
     "text": [
      "100\n"
     ]
    }
   ],
   "source": [
    "#get value of given key \n",
    "print dic['a'] "
   ]
  },
  {
   "cell_type": "code",
   "execution_count": 119,
   "metadata": {
    "collapsed": false
   },
   "outputs": [
    {
     "ename": "KeyError",
     "evalue": "'d'",
     "output_type": "error",
     "traceback": [
      "\u001b[1;31m---------------------------------------------------------------------------\u001b[0m",
      "\u001b[1;31mKeyError\u001b[0m                                  Traceback (most recent call last)",
      "\u001b[1;32m<ipython-input-119-143205e8c65b>\u001b[0m in \u001b[0;36m<module>\u001b[1;34m()\u001b[0m\n\u001b[1;32m----> 1\u001b[1;33m \u001b[1;32mprint\u001b[0m \u001b[0mdic\u001b[0m\u001b[1;33m[\u001b[0m\u001b[1;34m'd'\u001b[0m\u001b[1;33m]\u001b[0m\u001b[1;33m\u001b[0m\u001b[0m\n\u001b[0m",
      "\u001b[1;31mKeyError\u001b[0m: 'd'"
     ]
    }
   ],
   "source": [
    "print dic['d']"
   ]
  },
  {
   "cell_type": "code",
   "execution_count": 120,
   "metadata": {
    "collapsed": false
   },
   "outputs": [
    {
     "name": "stdout",
     "output_type": "stream",
     "text": [
      "100\n"
     ]
    }
   ],
   "source": [
    "#get value of given key \n",
    "print dic.get('a')"
   ]
  },
  {
   "cell_type": "code",
   "execution_count": 121,
   "metadata": {
    "collapsed": false
   },
   "outputs": [
    {
     "name": "stdout",
     "output_type": "stream",
     "text": [
      "None\n"
     ]
    }
   ],
   "source": [
    "print dic.get('d')"
   ]
  },
  {
   "cell_type": "code",
   "execution_count": 123,
   "metadata": {
    "collapsed": false
   },
   "outputs": [
    {
     "name": "stdout",
     "output_type": "stream",
     "text": [
      "100\n",
      "default\n"
     ]
    }
   ],
   "source": [
    "print dic.get('a', 'default')\n",
    "print dic.get('d', 'default')"
   ]
  },
  {
   "cell_type": "code",
   "execution_count": 124,
   "metadata": {
    "collapsed": false
   },
   "outputs": [
    {
     "name": "stdout",
     "output_type": "stream",
     "text": [
      "{'a': 100, 'c': 0.98, 'b': 'yes', 'd': 'new'}\n"
     ]
    }
   ],
   "source": [
    "#add entry into dictionary \n",
    "dic['d'] = 'new' \n",
    "print dic "
   ]
  },
  {
   "cell_type": "code",
   "execution_count": 125,
   "metadata": {
    "collapsed": false
   },
   "outputs": [
    {
     "name": "stdout",
     "output_type": "stream",
     "text": [
      "{'a': 100, 'c': 0.98, 'b': 'yes', 'e': 123, 'd': 'new'}\n"
     ]
    }
   ],
   "source": [
    "#add entry into dictionary \n",
    "dic.update({'e':123}) \n",
    "print dic "
   ]
  },
  {
   "cell_type": "code",
   "execution_count": 126,
   "metadata": {
    "collapsed": false
   },
   "outputs": [
    {
     "name": "stdout",
     "output_type": "stream",
     "text": [
      "a 100\n",
      "c 0.98\n",
      "b yes\n",
      "e 123\n",
      "d new\n"
     ]
    }
   ],
   "source": [
    "# iter the dictionary \n",
    "for rec in dic: \n",
    "    print rec, dic[rec]"
   ]
  },
  {
   "cell_type": "code",
   "execution_count": 127,
   "metadata": {
    "collapsed": false
   },
   "outputs": [
    {
     "name": "stdout",
     "output_type": "stream",
     "text": [
      "[u'\\u80a1\\u7968\\u4ee3\\u865f', u'\\u6642\\u9593', u'\\u6210\\u4ea4', u'\\u8cb7\\u9032', u'\\u8ce3\\u51fa', u'\\u6f32\\u8dcc', u'\\u5f35\\u6578', u'\\u6628\\u6536', u'\\u958b\\u76e4', u'\\u6700\\u9ad8', u'\\u6700\\u4f4e', u'\\u500b\\u80a1\\u8cc7\\u6599']\n",
      "[u'2330\\u53f0\\u7a4d\\u96fb\\u52a0\\u5230\\u6295\\u8cc7\\u7d44\\u5408', u'13:30', u'159.0', u'158.5', u'159.0', u'\\u25b31.0', u'15,268', u'158.0', u'158.0', u'159.0', u'157.0', u'\\u6210\\u4ea4\\u660e\\u7d30\\u6280\\u8853\\u3000\\u65b0\\u805e\\u57fa\\u672c\\u3000\\u7c4c\\u78bc\\u500b\\u80a1\\u5065\\u8a3a']\n"
     ]
    }
   ],
   "source": [
    "print name\n",
    "print value"
   ]
  },
  {
   "cell_type": "code",
   "execution_count": 130,
   "metadata": {
    "collapsed": false
   },
   "outputs": [],
   "source": [
    "dic = {}\n",
    "for n, v in zip(name, value):\n",
    "    dic[n] =  v"
   ]
  },
  {
   "cell_type": "code",
   "execution_count": 132,
   "metadata": {
    "collapsed": false
   },
   "outputs": [
    {
     "name": "stdout",
     "output_type": "stream",
     "text": [
      "159.0\n"
     ]
    }
   ],
   "source": [
    "print dic['成交'.decode('utf-8')]"
   ]
  },
  {
   "cell_type": "code",
   "execution_count": 141,
   "metadata": {
    "collapsed": false
   },
   "outputs": [
    {
     "name": "stdout",
     "output_type": "stream",
     "text": [
      "這 3 檔「隱藏版好股」1 個月漲 22%！看懂了，下個月的飆股，自然是 ____ 權證小哥 15379 2016-3-15\n",
      "陸股波動大，用這「3 招」做陸股，你也能一日賺 20%！ 權證小哥 3440 2016-3-7\n",
      "持股還沒漲嗎？原來只要靠「3大法人 + 這 1 招」讓你每次出手都在「起漲點」！ 權證小哥 8419 2016-3-4\n",
      "2/18 浩鼎 (4174)「假突破」，原來這時候...應該要，下次再看到像這樣過熱一定先跑再說！ 權證小哥 6908 2016-3-1\n",
      "原來用___方式做股票，讓你上班「不看盤」也能穩穩賺利息，甚至賺到大波段！ 權證小哥 6610 2016-2-26\n",
      "只要看準這 6 點：當出現...黃金交叉時，就是抓住飆股「起漲」的好時機！ 權證小哥 6375 2016-2-18\n",
      "原來只要看到 ___，就表示股價要反彈了！難怪這 3 條線，大家都 搶著學！ 權證小哥 7105 2016-2-16\n",
      "股價上漲，權證一定漲嗎？那可不一定...玩權證，要知道的 10 個小撇步 ！(內附 3 檔危險清單) 權證小哥 2624 2016-2-3\n",
      "市場上有一群「神秘大戶」，專門操作「金融股」...學會這招，明天就幫自己加薪 3000元！ 權證小哥 14256 2016-2-3\n",
      "權證的高槓桿 是它迷人之處，但這 9 大指標不可不知！尤其是第 5 點... 權證小哥 4094 2016-2-2\n"
     ]
    }
   ],
   "source": [
    "import requests\n",
    "from bs4 import BeautifulSoup as bs\n",
    "res = requests.get('http://www.cmoney.tw/notes/?aid=3')\n",
    "soup = bs(res.text)\n",
    "for article in soup.select('.p-article'):\n",
    "    print article.select('h2')[0].text, \\\n",
    "          article.select('.author a')[0].text, \\\n",
    "          article.select('.browsN span')[0].text, \\\n",
    "          article.select('.article-date')[0].text\n",
    "        "
   ]
  },
  {
   "cell_type": "code",
   "execution_count": 145,
   "metadata": {
    "collapsed": false
   },
   "outputs": [],
   "source": [
    "import requests\n",
    "import json\n",
    "ACCESSTOKEN = 'AppID|AppSecret'\n",
    "\n",
    "res = requests.get('https://graph.facebook.com/v2.5/tsaiingwen/posts?access_token={}'.format(ACCESSTOKEN) )\n"
   ]
  },
  {
   "cell_type": "code",
   "execution_count": 156,
   "metadata": {
    "collapsed": false
   },
   "outputs": [],
   "source": [
    "#pip install jieba\n",
    "import jieba\n",
    "from collections import Counter\n",
    "c = Counter()\n",
    "jd = json.loads(res.text)\n",
    "for rec in jd['data']:\n",
    "    for ele in jieba.cut(rec['message']):\n",
    "        c[ele] +=1\n",
    "for ele in c.most_common(10):\n",
    "    if len(ele[0]) >= 2:\n",
    "        print ele[0], ele[1]"
   ]
  },
  {
   "cell_type": "code",
   "execution_count": 179,
   "metadata": {
    "collapsed": false
   },
   "outputs": [
    {
     "data": {
      "text/html": [
       "<div>\n",
       "<table border=\"1\" class=\"dataframe\">\n",
       "  <thead>\n",
       "    <tr style=\"text-align: right;\">\n",
       "      <th></th>\n",
       "      <th>0</th>\n",
       "      <th>1</th>\n",
       "      <th>2</th>\n",
       "    </tr>\n",
       "  </thead>\n",
       "  <tbody>\n",
       "    <tr>\n",
       "      <th>0</th>\n",
       "      <td>frank</td>\n",
       "      <td>M</td>\n",
       "      <td>29</td>\n",
       "    </tr>\n",
       "    <tr>\n",
       "      <th>1</th>\n",
       "      <td>mary</td>\n",
       "      <td>F</td>\n",
       "      <td>23</td>\n",
       "    </tr>\n",
       "    <tr>\n",
       "      <th>2</th>\n",
       "      <td>tom</td>\n",
       "      <td>M</td>\n",
       "      <td>35</td>\n",
       "    </tr>\n",
       "    <tr>\n",
       "      <th>3</th>\n",
       "      <td>ted</td>\n",
       "      <td>M</td>\n",
       "      <td>33</td>\n",
       "    </tr>\n",
       "    <tr>\n",
       "      <th>4</th>\n",
       "      <td>jean</td>\n",
       "      <td>F</td>\n",
       "      <td>21</td>\n",
       "    </tr>\n",
       "    <tr>\n",
       "      <th>5</th>\n",
       "      <td>lisa</td>\n",
       "      <td>F</td>\n",
       "      <td>20</td>\n",
       "    </tr>\n",
       "  </tbody>\n",
       "</table>\n",
       "</div>"
      ],
      "text/plain": [
       "       0  1   2\n",
       "0  frank  M  29\n",
       "1   mary  F  23\n",
       "2    tom  M  35\n",
       "3    ted  M  33\n",
       "4   jean  F  21\n",
       "5   lisa  F  20"
      ]
     },
     "execution_count": 179,
     "metadata": {},
     "output_type": "execute_result"
    }
   ],
   "source": [
    "import pandas as pd\n",
    "df = pd.DataFrame([['frank', 'M', 29], ['mary', 'F', 23], ['tom', 'M', 35], ['ted', 'M', 33], ['jean', 'F', 21], ['lisa', 'F', 20]])\n",
    "df"
   ]
  },
  {
   "cell_type": "code",
   "execution_count": 180,
   "metadata": {
    "collapsed": false
   },
   "outputs": [
    {
     "data": {
      "text/html": [
       "<div>\n",
       "<table border=\"1\" class=\"dataframe\">\n",
       "  <thead>\n",
       "    <tr style=\"text-align: right;\">\n",
       "      <th></th>\n",
       "      <th>0</th>\n",
       "      <th>1</th>\n",
       "      <th>2</th>\n",
       "    </tr>\n",
       "  </thead>\n",
       "  <tbody>\n",
       "    <tr>\n",
       "      <th>0</th>\n",
       "      <td>frank</td>\n",
       "      <td>M</td>\n",
       "      <td>29</td>\n",
       "    </tr>\n",
       "    <tr>\n",
       "      <th>1</th>\n",
       "      <td>mary</td>\n",
       "      <td>F</td>\n",
       "      <td>23</td>\n",
       "    </tr>\n",
       "    <tr>\n",
       "      <th>2</th>\n",
       "      <td>tom</td>\n",
       "      <td>M</td>\n",
       "      <td>35</td>\n",
       "    </tr>\n",
       "  </tbody>\n",
       "</table>\n",
       "</div>"
      ],
      "text/plain": [
       "       0  1   2\n",
       "0  frank  M  29\n",
       "1   mary  F  23\n",
       "2    tom  M  35"
      ]
     },
     "execution_count": 180,
     "metadata": {},
     "output_type": "execute_result"
    }
   ],
   "source": [
    "df.head(3)"
   ]
  },
  {
   "cell_type": "code",
   "execution_count": 181,
   "metadata": {
    "collapsed": false
   },
   "outputs": [
    {
     "data": {
      "text/plain": [
       "0    frank\n",
       "1     mary\n",
       "2      tom\n",
       "3      ted\n",
       "4     jean\n",
       "5     lisa\n",
       "Name: 0, dtype: object"
      ]
     },
     "execution_count": 181,
     "metadata": {},
     "output_type": "execute_result"
    }
   ],
   "source": [
    "df[0]"
   ]
  },
  {
   "cell_type": "code",
   "execution_count": 182,
   "metadata": {
    "collapsed": false
   },
   "outputs": [
    {
     "data": {
      "text/plain": [
       "'tom'"
      ]
     },
     "execution_count": 182,
     "metadata": {},
     "output_type": "execute_result"
    }
   ],
   "source": [
    "df[0][2]"
   ]
  },
  {
   "cell_type": "code",
   "execution_count": 183,
   "metadata": {
    "collapsed": false
   },
   "outputs": [
    {
     "data": {
      "text/html": [
       "<div>\n",
       "<table border=\"1\" class=\"dataframe\">\n",
       "  <thead>\n",
       "    <tr style=\"text-align: right;\">\n",
       "      <th></th>\n",
       "      <th>name</th>\n",
       "      <th>gender</th>\n",
       "      <th>age</th>\n",
       "    </tr>\n",
       "  </thead>\n",
       "  <tbody>\n",
       "    <tr>\n",
       "      <th>0</th>\n",
       "      <td>frank</td>\n",
       "      <td>M</td>\n",
       "      <td>29</td>\n",
       "    </tr>\n",
       "    <tr>\n",
       "      <th>1</th>\n",
       "      <td>mary</td>\n",
       "      <td>F</td>\n",
       "      <td>23</td>\n",
       "    </tr>\n",
       "    <tr>\n",
       "      <th>2</th>\n",
       "      <td>tom</td>\n",
       "      <td>M</td>\n",
       "      <td>35</td>\n",
       "    </tr>\n",
       "    <tr>\n",
       "      <th>3</th>\n",
       "      <td>ted</td>\n",
       "      <td>M</td>\n",
       "      <td>33</td>\n",
       "    </tr>\n",
       "    <tr>\n",
       "      <th>4</th>\n",
       "      <td>jean</td>\n",
       "      <td>F</td>\n",
       "      <td>21</td>\n",
       "    </tr>\n",
       "    <tr>\n",
       "      <th>5</th>\n",
       "      <td>lisa</td>\n",
       "      <td>F</td>\n",
       "      <td>20</td>\n",
       "    </tr>\n",
       "  </tbody>\n",
       "</table>\n",
       "</div>"
      ],
      "text/plain": [
       "    name gender  age\n",
       "0  frank      M   29\n",
       "1   mary      F   23\n",
       "2    tom      M   35\n",
       "3    ted      M   33\n",
       "4   jean      F   21\n",
       "5   lisa      F   20"
      ]
     },
     "execution_count": 183,
     "metadata": {},
     "output_type": "execute_result"
    }
   ],
   "source": [
    "df.columns = ['name', 'gender', 'age']\n",
    "df"
   ]
  },
  {
   "cell_type": "code",
   "execution_count": 184,
   "metadata": {
    "collapsed": false
   },
   "outputs": [
    {
     "data": {
      "text/plain": [
       "0    29\n",
       "1    23\n",
       "2    35\n",
       "3    33\n",
       "4    21\n",
       "5    20\n",
       "Name: age, dtype: int64"
      ]
     },
     "execution_count": 184,
     "metadata": {},
     "output_type": "execute_result"
    }
   ],
   "source": [
    "df['age']"
   ]
  },
  {
   "cell_type": "code",
   "execution_count": 185,
   "metadata": {
    "collapsed": false
   },
   "outputs": [
    {
     "data": {
      "text/plain": [
       "26.833333333333332"
      ]
     },
     "execution_count": 185,
     "metadata": {},
     "output_type": "execute_result"
    }
   ],
   "source": [
    "df['age'].mean()"
   ]
  },
  {
   "cell_type": "code",
   "execution_count": 186,
   "metadata": {
    "collapsed": false
   },
   "outputs": [
    {
     "data": {
      "text/html": [
       "<div>\n",
       "<table border=\"1\" class=\"dataframe\">\n",
       "  <thead>\n",
       "    <tr style=\"text-align: right;\">\n",
       "      <th></th>\n",
       "      <th>age</th>\n",
       "    </tr>\n",
       "  </thead>\n",
       "  <tbody>\n",
       "    <tr>\n",
       "      <th>count</th>\n",
       "      <td>6.000000</td>\n",
       "    </tr>\n",
       "    <tr>\n",
       "      <th>mean</th>\n",
       "      <td>26.833333</td>\n",
       "    </tr>\n",
       "    <tr>\n",
       "      <th>std</th>\n",
       "      <td>6.400521</td>\n",
       "    </tr>\n",
       "    <tr>\n",
       "      <th>min</th>\n",
       "      <td>20.000000</td>\n",
       "    </tr>\n",
       "    <tr>\n",
       "      <th>25%</th>\n",
       "      <td>21.500000</td>\n",
       "    </tr>\n",
       "    <tr>\n",
       "      <th>50%</th>\n",
       "      <td>26.000000</td>\n",
       "    </tr>\n",
       "    <tr>\n",
       "      <th>75%</th>\n",
       "      <td>32.000000</td>\n",
       "    </tr>\n",
       "    <tr>\n",
       "      <th>max</th>\n",
       "      <td>35.000000</td>\n",
       "    </tr>\n",
       "  </tbody>\n",
       "</table>\n",
       "</div>"
      ],
      "text/plain": [
       "             age\n",
       "count   6.000000\n",
       "mean   26.833333\n",
       "std     6.400521\n",
       "min    20.000000\n",
       "25%    21.500000\n",
       "50%    26.000000\n",
       "75%    32.000000\n",
       "max    35.000000"
      ]
     },
     "execution_count": 186,
     "metadata": {},
     "output_type": "execute_result"
    }
   ],
   "source": [
    "df.describe()"
   ]
  },
  {
   "cell_type": "code",
   "execution_count": 188,
   "metadata": {
    "collapsed": false
   },
   "outputs": [
    {
     "data": {
      "text/html": [
       "<div>\n",
       "<table border=\"1\" class=\"dataframe\">\n",
       "  <thead>\n",
       "    <tr style=\"text-align: right;\">\n",
       "      <th></th>\n",
       "      <th>name</th>\n",
       "      <th>gender</th>\n",
       "      <th>age</th>\n",
       "    </tr>\n",
       "  </thead>\n",
       "  <tbody>\n",
       "    <tr>\n",
       "      <th>0</th>\n",
       "      <td>frank</td>\n",
       "      <td>M</td>\n",
       "      <td>29</td>\n",
       "    </tr>\n",
       "    <tr>\n",
       "      <th>1</th>\n",
       "      <td>mary</td>\n",
       "      <td>F</td>\n",
       "      <td>23</td>\n",
       "    </tr>\n",
       "    <tr>\n",
       "      <th>2</th>\n",
       "      <td>tom</td>\n",
       "      <td>M</td>\n",
       "      <td>35</td>\n",
       "    </tr>\n",
       "    <tr>\n",
       "      <th>3</th>\n",
       "      <td>ted</td>\n",
       "      <td>M</td>\n",
       "      <td>33</td>\n",
       "    </tr>\n",
       "    <tr>\n",
       "      <th>4</th>\n",
       "      <td>jean</td>\n",
       "      <td>F</td>\n",
       "      <td>21</td>\n",
       "    </tr>\n",
       "    <tr>\n",
       "      <th>5</th>\n",
       "      <td>lisa</td>\n",
       "      <td>F</td>\n",
       "      <td>20</td>\n",
       "    </tr>\n",
       "  </tbody>\n",
       "</table>\n",
       "</div>"
      ],
      "text/plain": [
       "    name gender  age\n",
       "0  frank      M   29\n",
       "1   mary      F   23\n",
       "2    tom      M   35\n",
       "3    ted      M   33\n",
       "4   jean      F   21\n",
       "5   lisa      F   20"
      ]
     },
     "execution_count": 188,
     "metadata": {},
     "output_type": "execute_result"
    }
   ],
   "source": [
    "df"
   ]
  },
  {
   "cell_type": "code",
   "execution_count": 189,
   "metadata": {
    "collapsed": false
   },
   "outputs": [
    {
     "data": {
      "text/plain": [
       "name      frank\n",
       "gender        M\n",
       "age          29\n",
       "Name: 0, dtype: object"
      ]
     },
     "execution_count": 189,
     "metadata": {},
     "output_type": "execute_result"
    }
   ],
   "source": [
    "df.ix[0]"
   ]
  },
  {
   "cell_type": "code",
   "execution_count": 169,
   "metadata": {
    "collapsed": false
   },
   "outputs": [
    {
     "data": {
      "text/html": [
       "<div>\n",
       "<table border=\"1\" class=\"dataframe\">\n",
       "  <thead>\n",
       "    <tr style=\"text-align: right;\">\n",
       "      <th></th>\n",
       "      <th>name</th>\n",
       "      <th>gender</th>\n",
       "      <th>age</th>\n",
       "    </tr>\n",
       "  </thead>\n",
       "  <tbody>\n",
       "    <tr>\n",
       "      <th>1</th>\n",
       "      <td>mary</td>\n",
       "      <td>F</td>\n",
       "      <td>23</td>\n",
       "    </tr>\n",
       "    <tr>\n",
       "      <th>2</th>\n",
       "      <td>tom</td>\n",
       "      <td>M</td>\n",
       "      <td>35</td>\n",
       "    </tr>\n",
       "    <tr>\n",
       "      <th>3</th>\n",
       "      <td>ted</td>\n",
       "      <td>M</td>\n",
       "      <td>33</td>\n",
       "    </tr>\n",
       "    <tr>\n",
       "      <th>4</th>\n",
       "      <td>jean</td>\n",
       "      <td>F</td>\n",
       "      <td>21</td>\n",
       "    </tr>\n",
       "  </tbody>\n",
       "</table>\n",
       "</div>"
      ],
      "text/plain": [
       "   name gender  age\n",
       "1  mary      F   23\n",
       "2   tom      M   35\n",
       "3   ted      M   33\n",
       "4  jean      F   21"
      ]
     },
     "execution_count": 169,
     "metadata": {},
     "output_type": "execute_result"
    }
   ],
   "source": [
    "df.ix[1:4]"
   ]
  },
  {
   "cell_type": "code",
   "execution_count": 170,
   "metadata": {
    "collapsed": false
   },
   "outputs": [
    {
     "data": {
      "text/plain": [
       "0    frank\n",
       "1     mary\n",
       "2      tom\n",
       "3      ted\n",
       "4     jean\n",
       "5     lisa\n",
       "Name: name, dtype: object"
      ]
     },
     "execution_count": 170,
     "metadata": {},
     "output_type": "execute_result"
    }
   ],
   "source": [
    "df['name']"
   ]
  },
  {
   "cell_type": "code",
   "execution_count": 171,
   "metadata": {
    "collapsed": false
   },
   "outputs": [
    {
     "data": {
      "text/html": [
       "<div>\n",
       "<table border=\"1\" class=\"dataframe\">\n",
       "  <thead>\n",
       "    <tr style=\"text-align: right;\">\n",
       "      <th></th>\n",
       "      <th>name</th>\n",
       "      <th>age</th>\n",
       "    </tr>\n",
       "  </thead>\n",
       "  <tbody>\n",
       "    <tr>\n",
       "      <th>0</th>\n",
       "      <td>frank</td>\n",
       "      <td>29</td>\n",
       "    </tr>\n",
       "    <tr>\n",
       "      <th>1</th>\n",
       "      <td>mary</td>\n",
       "      <td>23</td>\n",
       "    </tr>\n",
       "    <tr>\n",
       "      <th>2</th>\n",
       "      <td>tom</td>\n",
       "      <td>35</td>\n",
       "    </tr>\n",
       "    <tr>\n",
       "      <th>3</th>\n",
       "      <td>ted</td>\n",
       "      <td>33</td>\n",
       "    </tr>\n",
       "    <tr>\n",
       "      <th>4</th>\n",
       "      <td>jean</td>\n",
       "      <td>21</td>\n",
       "    </tr>\n",
       "    <tr>\n",
       "      <th>5</th>\n",
       "      <td>lisa</td>\n",
       "      <td>20</td>\n",
       "    </tr>\n",
       "  </tbody>\n",
       "</table>\n",
       "</div>"
      ],
      "text/plain": [
       "    name  age\n",
       "0  frank   29\n",
       "1   mary   23\n",
       "2    tom   35\n",
       "3    ted   33\n",
       "4   jean   21\n",
       "5   lisa   20"
      ]
     },
     "execution_count": 171,
     "metadata": {},
     "output_type": "execute_result"
    }
   ],
   "source": [
    "df[['name','age']]"
   ]
  },
  {
   "cell_type": "code",
   "execution_count": 172,
   "metadata": {
    "collapsed": false
   },
   "outputs": [
    {
     "data": {
      "text/plain": [
       "0     True\n",
       "1    False\n",
       "2     True\n",
       "3     True\n",
       "4    False\n",
       "5    False\n",
       "Name: gender, dtype: bool"
      ]
     },
     "execution_count": 172,
     "metadata": {},
     "output_type": "execute_result"
    }
   ],
   "source": [
    "df['gender'] == 'M'"
   ]
  },
  {
   "cell_type": "code",
   "execution_count": 173,
   "metadata": {
    "collapsed": false
   },
   "outputs": [
    {
     "data": {
      "text/html": [
       "<div>\n",
       "<table border=\"1\" class=\"dataframe\">\n",
       "  <thead>\n",
       "    <tr style=\"text-align: right;\">\n",
       "      <th></th>\n",
       "      <th>name</th>\n",
       "      <th>gender</th>\n",
       "      <th>age</th>\n",
       "    </tr>\n",
       "  </thead>\n",
       "  <tbody>\n",
       "    <tr>\n",
       "      <th>0</th>\n",
       "      <td>frank</td>\n",
       "      <td>M</td>\n",
       "      <td>29</td>\n",
       "    </tr>\n",
       "    <tr>\n",
       "      <th>2</th>\n",
       "      <td>tom</td>\n",
       "      <td>M</td>\n",
       "      <td>35</td>\n",
       "    </tr>\n",
       "    <tr>\n",
       "      <th>3</th>\n",
       "      <td>ted</td>\n",
       "      <td>M</td>\n",
       "      <td>33</td>\n",
       "    </tr>\n",
       "  </tbody>\n",
       "</table>\n",
       "</div>"
      ],
      "text/plain": [
       "    name gender  age\n",
       "0  frank      M   29\n",
       "2    tom      M   35\n",
       "3    ted      M   33"
      ]
     },
     "execution_count": 173,
     "metadata": {},
     "output_type": "execute_result"
    }
   ],
   "source": [
    "df[df['gender'] == 'M']"
   ]
  },
  {
   "cell_type": "code",
   "execution_count": 174,
   "metadata": {
    "collapsed": false
   },
   "outputs": [
    {
     "data": {
      "text/plain": [
       "age    32.333333\n",
       "dtype: float64"
      ]
     },
     "execution_count": 174,
     "metadata": {},
     "output_type": "execute_result"
    }
   ],
   "source": [
    "df[df['gender'] == 'M'].mean()"
   ]
  },
  {
   "cell_type": "code",
   "execution_count": 176,
   "metadata": {
    "collapsed": false
   },
   "outputs": [
    {
     "data": {
      "text/plain": [
       "age    21.333333\n",
       "dtype: float64"
      ]
     },
     "execution_count": 176,
     "metadata": {},
     "output_type": "execute_result"
    }
   ],
   "source": [
    "df[df['gender'] == 'F'].mean()"
   ]
  },
  {
   "cell_type": "code",
   "execution_count": 177,
   "metadata": {
    "collapsed": false
   },
   "outputs": [
    {
     "data": {
      "text/plain": [
       "gender\n",
       "F    21.333333\n",
       "M    32.333333\n",
       "Name: age, dtype: float64"
      ]
     },
     "execution_count": 177,
     "metadata": {},
     "output_type": "execute_result"
    }
   ],
   "source": [
    "df.groupby('gender')['age'].mean()"
   ]
  },
  {
   "cell_type": "code",
   "execution_count": 190,
   "metadata": {
    "collapsed": false
   },
   "outputs": [
    {
     "name": "stdout",
     "output_type": "stream",
     "text": [
      "        name sex  births\n",
      "0       Mary   F    7065\n",
      "1       Anna   F    2604\n",
      "2       Emma   F    2003\n",
      "3  Elizabeth   F    1939\n",
      "4     Minnie   F    1746\n",
      "5   Margaret   F    1578\n",
      "6        Ida   F    1472\n",
      "7      Alice   F    1414\n",
      "8     Bertha   F    1320\n",
      "9      Sarah   F    1288\n"
     ]
    }
   ],
   "source": [
    "import pandas as pd\n",
    "names1880 = pd.read_csv('names/yob1880.txt', \n",
    "                        names=['name', 'sex', 'births'])\n",
    "print names1880.head(10)\n"
   ]
  },
  {
   "cell_type": "code",
   "execution_count": 191,
   "metadata": {
    "collapsed": false
   },
   "outputs": [
    {
     "data": {
      "text/html": [
       "<div>\n",
       "<table border=\"1\" class=\"dataframe\">\n",
       "  <thead>\n",
       "    <tr style=\"text-align: right;\">\n",
       "      <th></th>\n",
       "      <th>name</th>\n",
       "      <th>sex</th>\n",
       "      <th>births</th>\n",
       "    </tr>\n",
       "  </thead>\n",
       "  <tbody>\n",
       "    <tr>\n",
       "      <th>1990</th>\n",
       "      <td>Unknown</td>\n",
       "      <td>M</td>\n",
       "      <td>5</td>\n",
       "    </tr>\n",
       "    <tr>\n",
       "      <th>1991</th>\n",
       "      <td>Vann</td>\n",
       "      <td>M</td>\n",
       "      <td>5</td>\n",
       "    </tr>\n",
       "    <tr>\n",
       "      <th>1992</th>\n",
       "      <td>Wes</td>\n",
       "      <td>M</td>\n",
       "      <td>5</td>\n",
       "    </tr>\n",
       "    <tr>\n",
       "      <th>1993</th>\n",
       "      <td>Winston</td>\n",
       "      <td>M</td>\n",
       "      <td>5</td>\n",
       "    </tr>\n",
       "    <tr>\n",
       "      <th>1994</th>\n",
       "      <td>Wood</td>\n",
       "      <td>M</td>\n",
       "      <td>5</td>\n",
       "    </tr>\n",
       "    <tr>\n",
       "      <th>1995</th>\n",
       "      <td>Woodie</td>\n",
       "      <td>M</td>\n",
       "      <td>5</td>\n",
       "    </tr>\n",
       "    <tr>\n",
       "      <th>1996</th>\n",
       "      <td>Worthy</td>\n",
       "      <td>M</td>\n",
       "      <td>5</td>\n",
       "    </tr>\n",
       "    <tr>\n",
       "      <th>1997</th>\n",
       "      <td>Wright</td>\n",
       "      <td>M</td>\n",
       "      <td>5</td>\n",
       "    </tr>\n",
       "    <tr>\n",
       "      <th>1998</th>\n",
       "      <td>York</td>\n",
       "      <td>M</td>\n",
       "      <td>5</td>\n",
       "    </tr>\n",
       "    <tr>\n",
       "      <th>1999</th>\n",
       "      <td>Zachariah</td>\n",
       "      <td>M</td>\n",
       "      <td>5</td>\n",
       "    </tr>\n",
       "  </tbody>\n",
       "</table>\n",
       "</div>"
      ],
      "text/plain": [
       "           name sex  births\n",
       "1990    Unknown   M       5\n",
       "1991       Vann   M       5\n",
       "1992        Wes   M       5\n",
       "1993    Winston   M       5\n",
       "1994       Wood   M       5\n",
       "1995     Woodie   M       5\n",
       "1996     Worthy   M       5\n",
       "1997     Wright   M       5\n",
       "1998       York   M       5\n",
       "1999  Zachariah   M       5"
      ]
     },
     "execution_count": 191,
     "metadata": {},
     "output_type": "execute_result"
    }
   ],
   "source": [
    "names1880.tail(10)"
   ]
  },
  {
   "cell_type": "code",
   "execution_count": 192,
   "metadata": {
    "collapsed": false
   },
   "outputs": [
    {
     "data": {
      "text/plain": [
       "array(['F', 'M'], dtype=object)"
      ]
     },
     "execution_count": 192,
     "metadata": {},
     "output_type": "execute_result"
    }
   ],
   "source": [
    "names1880['sex'].unique()"
   ]
  },
  {
   "cell_type": "code",
   "execution_count": 194,
   "metadata": {
    "collapsed": false
   },
   "outputs": [
    {
     "data": {
      "text/plain": [
       "sex\n",
       "F     90993\n",
       "M    110493\n",
       "Name: births, dtype: int64"
      ]
     },
     "execution_count": 194,
     "metadata": {},
     "output_type": "execute_result"
    }
   ],
   "source": [
    "names1880.groupby('sex')['births'].sum()"
   ]
  },
  {
   "cell_type": "code",
   "execution_count": 197,
   "metadata": {
    "collapsed": true
   },
   "outputs": [
    {
     "data": {
      "text/html": [
       "<div>\n",
       "<table border=\"1\" class=\"dataframe\">\n",
       "  <thead>\n",
       "    <tr style=\"text-align: right;\">\n",
       "      <th></th>\n",
       "      <th>name</th>\n",
       "      <th>sex</th>\n",
       "      <th>births</th>\n",
       "    </tr>\n",
       "  </thead>\n",
       "  <tbody>\n",
       "    <tr>\n",
       "      <th>0</th>\n",
       "      <td>Mary</td>\n",
       "      <td>F</td>\n",
       "      <td>7065</td>\n",
       "    </tr>\n",
       "    <tr>\n",
       "      <th>1</th>\n",
       "      <td>Anna</td>\n",
       "      <td>F</td>\n",
       "      <td>2604</td>\n",
       "    </tr>\n",
       "    <tr>\n",
       "      <th>2</th>\n",
       "      <td>Emma</td>\n",
       "      <td>F</td>\n",
       "      <td>2003</td>\n",
       "    </tr>\n",
       "    <tr>\n",
       "      <th>3</th>\n",
       "      <td>Elizabeth</td>\n",
       "      <td>F</td>\n",
       "      <td>1939</td>\n",
       "    </tr>\n",
       "    <tr>\n",
       "      <th>4</th>\n",
       "      <td>Minnie</td>\n",
       "      <td>F</td>\n",
       "      <td>1746</td>\n",
       "    </tr>\n",
       "  </tbody>\n",
       "</table>\n",
       "</div>"
      ],
      "text/plain": [
       "        name sex  births\n",
       "0       Mary   F    7065\n",
       "1       Anna   F    2604\n",
       "2       Emma   F    2003\n",
       "3  Elizabeth   F    1939\n",
       "4     Minnie   F    1746"
      ]
     },
     "execution_count": 197,
     "metadata": {},
     "output_type": "execute_result"
    }
   ],
   "source": [
    "names1880.head()"
   ]
  },
  {
   "cell_type": "code",
   "execution_count": 198,
   "metadata": {
    "collapsed": false
   },
   "outputs": [
    {
     "data": {
      "text/html": [
       "<div>\n",
       "<table border=\"1\" class=\"dataframe\">\n",
       "  <thead>\n",
       "    <tr style=\"text-align: right;\">\n",
       "      <th></th>\n",
       "      <th>name</th>\n",
       "      <th>sex</th>\n",
       "      <th>births</th>\n",
       "      <th>year</th>\n",
       "    </tr>\n",
       "  </thead>\n",
       "  <tbody>\n",
       "    <tr>\n",
       "      <th>0</th>\n",
       "      <td>Mary</td>\n",
       "      <td>F</td>\n",
       "      <td>7065</td>\n",
       "      <td>1880</td>\n",
       "    </tr>\n",
       "    <tr>\n",
       "      <th>1</th>\n",
       "      <td>Anna</td>\n",
       "      <td>F</td>\n",
       "      <td>2604</td>\n",
       "      <td>1880</td>\n",
       "    </tr>\n",
       "    <tr>\n",
       "      <th>2</th>\n",
       "      <td>Emma</td>\n",
       "      <td>F</td>\n",
       "      <td>2003</td>\n",
       "      <td>1880</td>\n",
       "    </tr>\n",
       "    <tr>\n",
       "      <th>3</th>\n",
       "      <td>Elizabeth</td>\n",
       "      <td>F</td>\n",
       "      <td>1939</td>\n",
       "      <td>1880</td>\n",
       "    </tr>\n",
       "    <tr>\n",
       "      <th>4</th>\n",
       "      <td>Minnie</td>\n",
       "      <td>F</td>\n",
       "      <td>1746</td>\n",
       "      <td>1880</td>\n",
       "    </tr>\n",
       "  </tbody>\n",
       "</table>\n",
       "</div>"
      ],
      "text/plain": [
       "        name sex  births  year\n",
       "0       Mary   F    7065  1880\n",
       "1       Anna   F    2604  1880\n",
       "2       Emma   F    2003  1880\n",
       "3  Elizabeth   F    1939  1880\n",
       "4     Minnie   F    1746  1880"
      ]
     },
     "execution_count": 198,
     "metadata": {},
     "output_type": "execute_result"
    }
   ],
   "source": [
    "names1880['year'] = 1880\n",
    "names1880.head()"
   ]
  },
  {
   "cell_type": "code",
   "execution_count": 199,
   "metadata": {
    "collapsed": true
   },
   "outputs": [],
   "source": [
    "import pandas as pd\n",
    "namesall = []\n",
    "for year in range(1880, 2011):\n",
    "    path = 'names/yob' + str(year) + '.txt'\n",
    "    df = pd.read_csv(path, names=['name', 'sex', 'births'])\n",
    "    \n",
    "    df['year'] = year\n",
    "    namesall.append(df)\n"
   ]
  },
  {
   "cell_type": "code",
   "execution_count": 204,
   "metadata": {
    "collapsed": false
   },
   "outputs": [
    {
     "name": "stdout",
     "output_type": "stream",
     "text": [
      "131\n"
     ]
    },
    {
     "data": {
      "text/html": [
       "<div>\n",
       "<table border=\"1\" class=\"dataframe\">\n",
       "  <thead>\n",
       "    <tr style=\"text-align: right;\">\n",
       "      <th></th>\n",
       "      <th>name</th>\n",
       "      <th>sex</th>\n",
       "      <th>births</th>\n",
       "      <th>year</th>\n",
       "    </tr>\n",
       "  </thead>\n",
       "  <tbody>\n",
       "    <tr>\n",
       "      <th>0</th>\n",
       "      <td>Mary</td>\n",
       "      <td>F</td>\n",
       "      <td>8012</td>\n",
       "      <td>1883</td>\n",
       "    </tr>\n",
       "    <tr>\n",
       "      <th>1</th>\n",
       "      <td>Anna</td>\n",
       "      <td>F</td>\n",
       "      <td>3306</td>\n",
       "      <td>1883</td>\n",
       "    </tr>\n",
       "    <tr>\n",
       "      <th>2</th>\n",
       "      <td>Emma</td>\n",
       "      <td>F</td>\n",
       "      <td>2367</td>\n",
       "      <td>1883</td>\n",
       "    </tr>\n",
       "  </tbody>\n",
       "</table>\n",
       "</div>"
      ],
      "text/plain": [
       "   name sex  births  year\n",
       "0  Mary   F    8012  1883\n",
       "1  Anna   F    3306  1883\n",
       "2  Emma   F    2367  1883"
      ]
     },
     "execution_count": 204,
     "metadata": {},
     "output_type": "execute_result"
    }
   ],
   "source": [
    "print len(namesall)\n",
    "namesall[3].head(3)"
   ]
  },
  {
   "cell_type": "code",
   "execution_count": 205,
   "metadata": {
    "collapsed": false
   },
   "outputs": [
    {
     "data": {
      "text/plain": [
       "array([1880, 1881, 1882, 1883, 1884, 1885, 1886, 1887, 1888, 1889, 1890,\n",
       "       1891, 1892, 1893, 1894, 1895, 1896, 1897, 1898, 1899, 1900, 1901,\n",
       "       1902, 1903, 1904, 1905, 1906, 1907, 1908, 1909, 1910, 1911, 1912,\n",
       "       1913, 1914, 1915, 1916, 1917, 1918, 1919, 1920, 1921, 1922, 1923,\n",
       "       1924, 1925, 1926, 1927, 1928, 1929, 1930, 1931, 1932, 1933, 1934,\n",
       "       1935, 1936, 1937, 1938, 1939, 1940, 1941, 1942, 1943, 1944, 1945,\n",
       "       1946, 1947, 1948, 1949, 1950, 1951, 1952, 1953, 1954, 1955, 1956,\n",
       "       1957, 1958, 1959, 1960, 1961, 1962, 1963, 1964, 1965, 1966, 1967,\n",
       "       1968, 1969, 1970, 1971, 1972, 1973, 1974, 1975, 1976, 1977, 1978,\n",
       "       1979, 1980, 1981, 1982, 1983, 1984, 1985, 1986, 1987, 1988, 1989,\n",
       "       1990, 1991, 1992, 1993, 1994, 1995, 1996, 1997, 1998, 1999, 2000,\n",
       "       2001, 2002, 2003, 2004, 2005, 2006, 2007, 2008, 2009, 2010], dtype=int64)"
      ]
     },
     "execution_count": 205,
     "metadata": {},
     "output_type": "execute_result"
    }
   ],
   "source": [
    "df_names = pd.concat(namesall, ignore_index=True)\n",
    "df_names['year'].unique()"
   ]
  },
  {
   "cell_type": "code",
   "execution_count": 206,
   "metadata": {
    "collapsed": false
   },
   "outputs": [
    {
     "data": {
      "text/plain": [
       "year  sex\n",
       "1880  F       90993\n",
       "      M      110493\n",
       "1881  F       91955\n",
       "      M      100748\n",
       "1882  F      107851\n",
       "      M      113687\n",
       "1883  F      112322\n",
       "      M      104632\n",
       "1884  F      129021\n",
       "      M      114445\n",
       "Name: births, dtype: int64"
      ]
     },
     "execution_count": 206,
     "metadata": {},
     "output_type": "execute_result"
    }
   ],
   "source": [
    "df_names.groupby(['year', 'sex'])['births'].sum().head(10)"
   ]
  },
  {
   "cell_type": "code",
   "execution_count": 211,
   "metadata": {
    "collapsed": true
   },
   "outputs": [],
   "source": [
    "?df_names.pivot_table"
   ]
  },
  {
   "cell_type": "code",
   "execution_count": 213,
   "metadata": {
    "collapsed": false
   },
   "outputs": [
    {
     "data": {
      "text/html": [
       "<div>\n",
       "<table border=\"1\" class=\"dataframe\">\n",
       "  <thead>\n",
       "    <tr style=\"text-align: right;\">\n",
       "      <th>sex</th>\n",
       "      <th>F</th>\n",
       "      <th>M</th>\n",
       "    </tr>\n",
       "    <tr>\n",
       "      <th>year</th>\n",
       "      <th></th>\n",
       "      <th></th>\n",
       "    </tr>\n",
       "  </thead>\n",
       "  <tbody>\n",
       "    <tr>\n",
       "      <th>1880</th>\n",
       "      <td>90993</td>\n",
       "      <td>110493</td>\n",
       "    </tr>\n",
       "    <tr>\n",
       "      <th>1881</th>\n",
       "      <td>91955</td>\n",
       "      <td>100748</td>\n",
       "    </tr>\n",
       "    <tr>\n",
       "      <th>1882</th>\n",
       "      <td>107851</td>\n",
       "      <td>113687</td>\n",
       "    </tr>\n",
       "    <tr>\n",
       "      <th>1883</th>\n",
       "      <td>112322</td>\n",
       "      <td>104632</td>\n",
       "    </tr>\n",
       "    <tr>\n",
       "      <th>1884</th>\n",
       "      <td>129021</td>\n",
       "      <td>114445</td>\n",
       "    </tr>\n",
       "  </tbody>\n",
       "</table>\n",
       "</div>"
      ],
      "text/plain": [
       "sex        F       M\n",
       "year                \n",
       "1880   90993  110493\n",
       "1881   91955  100748\n",
       "1882  107851  113687\n",
       "1883  112322  104632\n",
       "1884  129021  114445"
      ]
     },
     "execution_count": 213,
     "metadata": {},
     "output_type": "execute_result"
    }
   ],
   "source": [
    "births = df_names.pivot_table('births', index='year', \n",
    "                              columns='sex', aggfunc=sum)\n",
    "births.head(5)\n"
   ]
  },
  {
   "cell_type": "code",
   "execution_count": 214,
   "metadata": {
    "collapsed": false
   },
   "outputs": [
    {
     "name": "stdout",
     "output_type": "stream",
     "text": [
      "Populating the interactive namespace from numpy and matplotlib\n"
     ]
    },
    {
     "name": "stderr",
     "output_type": "stream",
     "text": [
      "WARNING: pylab import has clobbered these variables: ['rec', 'table']\n",
      "`%matplotlib` prevents importing * from pylab and numpy\n"
     ]
    }
   ],
   "source": [
    "%pylab inline"
   ]
  },
  {
   "cell_type": "code",
   "execution_count": 217,
   "metadata": {
    "collapsed": false
   },
   "outputs": [
    {
     "data": {
      "image/png": "[encoded data removed]",
      "text/plain": [
       "<matplotlib.figure.Figure at 0x7318eb8>"
      ]
     },
     "metadata": {},
     "output_type": "display_data"
    }
   ],
   "source": [
    "import matplotlib.pyplot as plt\n",
    "births.plot(title='Total births by sex and year', figsize=(15, 5))\n",
    "savefig('foo.png')\n",
    "plt.show() \n"
   ]
  },
  {
   "cell_type": "code",
   "execution_count": 216,
   "metadata": {
    "collapsed": false
   },
   "outputs": [
    {
     "name": "stdout",
     "output_type": "stream",
     "text": [
      " 磁碟區 C 中的磁碟是 OS 7\n",
      " 磁碟區序號:  C485-A13C\n",
      "\n",
      " C:\\Users\\User\\pyfinance 的目錄\n",
      "\n",
      "2016/03/28  下午 03:41    <DIR>          .\n",
      "2016/03/28  下午 03:41    <DIR>          ..\n",
      "2016/03/28  上午 09:41               826 .gitignore\n",
      "2016/03/28  上午 11:50    <DIR>          .ipynb_checkpoints\n",
      "2016/03/28  下午 03:41            98,558 20160328Demo.ipynb\n",
      "2016/03/27  下午 10:46         1,192,960 finance.sqlite\n",
      "2016/03/28  下午 03:20    <DIR>          names\n",
      "2015/12/31  上午 01:17            30,969 pandas_readhtml.ipynb\n",
      "2016/03/28  下午 12:15           853,469 Python_Crawler.ipynb\n",
      "2016/03/28  上午 09:39                62 README.md\n",
      "               6 個檔案       2,176,844 位元組\n",
      "               4 個目錄  250,070,831,104 位元組可用\n"
     ]
    }
   ],
   "source": [
    "%ls"
   ]
  },
  {
   "cell_type": "code",
   "execution_count": 221,
   "metadata": {
    "collapsed": false
   },
   "outputs": [
    {
     "name": "stdout",
     "output_type": "stream",
     "text": [
      "20160315151537556_M.jpg\n"
     ]
    }
   ],
   "source": [
    "link = 'http://fsv.money01.com.tw/cmstatic/notes/capture/373300/20160315151537556_M.jpg'\n",
    "print link.split('/')[-1]"
   ]
  },
  {
   "cell_type": "code",
   "execution_count": 222,
   "metadata": {
    "collapsed": false,
    "scrolled": true
   },
   "outputs": [],
   "source": [
    "import requests\n",
    "import shutil\n",
    "from bs4 import BeautifulSoup as bs\n",
    "res = requests.get('http://www.cmoney.tw/notes/?aid=3')\n",
    "soup = bs(res.text)\n",
    "for article in soup.select('.p-article'):\n",
    "    image = article.select('img')[0]['src']\n",
    "    filename = image.split('/')[-1]\n",
    "    with open(filename, 'wb') as f:\n",
    "        res2 = requests.get(article.select('img')[0]['src'], stream=True)\n",
    "        shutil.copyfileobj(res2.raw, f)"
   ]
  },
  {
   "cell_type": "code",
   "execution_count": 248,
   "metadata": {
    "collapsed": false
   },
   "outputs": [],
   "source": [
    "import requests\n",
    "import re\n",
    "headers = {\n",
    "    'User-Agent':'Mozilla/5.0 (Windows NT 6.1; WOW64) AppleWebKit/537.36 (KHTML, like Gecko) Chrome/45.0.2454.101 Safari/537.36'\n",
    "}\n",
    "rs = requests.session()\n",
    "res = rs.get('https://www.youtube.com/watch?v=RaT-Fb2fpos', headers = headers)\n"
   ]
  },
  {
   "cell_type": "code",
   "execution_count": 249,
   "metadata": {
    "collapsed": false
   },
   "outputs": [],
   "source": [
    "import json\n",
    "m = re.search('\"args\":({.*?}),', res.text)\n",
    "jd = json.loads(m.group(1))"
   ]
  },
  {
   "cell_type": "code",
   "execution_count": 260,
   "metadata": {
    "collapsed": false,
    "scrolled": true
   },
   "outputs": [
    {
     "name": "stdout",
     "output_type": "stream",
     "text": [
      "https://r2---sn-ipoxu-un5s.googlevideo.com/videoplayback?itag=17&key=yt6&source=youtube&mime=video%2F3gpp&mv=m&signature=ACC52CCE5D5B32D677309FE4B6B27312F6249DC6.42E5950519BDA3FE070FD6C5F866FBD8034B0B35&fexp=9416126%2C9420452%2C9422596%2C9423661%2C9423662%2C9427902&ip=220.128.109.49&ms=au&mn=sn-ipoxu-un5s&pl=21&mm=31&requiressl=yes&dur=291.503&id=o-AH6qhIAI_ycV7NUhT9zltFj0FijtFyeR5waaLw5aox17&sparams=dur%2Cid%2Cinitcwndbps%2Cip%2Cipbits%2Citag%2Clmt%2Cmime%2Cmm%2Cmn%2Cms%2Cmv%2Cpl%2Crequiressl%2Csource%2Cupn%2Cexpire&expire=1459174549&ipbits=0&upn=hkCpVAY5cno&sver=3&lmt=1389195415958551&initcwndbps=2607500&mt=1459152833\n"
     ]
    }
   ],
   "source": [
    "import urlparse\n",
    "stream_map = urlparse.parse_qs(jd[\"url_encoded_fmt_stream_map\"])\n",
    "print stream_map['url'][-1]"
   ]
  },
  {
   "cell_type": "code",
   "execution_count": 261,
   "metadata": {
    "collapsed": false
   },
   "outputs": [],
   "source": [
    "with open('b.mp4', 'wb') as f:\n",
    "    res2 = rs.get(stream_map['url'][-1], stream=True)\n",
    "    shutil.copyfileobj(res2.raw, f)"
   ]
  },
  {
   "cell_type": "code",
   "execution_count": 267,
   "metadata": {
    "collapsed": false
   },
   "outputs": [
    {
     "name": "stdout",
     "output_type": "stream",
     "text": [
      "<type 'list'>\n"
     ]
    },
    {
     "data": {
      "text/html": [
       "<div>\n",
       "<table border=\"1\" class=\"dataframe\">\n",
       "  <thead>\n",
       "    <tr style=\"text-align: right;\">\n",
       "      <th></th>\n",
       "      <th>Month</th>\n",
       "      <th>Savings</th>\n",
       "    </tr>\n",
       "  </thead>\n",
       "  <tbody>\n",
       "    <tr>\n",
       "      <th>0</th>\n",
       "      <td>January</td>\n",
       "      <td>$100</td>\n",
       "    </tr>\n",
       "    <tr>\n",
       "      <th>1</th>\n",
       "      <td>February</td>\n",
       "      <td>$80</td>\n",
       "    </tr>\n",
       "    <tr>\n",
       "      <th>2</th>\n",
       "      <td>Sum</td>\n",
       "      <td>$180</td>\n",
       "    </tr>\n",
       "  </tbody>\n",
       "</table>\n",
       "</div>"
      ],
      "text/plain": [
       "      Month Savings\n",
       "0   January    $100\n",
       "1  February     $80\n",
       "2       Sum    $180"
      ]
     },
     "execution_count": 267,
     "metadata": {},
     "output_type": "execute_result"
    }
   ],
   "source": [
    "table = \"\"\"\n",
    "<table> \n",
    "    <thead> \n",
    "        <tr> \n",
    "        <th>Month</th>  \n",
    "        <th>Savings</th> \n",
    "        </tr> \n",
    "    </thead> \n",
    "    <tbody> \n",
    "        <tr> <td>January</td> <td>$100</td></tr> \n",
    "        <tr> <td>February</td> <td>$80</td></tr> \n",
    "    </tbody> \n",
    "    <tfoot> \n",
    "        <tr> <td>Sum</td> <td>$180</td> </tr> \n",
    "    </tfoot> \n",
    "</table>\n",
    "\"\"\"\n",
    "import pandas as pd\n",
    "df = pd.read_html(table)\n",
    "#?pd.read_html\n",
    "print type(df)\n",
    "df[0]"
   ]
  },
  {
   "cell_type": "code",
   "execution_count": 322,
   "metadata": {
    "collapsed": false
   },
   "outputs": [],
   "source": [
    "import requests\n",
    "from bs4 import BeautifulSoup as bs\n",
    "res = requests.get('https://tw.stock.yahoo.com/q/q?s=2330')\n",
    "\n",
    "soup = bs(res.text)\n",
    "table = soup.select('table + table table')[0]\n"
   ]
  },
  {
   "cell_type": "code",
   "execution_count": 323,
   "metadata": {
    "collapsed": false
   },
   "outputs": [
    {
     "name": "stdout",
     "output_type": "stream",
     "text": [
      "<class 'bs4.element.Tag'>\n"
     ]
    },
    {
     "data": {
      "text/html": [
       "<div>\n",
       "<table border=\"1\" class=\"dataframe\">\n",
       "  <thead>\n",
       "    <tr style=\"text-align: right;\">\n",
       "      <th></th>\n",
       "      <th>0</th>\n",
       "      <th>1</th>\n",
       "      <th>2</th>\n",
       "      <th>3</th>\n",
       "      <th>4</th>\n",
       "      <th>5</th>\n",
       "      <th>6</th>\n",
       "      <th>7</th>\n",
       "      <th>8</th>\n",
       "      <th>9</th>\n",
       "      <th>10</th>\n",
       "      <th>11</th>\n",
       "    </tr>\n",
       "  </thead>\n",
       "  <tbody>\n",
       "    <tr>\n",
       "      <th>0</th>\n",
       "      <td>股票  代號</td>\n",
       "      <td>時間</td>\n",
       "      <td>成交</td>\n",
       "      <td>買進</td>\n",
       "      <td>賣出</td>\n",
       "      <td>漲跌</td>\n",
       "      <td>張數</td>\n",
       "      <td>昨收</td>\n",
       "      <td>開盤</td>\n",
       "      <td>最高</td>\n",
       "      <td>最低</td>\n",
       "      <td>個股資料</td>\n",
       "    </tr>\n",
       "    <tr>\n",
       "      <th>1</th>\n",
       "      <td>2330台積電  加到投資組合</td>\n",
       "      <td>14:30</td>\n",
       "      <td>159.0</td>\n",
       "      <td>158.5</td>\n",
       "      <td>159.0</td>\n",
       "      <td>△1.0</td>\n",
       "      <td>15291</td>\n",
       "      <td>158.0</td>\n",
       "      <td>158.0</td>\n",
       "      <td>159.0</td>\n",
       "      <td>157.0</td>\n",
       "      <td>成交明細  技術  新聞  基本  籌碼  個股健診</td>\n",
       "    </tr>\n",
       "    <tr>\n",
       "      <th>2</th>\n",
       "      <td>凱基證券下單</td>\n",
       "      <td>買  賣  張  零股交易</td>\n",
       "      <td>NaN</td>\n",
       "      <td>NaN</td>\n",
       "      <td>NaN</td>\n",
       "      <td>NaN</td>\n",
       "      <td>NaN</td>\n",
       "      <td>NaN</td>\n",
       "      <td>NaN</td>\n",
       "      <td>NaN</td>\n",
       "      <td>NaN</td>\n",
       "      <td>NaN</td>\n",
       "    </tr>\n",
       "  </tbody>\n",
       "</table>\n",
       "</div>"
      ],
      "text/plain": [
       "                0              1      2      3      4     5      6      7   \\\n",
       "0           股票  代號             時間     成交     買進     賣出    漲跌     張數     昨收   \n",
       "1  2330台積電  加到投資組合          14:30  159.0  158.5  159.0  △1.0  15291  158.0   \n",
       "2           凱基證券下單  買  賣  張  零股交易    NaN    NaN    NaN   NaN    NaN    NaN   \n",
       "\n",
       "      8      9      10                          11  \n",
       "0     開盤     最高     最低                        個股資料  \n",
       "1  158.0  159.0  157.0  成交明細  技術  新聞  基本  籌碼  個股健診  \n",
       "2    NaN    NaN    NaN                         NaN  "
      ]
     },
     "execution_count": 323,
     "metadata": {},
     "output_type": "execute_result"
    }
   ],
   "source": [
    "import pandas as pd\n",
    "print type(table)\n",
    "\n",
    "dfs = pd.read_html(table.prettify('utf-8'), encoding= 'utf-8')\n",
    "dfs[0]"
   ]
  },
  {
   "cell_type": "code",
   "execution_count": 330,
   "metadata": {
    "collapsed": false
   },
   "outputs": [
    {
     "data": {
      "text/html": [
       "<div>\n",
       "<table border=\"1\" class=\"dataframe\">\n",
       "  <thead>\n",
       "    <tr style=\"text-align: right;\">\n",
       "      <th></th>\n",
       "      <th>股票  代號</th>\n",
       "      <th>時間</th>\n",
       "      <th>成交</th>\n",
       "      <th>買進</th>\n",
       "      <th>賣出</th>\n",
       "      <th>漲跌</th>\n",
       "      <th>張數</th>\n",
       "      <th>昨收</th>\n",
       "      <th>開盤</th>\n",
       "      <th>最高</th>\n",
       "      <th>最低</th>\n",
       "      <th>個股資料</th>\n",
       "    </tr>\n",
       "  </thead>\n",
       "  <tbody>\n",
       "    <tr>\n",
       "      <th>0</th>\n",
       "      <td>1102亞泥  加到投資組合</td>\n",
       "      <td>14:30</td>\n",
       "      <td>29.35</td>\n",
       "      <td>29.35</td>\n",
       "      <td>29.4</td>\n",
       "      <td>▽0.55</td>\n",
       "      <td>1939</td>\n",
       "      <td>29.9</td>\n",
       "      <td>29.5</td>\n",
       "      <td>29.55</td>\n",
       "      <td>29.25</td>\n",
       "      <td>成交明細  技術  新聞  基本  籌碼  個股健診</td>\n",
       "    </tr>\n",
       "  </tbody>\n",
       "</table>\n",
       "</div>"
      ],
      "text/plain": [
       "           股票  代號     時間     成交     買進    賣出     漲跌    張數    昨收    開盤     最高  \\\n",
       "0  1102亞泥  加到投資組合  14:30  29.35  29.35  29.4  ▽0.55  1939  29.9  29.5  29.55   \n",
       "\n",
       "      最低                        個股資料  \n",
       "0  29.25  成交明細  技術  新聞  基本  籌碼  個股健診  "
      ]
     },
     "execution_count": 330,
     "metadata": {},
     "output_type": "execute_result"
    }
   ],
   "source": [
    "dfs = pd.read_html(table.prettify('utf-8'), encoding= 'utf-8', header=0)\n",
    "dfs = dfs[0].drop(1)\n",
    "dfs"
   ]
  },
  {
   "cell_type": "code",
   "execution_count": 289,
   "metadata": {
    "collapsed": false
   },
   "outputs": [
    {
     "data": {
      "text/plain": [
       "159.0"
      ]
     },
     "execution_count": 289,
     "metadata": {},
     "output_type": "execute_result"
    }
   ],
   "source": [
    "dfs[0]['成交'.decode('utf-8')][0]"
   ]
  },
  {
   "cell_type": "code",
   "execution_count": 295,
   "metadata": {
    "collapsed": false
   },
   "outputs": [
    {
     "data": {
      "text/plain": [
       "股票  代號               2330台積電  加到投資組合\n",
       "時間                             14:30\n",
       "成交                               159\n",
       "買進                             158.5\n",
       "賣出                               159\n",
       "漲跌                              △1.0\n",
       "張數                             15291\n",
       "昨收                               158\n",
       "開盤                               158\n",
       "最高                               159\n",
       "最低                               157\n",
       "個股資料      成交明細  技術  新聞  基本  籌碼  個股健診\n",
       "Name: 0, dtype: object"
      ]
     },
     "execution_count": 295,
     "metadata": {},
     "output_type": "execute_result"
    }
   ],
   "source": [
    "dfs[0].ix[0]"
   ]
  },
  {
   "cell_type": "code",
   "execution_count": 313,
   "metadata": {
    "collapsed": true
   },
   "outputs": [],
   "source": [
    "import pandas as pd\n",
    "dfs = pd.read_html('https://tw.stock.yahoo.com/q/q?s=2330', header=0)"
   ]
  },
  {
   "cell_type": "code",
   "execution_count": 315,
   "metadata": {
    "collapsed": false
   },
   "outputs": [
    {
     "data": {
      "text/html": [
       "<div>\n",
       "<table border=\"1\" class=\"dataframe\">\n",
       "  <thead>\n",
       "    <tr style=\"text-align: right;\">\n",
       "      <th></th>\n",
       "      <th>股票代號  時間  成交  買進  賣出  漲跌  張數  昨收  開盤  最高  最低  個股資料  2330台積電加到投資組合  14:30  159.0  158.5  159.0  △1.0  15,291  158.0  158.0  159.0  157.0  成交明細技術　新聞基本　籌碼個股健診 凱基證券下單  買  賣  張 零股交易</th>\n",
       "      <th>股票代號</th>\n",
       "      <th>時間</th>\n",
       "      <th>成交</th>\n",
       "      <th>買進</th>\n",
       "      <th>賣出</th>\n",
       "      <th>漲跌</th>\n",
       "      <th>張數</th>\n",
       "      <th>昨收</th>\n",
       "      <th>開盤</th>\n",
       "      <th>...</th>\n",
       "      <th>159.0.1</th>\n",
       "      <th>△1.0</th>\n",
       "      <th>15,291</th>\n",
       "      <th>158.0</th>\n",
       "      <th>158.0.1</th>\n",
       "      <th>159.0.2</th>\n",
       "      <th>157.0</th>\n",
       "      <th>成交明細技術　新聞基本　籌碼個股健診</th>\n",
       "      <th>凱基證券下單</th>\n",
       "      <th>買  賣  張 零股交易</th>\n",
       "    </tr>\n",
       "  </thead>\n",
       "  <tbody>\n",
       "    <tr>\n",
       "      <th>0</th>\n",
       "      <td>股票代號</td>\n",
       "      <td>時間</td>\n",
       "      <td>成交</td>\n",
       "      <td>買進</td>\n",
       "      <td>賣出</td>\n",
       "      <td>漲跌</td>\n",
       "      <td>張數</td>\n",
       "      <td>昨收</td>\n",
       "      <td>開盤</td>\n",
       "      <td>最高</td>\n",
       "      <td>...</td>\n",
       "      <td>NaN</td>\n",
       "      <td>NaN</td>\n",
       "      <td>NaN</td>\n",
       "      <td>NaN</td>\n",
       "      <td>NaN</td>\n",
       "      <td>NaN</td>\n",
       "      <td>NaN</td>\n",
       "      <td>NaN</td>\n",
       "      <td>NaN</td>\n",
       "      <td>NaN</td>\n",
       "    </tr>\n",
       "    <tr>\n",
       "      <th>1</th>\n",
       "      <td>2330台積電加到投資組合</td>\n",
       "      <td>14:30</td>\n",
       "      <td>159.0</td>\n",
       "      <td>158.5</td>\n",
       "      <td>159.0</td>\n",
       "      <td>△1.0</td>\n",
       "      <td>15291</td>\n",
       "      <td>158.0</td>\n",
       "      <td>158.0</td>\n",
       "      <td>159.0</td>\n",
       "      <td>...</td>\n",
       "      <td>NaN</td>\n",
       "      <td>NaN</td>\n",
       "      <td>NaN</td>\n",
       "      <td>NaN</td>\n",
       "      <td>NaN</td>\n",
       "      <td>NaN</td>\n",
       "      <td>NaN</td>\n",
       "      <td>NaN</td>\n",
       "      <td>NaN</td>\n",
       "      <td>NaN</td>\n",
       "    </tr>\n",
       "    <tr>\n",
       "      <th>2</th>\n",
       "      <td>凱基證券下單</td>\n",
       "      <td>買  賣  張 零股交易</td>\n",
       "      <td>NaN</td>\n",
       "      <td>NaN</td>\n",
       "      <td>NaN</td>\n",
       "      <td>NaN</td>\n",
       "      <td>NaN</td>\n",
       "      <td>NaN</td>\n",
       "      <td>NaN</td>\n",
       "      <td>NaN</td>\n",
       "      <td>...</td>\n",
       "      <td>NaN</td>\n",
       "      <td>NaN</td>\n",
       "      <td>NaN</td>\n",
       "      <td>NaN</td>\n",
       "      <td>NaN</td>\n",
       "      <td>NaN</td>\n",
       "      <td>NaN</td>\n",
       "      <td>NaN</td>\n",
       "      <td>NaN</td>\n",
       "      <td>NaN</td>\n",
       "    </tr>\n",
       "  </tbody>\n",
       "</table>\n",
       "<p>3 rows × 27 columns</p>\n",
       "</div>"
      ],
      "text/plain": [
       "  股票代號  時間  成交  買進  賣出  漲跌  張數  昨收  開盤  最高  最低  個股資料  2330台積電加到投資組合  14:30  159.0  158.5  159.0  △1.0  15,291  158.0  158.0  159.0  157.0  成交明細技術　新聞基本　籌碼個股健診 凱基證券下單  買  賣  張 零股交易  \\\n",
       "0                                               股票代號                                                                                                                                 \n",
       "1                                      2330台積電加到投資組合                                                                                                                                 \n",
       "2                                             凱基證券下單                                                                                                                                 \n",
       "\n",
       "           股票代號     時間     成交     買進    賣出     漲跌     張數     昨收     開盤  \\\n",
       "0            時間     成交     買進     賣出    漲跌     張數     昨收     開盤     最高   \n",
       "1         14:30  159.0  158.5  159.0  △1.0  15291  158.0  158.0  159.0   \n",
       "2  買  賣  張 零股交易    NaN    NaN    NaN   NaN    NaN    NaN    NaN    NaN   \n",
       "\n",
       "       ...      159.0.1 △1.0  15,291  158.0  158.0.1  159.0.2  157.0  \\\n",
       "0      ...          NaN  NaN     NaN    NaN      NaN      NaN    NaN   \n",
       "1      ...          NaN  NaN     NaN    NaN      NaN      NaN    NaN   \n",
       "2      ...          NaN  NaN     NaN    NaN      NaN      NaN    NaN   \n",
       "\n",
       "   成交明細技術　新聞基本　籌碼個股健診  凱基證券下單  買  賣  張 零股交易  \n",
       "0                 NaN     NaN           NaN  \n",
       "1                 NaN     NaN           NaN  \n",
       "2                 NaN     NaN           NaN  \n",
       "\n",
       "[3 rows x 27 columns]"
      ]
     },
     "execution_count": 315,
     "metadata": {},
     "output_type": "execute_result"
    }
   ],
   "source": [
    "dfs[5]"
   ]
  },
  {
   "cell_type": "code",
   "execution_count": 338,
   "metadata": {
    "collapsed": false
   },
   "outputs": [],
   "source": [
    "import requests\n",
    "from bs4 import BeautifulSoup as bs\n",
    "import pandas as pd\n",
    "codes = ['1101', '2330', '1102', '2325', '5478']\n",
    "dfsall = []\n",
    "\n",
    "for code in codes:\n",
    "    res = requests.get('https://tw.stock.yahoo.com/q/q?s={}'.format(code))\n",
    "    soup = bs(res.text)\n",
    "    table = soup.select('table + table table')[0]\n",
    "    dfs = pd.read_html(table.prettify('utf-8'), encoding= 'utf-8', header=0)\n",
    "    dfs = dfs[0].drop(1)    \n",
    "    #print dfs\n",
    "    dfsall.append(dfs)"
   ]
  },
  {
   "cell_type": "code",
   "execution_count": 339,
   "metadata": {
    "collapsed": false
   },
   "outputs": [
    {
     "data": {
      "text/html": [
       "<div>\n",
       "<table border=\"1\" class=\"dataframe\">\n",
       "  <thead>\n",
       "    <tr style=\"text-align: right;\">\n",
       "      <th></th>\n",
       "      <th>股票  代號</th>\n",
       "      <th>時間</th>\n",
       "      <th>成交</th>\n",
       "      <th>買進</th>\n",
       "      <th>賣出</th>\n",
       "      <th>漲跌</th>\n",
       "      <th>張數</th>\n",
       "      <th>昨收</th>\n",
       "      <th>開盤</th>\n",
       "      <th>最高</th>\n",
       "      <th>最低</th>\n",
       "      <th>個股資料</th>\n",
       "    </tr>\n",
       "  </thead>\n",
       "  <tbody>\n",
       "    <tr>\n",
       "      <th>0</th>\n",
       "      <td>1101台泥  加到投資組合</td>\n",
       "      <td>14:30</td>\n",
       "      <td>31.35</td>\n",
       "      <td>31.35</td>\n",
       "      <td>31.4</td>\n",
       "      <td>△0.05</td>\n",
       "      <td>3280</td>\n",
       "      <td>31.3</td>\n",
       "      <td>31.2</td>\n",
       "      <td>31.40</td>\n",
       "      <td>30.90</td>\n",
       "      <td>成交明細  技術  新聞  基本  籌碼  個股健診</td>\n",
       "    </tr>\n",
       "    <tr>\n",
       "      <th>1</th>\n",
       "      <td>2330台積電  加到投資組合</td>\n",
       "      <td>14:30</td>\n",
       "      <td>159.00</td>\n",
       "      <td>158.50</td>\n",
       "      <td>159.0</td>\n",
       "      <td>△1.0</td>\n",
       "      <td>15291</td>\n",
       "      <td>158.0</td>\n",
       "      <td>158.0</td>\n",
       "      <td>159.00</td>\n",
       "      <td>157.00</td>\n",
       "      <td>成交明細  技術  新聞  基本  籌碼  個股健診</td>\n",
       "    </tr>\n",
       "    <tr>\n",
       "      <th>2</th>\n",
       "      <td>1102亞泥  加到投資組合</td>\n",
       "      <td>14:30</td>\n",
       "      <td>29.35</td>\n",
       "      <td>29.35</td>\n",
       "      <td>29.4</td>\n",
       "      <td>▽0.55</td>\n",
       "      <td>1939</td>\n",
       "      <td>29.9</td>\n",
       "      <td>29.5</td>\n",
       "      <td>29.55</td>\n",
       "      <td>29.25</td>\n",
       "      <td>成交明細  技術  新聞  基本  籌碼  個股健診</td>\n",
       "    </tr>\n",
       "    <tr>\n",
       "      <th>3</th>\n",
       "      <td>2325矽品  加到投資組合</td>\n",
       "      <td>14:30</td>\n",
       "      <td>52.60</td>\n",
       "      <td>52.50</td>\n",
       "      <td>52.6</td>\n",
       "      <td>▽0.1</td>\n",
       "      <td>15818</td>\n",
       "      <td>52.7</td>\n",
       "      <td>52.0</td>\n",
       "      <td>52.70</td>\n",
       "      <td>51.50</td>\n",
       "      <td>成交明細  技術  新聞  基本  籌碼  個股健診</td>\n",
       "    </tr>\n",
       "    <tr>\n",
       "      <th>4</th>\n",
       "      <td>5478智冠  加到投資組合</td>\n",
       "      <td>14:30</td>\n",
       "      <td>70.00</td>\n",
       "      <td>70.00</td>\n",
       "      <td>70.1</td>\n",
       "      <td>▽1.1</td>\n",
       "      <td>550</td>\n",
       "      <td>71.1</td>\n",
       "      <td>71.2</td>\n",
       "      <td>71.30</td>\n",
       "      <td>69.90</td>\n",
       "      <td>成交明細  技術  新聞  基本  籌碼  個股健診</td>\n",
       "    </tr>\n",
       "  </tbody>\n",
       "</table>\n",
       "</div>"
      ],
      "text/plain": [
       "            股票  代號     時間      成交      買進     賣出     漲跌     張數     昨收     開盤  \\\n",
       "0   1101台泥  加到投資組合  14:30   31.35   31.35   31.4  △0.05   3280   31.3   31.2   \n",
       "1  2330台積電  加到投資組合  14:30  159.00  158.50  159.0   △1.0  15291  158.0  158.0   \n",
       "2   1102亞泥  加到投資組合  14:30   29.35   29.35   29.4  ▽0.55   1939   29.9   29.5   \n",
       "3   2325矽品  加到投資組合  14:30   52.60   52.50   52.6   ▽0.1  15818   52.7   52.0   \n",
       "4   5478智冠  加到投資組合  14:30   70.00   70.00   70.1   ▽1.1    550   71.1   71.2   \n",
       "\n",
       "       最高      最低                        個股資料  \n",
       "0   31.40   30.90  成交明細  技術  新聞  基本  籌碼  個股健診  \n",
       "1  159.00  157.00  成交明細  技術  新聞  基本  籌碼  個股健診  \n",
       "2   29.55   29.25  成交明細  技術  新聞  基本  籌碼  個股健診  \n",
       "3   52.70   51.50  成交明細  技術  新聞  基本  籌碼  個股健診  \n",
       "4   71.30   69.90  成交明細  技術  新聞  基本  籌碼  個股健診  "
      ]
     },
     "execution_count": 339,
     "metadata": {},
     "output_type": "execute_result"
    }
   ],
   "source": [
    "stocks = pd.concat(dfsall, ignore_index=True)\n",
    "stocks"
   ]
  },
  {
   "cell_type": "code",
   "execution_count": 340,
   "metadata": {
    "collapsed": false,
    "scrolled": true
   },
   "outputs": [
    {
     "data": {
      "text/html": [
       "<div>\n",
       "<table border=\"1\" class=\"dataframe\">\n",
       "  <thead>\n",
       "    <tr style=\"text-align: right;\">\n",
       "      <th></th>\n",
       "      <th>成交</th>\n",
       "      <th>買進</th>\n",
       "      <th>賣出</th>\n",
       "      <th>張數</th>\n",
       "      <th>昨收</th>\n",
       "      <th>開盤</th>\n",
       "      <th>最高</th>\n",
       "      <th>最低</th>\n",
       "    </tr>\n",
       "  </thead>\n",
       "  <tbody>\n",
       "    <tr>\n",
       "      <th>count</th>\n",
       "      <td>5.000000</td>\n",
       "      <td>5.000000</td>\n",
       "      <td>5.000000</td>\n",
       "      <td>5.000000</td>\n",
       "      <td>5.000000</td>\n",
       "      <td>5.000000</td>\n",
       "      <td>5.000000</td>\n",
       "      <td>5.000000</td>\n",
       "    </tr>\n",
       "    <tr>\n",
       "      <th>mean</th>\n",
       "      <td>68.460000</td>\n",
       "      <td>68.340000</td>\n",
       "      <td>68.500000</td>\n",
       "      <td>7375.600000</td>\n",
       "      <td>68.600000</td>\n",
       "      <td>68.380000</td>\n",
       "      <td>68.790000</td>\n",
       "      <td>67.710000</td>\n",
       "    </tr>\n",
       "    <tr>\n",
       "      <th>std</th>\n",
       "      <td>53.287304</td>\n",
       "      <td>53.082405</td>\n",
       "      <td>53.270161</td>\n",
       "      <td>7530.721234</td>\n",
       "      <td>52.774047</td>\n",
       "      <td>52.919769</td>\n",
       "      <td>53.246648</td>\n",
       "      <td>52.617516</td>\n",
       "    </tr>\n",
       "    <tr>\n",
       "      <th>min</th>\n",
       "      <td>29.350000</td>\n",
       "      <td>29.350000</td>\n",
       "      <td>29.400000</td>\n",
       "      <td>550.000000</td>\n",
       "      <td>29.900000</td>\n",
       "      <td>29.500000</td>\n",
       "      <td>29.550000</td>\n",
       "      <td>29.250000</td>\n",
       "    </tr>\n",
       "    <tr>\n",
       "      <th>25%</th>\n",
       "      <td>31.350000</td>\n",
       "      <td>31.350000</td>\n",
       "      <td>31.400000</td>\n",
       "      <td>1939.000000</td>\n",
       "      <td>31.300000</td>\n",
       "      <td>31.200000</td>\n",
       "      <td>31.400000</td>\n",
       "      <td>30.900000</td>\n",
       "    </tr>\n",
       "    <tr>\n",
       "      <th>50%</th>\n",
       "      <td>52.600000</td>\n",
       "      <td>52.500000</td>\n",
       "      <td>52.600000</td>\n",
       "      <td>3280.000000</td>\n",
       "      <td>52.700000</td>\n",
       "      <td>52.000000</td>\n",
       "      <td>52.700000</td>\n",
       "      <td>51.500000</td>\n",
       "    </tr>\n",
       "    <tr>\n",
       "      <th>75%</th>\n",
       "      <td>70.000000</td>\n",
       "      <td>70.000000</td>\n",
       "      <td>70.100000</td>\n",
       "      <td>15291.000000</td>\n",
       "      <td>71.100000</td>\n",
       "      <td>71.200000</td>\n",
       "      <td>71.300000</td>\n",
       "      <td>69.900000</td>\n",
       "    </tr>\n",
       "    <tr>\n",
       "      <th>max</th>\n",
       "      <td>159.000000</td>\n",
       "      <td>158.500000</td>\n",
       "      <td>159.000000</td>\n",
       "      <td>15818.000000</td>\n",
       "      <td>158.000000</td>\n",
       "      <td>158.000000</td>\n",
       "      <td>159.000000</td>\n",
       "      <td>157.000000</td>\n",
       "    </tr>\n",
       "  </tbody>\n",
       "</table>\n",
       "</div>"
      ],
      "text/plain": [
       "               成交          買進          賣出            張數          昨收  \\\n",
       "count    5.000000    5.000000    5.000000      5.000000    5.000000   \n",
       "mean    68.460000   68.340000   68.500000   7375.600000   68.600000   \n",
       "std     53.287304   53.082405   53.270161   7530.721234   52.774047   \n",
       "min     29.350000   29.350000   29.400000    550.000000   29.900000   \n",
       "25%     31.350000   31.350000   31.400000   1939.000000   31.300000   \n",
       "50%     52.600000   52.500000   52.600000   3280.000000   52.700000   \n",
       "75%     70.000000   70.000000   70.100000  15291.000000   71.100000   \n",
       "max    159.000000  158.500000  159.000000  15818.000000  158.000000   \n",
       "\n",
       "               開盤          最高          最低  \n",
       "count    5.000000    5.000000    5.000000  \n",
       "mean    68.380000   68.790000   67.710000  \n",
       "std     52.919769   53.246648   52.617516  \n",
       "min     29.500000   29.550000   29.250000  \n",
       "25%     31.200000   31.400000   30.900000  \n",
       "50%     52.000000   52.700000   51.500000  \n",
       "75%     71.200000   71.300000   69.900000  \n",
       "max    158.000000  159.000000  157.000000  "
      ]
     },
     "execution_count": 340,
     "metadata": {},
     "output_type": "execute_result"
    }
   ],
   "source": [
    "stocks.describe()"
   ]
  },
  {
   "cell_type": "code",
   "execution_count": 418,
   "metadata": {
    "collapsed": false
   },
   "outputs": [
    {
     "name": "stdout",
     "output_type": "stream",
     "text": [
      "<!DOCTYPE html PUBLIC \"-//W3C//DTD XHTML 1.0 Transitional//EN\" \"http://www.w3.org/TR/xhtml1/DTD/xhtml1-transitional.dtd\">\n",
      "<html lang=\"zh-TW\" xml:lang=\"zh-TW\" xmlns=\"http://www.w3.org/1999/xhtml\"><head>\n",
      "<meta content=\"text/html; charset=utf-8\" http-equiv=\"Content-Type\"/>\n",
      "<title>數位視野 [DCView 二手市場區]</title>\n",
      "<link href=\"../css/ad.css\" rel=\"stylesheet\" type=\"text/css\"/>\n",
      "<link href=\"../css/layout.css\" rel=\"stylesheet\" type=\"text/css\"/>\n",
      "<link href=\"../css/style.css\" rel=\"stylesheet\" type=\"text/css\"/>\n",
      "<link href=\"../css/nav.css\" rel=\"stylesheet\" type=\"text/css\"/>\n",
      "<link href=\"../css/content-double.css\" rel=\"stylesheet\" type=\"text/css\"/>\n",
      "<link href=\"/dcview_newtemplate.css\" rel=\"stylesheet\" type=\"text/css\"/>\n",
      "<script src=\"http://pagead2.googlesyndication.com/pub-config/r20160212/ca-pub-3464838274425848.js\"></script><script src=\"../j/jquery-1.3.2.min.js\" type=\"text/javascript\"></script>\n",
      "<script src=\"../j/tabber.js\" type=\"text/javascript\"></script>\n",
      "<script language=\"JavaScript\">\n",
      "var timeout       = 500;\n",
      "var closetimer    = 0;\n",
      "var ddmenuitem    = 0;\n",
      "function mopen(id)\n",
      "{\n",
      "    mcancelclosetime();\n",
      "    if(ddmenuitem) ddmenuitem.style.visibility = 'hidden';\n",
      "    ddmenuitem = document.getElementById(id);\n",
      "    ddmenuitem.style.visibility = 'visible';\n",
      "\n",
      "}\n",
      "function mclose()\n",
      "{\n",
      "    if(ddmenuitem) ddmenuitem.style.visibility = 'hidden';\n",
      "}\n",
      "function mclosetime()\n",
      "{\n",
      "    closetimer = window.setTimeout(mclose, timeout);\n",
      "}\n",
      "function mcancelclosetime()\n",
      "{\n",
      "    if(closetimer)\n",
      "    {\n",
      "        window.clearTimeout(closetimer);\n",
      "        closetimer = null;\n",
      "    }\n",
      "}\n",
      "document.onclick = mclose;\n",
      "\n",
      "$(function() {\n",
      "\t$('#footer #nav ul li.more').mouseover(function() {\n",
      "\t\t$('#footer #nav .nav-more').show();\n",
      "\t}).mouseout(function() {\n",
      "\t\t$('#footer #nav .nav-more').hide();\n",
      "\t});\n",
      "});\n",
      "</script>\n",
      "</head>\n",
      "<body bgcolor=\"#FFFFFF\" leftmargin=\"0\" marginheight=\"0\" marginwidth=\"0\" topmargin=\"0\">\n",
      "<center>\n",
      "<script language=\"JavaScript\">\n",
      "function chk_search() { \n",
      "\tif (document.siteSearchForm.scbar_txt.value.length&lt;1) { \n",
      "\t\talert(\"需輸入搜尋字串!!\"); \n",
      "\t\treturn false; \n",
      "\t} \n",
      "\t$('#kw').val($('#scbar_txt').val());\n",
      "\t$('#searchkey').val($('#scbar_txt').val());\n",
      "\t$('#siteSearchForm').submit();\n",
      "\treturn false; \n",
      "}\n",
      "\n",
      "$(function(){\n",
      "\t$('#scbar_type').val(1);\n",
      "\t$('#scbar_txt').val('');\n",
      "\t$('#scbar_type').change(function(){\n",
      "\t\tswitch($('#scbar_type').val()){\n",
      "\t\t\tcase '1':\n",
      "\t\t\t\t$('#siteSearchForm').attr('action','http://gallery.dcview.com/result.php');\n",
      "\t\t\t\tbreak;\n",
      "\t\t\tcase '2':\n",
      "\t\t\t\t$('#siteSearchForm').attr('action','http://tw.dcview.com/search.php');\n",
      "\t\t\t\tbreak;\n",
      "\t\t}\n",
      "\t});\n",
      "\t$('#scbar_btn').click(function(){\n",
      "\t\t$('#kw').val($('#scbar_txt').val());\n",
      "\t\t$('#searchkey').val($('#scbar_txt').val());\n",
      "\t\t$('#siteSearchForm').submit();\n",
      "\t\treturn false; \n",
      "\t});\n",
      "});\n",
      "\n",
      "function MM_openBrWindow(theURL,winName,features) { window.open(theURL,winName,features); }\n",
      "\n",
      "function MM_preloadImages() { //v3.0\n",
      "  var d=document; if(d.images){ if(!d.MM_p) d.MM_p=new Array();\n",
      "    var i,j=d.MM_p.length,a=MM_preloadImages.arguments; for(i=0; i&lt;a.length; i++)\n",
      "    if (a[i].indexOf(\"#\")!=0){ d.MM_p[j]=new Image; d.MM_p[j++].src=a[i];}}\n",
      "}\n",
      "\n",
      "function MM_swapImgRestore() { //v3.0\n",
      "  var i,x,a=document.MM_sr; for(i=0;a&amp;&amp;i&lt;a.length&amp;&amp;(x=a[i])&amp;&amp;x.oSrc;i++) x.src=x.oSrc;\n",
      "}\n",
      "\n",
      "function MM_findObj(n, d) { //v4.01\n",
      "  var p,i,x;  if(!d) d=document; if((p=n.indexOf(\"?\"))&gt;0&amp;&amp;parent.frames.length) {\n",
      "    d=parent.frames[n.substring(p+1)].document; n=n.substring(0,p);}\n",
      "  if(!(x=d[n])&amp;&amp;d.all) x=d.all[n]; for (i=0;!x&amp;&amp;i&lt;d.forms.length;i++) x=d.forms[i][n];\n",
      "  for(i=0;!x&amp;&amp;d.layers&amp;&amp;i&lt;d.layers.length;i++) x=MM_findObj(n,d.layers[i].document);\n",
      "  if(!x &amp;&amp; d.getElementById) x=d.getElementById(n); return x;\n",
      "}\n",
      "\n",
      "function MM_swapImage() { //v3.0\n",
      "  var i,j=0,x,a=MM_swapImage.arguments; document.MM_sr=new Array; for(i=0;i&lt;(a.length-2);i+=3)\n",
      "   if ((x=MM_findObj(a[i]))!=null){document.MM_sr[j++]=x; if(!x.oSrc) x.oSrc=x.src; x.src=a[i+2];}\n",
      "}\n",
      "</script>\n",
      "<link href=\"/images/homecss.css\" rel=\"stylesheet\" type=\"text/css\"/>\n",
      "<script language=\"JavaScript\">\n",
      "MM_preloadImages('/images/menu_r1_c1-1.gif','/images/menu_r1_c3-1.gif','/images/menu_r1_c5-1.gif','/images/menu_r1_c7-1.gif','/images/menu_r1_c9-1.gif','/images/menu_r1_c11-1.gif','/images/menu_r1_c13-1.gif','/images/menu_r1_c14-1.gif','/images/menu_r1_c15-1.gif','/images/menu_r1_c16-1.gif','/images/menu_r2_c2-1.gif','/images/menu_r2_c4-1.gif','/images/menu_r2_c6-1.gif','/images/menu_r2_c8-1.gif','/images/menu_r2_c10-1.gif','/images/menu_r2_c12-1.gif','/images/home_icon-1.gif')\n",
      "</script>\n",
      "<!--<table width=\"1000\" border=\"0\" align=\"center\" cellpadding=\"0\" cellspacing=\"0\">\n",
      "<tr><td background=\"/images/_top_bg.gif\">\n",
      "  <table width=\"100%\" border=\"0\" cellspacing=\"0\" cellpadding=\"0\">\n",
      "  <tr><td width=160><A href=\"http://www.dcview.com/\"><img src=\"/images/_dc_logo_190x70.gif\" border=\"0\" height=\"70\" width=\"190\"></a></td>\n",
      "  <td><div align=\"center\">\n",
      "  \n",
      "  <script type=\"text/javascript\" src=\"http://ad.dcview.com/index.php?id=46&chr=Big5\"></script>\n",
      "  </div></td>\n",
      "  <td nowrap align=left valign=\"middle\" width=110><span style='FONT-SIZE: 12px; COLOR: #666666; FONT-FAMILY: \"Arial\",\"Verdana\", \"sans-serif\"'>\n",
      "  註冊: 792181 人\n",
      "  </span>\n",
      "  </div></td></tr>\n",
      " </table>\n",
      "</td></tr>\n",
      "</table>\n",
      "\n",
      "<table width=\"1000\" border=\"0\" align=\"center\" cellpadding=\"0\" cellspacing=\"0\">\n",
      "  <tr><td><a  href='http://forum.dcview.com' onMouseOver=MM_swapImage('memu01','','/images/menu_r1_c1-1.gif',1) onMouseOut=MM_swapImgRestore()><img src=/images/menu_r1_c1.gif border=0 name=memu01 id=memu01></a><a  href='http://blog.dcview.com' onMouseOver=MM_swapImage('memu02','','/images/menu_r1_c2-1.gif',1) onMouseOut=MM_swapImgRestore()><img src=/images/menu_r1_c2.gif border=0 name=memu02 id=memu02></a><a  href='http://gallery.dcview.com/' onMouseOver=MM_swapImage('memu03','','/images/menu_r1_c3-1.gif',1) onMouseOut=MM_swapImgRestore()><img src=/images/menu_r1_c3.gif border=0 name=memu03 id=memu03></a><a  href='http://article.dcview.com/' onMouseOver=MM_swapImage('memu04','','/images/menu_r1_c5-1.gif',1) onMouseOut=MM_swapImgRestore()><img src=/images/menu_r1_c5.gif border=0 name=memu04 id=memu04></a><a  href='/my/default.asp' onMouseOver=MM_swapImage('memu05','','/images/menu_r1_c15-1.gif',1) onMouseOut=MM_swapImgRestore()><img src=/images/menu_r1_c15.gif border=0 name=memu05 id=memu05></a><a  target=_blank href='/guide.asp' onMouseOver=MM_swapImage('memu06','','/images/menu_r1_c7-1.gif',1) onMouseOut=MM_swapImgRestore()><img src=/images/menu_r1_c7.gif border=0 name=memu06 id=memu06></a><a  href='http://tw.dcview.com/spec/' onMouseOver=MM_swapImage('memu07','','/images/menu_r1_c9-1.gif',1) onMouseOut=MM_swapImgRestore()><img src=/images/menu_r1_c9.gif border=0 name=memu07 id=memu07></a><a  href='/member/' onMouseOver=MM_swapImage('memu08','','/images/menu_r1_c13-1.gif',1) onMouseOut=MM_swapImgRestore()><img src=/images/menu_r1_c13.gif border=0 name=memu08 id=memu08></a><a  href='/dcbid/flealist.asp' onMouseOver=MM_swapImage('memu09','','/images/menu_r1_c14-1.gif',1) onMouseOut=MM_swapImgRestore()><img src=/images/menu_r1_c14-1.gif border=0 name=memu09 id=memu09></a><a  href='#' onMouseOver=MM_swapImage('memu10','','/images/menu_r1_c102-1.gif',1) onMouseOut=MM_swapImgRestore()><img src=/images/menu_r1_c102.gif border=0 name=memu10 id=memu10></a></td>\n",
      "  </tr>\n",
      "  <tr><td>\n",
      "\t<table width=\"1000\" border=\"0\" cellspacing=\"0\" cellpadding=\"0\">\n",
      "\t\t<tr><td><a  href='http://phototour.dcview.com/' onMouseOver=MM_swapImage('memu11','','/images/menu_r2_c30-1.gif',1) onMouseOut=MM_swapImgRestore()><img src=/images/menu_r2_c30.gif border=0 name=memu11 id=memu11></a><a  href='http://ishot.dcview.com/' onMouseOver=MM_swapImage('memu12','','/images/menu_r2_c21-1.gif',1) onMouseOut=MM_swapImgRestore()><img src=/images/menu_r2_c21.gif border=0 name=memu12 id=memu12></a><a  href='http://www.dcview.com/dvphone/' onMouseOver=MM_swapImage('memu13','','/images/menu_r2_c18-1.gif',1) onMouseOut=MM_swapImgRestore()><img src=/images/menu_r2_c18.gif border=0 name=memu13 id=memu13></a><a  href='/activity/index.asp' onMouseOver=MM_swapImage('memu14','','/images/menu_r2_c10-1.gif',1) onMouseOut=MM_swapImgRestore()><img src=/images/menu_r2_c10.gif border=0 name=memu14 id=memu14></a><a  href='http://library.dcview.com/' onMouseOver=MM_swapImage('memu15','','/images/menu_r2_c5-1.gif',1) onMouseOut=MM_swapImgRestore()><img src=/images/menu_r2_c5.gif border=0 name=memu15 id=memu15></a></td>\t\t\n",
      "  <td width=\"431\" background=\"/images/menu_bg.gif\"><table border=\"0\" align=\"right\" cellpadding=\"0\" cellspacing=\"0\">\n",
      "  <tr> \n",
      "  \n",
      "        <td width=\"144\"><div align=\"right\"><a href='/member/login.asp?last=http%3A%2F%2Fwww%2Edcview%2Ecom%2Etw%2Fdcbid%2Ffleamsg%2Easp%3Fmsgid%3D826938%26posit%3D4'><img src=\"/images/meb_login.gif\" width=\"69\" height=\"20\" border=\"0\"></a></div></td>\n",
      "        <td width=\"70\"><div align=\"right\"><a href=\"http://member.dcview.com/tos.php\"><img src=\"/images/meb_add.gif\" width=\"69\" height=\"20\" border=\"0\"></a></div></td>\n",
      "  \n",
      "  <td width=\"48\"><a href=\"http://www.dcview.com/\" onMouseOver=\"MM_swapImage('Image1','','/images/home_icon-1.gif',1)\" onMouseOut=\"MM_swapImgRestore()\"><img src=\"/images/home_icon.gif\" name=\"Image1\" width=\"48\" height=\"18\" border=\"0\" usemap=\"#HOME\" id=\"Image1\"></a></td>\n",
      "  <td width=\"3\"><div align=\"right\"><img src=\"/images/mune-3.gif\" width=\"3\" height=\"20\"></div></td>\n",
      "  </tr>\n",
      "  </table></td></tr>\n",
      "</table></td></tr>\n",
      "</table>-->\n",
      "<!--<table width=\"1000\" border=\"0\" align=\"center\" cellpadding=\"0\" cellspacing=\"0\">\n",
      "<tr bgcolor=\"EFF1FF\">\n",
      "   <script type=\"text/javascript\" src=\"http://ad.dcview.com/index.php?id=47&chr=Big5\"></script>\n",
      "</tr>\n",
      "</table>-->\n",
      "<div id=\"header\">\n",
      "<!-- =logo -->\n",
      "<div class=\"logo\">\n",
      "<a href=\"http://www.dcview.com\"><img alt=\"dcview-首頁\" src=\"/images_new/logo-dcview.jpg\"/></a>\n",
      "</div>\n",
      "<!-- =search -->\n",
      "<div class=\"search\">\n",
      "<form action=\"http://gallery.dcview.com/result.php\" id=\"siteSearchForm\" method=\"get\" name=\"siteSearchForm\" onsubmit=\"return chk_search()\" target=\"_blank\">\n",
      "<ul class=\"search-bar-ul\">\n",
      "<li class=\"scbar_icon_td\"></li>\n",
      "<li class=\"scbar_txt_td\">\n",
      "<input autocomplete=\"off\" class=\" xg1\" id=\"scbar_txt\" name=\"srchtxt\" onfocus=\"javascript:  if(siteSearchForm.srchtxt.value=='請輸入搜尋內容'){ siteSearchForm.srchtxt.value = '';}\" type=\"text\" value=\"\"/>\n",
      "<input id=\"searchkey\" name=\"searchkey\" type=\"hidden\" value=\"\"/>\n",
      "<input id=\"kw\" name=\"kw\" type=\"hidden\" value=\"\"/>\n",
      "<input id=\"mod\" name=\"mod\" type=\"hidden\" value=\"forum\"/>\n",
      "<input id=\"orderby\" name=\"orderby\" type=\"hidden\" value=\"lastpost\"/>\n",
      "<input id=\"ascdesc\" name=\"ascdesc\" type=\"hidden\" value=\"desc\"/>\n",
      "<input id=\"searchsubmit\" name=\"searchsubmit\" type=\"hidden\" value=\"yes\"/>\n",
      "</li>\n",
      "<li class=\"scbar_type_td\">\n",
      "<select class=\"showmenu xg1 xs2\" id=\"scbar_type\" style=\"border:0px;\">\n",
      "<option value=\"1\">作品發表  </option>\n",
      "<option value=\"2\">討論區</option>\n",
      "</select>\n",
      "</li>\n",
      "<li class=\"scbar_btn_td\">\n",
      "<button class=\"pn pnc\" id=\"scbar_btn\" name=\"searchsubmit\" type=\"button\" value=\"true\">\n",
      "<strong class=\"xi2 xs2\">搜尋</strong>\n",
      "</button>\n",
      "</li>\n",
      "<div class=\"clear\"></div>\n",
      "</ul>\n",
      "</form>\n",
      "<!--<div class=\"search\">\n",
      "\t\t\t\t<label for=\"search\"><input type=\"text\" name=\"search\" id=\"search\" /></label>\n",
      "\t\t\t\t<a href=\"#\"><img alt=\"\" src=\"/images_new/search.gif\" /></a> <a href=\"#\">進階搜尋</a>\n",
      "\t\t\t</div>-->\n",
      "</div>\n",
      "<!-- =ad -->\n",
      "<div class=\"ad\">\n",
      "<script src=\"http://ad.dcview.com/index.php?id=10&amp;chr=Big5\" type=\"text/javascript\"></script>\n",
      "</div>\n",
      "<!-- clear float -->\n",
      "<div class=\"clear\"></div>\n",
      "<!-- =menu -->\n",
      "<div class=\"menu\">\n",
      "<ul>\n",
      "<li class=\"list\"><a href=\"/member/login.asp?last=http%3A%2F%2Fwww%2Edcview%2Ecom%2Etw%2Fdcbid%2Ffleamsg%2Easp%3Fmsgid%3D826938%26posit%3D4\">\n",
      "<img alt=\"會員登入\" height=\"19\" src=\"/images_new/meb_login.gif\" width=\"56\"/></a></li>\n",
      "<li class=\"list\"><a href=\"http://member.dcview.com/tos.php\">\n",
      "<img alt=\"加入會員\" height=\"19\" src=\"/images_new/meb_add.gif\" width=\"56\"/></a></li>\n",
      "</ul>\n",
      "</div>\n",
      "<!-- clear float -->\n",
      "<div class=\"clear\"></div>\n",
      "<!-- =nav -->\n",
      "<div id=\"nav\">\n",
      "<ul id=\"more\">\n",
      "<li><a href=\"http://gallery.dcview.com\"><span>作品發表區</span></a></li>\n",
      "<li><a href=\"http://blog.dcview.com\"><span>達人部落</span></a></li>\n",
      "<li><a href=\"http://forum.dcview.com\"><span>討論區</span></a></li>\n",
      "<li><a href=\"http://article.dcview.com\"><span>文章總覽</span></a></li>\n",
      "<li><a href=\"http://library.dcview.com\"><span>影像圖書館</span></a></li>\n",
      "<li><a href=\"http://school.dcview.com\"><span>影像學院</span></a></li>\n",
      "<li class=\"add\"><a href=\"http://tw.dcview.com/spec/\"><span>相機專區</span></a></li>\n",
      "<li class=\"add\"><a href=\"http://www.dcview.com/dvphone/\"><span>照相手機</span></a></li>\n",
      "<li><a href=\"http://phototour.dcview.com\"><span>旅行攝</span></a></li>\n",
      "<li><a href=\"http://ishot.dcview.com/\"><span>iShot購物</span></a></li>\n",
      "<li class=\"active\"><a href=\"http://www.dcview.com.tw/dcbid/flealist.asp\"><span>二手專區</span></a></li>\n",
      "<li class=\"more\">\n",
      "<a href=\"#\" onmouseout=\"mclosetime()\" onmouseover=\"mopen('m1')\"><span>更多</span></a>\n",
      "<div id=\"m1\" onmouseout=\"mclosetime()\" onmouseover=\"mcancelclosetime()\" style=\"visibility: hidden;\">\n",
      "<a href=\"http://www.dcview.com.tw/e_paper/epaper_list.htm\">會員電子報</a>\n",
      "<!--<a href=\"http://dcpad.dcview.com/mmzine\">影像誌</a>\n",
      "\t\t\t\t\t\t\t<a href=\"http://www.dcview.com.tw/guide.asp\">新手指南</a>\n",
      "\t\t\t\t\t\t\t<a href=\"http://www.dcview.com.tw/sitemap.asp\">網站導覽</a>-->\n",
      "<a href=\"http://www.dcview.com.tw/member/\">客服中心</a>\n",
      "<!--<a href=\"http://search.dcview.com/search.jsp\">進階搜尋</a>\n",
      "\t\t\t\t\t\t\t<a href=\"http://dcpad.dcview.com/\">DCPad</a>\n",
      "\t\t\t\t\t\t\t<a href=\"http://dcpad.dcview.com/taipeishopping/info/\">好康報馬仔</a>-->\n",
      "</div>\n",
      "</li>\n",
      "</ul>\n",
      "</div>\n",
      "<!-- =adtxt -->\n",
      "<div class=\"adtxt\">\n",
      "<ul>\n",
      "<script src=\"http://ad.dcview.com/index.php?id=11&amp;chr=Big5\" type=\"text/javascript\"></script><style> ul, li {list-style: none;} </style> <li><a class=\"gray2\" href=\"http://ad.dcview.com/click.php?id=3026\" target=\"_blank\">專業速成的線上攝影課程</a></li><style> ul, li {list-style: none;} </style> <li><a class=\"gray2\" href=\"http://ad.dcview.com/click.php?id=3445\" target=\"_blank\">過新年 , 抽中 CANON M3 + Macbook Pro Retina 13</a></li><style> ul, li {list-style: none;} </style> <li class=\"list\"><a class=\"gray2\" href=\"http://ad.dcview.com/click.php?id=3446\" target=\"_blank\">下載 高雄嘉年華App, 抽 30 萬最大獎項</a></li>\n",
      "</ul>\n",
      "</div>\n",
      "<div style=\"clear:both;\"></div>\n",
      "<div class=\"ad-1000x90\">\n",
      "<p><script src=\"http://ad.dcview.com/index.php?id=23&amp;chr=UTF-8\" type=\"text/javascript\"></script></p>\n",
      "</div>\n",
      "</div>\n",
      "<!--<table width=\"780\" border=\"0\" align=\"center\" cellpadding=\"0\" cellspacing=\"0\">\n",
      "<tr><td colspan=\"5\"><img src=\"/images/lineg.gif\" width=\"100%\" height=\"1\"></td></tr>\n",
      "<tr><td colspan=\"5\"><img src=\"/images/00new.gif\" width=\"2\" height=\"6\"></td></tr>\n",
      "<tr> \n",
      "<script type=\"text/javascript\" src=\"http://ad.dcview.com/index.php?id=48&chr=Big5\"></script>\n",
      "</tr>\n",
      "<tr><td colspan=\"5\"><img src=\"/images/lineg.gif\" width=\"100%\" height=\"1\"></td></tr>\n",
      "</table>-->\n",
      "<div id=\"content\">\n",
      "<table border=\"0\" cellpadding=\"0\" cellspacing=\"4\" width=\"1000\">\n",
      "<tbody><tr><td align=\"center\" valign=\"top\" width=\"130\">\n",
      "<!--<img src=\"/images/spacer.gif\" width=\"5\" height=\"5\"><br>-->\n",
      "<table border=\"0\" cellpadding=\"5\" cellspacing=\"0\" width=\"100%\">\n",
      "<tbody><tr><td align=\"center\" class=\"text_xs\">\n",
      "</td></tr>\n",
      "</tbody></table>\n",
      "<!--<img src=\"/images/spacer.gif\" width=\"5\" height=\"5\"><br>-->\n",
      "<div class=\"ad\">\n",
      "<p><script src=\"http://ad.dcview.com/index.php?id=12&amp;chr=Big5\" type=\"text/javascript\"></script><a href=\"http://ad.dcview.com/click.php?id=3458\" target=\"_blank\"><img alt=\"\" border=\"0\" src=\"http://ad.dcview.tw/u/dcview_ad/2016/03/3458.jpg\" title=\"\"/></a></p>\n",
      "</div>\n",
      "<br/>\n",
      "<p>\n",
      "</p><table border=\"0\" cellpadding=\"0\" cellspacing=\"0\" width=\"240\">\n",
      "<tbody><tr><td class=\"navBf1\">  二手區分類:</td></tr>\n",
      "<tr><td align=\"center\">\n",
      "<table border=\"0\" cellpadding=\"1\" cellspacing=\"0\" width=\"240\">\n",
      "<tbody><tr><td class=\"navBf1\" colspan=\"2\"><hr size=\"1\"/></td></tr>\n",
      "<tr><td class=\"navBf1\"><a href=\"/dcbid/flealist.asp?ptype=0A04\">Canon</a> || <a href=\"/dcbid/flealist.asp?ptype=0A14\">SLR</a></td>\n",
      "<td class=\"navBf1\"><a href=\"/dcbid/flealist.asp?ptype=0A07\">Fujifilm</a> || <a href=\"/dcbid/flealist.asp?ptype=0A20\">SLR</a></td></tr> <tr><td colspan=\"2\"><img height=\"1\" src=\"/images/bd_spline.gif\" width=\"240\"/></td></tr>\n",
      "<!--<tr><td class=\"navBf1\" colspan=2><a href=\"/dcbid/flealist.asp?ptype=0A16\">Konica Minolta</a>|| <a href=\"/dcbid/flealist.asp?ptype=0A31\">SLR</a></td></tr> <tr><td colspan=2><img height=1 src=\"/images/bd_spline.gif\" width=240></td></tr>-->\n",
      "<tr><td class=\"navBf1\"><a href=\"/dcbid/flealist.asp?ptype=0A01\">Nikon</a> || <a href=\"/dcbid/flealist.asp?ptype=0A15\">SLR</a></td><td class=\"navBf1\"><a href=\"/dcbid/flealist.asp?ptype=0A02\">Olympus</a> || <a href=\"/dcbid/flealist.asp?ptype=0A29\">SLR</a></td></tr> <tr><td colspan=\"2\"><img height=\"1\" src=\"/images/bd_spline.gif\" width=\"240\"/></td></tr>\n",
      "<tr><td class=\"navBf1\"><a href=\"/dcbid/flealist.asp?ptype=0A19\">Panasonic</a> || <a href=\"/dcbid/flealist.asp?ptype=0A34\">SLR</a></td><td class=\"navBf1\"><a href=\"/dcbid/flealist.asp?ptype=0A18\">Pentax</a> || <a href=\"/dcbid/flealist.asp?ptype=0A30\">SLR</a></td></tr> <tr><td colspan=\"2\"><img height=\"1\" src=\"/images/bd_spline.gif\" width=\"240\"/></td></tr>\n",
      "<tr><td class=\"navBf1\"><a href=\"/dcbid/flealist.asp?ptype=0A03\">Sony</a> || <a href=\"/dcbid/flealist.asp?ptype=0A33\">SLR</a></td><td class=\"navBf1\"><a href=\"/dcbid/flealist.asp?ptype=0A05\">CASIO</a></td></tr> <tr><td colspan=\"2\"><img height=\"1\" src=\"/images/bd_spline.gif\" width=\"240\"/></td></tr>\n",
      "<tr>\n",
      "<td class=\"navBf1\"><a href=\"/dcbid/flealist.asp?ptype=0A28\">Contax</a></td>\n",
      "<td class=\"navBf1\">\n",
      "<a href=\"/dcbid/flealist.asp?ptype=0A22\">Leica</a>\n",
      "</td>\n",
      "</tr>\n",
      "<tr><td colspan=\"2\"><img height=\"1\" src=\"/images/bd_spline.gif\" width=\"240\"/></td>\n",
      "</tr>\n",
      "<tr>\n",
      "<td class=\"navBf1\"><a href=\"/dcbid/flealist.asp?ptype=0A09\">Ricoh</a></td>\n",
      "<td class=\"navBf1\">\n",
      "<a href=\"/dcbid/flealist.asp?ptype=0A23\">Samsung</a>\n",
      "</td>\n",
      "</tr>\n",
      "<tr><td colspan=\"2\"><img height=\"1\" src=\"/images/bd_spline.gif\" width=\"240\"/></td>\n",
      "</tr>\n",
      "<tr>\n",
      "<td class=\"navBf1\"><a href=\"/dcbid/flealist.asp?ptype=0A21\">Sigma</a></td>\n",
      "<td class=\"navBf1\">\n",
      "\n",
      " \n",
      "\n",
      "</td>\n",
      "</tr>\n",
      "<tr><td colspan=\"2\"><img height=\"1\" src=\"/images/bd_spline.gif\" width=\"240\"/></td>\n",
      "</tr>\n",
      "<tr>\n",
      "<td class=\"navBf1\"><a href=\"/dcbid/flealist.asp?ptype=0A12\">傳統相機</a></td>\n",
      "<td class=\"navBf1\">\n",
      "<a href=\"/dcbid/flealist.asp?ptype=0A13\">其他相機</a>\n",
      "</td>\n",
      "</tr>\n",
      "<tr><td colspan=\"2\"><img height=\"1\" src=\"/images/bd_spline.gif\" width=\"240\"/></td>\n",
      "</tr>\n",
      "<tr>\n",
      "<td class=\"navBf1\"><a href=\"/dcbid/flealist.asp?ptype=0B14\">照相手機</a></td>\n",
      "<td class=\"navBf1\">\n",
      "<a href=\"/dcbid/flealist.asp?ptype=0B15\">數位攝影機</a>\n",
      "</td>\n",
      "</tr>\n",
      "<tr><td colspan=\"2\"><img height=\"1\" src=\"/images/bd_spline.gif\" width=\"240\"/></td>\n",
      "</tr>\n",
      "<tr><td class=\"navBf1\" colspan=\"2\"><hr size=\"1\"/></td></tr>\n",
      "<tr><td class=\"navBf1\"><a href=\"/dcbid/flealist.asp?ptype=1\">鏡頭 (廣角增距等)</a></td><td class=\"navBf1\" colspan=\"2\"><a href=\"/dcbid/flealist.asp?ptype=2\">列印 (印相,輸出等)</a></td></tr> <tr><td colspan=\"2\"><img height=\"1\" src=\"/images/bd_spline.gif\" width=\"240\"/></td></tr>\n",
      "<tr><td class=\"navBf1\"><a href=\"/dcbid/flealist.asp?ptype=3\">閃光燈</a></td><td class=\"navBf1\" colspan=\"2\"><a href=\"/dcbid/flealist.asp?ptype=4\">記憶卡/儲存設備</a></td></tr> <tr><td colspan=\"2\"><img height=\"1\" src=\"/images/bd_spline.gif\" width=\"240\"/></td></tr>\n",
      "<tr><td class=\"navBf1\"><a href=\"/dcbid/flealist.asp?ptype=5\">電池 (一般，鋰電)</a></td><td class=\"navBf1\" colspan=\"2\"><a href=\"/dcbid/flealist.asp?ptype=6\">腳架</a></td></tr> <tr><td colspan=\"2\"><img height=\"1\" src=\"/images/bd_spline.gif\" width=\"240\"/></td></tr>\n",
      "<!--<tr><td class=\"navBf1\" colspan=2><a href=\"/dcbid/flealist.asp?ptype=7\">電源、充電器</a></td></tr> <tr><td colspan=2><img height=1 src=\"/images/bd_spline.gif\" width=240></td></tr>-->\n",
      "<tr><td class=\"navBf1\" colspan=\"2\"><a href=\"/dcbid/flealist.asp?ptype=8\">背包、皮套</a></td></tr> <tr><td colspan=\"2\"><img height=\"1\" src=\"/images/bd_spline.gif\" width=\"240\"/></td></tr>\n",
      "<!--<tr><td class=\"navBf1\" colspan=2><a href=\"/dcbid/flealist.asp?ptype=9\">讀卡機</a></td></tr> <tr><td colspan=2><img height=1 src=\"/images/bd_spline.gif\" width=240></td></tr>-->\n",
      "<tr><td class=\"navBf1\" colspan=\"2\"><hr size=\"1\"/></td></tr>\n",
      "<tr><td class=\"navBf1\" colspan=\"2\"><a href=\"/dcbid/flealist.asp?ptype\">所有類別物品</a></td></tr> <tr><td colspan=\"2\"><img height=\"1\" src=\"/images/bd_spline.gif\" width=\"240\"/></td></tr>\n",
      "<tr><td class=\"navBf1\" colspan=\"2\"><hr size=\"1\"/></td></tr>\n",
      "<tr><td class=\"navBf1\" colspan=\"2\"> </td></tr>\n",
      "</tbody></table>\n",
      "</td></tr>\n",
      "</tbody></table>\n",
      "<!--\n",
      "3eyes<br>a7662888<br>agriplas<br>air8521<br>ALAN8666<br>alexliu<br>arttom<br>awei-750<br>BMW528<br>corpse<br>Danny_Liao<br>Dr.陶<br>Herbhou<br>hiroshi chang<br>hogin<br>jaidee<br>Jaysan<br>Jerry<br>jimmylin<br>joinus<br>jom<br>jyt747<br>kennymax<br>kris.<br>kyyhph<br>lainan<br>Louis Feng<br>Mr.小牧童<br>Patrick_Lin<br>pauz_mantoll<br>purelove<br>rabbiteng<br>Sophia Hsiao<br>Wilson Hsu<br>winsun<br>Wizard<br>二愣子<br>十八兒<br>十面埋伏<br>大型阿生<br>小祖<br>小練<br>中古的995<br>文武<br>古馳<br>布丁狗<br>吉也<br>合真<br>米粉<br>自然顏色<br>李冰<br>奇摩小趙<br>芬達<br>阿花小熊<br>冼鏡光<br>紅刺蝟<br>風雲子<br>茗花緣<br>軒元<br>張瑜<br>探長<br>涵老師<br>莫方<br>郭大爛<br>野豹<br>野鳥胡亂飛<br>傑克<br>湛然<br>發福中<br>雲樵<br>運大<br>過路的<br>樹城<br>薄菏糖<br>耀輝<br>蘇聯ㄟ<br><br>\n",
      "-->\n",
      "<div class=\"ad\">\n",
      "<p><script src=\"http://ad.dcview.com/index.php?id=14&amp;chr=Big5\" type=\"text/javascript\"></script><a href=\"http://ad.dcview.com/click.php?id=3412\" target=\"_blank\"><img alt=\"\" border=\"0\" src=\"http://ad.dcview.tw/u/dcview_ad/2015/10/3412.gif\" title=\"\"/></a></p>\n",
      "</div>\n",
      "<br/>\n",
      "<script type=\"text/javascript\">\n",
      "google_ad_client = \"ca-pub-3464838274425848\";\n",
      "google_ad_host = \"ca-host-pub-7475939466736018\";\n",
      "google_ad_host_channel = \"5765749770\";\n",
      "google_ad_slot = \"4625394018\";\n",
      "google_ad_width = 160;\n",
      "google_ad_height = 600;\n",
      "</script>\n",
      "<div style=\"margin:20px 0 0 35px;\">\n",
      "<script src=\"http://pagead2.googlesyndication.com/pagead/show_ads.js\" type=\"text/javascript\">\n",
      "</script><ins id=\"aswift_0_expand\" style=\"display:inline-table;border:none;height:600px;margin:0;padding:0;position:relative;visibility:visible;width:160px;background-color:transparent\"><ins id=\"aswift_0_anchor\" style=\"display:block;border:none;height:600px;margin:0;padding:0;position:relative;visibility:visible;width:160px;background-color:transparent\"><iframe allowfullscreen=\"true\" allowtransparency=\"true\" frameborder=\"0\" height=\"600\" hspace=\"0\" id=\"aswift_0\" marginheight=\"0\" marginwidth=\"0\" name=\"aswift_0\" onload=\"var i=this.id,s=window.google_iframe_oncopy,H=s&amp;&amp;s.handlers,h=H&amp;&amp;H[i],w=this.contentWindow,d;try{d=w.document}catch(e){}if(h&amp;&amp;d&amp;&amp;(!d.body||!d.body.firstChild)){if(h.call){setTimeout(h,0)}else if(h.match){try{h=s.upd(h,i)}catch(e){}w.location.replace(h)}}\" scrolling=\"no\" style=\"left:0;position:absolute;top:0;\" vspace=\"0\" width=\"160\"></iframe></ins></ins>\n",
      "</div>\n",
      "</td>\n",
      "<td valign=\"top\" width=\"8\"> </td>\n",
      "<td valign=\"top\">\n",
      "<table border=\"0\" width=\"100%\">\n",
      "<tbody><tr><td align=\"left\" colspan=\"6\" valign=\"middle\">\n",
      "<a href=\"flealist.asp\">\n",
      "<span class=\"default\"><b>DCView 二手市場區\n",
      "</b></span></a>\n",
      "  \n",
      " (第<font color=\"BLUE\">-3</font>筆/計<font color=\"BLUE\"></font>筆)\n",
      "\n",
      "\n",
      "</td>\n",
      "<td align=\"right\">\n",
      "</td>\n",
      "</tr></tbody></table>\n",
      "<center>\n",
      "<p>\n",
      "</p><table border=\"0\" cellpadding=\"0\" cellspacing=\"0\" width=\"100%\">\n",
      "<form action=\"fleamsg.asp\" method=\"POST\" name=\"form19\" onsubmit=\"return confirm('您此項物品已經成交了嗎？')\"></form>\n",
      "<tbody><tr>\n",
      "<td width=\"50\"><input onclick=\"history.go(-1)\" type=\"BUTTON\" value=\"&lt;-- 回前頁\"/></td>\n",
      "<td class=\"default\">\n",
      " \n",
      "<a href=\"newflea.asp?id=&amp;msgid=826938&amp;to1=Virtualkay&amp;SUB1=Re%A1G\">回應</a>\n",
      "\n",
      " | <a href=\"newflea.asp?id=\">\n",
      "<font color=\"red\"><b>刊登物品</b></font></a>\n",
      "</td>\n",
      "</tr>\n",
      "</tbody></table>\n",
      "<p></p>\n",
      "<table border=\"1\" bordercolor=\"#c4eec4\" cellpadding=\"3\" cellspacing=\"0\" width=\"100%\">\n",
      "<tbody><tr>\n",
      "<td bgcolor=\"#c4eec4\" class=\"default\"><font color=\"#000000\">售＄<b>75000</b></font></td>\n",
      "<td bgcolor=\"#c4eec4\" class=\"default\"><b><font color=\"#0000e0\">Nikon D810(公保內)到10月中-低快門完美如新單盒齊含原廠手把</font></b></td>\n",
      "<td align=\"right\" bgcolor=\"#c4eec4\" class=\"navBf\">\n",
      "<font color=\"#000080\">地點：<font color=\"#0000e0\"><b>\n",
      "   北部\n",
      "</b></font></font></td>\n",
      "</tr>\n",
      "<tr>\n",
      "<td align=\"right\" bgcolor=\"#50AFBA\" class=\"default\"><font color=\"#ffffff\">刊登人</font></td>\n",
      "<td bgcolor=\"#fffff0\" class=\"navBf\" colspan=\"2\">\n",
      "<a href=\"flealist.asp?status=&amp;id0=0&amp;name=Virtualkay\"><b>Virtualkay</b></a>\n",
      "   \n",
      "　    <font class=\"navBf\">&lt;<b>kay5402@hotmail.com</b>&gt;</font>\n",
      "   \n",
      "　   <font class=\"navBf\">tel: 0980997775</font>\n",
      "</td>\n",
      "</tr>\n",
      "<tr>\n",
      "<td align=\"right\" bgcolor=\"#50AFBA\" class=\"default\"><font color=\"#ffffff\">刊登時間</font></td>\n",
      "<td bgcolor=\"#fffff0\" class=\"navBf\" colspan=\"2\">\n",
      "2016/3/23 13:06\n",
      "</td></tr>\n",
      "<tr><td bgcolor=\"#Fffff0\" class=\"default\" colspan=\"3\">\n",
      "   【售】 \n",
      "<br/>1. Nikon D750(公保內)+ Nikon 24-70G(水過保) \n",
      "<br/>2. Nikon D750(公保內)+ Nikon 50 1.8G (公) \n",
      "<br/>3. Nikon TC-14 II (公過保) \n",
      "<br/>4. Nikon 14-24 f2.8G (公過保) \n",
      "<br/>5. Nikon SB910 (水過保) \n",
      "<br/>6. Tamron 70-200 f2.8 Di VC USD A009 (公保內) \n",
      "<br/>7. Nissin MF18 Marco 環形閃光燈 for Nikon (公) \n",
      "<br/>8. Pixel king i-TTL \n",
      "<br/>9. Nikon 50mm f1.4G(公過保) \n",
      "<br/>10. Marsace 瑪瑟士DP-N1424 濾鏡環支架+ ND16(未使用) \n",
      "<br/>11. Nikon D810(公保內) +MB-D12 \n",
      "<br/>12. Nikon 35mm f1.4G (公過保) \n",
      "<br/>13. Nikon 35mm f1.4G (水過保)\n",
      "<br/>【地點】 台北 \n",
      "<br/>【價格】 \n",
      "<br/>1. 77000 2. 49000 3.8000 4. 37000 5. 10000 \n",
      "<br/>6. 30000 7.8000 8. 2500 9. 9000 \n",
      "<br/>10. 8000 11. 75000 12. 34000 13. 30000 \n",
      "<br/>【配件】原廠配件 \n",
      "<br/>【交易方式】台北面交 \n",
      "<br/>【聯絡方式】LINE: virtualkay 簡訊:0980997775 \n",
      "<br/>【備註】 \n",
      "<br/>1. D750公司貨2015年12購買快門2000, 鏡頭201208過保eWAT水貨皆如新 \n",
      "<br/>2. 2015年底購買, 尚未註冊, 無災情, 快門2000, 單盒齊全 \n",
      "<br/>3. 公過保無單盒狀況良好無傷 \n",
      "<br/>4. 104年12月過保國祥公司貨, 狀況如新無摔撞前後玉完整 \n",
      "<br/>5. 約購入兩年過保, 無單當水貨賣 \n",
      "<br/>6. 2017年1月25過保公司貨, 狀況如新單盒齊 \n",
      "<br/>7. 20150125購入公司貨, 如新非常少用 \n",
      "<br/>8. 一觸發一接收盒子都在, 功能正常, 少用如新 \n",
      "<br/>9. 201005過保公司貨品單盒齊全,8成新 \n",
      "<br/>10. 包裝盒裝齊全, 尚未使用過 \n",
      "<br/>11. 20161011過保公司貨,快門35XX,外觀如新單盒齊全, 手把同期購買平輸原廠品 \n",
      "<br/>12. 2013過保榮泰公司貨, 鏡頭如新單盒齊全\n",
      "<br/>13. 平輸過保, 外觀無傷, 品項功能接良好, 彩盒 \n",
      "\n",
      "<br/>\n",
      "</td></tr>\n",
      "</tbody></table>\n",
      "<table border=\"0\" cellpadding=\"3\" cellspacing=\"0\" width=\"100%\">\n",
      "<tbody><tr>\n",
      "<td valign=\"middle\" width=\"50\"><input onclick=\"history.go(-1)\" type=\"BUTTON\" value=\"&lt;-- 回前一頁\"/></td>\n",
      "<td valign=\"middle\">\n",
      "\n",
      "    \n",
      "   <a href=\"newflea.asp?id=&amp;msgid=826938&amp;to1=Virtualkay&amp;SUB1=Re%A1G\">回應</a>\n",
      "\n",
      "\n",
      " | <a href=\"newflea.asp?id=\"><font color=\"red\"><b>刊登物品</b></font></a>\n",
      "</td>\n",
      "<td align=\"right\" valign=\"middle\">\n",
      "</td>\n",
      "</tr>\n",
      "</tbody></table>\n",
      "<p>\n",
      "</p><table align=\"center\" border=\"0\" cellpadding=\"3\" cellspacing=\"0\" width=\"608\">\n",
      "<tbody><tr><td class=\"navbf1\">\n",
      "<font color=\"#aa0000\">網友請注意:\n",
      "<ul>\n",
      "<li>本版僅提供網頁平台供網友張貼拍賣訊息。因此本版無法保證所有訊息資料之可靠性。</li>\n",
      "<li>建議網友進行交易之前，務必確實比對貨品之規格是否符合，並留下對方之真實姓名(最好記下身分證字號)、聯絡\n",
      "方式，<b>強烈建議網友</b>，務必<b>當場點清</b>貨品規格後再行付款，以免事後產生糾紛。</li>\n",
      "<li>建議勿用郵局代收貨款, 或匯款方式進行交易(這些都容易產生糾紛)，建議一手交錢、一手交貨。</li>\n",
      "</ul>\n",
      "</font>\n",
      "</td></tr></tbody></table>\n",
      "<p></p>\n",
      "<p align=\"left\">\n",
      "        <font class=\"default\" color=\"blue\"><b>對這個拍賣的回應：</b></font>\n",
      "</p><center>\n",
      "<table border=\"0\" cellpadding=\"3\" cellspacing=\"0\" width=\"100%\">\n",
      "<tbody><tr><td><hr color=\"#ffffff\"/></td></tr><tr><td bgcolor=\"#d7efef\"><span class=\"default\">up</span></td></tr><tr><td align=\"left\" bgcolor=\"#d7efef\" class=\"navBf\"><font color=\"#000000\"><b><a href=\"/myalbum.asp?nickname=Virtualkay\" target=\"_blank\">Virtualkay</a></b></font> [2016/3/28 下午 07:15:07]</td></tr><tr><td><hr color=\"#ffffff\"/></td></tr><tr><td bgcolor=\"#d7efef\"><span class=\"default\">up</span></td></tr><tr><td align=\"left\" bgcolor=\"#d7efef\" class=\"navBf\"><font color=\"#000000\"><b><a href=\"/myalbum.asp?nickname=Virtualkay\" target=\"_blank\">Virtualkay</a></b></font> [2016/3/28 下午 03:34:32]</td></tr><tr><td><hr color=\"#ffffff\"/></td></tr><tr><td bgcolor=\"#d7efef\"><span class=\"default\">up</span></td></tr><tr><td align=\"left\" bgcolor=\"#d7efef\" class=\"navBf\"><font color=\"#000000\"><b><a href=\"/myalbum.asp?nickname=Virtualkay\" target=\"_blank\">Virtualkay</a></b></font> [2016/3/27 下午 05:32:36]</td></tr><tr><td><hr color=\"#ffffff\"/></td></tr><tr><td bgcolor=\"#d7efef\"><span class=\"default\">Up</span></td></tr><tr><td align=\"left\" bgcolor=\"#d7efef\" class=\"navBf\"><font color=\"#000000\"><b><a href=\"/myalbum.asp?nickname=Virtualkay\" target=\"_blank\">Virtualkay</a></b></font> [2016/3/24 下午 02:07:25]</td></tr><tr><td><hr color=\"#ffffff\"/></td></tr><tr><td bgcolor=\"#d7efef\"><span class=\"default\">up</span></td></tr><tr><td align=\"left\" bgcolor=\"#d7efef\" class=\"navBf\"><font color=\"#000000\"><b><a href=\"/myalbum.asp?nickname=Virtualkay\" target=\"_blank\">Virtualkay</a></b></font> [2016/3/23 下午 08:14:47]</td></tr><tr><td><hr color=\"#8888ff\"/></td></tr></tbody></table>\n",
      "</center>\n",
      "<div class=\"ad\" style=\"text-align:center;\">\n",
      "<p><script src=\"http://ad.dcview.com/index.php?id=13&amp;chr=Big5\" type=\"text/javascript\"></script><a href=\"http://ad.dcview.com/click.php?id=3065\" target=\"_blank\"><img alt=\"\" border=\"0\" src=\"http://ad.dcview.tw/u/dcview_ad/2014/03/3065.jpg\" title=\"\"/></a></p>\n",
      "</div>\n",
      "</center></td>\n",
      "</tr>\n",
      "</tbody></table>\n",
      "</div>\n",
      "</center>\n",
      "<!--<table width=\"1000\" border=\"0\" align=\"center\" cellpadding=\"0\" cellspacing=\"0\">\n",
      "<tr><td><img src=\"/images/00new.gif\" width=\"5\" height=\"10\"></td></tr>\n",
      "<tr><td>\n",
      "  <table width=\"1000\" border=\"0\" cellpadding=\"0\" cellspacing=\"1\" bgcolor=\"AAAAAA\">\n",
      "  <tr>\n",
      "    <td width=\"50%\" background=\"/images/tit_bg-g2.gif\"><img src=\"/images/tit_event.gif\" width=\"71\" height=\"18\"></td>\n",
      "    <td background=\"/images/tit_bg-g2.gif\"><img src=\"/images/tit_newinfo.gif\" width=\"71\" height=\"18\"></td>\n",
      "  </tr>\n",
      "  <tr>\n",
      "  \n",
      "  <td bgcolor=\"#FFFFFF\">\n",
      "    <table cellPadding=3 width=\"100%\" border=0>\n",
      "    <tr>\n",
      "    <script type=\"text/javascript\" src=\"http://ad.dcview.com/index.php?id=50&chr=Big5\"></script>\n",
      "      </tr>\n",
      "    </table>\n",
      "  </td>\n",
      "  \n",
      "\n",
      "  <td bgcolor=\"#FFFFFF\">\n",
      "    <table cellPadding=3 width=\"100%\" border=0>\n",
      "    <tr> \n",
      "    <script type=\"text/javascript\" src=\"http://ad.dcview.com/index.php?id=51&chr=Big5\"></script>\n",
      "    </tr>\n",
      "    </table>\n",
      "  </td></tr>\n",
      "  \n",
      "  </table>\n",
      "</td></tr>\n",
      "</table>-->\n",
      "<div id=\"down-ad\">\n",
      "<ul>\n",
      "<script src=\"http://ad.dcview.com/index.php?id=15&amp;chr=Big5\" type=\"text/javascript\"></script><li style=\"list-style-type: none;float: left;width: 312px;\"><p><a href=\"http://ad.dcview.com/click.php?id=2837\" target=\"_blank\"><img alt=\"\" border=\"0\" src=\"http://ad.dcview.tw/u/dcview_ad/2013/10/2837.jpg\" style=\"float: left; bottom: -1px;  padding: 0 10px 0 0;\" title=\"\"/></a></p><a href=\"http://ad.dcview.com/click.php?id=2837\" target=\"_blank\"><h3 style=\"font: bold 15px/22px Verdana; color: #1A549E;\">大人的潮機 Instax mini90</h3></a>搭載高性能閃光燈與多種攝影模式，除了B快門攝影、雙重曝光，也內建微距拍攝。</li><li class=\"list\" style=\"list-style-type: none;float: left;width: 312px;\"><p><a href=\"http://ad.dcview.com/click.php?id=2895\" target=\"_blank\"><img alt=\"\" border=\"0\" src=\"http://ad.dcview.tw/u/dcview_ad/2013/11/2895.jpg\" style=\"float: left; bottom: -1px;  padding: 0 10px 0 0;\" title=\"\"/></a></p><a href=\"http://ad.dcview.com/click.php?id=2895\" target=\"_blank\"><h3 style=\"font: bold 15px/22px Verdana; color: #1A549E;\">DCView影像學院 嚴選課程</h3></a>充電囉~專業攝影名師的全新課程，快速提升攝影能力最佳途徑。</li>\n",
      "</ul>\n",
      "</div>\n",
      "<!-- clear float -->\n",
      "<div class=\"clearfix\"></div><!--<p align=center>\n",
      "<table width=\"540\" border=\"0\" align=\"center\" cellpadding=\"0\" cellspacing=\"2\">\n",
      "<tr> \n",
      "<td>\n",
      "  <p align=\"center\"><SPAN class=Copyright>DCView 版權所有，若有侵權，本公司將依法訴追，絕不寬貸<br></SPAN><br>\n",
      "  <SPAN class=navbfe>\n",
      "  <A href=\"http://service.dcview.com\" target=_blank>服務說明與客服中心</a>∣<A href=\"http://service.dcview.com/sales/\" target=_blank>整合行銷服務</a>∣<A href=\"http://service.dcview.com/qa_list.php?classid=6\" target=_blank>行銷合作</a>∣<a href=\"http://service.dcview.com/sales/advertisement.php\" target=_blank>廣告刊登</a>\n",
      "  </SPAN></p>\n",
      "</td>\n",
      "</tr>\n",
      "<tr><td class=\"Copyright\"><img src=\"/images/line_g-2.gif\" width=\"100%\" height=\"1\"></td></tr>\n",
      "<tr><td class=\"Copyright\"><div align=\"center\">Copyright&copy; 2002-2012 迪希數位科技股份有限公司 All rights reserved.</div></td>\n",
      "</tr>\n",
      "\n",
      "</table>\n",
      "</p>-->\n",
      "<style type=\"text/css\">\n",
      "#footer #nav li.more .nav-more {\n",
      "\tposition: absolute;\n",
      "\ttop: -50px;\n",
      "    right: 0;\n",
      "\tz-index: 100000;\n",
      "}\n",
      "</style>\n",
      "<div id=\"footer\">\n",
      "<!-- =footer-main -->\n",
      "<div class=\"footer-main\">\n",
      "<!-- =nav -->\n",
      "<div id=\"nav\">\n",
      "<ul id=\"more\">\n",
      "<li><a href=\"http://gallery.dcview.com\"><span>作品發表區</span></a></li>\n",
      "<li><a href=\"http://blog.dcview.com\"><span>達人部落</span></a></li>\n",
      "<li><a href=\"http://forum.dcview.com\"><span>討論區</span></a></li>\n",
      "<li><a href=\"http://article.dcview.com\"><span>文章總覽</span></a></li>\n",
      "<li><a href=\"http://library.dcview.com\"><span>影像圖書館</span></a></li>\n",
      "<li><a href=\"http://school.dcview.com\"><span>影像學院</span></a></li>\n",
      "<li><a href=\"http://tw.dcview.com/spec/\"><span>相機專區</span></a></li>\n",
      "<li class=\"add\"><a href=\"http://www.dcview.com/dvphone/\"><span>照相手機</span></a></li>\n",
      "<li class=\"add\"><a href=\"http://phototour.dcview.com\"><span>旅行攝</span></a></li>\n",
      "<li><a href=\"http://ishot.dcview.com/\"><span>iShot購物</span></a></li>\n",
      "<li class=\"active\"><a href=\"http://www.dcview.com.tw/dcbid/flealist.asp\"><span>二手專區</span></a></li>\n",
      "<li class=\"more\">\n",
      "<a href=\"#\" onmouseout=\"mclosetime()\" onmouseover=\"mopen('m2')\"><span>更多</span></a>\n",
      "<div class=\"nav-more\" id=\"m2\" onmouseout=\"mclosetime()\" onmouseover=\"mcancelclosetime()\" style=\"visibility: hidden;\">\n",
      "<a href=\"http://www.dcview.com.tw/e_paper/epaper_list.htm\">會員電子報</a>\n",
      "<!--<a href=\"http://dcpad.dcview.com/mmzine\">影像誌</a>\n",
      "\t\t\t\t\t\t<a href=\"http://www.dcview.com.tw/guide.asp\">新手指南</a>\n",
      "\t\t\t\t\t\t<a href=\"http://www.dcview.com.tw/sitemap.asp\">網站導覽</a>-->\n",
      "<a href=\"http://www.dcview.com.tw/member/\">客服中心</a>\n",
      "<!--<a href=\"http://search.dcview.com/search.jsp\">進階搜尋</a>\n",
      "\t\t\t\t\t\t<a href=\"http://dcpad.dcview.com/\">DCPad</a>\n",
      "\t\t    \t\t\t<a href=\"http://dcpad.dcview.com/taipeishopping/info/\">好康報馬仔</a>-->\n",
      "</div>\n",
      "</li>\n",
      "</ul>\n",
      "</div>\n",
      "<!-- =copyright -->\n",
      "<div class=\"copyright\">\n",
      "<div class=\"logo\">\n",
      "<a href=\"new.html\">\n",
      "<img alt=\"dcview-首頁\" height=\"60\" src=\"/images_new/logo_d2.gif\" width=\"200\"/></a>\n",
      "</div>\n",
      "<div class=\"content\">\n",
      "<p class=\"link\"><a href=\"http://service.dcview.com/\">服務說明與客服中心</a> ∣ <a href=\"http://service.dcview.com/sales/\">整合行銷服務</a> ∣ <a href=\"http://service.dcview.com/qa_list.php?classid=6\">行銷合作</a> ∣ <a href=\"http://service.dcview.com/sales/advertisement.php\">廣告刊登</a></p>\n",
      "<p>DCView 版權所有，若有侵權，本公司將依法訴訟，絕不寬貸</p>\n",
      "<p>Copyright c 2002-2013 迪希數位科技股份有限公司 All Rights Reserved.</p>\n",
      "</div>\n",
      "<div class=\"tag\">\n",
      "\t\t\t\t\tDCView 的社群：\n",
      "\t\t\t\t\t<a href=\"http://www.facebook.com/pages/DCView/402684696689?v=wall&amp;ref=ts\" target=\"_blank\"><img alt=\"facebook\" height=\"20\" src=\"/images_new/facebook_20.png\" title=\"facebook\" width=\"20\"/></a>\n",
      "<a href=\"http://www.plurk.com/dcview\" target=\"_blank\"><img alt=\"plurk\" height=\"20\" src=\"/images_new/plurk_20.png\" title=\"plurk\" width=\"20\"/></a>\n",
      "</div>\n",
      "</div>\n",
      "</div>\n",
      "</div>\n",
      "<script src=\"http://www.google-analytics.com/urchin.js\" type=\"text/javascript\"> </script>\n",
      "<script type=\"text/javascript\">\n",
      "\t_uacct =\"UA-2075591-1\"; \n",
      "\turchinTracker(); \n",
      "</script>\n",
      "<script type=\"text/javascript\">\n",
      "var gaJsHost = ((\"https:\" == document.location.protocol) ? \"https://ssl.\" : \"http://www.\");\n",
      "document.write(unescape(\"%3Cscript src='\" + gaJsHost + \"google-analytics.com/ga.js' type='text/javascript'%3E%3C/script%3E\"));\n",
      "</script><script src=\"http://www.google-analytics.com/ga.js\" type=\"text/javascript\"></script>\n",
      "<script type=\"text/javascript\">\n",
      "var pageTracker = _gat._getTracker(\"UA-5051332-7\");\n",
      "pageTracker._setDomainName(\".dcview.com\");\n",
      "pageTracker._initData();\n",
      "pageTracker._trackPageview();\n",
      "</script>\n",
      "</body></html>\n"
     ]
    }
   ],
   "source": [
    "# -*- coding: utf-8 -*-\n",
    "from selenium import webdriver\n",
    "from selenium.webdriver.common.by import By\n",
    "from selenium.webdriver.common.keys import Keys\n",
    "from selenium.webdriver.support.ui import Select\n",
    "from selenium.common.exceptions import NoSuchElementException\n",
    "from selenium.common.exceptions import NoAlertPresentException\n",
    "from bs4 import BeautifulSoup\n",
    "import unittest, time, re\n",
    "\n",
    "driver = webdriver.Firefox()\n",
    "driver.implicitly_wait(3)\n",
    "#driver.get(\"http://www.dcview.com/\")\n",
    "#driver.implicitly_wait(3)\n",
    "#driver.get(\"http://www.dcview.com.tw/dcbid/flealist.asp\")\n",
    "#driver.implicitly_wait(3)\n",
    "driver.get(\"http://www.dcview.com.tw/dcbid/fleamsg.asp?msgid=826938&posit=4\")\n",
    "soup = BeautifulSoup(driver.page_source)\n",
    "print soup\n",
    "\n",
    "driver.close()"
   ]
  },
  {
   "cell_type": "code",
   "execution_count": 402,
   "metadata": {
    "collapsed": false
   },
   "outputs": [],
   "source": [
    "import requests\n",
    "from bs4 import BeautifulSoup as bs\n",
    "rs = requests.session()\n",
    "res = rs.get('http://www.dcview.com/')\n",
    "res.encoding='utf-8' \n",
    "res2 = rs.get('http://www.dcview.com.tw/dcbid/flealist.asp')\n",
    "res2.encoding='utf-8' \n",
    "res3 = rs.get('http://www.dcview.com.tw/dcbid/fleamsg.asp?msgid=826938&posit=4')\n",
    "res3.encoding='big5' "
   ]
  },
  {
   "cell_type": "code",
   "execution_count": 416,
   "metadata": {
    "collapsed": false
   },
   "outputs": [],
   "source": [
    "headers = {\n",
    "'Accept':'text/html,application/xhtml+xml,application/xml;q=0.9,image/webp,*/*;q=0.8',\n",
    "'Accept-Encoding':'gzip, deflate, sdch',\n",
    "'Accept-Language':'zh-TW,zh;q=0.8,en-US;q=0.6,en;q=0.4',\n",
    "'Cache-Control':'max-age=0',\n",
    "'Connection':'keep-alive',\n",
    "'Cookie':'ASPSESSIONIDAQDCACRB=GCMOFFIBJFIJHHDBIDAMJAGN; __utmz=78334209.1459165447.1.1.utmccn=(referral)|utmcsr=dcview.com|utmcct=/|utmcmd=referral; __utma=78334209.548363762.1459165447.1459165447.1459167640.2; __utmc=78334209; __utmb=78334209',\n",
    "'Host':'www.dcview.com.tw',\n",
    "'Referer':'http://www.dcview.com.tw/dcbid/flealist.asp',\n",
    "'Upgrade-Insecure-Requests':'1',\n",
    "'User-Agent':'Mozilla/5.0 (Windows NT 6.1; WOW64) AppleWebKit/537.36 (KHTML, like Gecko) Chrome/49.0.2623.87 Safari/537.36',\n",
    "}\n",
    "res3 = rs.get('http://www.dcview.com.tw/dcbid/fleamsg.asp?msgid=826938&posit=4', headers = headers)\n",
    "res3.encoding='big5'"
   ]
  },
  {
   "cell_type": "code",
   "execution_count": 417,
   "metadata": {
    "collapsed": false
   },
   "outputs": [
    {
     "name": "stdout",
     "output_type": "stream",
     "text": [
      "\r\n",
      "<!DOCTYPE html PUBLIC \"-//W3C//DTD XHTML 1.0 Transitional//EN\" \"http://www.w3.org/TR/xhtml1/DTD/xhtml1-transitional.dtd\">\r\n",
      "<html xmlns=\"http://www.w3.org/1999/xhtml\" xml:lang=\"zh-TW\" lang=\"zh-TW\">\r\n",
      "<HEAD>\r\n",
      "<META HTTP-EQUIV=\"Content-Type\" CONTENT=\"text/html; charset=big5\">\r\n",
      "<TITLE>數位視野 [DCView 二手市場區]</TITLE>\r\n",
      "<link rel=\"stylesheet\" href=\"../css/ad.css\" type=\"text/css\">\r\n",
      "<link rel=\"stylesheet\" type=\"text/css\" href=\"../css/layout.css\" />\r\n",
      "<link rel=\"stylesheet\" type=\"text/css\" href=\"../css/style.css\" />\r\n",
      "<link rel=\"stylesheet\" type=\"text/css\" href=\"../css/nav.css\" />\r\n",
      "<link rel=\"stylesheet\" type=\"text/css\" href=\"../css/content-double.css\" />\r\n",
      "<link rel=\"stylesheet\" href=\"/dcview_newtemplate.css\" type=\"text/css\">\r\n",
      "\r\n",
      "<script type=\"text/javascript\" src=\"../j/jquery-1.3.2.min.js\"></script>\r\n",
      "<script type=\"text/javascript\" src=\"../j/tabber.js\"></script>\r\n",
      "<SCRIPT LANGUAGE=\"JavaScript\">\r\n",
      "var timeout       = 500;\r\n",
      "var closetimer    = 0;\r\n",
      "var ddmenuitem    = 0;\r\n",
      "function mopen(id)\r\n",
      "{\r\n",
      "    mcancelclosetime();\r\n",
      "    if(ddmenuitem) ddmenuitem.style.visibility = 'hidden';\r\n",
      "    ddmenuitem = document.getElementById(id);\r\n",
      "    ddmenuitem.style.visibility = 'visible';\r\n",
      "\r\n",
      "}\r\n",
      "function mclose()\r\n",
      "{\r\n",
      "    if(ddmenuitem) ddmenuitem.style.visibility = 'hidden';\r\n",
      "}\r\n",
      "function mclosetime()\r\n",
      "{\r\n",
      "    closetimer = window.setTimeout(mclose, timeout);\r\n",
      "}\r\n",
      "function mcancelclosetime()\r\n",
      "{\r\n",
      "    if(closetimer)\r\n",
      "    {\r\n",
      "        window.clearTimeout(closetimer);\r\n",
      "        closetimer = null;\r\n",
      "    }\r\n",
      "}\r\n",
      "document.onclick = mclose;\r\n",
      "\r\n",
      "$(function() {\r\n",
      "\t$('#footer #nav ul li.more').mouseover(function() {\r\n",
      "\t\t$('#footer #nav .nav-more').show();\r\n",
      "\t}).mouseout(function() {\r\n",
      "\t\t$('#footer #nav .nav-more').hide();\r\n",
      "\t});\r\n",
      "});\r\n",
      "</SCRIPT>\r\n",
      "</HEAD>\r\n",
      "\r\n",
      "<body bgcolor=\"#FFFFFF\" topmargin=\"0\" marginheight=\"0\" leftmargin=\"0\" marginwidth=\"0\" >\r\n",
      "\r\n",
      "<center>\r\n",
      "<script language=\"JavaScript\">\r\n",
      "function chk_search() { \r\n",
      "\tif (document.siteSearchForm.scbar_txt.value.length<1) { \r\n",
      "\t\talert(\"需輸入搜尋字串!!\"); \r\n",
      "\t\treturn false; \r\n",
      "\t} \r\n",
      "\t$('#kw').val($('#scbar_txt').val());\r\n",
      "\t$('#searchkey').val($('#scbar_txt').val());\r\n",
      "\t$('#siteSearchForm').submit();\r\n",
      "\treturn false; \r\n",
      "}\r\n",
      "\r\n",
      "$(function(){\r\n",
      "\t$('#scbar_type').val(1);\r\n",
      "\t$('#scbar_txt').val('');\r\n",
      "\t$('#scbar_type').change(function(){\r\n",
      "\t\tswitch($('#scbar_type').val()){\r\n",
      "\t\t\tcase '1':\r\n",
      "\t\t\t\t$('#siteSearchForm').attr('action','http://gallery.dcview.com/result.php');\r\n",
      "\t\t\t\tbreak;\r\n",
      "\t\t\tcase '2':\r\n",
      "\t\t\t\t$('#siteSearchForm').attr('action','http://tw.dcview.com/search.php');\r\n",
      "\t\t\t\tbreak;\r\n",
      "\t\t}\r\n",
      "\t});\r\n",
      "\t$('#scbar_btn').click(function(){\r\n",
      "\t\t$('#kw').val($('#scbar_txt').val());\r\n",
      "\t\t$('#searchkey').val($('#scbar_txt').val());\r\n",
      "\t\t$('#siteSearchForm').submit();\r\n",
      "\t\treturn false; \r\n",
      "\t});\r\n",
      "});\r\n",
      "\r\n",
      "function MM_openBrWindow(theURL,winName,features) { window.open(theURL,winName,features); }\r\n",
      "\r\n",
      "function MM_preloadImages() { //v3.0\r\n",
      "  var d=document; if(d.images){ if(!d.MM_p) d.MM_p=new Array();\r\n",
      "    var i,j=d.MM_p.length,a=MM_preloadImages.arguments; for(i=0; i<a.length; i++)\r\n",
      "    if (a[i].indexOf(\"#\")!=0){ d.MM_p[j]=new Image; d.MM_p[j++].src=a[i];}}\r\n",
      "}\r\n",
      "\r\n",
      "function MM_swapImgRestore() { //v3.0\r\n",
      "  var i,x,a=document.MM_sr; for(i=0;a&&i<a.length&&(x=a[i])&&x.oSrc;i++) x.src=x.oSrc;\r\n",
      "}\r\n",
      "\r\n",
      "function MM_findObj(n, d) { //v4.01\r\n",
      "  var p,i,x;  if(!d) d=document; if((p=n.indexOf(\"?\"))>0&&parent.frames.length) {\r\n",
      "    d=parent.frames[n.substring(p+1)].document; n=n.substring(0,p);}\r\n",
      "  if(!(x=d[n])&&d.all) x=d.all[n]; for (i=0;!x&&i<d.forms.length;i++) x=d.forms[i][n];\r\n",
      "  for(i=0;!x&&d.layers&&i<d.layers.length;i++) x=MM_findObj(n,d.layers[i].document);\r\n",
      "  if(!x && d.getElementById) x=d.getElementById(n); return x;\r\n",
      "}\r\n",
      "\r\n",
      "function MM_swapImage() { //v3.0\r\n",
      "  var i,j=0,x,a=MM_swapImage.arguments; document.MM_sr=new Array; for(i=0;i<(a.length-2);i+=3)\r\n",
      "   if ((x=MM_findObj(a[i]))!=null){document.MM_sr[j++]=x; if(!x.oSrc) x.oSrc=x.src; x.src=a[i+2];}\r\n",
      "}\r\n",
      "</SCRIPT>\r\n",
      "<link href=\"/images/homecss.css\" rel=\"stylesheet\" type=\"text/css\">\r\n",
      "<SCRIPT language=\"JavaScript\">\r\n",
      "MM_preloadImages('/images/menu_r1_c1-1.gif','/images/menu_r1_c3-1.gif','/images/menu_r1_c5-1.gif','/images/menu_r1_c7-1.gif','/images/menu_r1_c9-1.gif','/images/menu_r1_c11-1.gif','/images/menu_r1_c13-1.gif','/images/menu_r1_c14-1.gif','/images/menu_r1_c15-1.gif','/images/menu_r1_c16-1.gif','/images/menu_r2_c2-1.gif','/images/menu_r2_c4-1.gif','/images/menu_r2_c6-1.gif','/images/menu_r2_c8-1.gif','/images/menu_r2_c10-1.gif','/images/menu_r2_c12-1.gif','/images/home_icon-1.gif')\r\n",
      "</SCRIPT>\r\n",
      "<!--<table width=\"1000\" border=\"0\" align=\"center\" cellpadding=\"0\" cellspacing=\"0\">\r\n",
      "<tr><td background=\"/images/_top_bg.gif\">\r\n",
      "  <table width=\"100%\" border=\"0\" cellspacing=\"0\" cellpadding=\"0\">\r\n",
      "  <tr><td width=160><A href=\"http://www.dcview.com/\"><img src=\"/images/_dc_logo_190x70.gif\" border=\"0\" height=\"70\" width=\"190\"></a></td>\r\n",
      "  <td><div align=\"center\">\r\n",
      "  \r\n",
      "  <script type=\"text/javascript\" src=\"http://ad.dcview.com/index.php?id=46&chr=Big5\"></script>\r\n",
      "  </div></td>\r\n",
      "  <td nowrap align=left valign=\"middle\" width=110><span style='FONT-SIZE: 12px; COLOR: #666666; FONT-FAMILY: \"Arial\",\"Verdana\", \"sans-serif\"'>\r\n",
      "  註冊: 792181 人\r\n",
      "  </span>\r\n",
      "  </div></td></tr>\r\n",
      " </table>\r\n",
      "</td></tr>\r\n",
      "</table>\r\n",
      "\r\n",
      "<table width=\"1000\" border=\"0\" align=\"center\" cellpadding=\"0\" cellspacing=\"0\">\r\n",
      "  <tr><td><a  href='http://forum.dcview.com' onMouseOver=MM_swapImage('memu01','','/images/menu_r1_c1-1.gif',1) onMouseOut=MM_swapImgRestore()><img src=/images/menu_r1_c1.gif border=0 name=memu01 id=memu01></a><a  href='http://blog.dcview.com' onMouseOver=MM_swapImage('memu02','','/images/menu_r1_c2-1.gif',1) onMouseOut=MM_swapImgRestore()><img src=/images/menu_r1_c2.gif border=0 name=memu02 id=memu02></a><a  href='http://gallery.dcview.com/' onMouseOver=MM_swapImage('memu03','','/images/menu_r1_c3-1.gif',1) onMouseOut=MM_swapImgRestore()><img src=/images/menu_r1_c3.gif border=0 name=memu03 id=memu03></a><a  href='http://article.dcview.com/' onMouseOver=MM_swapImage('memu04','','/images/menu_r1_c5-1.gif',1) onMouseOut=MM_swapImgRestore()><img src=/images/menu_r1_c5.gif border=0 name=memu04 id=memu04></a><a  href='/my/default.asp' onMouseOver=MM_swapImage('memu05','','/images/menu_r1_c15-1.gif',1) onMouseOut=MM_swapImgRestore()><img src=/images/menu_r1_c15.gif border=0 name=memu05 id=memu05></a><a  target=_blank href='/guide.asp' onMouseOver=MM_swapImage('memu06','','/images/menu_r1_c7-1.gif',1) onMouseOut=MM_swapImgRestore()><img src=/images/menu_r1_c7.gif border=0 name=memu06 id=memu06></a><a  href='http://tw.dcview.com/spec/' onMouseOver=MM_swapImage('memu07','','/images/menu_r1_c9-1.gif',1) onMouseOut=MM_swapImgRestore()><img src=/images/menu_r1_c9.gif border=0 name=memu07 id=memu07></a><a  href='/member/' onMouseOver=MM_swapImage('memu08','','/images/menu_r1_c13-1.gif',1) onMouseOut=MM_swapImgRestore()><img src=/images/menu_r1_c13.gif border=0 name=memu08 id=memu08></a><a  href='/dcbid/flealist.asp' onMouseOver=MM_swapImage('memu09','','/images/menu_r1_c14-1.gif',1) onMouseOut=MM_swapImgRestore()><img src=/images/menu_r1_c14-1.gif border=0 name=memu09 id=memu09></a><a  href='#' onMouseOver=MM_swapImage('memu10','','/images/menu_r1_c102-1.gif',1) onMouseOut=MM_swapImgRestore()><img src=/images/menu_r1_c102.gif border=0 name=memu10 id=memu10></a></td>\r\n",
      "  </tr>\r\n",
      "  <tr><td>\r\n",
      "\t<table width=\"1000\" border=\"0\" cellspacing=\"0\" cellpadding=\"0\">\r\n",
      "\t\t<tr><td><a  href='http://phototour.dcview.com/' onMouseOver=MM_swapImage('memu11','','/images/menu_r2_c30-1.gif',1) onMouseOut=MM_swapImgRestore()><img src=/images/menu_r2_c30.gif border=0 name=memu11 id=memu11></a><a  href='http://ishot.dcview.com/' onMouseOver=MM_swapImage('memu12','','/images/menu_r2_c21-1.gif',1) onMouseOut=MM_swapImgRestore()><img src=/images/menu_r2_c21.gif border=0 name=memu12 id=memu12></a><a  href='http://www.dcview.com/dvphone/' onMouseOver=MM_swapImage('memu13','','/images/menu_r2_c18-1.gif',1) onMouseOut=MM_swapImgRestore()><img src=/images/menu_r2_c18.gif border=0 name=memu13 id=memu13></a><a  href='/activity/index.asp' onMouseOver=MM_swapImage('memu14','','/images/menu_r2_c10-1.gif',1) onMouseOut=MM_swapImgRestore()><img src=/images/menu_r2_c10.gif border=0 name=memu14 id=memu14></a><a  href='http://library.dcview.com/' onMouseOver=MM_swapImage('memu15','','/images/menu_r2_c5-1.gif',1) onMouseOut=MM_swapImgRestore()><img src=/images/menu_r2_c5.gif border=0 name=memu15 id=memu15></a></td>\t\t\r\n",
      "  <td width=\"431\" background=\"/images/menu_bg.gif\"><table border=\"0\" align=\"right\" cellpadding=\"0\" cellspacing=\"0\">\r\n",
      "  <tr> \r\n",
      "  \r\n",
      "        <td width=\"144\"><div align=\"right\"><a href='/member/login.asp?last=http%3A%2F%2Fwww%2Edcview%2Ecom%2Etw%2Fdcbid%2Ffleamsg%2Easp%3Fmsgid%3D826938%26posit%3D4'><img src=\"/images/meb_login.gif\" width=\"69\" height=\"20\" border=\"0\"></a></div></td>\r\n",
      "        <td width=\"70\"><div align=\"right\"><a href=\"http://member.dcview.com/tos.php\"><img src=\"/images/meb_add.gif\" width=\"69\" height=\"20\" border=\"0\"></a></div></td>\r\n",
      "  \r\n",
      "  <td width=\"48\"><a href=\"http://www.dcview.com/\" onMouseOver=\"MM_swapImage('Image1','','/images/home_icon-1.gif',1)\" onMouseOut=\"MM_swapImgRestore()\"><img src=\"/images/home_icon.gif\" name=\"Image1\" width=\"48\" height=\"18\" border=\"0\" usemap=\"#HOME\" id=\"Image1\"></a></td>\r\n",
      "  <td width=\"3\"><div align=\"right\"><img src=\"/images/mune-3.gif\" width=\"3\" height=\"20\"></div></td>\r\n",
      "  </tr>\r\n",
      "  </table></td></tr>\r\n",
      "</table></td></tr>\r\n",
      "</table>-->\r\n",
      "<!--<table width=\"1000\" border=\"0\" align=\"center\" cellpadding=\"0\" cellspacing=\"0\">\r\n",
      "<tr bgcolor=\"EFF1FF\">\r\n",
      "   <script type=\"text/javascript\" src=\"http://ad.dcview.com/index.php?id=47&chr=Big5\"></script>\r\n",
      "</tr>\r\n",
      "</table>-->\r\n",
      "\r\n",
      "\t<div id=\"header\">\r\n",
      "\t\t\t<!-- =logo -->\r\n",
      "\t\t\t<div class=\"logo\">\r\n",
      "\t\t\t\t<a href=\"http://www.dcview.com\"><img src=\"/images_new/logo-dcview.jpg\" alt=\"dcview-首頁\" /></a>\r\n",
      "\t\t    </div>\r\n",
      "\t\t\t<!-- =search -->\r\n",
      "\t\t\t<div class=\"search\">\r\n",
      "\t\t\t<form id=\"siteSearchForm\" name=\"siteSearchForm\" action=\"http://gallery.dcview.com/result.php\" method=\"get\" onSubmit=\"return chk_search()\" target=\"_blank\">\r\n",
      "            <ul class=\"search-bar-ul\">\r\n",
      "                <li class=\"scbar_icon_td\"></li>\r\n",
      "                <li class=\"scbar_txt_td\">\r\n",
      "                    <input type=\"text\" onfocus=\"javascript:  if(siteSearchForm.srchtxt.value=='請輸入搜尋內容'){ siteSearchForm.srchtxt.value = '';}\" autocomplete=\"off\" value=\"\" \r\n",
      "                    id=\"scbar_txt\" name=\"srchtxt\" class=\" xg1\">\r\n",
      "\t\t\t\t\t<input type=\"hidden\" name=\"searchkey\" id=\"searchkey\" value=\"\" />\r\n",
      "\t\t\t\t\t<input type=\"hidden\" name=\"kw\" id=\"kw\" value=\"\" />\r\n",
      "\t\t\t\t\t\t\r\n",
      "\t\t\t\t\t<input type=\"hidden\" name=\"mod\" id=\"mod\" value=\"forum\" />\r\n",
      "\t\t\t\t\t<input type=\"hidden\" name=\"orderby\" id=\"orderby\" value=\"lastpost\" />\r\n",
      "\t\t\t\t\t<input type=\"hidden\" name=\"ascdesc\" id=\"ascdesc\" value=\"desc\" />\r\n",
      "\t\t\t\t\t<input type=\"hidden\" name=\"searchsubmit\" id=\"searchsubmit\" value=\"yes\" />\r\n",
      "                </li>\r\n",
      "                <li class=\"scbar_type_td\">\r\n",
      "                    <select id=\"scbar_type\" class=\"showmenu xg1 xs2\" style=\"border:0px;\">\r\n",
      "\t\t\t\t\t\t<option value =\"1\">作品發表&nbsp;&nbsp;</option>\r\n",
      "\t\t\t\t\t\t<option value =\"2\">討論區</option>\r\n",
      "\t\t\t\t\t</select>\r\n",
      "                </li>\r\n",
      "                <li class=\"scbar_btn_td\">\r\n",
      "                    <button id=\"scbar_btn\" class=\"pn pnc\" value=\"true\" name=\"searchsubmit\" type=\"button\">\r\n",
      "\t\t\t\t\t\t<strong class=\"xi2 xs2\">搜尋</strong>\r\n",
      "\t\t\t\t\t</button>\r\n",
      "                </li>\r\n",
      "                <div class=\"clear\"></div>\r\n",
      "            </ul>\r\n",
      "\t\t\t</form>\r\n",
      "            <!--<div class=\"search\">\r\n",
      "\t\t\t\t<label for=\"search\"><input type=\"text\" name=\"search\" id=\"search\" /></label>\r\n",
      "\t\t\t\t<a href=\"#\"><img alt=\"\" src=\"/images_new/search.gif\" /></a> <a href=\"#\">進階搜尋</a>\r\n",
      "\t\t\t</div>-->\r\n",
      "        </div>\r\n",
      "\t\t\t\r\n",
      "\t\t\t<!-- =ad -->\r\n",
      "\t\t\t\r\n",
      "\t\t\t<div class=\"ad\">\r\n",
      "\t<script type=\"text/javascript\" src=\"http://ad.dcview.com/index.php?id=10&chr=Big5\"></script>\r\n",
      "</div>\r\n",
      "\t\t\t\r\n",
      "\t\t\t<!-- clear float -->\r\n",
      "\t\t\t<div class=\"clear\"></div>\r\n",
      "\t\t\t<!-- =menu -->\r\n",
      "\t\t\t<div class=\"menu\">\r\n",
      "\t\t\t\t<ul>\r\n",
      "\t\t\t\t\t\r\n",
      "\t\t\t\t\t<li class=\"list\"><a href=\"/member/login.asp?last=http%3A%2F%2Fwww%2Edcview%2Ecom%2Etw%2Fdcbid%2Ffleamsg%2Easp%3Fmsgid%3D826938%26posit%3D4\">\r\n",
      "\t\t\t\t\t<img alt=\"會員登入\" src=\"/images_new/meb_login.gif\" width=\"56\" height=\"19\" /></a></li>\r\n",
      "\t\t\t\t\t<li class=\"list\"><a href=\"http://member.dcview.com/tos.php\">\r\n",
      "\t\t\t\t\t<img alt=\"加入會員\" src=\"/images_new/meb_add.gif\" width=\"56\" height=\"19\" /></a></li>\r\n",
      "\t\t\t\t\t\r\n",
      "\t\t\t\t</ul>\r\n",
      "\t\t  </div>\r\n",
      "\t\t\t<!-- clear float -->\r\n",
      "\t  <div class=\"clear\"></div>\r\n",
      "\t\t\t<!-- =nav -->\r\n",
      "\t\t\t<div id=\"nav\">\r\n",
      "\t\t\t\t<ul id=\"more\">\r\n",
      "\t\t\t\t\t<li><a href=\"http://gallery.dcview.com\"><span>作品發表區</span></a></li>\r\n",
      "\t\t\t\t\t<li><a href=\"http://blog.dcview.com\"><span>達人部落</span></a></li>\r\n",
      "\t\t\t\t\t<li><a href=\"http://forum.dcview.com\"><span>討論區</span></a></li>\r\n",
      "\t\t\t\t\t<li><a href=\"http://article.dcview.com\"><span>文章總覽</span></a></li>\r\n",
      "\t\t\t\t\t<li><a href=\"http://library.dcview.com\"><span>影像圖書館</span></a></li>\r\n",
      "\t\t\t\t\t<li ><a href=\"http://school.dcview.com\"><span>影像學院</span></a></li>        \r\n",
      "\t\t\t\t\t<li class=\"add\"><a href=\"http://tw.dcview.com/spec/\"><span>相機專區</span></a></li>\r\n",
      "\t\t\t\t\t<li class=\"add\"><a href=\"http://www.dcview.com/dvphone/\"><span>照相手機</span></a></li>\r\n",
      "\t\t\t\t\t<li><a href=\"http://phototour.dcview.com\"><span>旅行攝</span></a></li>\r\n",
      "\t\t\t\t\t<li><a href=\"http://ishot.dcview.com/\"><span>iShot購物</span></a></li>\r\n",
      "\t\t\t\t\t<li class=\"active\"><a href=\"http://www.dcview.com.tw/dcbid/flealist.asp\"><span>二手專區</span></a></li>\r\n",
      "\t\t\t\t\t<li class=\"more\">\r\n",
      "\t\t\t\t\t\t<a href=\"#\" onmouseover=\"mopen('m1')\" onmouseout=\"mclosetime()\"><span>更多</span></a>\r\n",
      "\t\t\t\t\t\t<div style=\"visibility: hidden;\" id=\"m1\" onmouseover=\"mcancelclosetime()\" onmouseout=\"mclosetime()\">\r\n",
      "\t\t\t\t\t\t\t<a href=\"http://www.dcview.com.tw/e_paper/epaper_list.htm\">會員電子報</a>\r\n",
      "\t\t\t\t\t\t\t<!--<a href=\"http://dcpad.dcview.com/mmzine\">影像誌</a>\r\n",
      "\t\t\t\t\t\t\t<a href=\"http://www.dcview.com.tw/guide.asp\">新手指南</a>\r\n",
      "\t\t\t\t\t\t\t<a href=\"http://www.dcview.com.tw/sitemap.asp\">網站導覽</a>-->\r\n",
      "\t\t\t\t\t\t\t<a href=\"http://www.dcview.com.tw/member/\">客服中心</a>\r\n",
      "\t\t\t\t\t\t\t<!--<a href=\"http://search.dcview.com/search.jsp\">進階搜尋</a>\r\n",
      "\t\t\t\t\t\t\t<a href=\"http://dcpad.dcview.com/\">DCPad</a>\r\n",
      "\t\t\t\t\t\t\t<a href=\"http://dcpad.dcview.com/taipeishopping/info/\">好康報馬仔</a>-->\r\n",
      "\t\t\t\t\t\t</div>\r\n",
      "\t\t\t\t\t</li>\r\n",
      "\t\t\t\t</ul>\r\n",
      "\t\t\t</div>\r\n",
      "\t\t\t\r\n",
      "\t\t\t<!-- =adtxt -->\r\n",
      "\t\t\t<div class=\"adtxt\">\r\n",
      "\t<ul>\r\n",
      "\t\t<script type=\"text/javascript\" src=\"http://ad.dcview.com/index.php?id=11&chr=Big5\"></script>\r\n",
      "\t</ul>\r\n",
      "</div>\r\n",
      "\t\t\t<div style=\"clear:both;\"></div>\r\n",
      "\t\t\t<div class=\"ad-1000x90\">\r\n",
      "\t<p><script type=\"text/javascript\" src=\"http://ad.dcview.com/index.php?id=23&chr=UTF-8\"></script></p>\r\n",
      "</div>\r\n",
      "\t</div>\r\n",
      "\t\r\n",
      "<!--<table width=\"780\" border=\"0\" align=\"center\" cellpadding=\"0\" cellspacing=\"0\">\r\n",
      "<tr><td colspan=\"5\"><img src=\"/images/lineg.gif\" width=\"100%\" height=\"1\"></td></tr>\r\n",
      "<tr><td colspan=\"5\"><img src=\"/images/00new.gif\" width=\"2\" height=\"6\"></td></tr>\r\n",
      "<tr> \r\n",
      "<script type=\"text/javascript\" src=\"http://ad.dcview.com/index.php?id=48&chr=Big5\"></script>\r\n",
      "</tr>\r\n",
      "<tr><td colspan=\"5\"><img src=\"/images/lineg.gif\" width=\"100%\" height=\"1\"></td></tr>\r\n",
      "</table>-->\r\n",
      "\r\n",
      "\r\n",
      "<div id=\"content\">\r\n",
      "<table width=\"1000\" border=\"0\" cellspacing=\"4\" cellpadding=\"0\">\r\n",
      "<tr><td valign=\"top\" align=\"center\" width=\"130\">\r\n",
      "  <!--<img src=\"/images/spacer.gif\" width=\"5\" height=\"5\"><br>-->\r\n",
      "  \r\n",
      "\r\n",
      "<table width=\"100%\" border=\"0\" cellspacing=\"0\" cellpadding=\"5\">\r\n",
      "<tr><td align=\"center\" class=\"text_xs\">\r\n",
      "\r\n",
      "</td></tr>\r\n",
      "</table>\r\n",
      "\r\n",
      "<!--<img src=\"/images/spacer.gif\" width=\"5\" height=\"5\"><br>-->\r\n",
      "<div class=\"ad\">\r\n",
      "\t<p><script type=\"text/javascript\" src=\"http://ad.dcview.com/index.php?id=12&chr=Big5\"></script></p>\r\n",
      "</div>\r\n",
      "<br>\r\n",
      "\r\n",
      "\r\n",
      "<p>\r\n",
      "\r\n",
      "\r\n",
      "<table width=\"240\" border=\"0\" cellspacing=\"0\" cellpadding=\"0\">\r\n",
      "\r\n",
      "   <tr><td class=navBf1>&nbsp;&nbsp;二手區分類:</a></td></tr>\r\n",
      "\r\n",
      "<tr><td align=\"center\"> \r\n",
      "\r\n",
      "<table cellspacing=0 cellpadding=1 border=0 width=\"240\">\r\n",
      "\r\n",
      "\r\n",
      "\r\n",
      "<tr><td class=\"navBf1\" colspan=2><hr size=\"1\"></td></tr>\r\n",
      "<tr><td class=\"navBf1\"><a href=\"/dcbid/flealist.asp?ptype=0A04\">Canon</a> || <a href=\"/dcbid/flealist.asp?ptype=0A14\">SLR</a></td>\r\n",
      "<td class=\"navBf1\"><a href=\"/dcbid/flealist.asp?ptype=0A07\">Fujifilm</a> || <a href=\"/dcbid/flealist.asp?ptype=0A20\">SLR</a></td></tr> <tr><td colspan=2><img height=1 src=\"/images/bd_spline.gif\" width=240></td></tr>\r\n",
      "<!--<tr><td class=\"navBf1\" colspan=2><a href=\"/dcbid/flealist.asp?ptype=0A16\">Konica Minolta</a>|| <a href=\"/dcbid/flealist.asp?ptype=0A31\">SLR</a></td></tr> <tr><td colspan=2><img height=1 src=\"/images/bd_spline.gif\" width=240></td></tr>-->\r\n",
      "<tr><td class=\"navBf1\"><a href=\"/dcbid/flealist.asp?ptype=0A01\">Nikon</a> || <a href=\"/dcbid/flealist.asp?ptype=0A15\">SLR</a></td><td class=\"navBf1\"><a href=\"/dcbid/flealist.asp?ptype=0A02\">Olympus</a> || <a href=\"/dcbid/flealist.asp?ptype=0A29\">SLR</a></td></tr> <tr><td colspan=2><img height=1 src=\"/images/bd_spline.gif\" width=240></td></tr>\r\n",
      "<tr><td class=\"navBf1\"><a href=\"/dcbid/flealist.asp?ptype=0A19\">Panasonic</a> || <a href=\"/dcbid/flealist.asp?ptype=0A34\">SLR</a></td><td class=\"navBf1\"><a href=\"/dcbid/flealist.asp?ptype=0A18\">Pentax</a> || <a href=\"/dcbid/flealist.asp?ptype=0A30\">SLR</a></td></tr> <tr><td colspan=2><img height=1 src=\"/images/bd_spline.gif\" width=240></td></tr>\r\n",
      "<tr><td class=\"navBf1\"><a href=\"/dcbid/flealist.asp?ptype=0A03\">Sony</a> || <a href=\"/dcbid/flealist.asp?ptype=0A33\">SLR</a></td><td class=\"navBf1\"><a href=\"/dcbid/flealist.asp?ptype=0A05\">CASIO</a></td></tr> <tr><td colspan=2><img height=1 src=\"/images/bd_spline.gif\" width=240></td></tr>\r\n",
      "\r\n",
      "\r\n",
      "<tr>\r\n",
      "<td class=\"navBf1\"><a href=\"/dcbid/flealist.asp?ptype=0A28\">Contax</a></td>\r\n",
      "<td class=\"navBf1\">\r\n",
      "\r\n",
      "<a href=\"/dcbid/flealist.asp?ptype=0A22\">Leica</a>\r\n",
      "\r\n",
      "</td>\r\n",
      "</tr>\r\n",
      "<tr><td colspan=2><img height=1 src=\"/images/bd_spline.gif\" width=240></td>\r\n",
      "</tr>\r\n",
      "\r\n",
      "<tr>\r\n",
      "<td class=\"navBf1\"><a href=\"/dcbid/flealist.asp?ptype=0A09\">Ricoh</a></td>\r\n",
      "<td class=\"navBf1\">\r\n",
      "\r\n",
      "<a href=\"/dcbid/flealist.asp?ptype=0A23\">Samsung</a>\r\n",
      "\r\n",
      "</td>\r\n",
      "</tr>\r\n",
      "<tr><td colspan=2><img height=1 src=\"/images/bd_spline.gif\" width=240></td>\r\n",
      "</tr>\r\n",
      "\r\n",
      "<tr>\r\n",
      "<td class=\"navBf1\"><a href=\"/dcbid/flealist.asp?ptype=0A21\">Sigma</a></td>\r\n",
      "<td class=\"navBf1\">\r\n",
      "\r\n",
      "&nbsp;\r\n",
      "\r\n",
      "</td>\r\n",
      "</tr>\r\n",
      "<tr><td colspan=2><img height=1 src=\"/images/bd_spline.gif\" width=240></td>\r\n",
      "</tr>\r\n",
      "\r\n",
      "<tr>\r\n",
      "<td class=\"navBf1\"><a href=\"/dcbid/flealist.asp?ptype=0A12\">傳統相機</a></td>\r\n",
      "<td class=\"navBf1\">\r\n",
      "\r\n",
      "<a href=\"/dcbid/flealist.asp?ptype=0A13\">其他相機</a>\r\n",
      "\r\n",
      "</td>\r\n",
      "</tr>\r\n",
      "<tr><td colspan=2><img height=1 src=\"/images/bd_spline.gif\" width=240></td>\r\n",
      "</tr>\r\n",
      "\r\n",
      "<tr>\r\n",
      "<td class=\"navBf1\"><a href=\"/dcbid/flealist.asp?ptype=0B14\">照相手機</a></td>\r\n",
      "<td class=\"navBf1\">\r\n",
      "\r\n",
      "<a href=\"/dcbid/flealist.asp?ptype=0B15\">數位攝影機</a>\r\n",
      "\r\n",
      "</td>\r\n",
      "</tr>\r\n",
      "<tr><td colspan=2><img height=1 src=\"/images/bd_spline.gif\" width=240></td>\r\n",
      "</tr>\r\n",
      "\r\n",
      "\r\n",
      "<tr><td class=\"navBf1\" colspan=2><hr size=\"1\"></td></tr>\r\n",
      "\r\n",
      "\r\n",
      "\r\n",
      "<tr><td class=\"navBf1\"><a href=\"/dcbid/flealist.asp?ptype=1\">鏡頭 (廣角增距等)</a></td><td class=\"navBf1\" colspan=2><a href=\"/dcbid/flealist.asp?ptype=2\">列印 (印相,輸出等)</a></td></tr> <tr><td colspan=2><img height=1 src=\"/images/bd_spline.gif\" width=240></td></tr>\r\n",
      "<tr><td class=\"navBf1\"><a href=\"/dcbid/flealist.asp?ptype=3\">閃光燈</a></td><td class=\"navBf1\" colspan=2><a href=\"/dcbid/flealist.asp?ptype=4\">記憶卡/儲存設備</a></td></tr> <tr><td colspan=2><img height=1 src=\"/images/bd_spline.gif\" width=240></td></tr>\r\n",
      "<tr><td class=\"navBf1\"><a href=\"/dcbid/flealist.asp?ptype=5\">電池 (一般，鋰電)</a></td><td class=\"navBf1\" colspan=2><a href=\"/dcbid/flealist.asp?ptype=6\">腳架</a></td></tr> <tr><td colspan=2><img height=1 src=\"/images/bd_spline.gif\" width=240></td></tr>\r\n",
      "<!--<tr><td class=\"navBf1\" colspan=2><a href=\"/dcbid/flealist.asp?ptype=7\">電源、充電器</a></td></tr> <tr><td colspan=2><img height=1 src=\"/images/bd_spline.gif\" width=240></td></tr>-->\r\n",
      "<tr><td class=\"navBf1\" colspan=2><a href=\"/dcbid/flealist.asp?ptype=8\">背包、皮套</a></td></tr> <tr><td colspan=2><img height=1 src=\"/images/bd_spline.gif\" width=240></td></tr>\r\n",
      "<!--<tr><td class=\"navBf1\" colspan=2><a href=\"/dcbid/flealist.asp?ptype=9\">讀卡機</a></td></tr> <tr><td colspan=2><img height=1 src=\"/images/bd_spline.gif\" width=240></td></tr>-->\r\n",
      "<tr><td class=\"navBf1\" colspan=2><hr size=\"1\"></td></tr>\r\n",
      "<tr><td class=\"navBf1\" colspan=2><a href=\"/dcbid/flealist.asp?ptype\">所有類別物品</a></td></tr> <tr><td colspan=2><img height=1 src=\"/images/bd_spline.gif\" width=240></td></tr>\r\n",
      "<tr><td class=\"navBf1\" colspan=2><hr size=\"1\"></td></tr>\r\n",
      "<tr><td class=\"navBf1\" colspan=2>&nbsp;</td></tr>\r\n",
      "\r\n",
      "\r\n",
      "</table>\r\n",
      "\r\n",
      "</td></tr>\r\n",
      "</table>\r\n",
      "\r\n",
      "\r\n",
      "<!--\r\n",
      "3eyes<br>a7662888<br>agriplas<br>air8521<br>ALAN8666<br>alexliu<br>arttom<br>awei-750<br>BMW528<br>corpse<br>Danny_Liao<br>Dr.陶<br>Herbhou<br>hiroshi chang<br>hogin<br>jaidee<br>Jaysan<br>Jerry<br>jimmylin<br>joinus<br>jom<br>jyt747<br>kennymax<br>kris.<br>kyyhph<br>lainan<br>Louis Feng<br>Mr.小牧童<br>Patrick_Lin<br>pauz_mantoll<br>purelove<br>rabbiteng<br>Sophia Hsiao<br>Wilson Hsu<br>winsun<br>Wizard<br>二愣子<br>十八兒<br>十面埋伏<br>大型阿生<br>小祖<br>小練<br>中古的995<br>文武<br>古馳<br>布丁狗<br>吉也<br>合真<br>米粉<br>自然顏色<br>李冰<br>奇摩小趙<br>芬達<br>阿花小熊<br>冼鏡光<br>紅刺蝟<br>風雲子<br>茗花緣<br>軒元<br>張瑜<br>探長<br>涵老師<br>莫方<br>郭大爛<br>野豹<br>野鳥胡亂飛<br>傑克<br>湛然<br>發福中<br>雲樵<br>運大<br>過路的<br>樹城<br>薄菏糖<br>耀輝<br>蘇聯ㄟ<br><br>\r\n",
      "-->\r\n",
      "<div class=\"ad\">\r\n",
      "\t<p><script type=\"text/javascript\" src=\"http://ad.dcview.com/index.php?id=14&chr=Big5\"></script></p>\r\n",
      "</div>\r\n",
      "<br/>\r\n",
      "\r\n",
      "<script type=\"text/javascript\">\r\n",
      "google_ad_client = \"ca-pub-3464838274425848\";\r\n",
      "google_ad_host = \"ca-host-pub-7475939466736018\";\r\n",
      "google_ad_host_channel = \"5765749770\";\r\n",
      "google_ad_slot = \"4625394018\";\r\n",
      "google_ad_width = 160;\r\n",
      "google_ad_height = 600;\r\n",
      "</script>\r\n",
      "<div style=\"margin:20px 0 0 35px;\">\r\n",
      "<script type=\"text/javascript\"\r\n",
      "src=\"http://pagead2.googlesyndication.com/pagead/show_ads.js\">\r\n",
      "</script>\r\n",
      "</div>\r\n",
      "\r\n",
      "</td>\r\n",
      "\r\n",
      "<td valign=\"top\" width=\"8\">&nbsp;</td>\r\n",
      "\r\n",
      "<td valign=top>\r\n",
      "\r\n",
      "\r\n",
      "\r\n",
      "\r\n",
      "<table width=100% border=0>\r\n",
      "<tr><td colspan=6 align=left valign=middle>\r\n",
      "<A HREF=\"flealist.asp\">\r\n",
      "<span class=default><B>DCView 二手市場區\r\n",
      "</A></b>\r\n",
      "&nbsp;&nbsp;\r\n",
      " (第<FONT COLOR=BLUE>-3</FONT>筆/計<FONT COLOR=BLUE></FONT>筆)\r\n",
      "</span>\r\n",
      "\r\n",
      "</td>\r\n",
      "\r\n",
      "<td align=right>\r\n",
      "  \r\n",
      "</td>\r\n",
      "\r\n",
      "\r\n",
      "</tr></table>\r\n",
      "\r\n",
      "<CENTER>\r\n",
      "\r\n",
      "\r\n",
      "\r\n",
      "\r\n",
      "<p>\r\n",
      "<TABLE CELLSPACING=0 BORDER=0 CELLPADDING=0 width=100%>\r\n",
      "<FORM NAME=\"form19\" onSubmit=\"return confirm('您此項物品已經成交了嗎？')\" METHOD=POST ACTION=fleamsg.asp>\r\n",
      "\r\n",
      "<tr>\r\n",
      "<td width=50><INPUT TYPE=\"BUTTON\" VALUE=\"<-- 回前頁\" onClick=\"history.go(-1)\"></td>\r\n",
      "\r\n",
      "<td class=default>\r\n",
      "&nbsp;\r\n",
      "<A HREF=\"newflea.asp?id=&msgid=826938&to1=Virtualkay&SUB1=Re：\">回應</A>\r\n",
      "\r\n",
      " | <A HREF=\"newflea.asp?id=\">\r\n",
      "<font color=red><b>刊登物品</b></font></A>\r\n",
      "\r\n",
      "\r\n",
      "</td>\r\n",
      "\r\n",
      "\r\n",
      "</tr>\r\n",
      "</FORM>\r\n",
      "</table>\r\n",
      "</p>\r\n",
      "\r\n",
      "<TABLE CELLSPACING=0 BORDER=1 bordercolor=#c4eec4 CELLPADDING=3 width=100%>\r\n",
      "\r\n",
      "\r\n",
      "\r\n",
      "<TR>\r\n",
      "\r\n",
      "<td class=\"default\" bgcolor=#c4eec4><font color=#000000>售＄<b>75000</b></td>\r\n",
      "<TD BGCOLOR=#c4eec4 class=default><b><font color=#0000e0>Nikon D810(公保內)到10月中-低快門完美如新單盒齊含原廠手把</td>\r\n",
      "<td bgcolor=#c4eec4 class=navBf align=right>\r\n",
      "   <font color=#000080>地點：<font color=#0000e0><b>\r\n",
      "   北部\r\n",
      "</td>\r\n",
      "</tr>\r\n",
      "\r\n",
      "<tr>\r\n",
      "\r\n",
      "<td class=\"default\" bgcolor=\"#50AFBA\" align=\"right\"><font color=#ffffff>刊登人</td>\r\n",
      "<td colspan=2 bgcolor=#fffff0 class=navBf>\r\n",
      "   <A HREF=\"flealist.asp?status=&id0=0&name=Virtualkay\"><b>Virtualkay</b></A>\r\n",
      "   \r\n",
      "　   &nbsp;<font class=navBf>&lt;<b>kay5402&#064;hotmail.com</b>&gt;</font>\r\n",
      "   \r\n",
      "　   <font class=navBf>tel: 0980997775</font>\r\n",
      "   \r\n",
      "</TD>\r\n",
      "</TR>\r\n",
      "\r\n",
      "\r\n",
      "<TR>\r\n",
      "<td class=\"default\" bgcolor=\"#50AFBA\" align=\"right\"><font color=#ffffff>刊登時間</td>\r\n",
      "<td bgcolor=#fffff0 class=navBf colspan=2>\r\n",
      "2016/3/23 13:06\r\n",
      "</tr>\r\n",
      "\r\n",
      "<TR><TD BGCOLOR=#Fffff0 colspan=3 class=default>\r\n",
      "   【售】 \r",
      "<BR>1. Nikon D750(公保內)+ Nikon 24-70G(水過保) \r",
      "<BR>2. Nikon D750(公保內)+ Nikon 50 1.8G (公) \r",
      "<BR>3. Nikon TC-14 II (公過保) \r",
      "<BR>4. Nikon 14-24 f2.8G (公過保) \r",
      "<BR>5. Nikon SB910 (水過保) \r",
      "<BR>6. Tamron 70-200 f2.8 Di VC USD A009 (公保內) \r",
      "<BR>7. Nissin MF18 Marco 環形閃光燈 for Nikon (公) \r",
      "<BR>8. Pixel king i-TTL \r",
      "<BR>9. Nikon 50mm f1.4G(公過保) \r",
      "<BR>10. Marsace 瑪瑟士DP-N1424 濾鏡環支架+ ND16(未使用) \r",
      "<BR>11. Nikon D810(公保內) +MB-D12 \r",
      "<BR>12. Nikon 35mm f1.4G (公過保) \r",
      "<BR>13. Nikon 35mm f1.4G (水過保)\r",
      "<BR>【地點】 台北 \r",
      "<BR>【價格】 \r",
      "<BR>1. 77000 2. 49000 3.8000 4. 37000 5. 10000 \r",
      "<BR>6. 30000 7.8000 8. 2500 9. 9000 \r",
      "<BR>10. 8000 11. 75000 12. 34000 13. 30000 \r",
      "<BR>【配件】原廠配件 \r",
      "<BR>【交易方式】台北面交 \r",
      "<BR>【聯絡方式】LINE: virtualkay 簡訊:0980997775 \r",
      "<BR>【備註】 \r",
      "<BR>1. D750公司貨2015年12購買快門2000, 鏡頭201208過保eWAT水貨皆如新 \r",
      "<BR>2. 2015年底購買, 尚未註冊, 無災情, 快門2000, 單盒齊全 \r",
      "<BR>3. 公過保無單盒狀況良好無傷 \r",
      "<BR>4. 104年12月過保國祥公司貨, 狀況如新無摔撞前後玉完整 \r",
      "<BR>5. 約購入兩年過保, 無單當水貨賣 \r",
      "<BR>6. 2017年1月25過保公司貨, 狀況如新單盒齊 \r",
      "<BR>7. 20150125購入公司貨, 如新非常少用 \r",
      "<BR>8. 一觸發一接收盒子都在, 功能正常, 少用如新 \r",
      "<BR>9. 201005過保公司貨品單盒齊全,8成新 \r",
      "<BR>10. 包裝盒裝齊全, 尚未使用過 \r",
      "<BR>11. 20161011過保公司貨,快門35XX,外觀如新單盒齊全, 手把同期購買平輸原廠品 \r",
      "<BR>12. 2013過保榮泰公司貨, 鏡頭如新單盒齊全\r",
      "<BR>13. 平輸過保, 外觀無傷, 品項功能接良好, 彩盒 \r\n",
      "\r\n",
      "<br>\r\n",
      "  \r\n",
      "  \r\n",
      "\r\n",
      "</td></tr>\r\n",
      "</table>\r\n",
      "\r\n",
      "\r\n",
      "<TABLE CELLSPACING=0 BORDER=0 CELLPADDING=3 width=100%>\r\n",
      "<tr>\r\n",
      "<td width=50 valign=middle><INPUT TYPE=\"BUTTON\" VALUE=\"<-- 回前一頁\" onClick=\"history.go(-1)\"></td>\r\n",
      "<td valign=middle>\r\n",
      "\r\n",
      "   &nbsp;\r\n",
      "   <A HREF=\"newflea.asp?id=&msgid=826938&to1=Virtualkay&SUB1=Re：\">回應</A>\r\n",
      "\r\n",
      "\r\n",
      " | <A HREF=\"newflea.asp?id=\"><font color=red><b>刊登物品</b></font></A>\r\n",
      "</td>\r\n",
      "\r\n",
      "\r\n",
      "  \r\n",
      "\r\n",
      "\r\n",
      "<td align=right valign=middle>\r\n",
      "\r\n",
      "</td>\r\n",
      "</tr>\r\n",
      "</TABLE>\r\n",
      "\r\n",
      "\r\n",
      "<p>\r\n",
      "<table CELLSPACING=0 BORDER=0 CELLPADDING=3 width=608 align=center>\r\n",
      "<tr><td class=navbf1>\r\n",
      "<font color=#aa0000>網友請注意:\r\n",
      "<ul>\r\n",
      "<li>本版僅提供網頁平台供網友張貼拍賣訊息。因此本版無法保證所有訊息資料之可靠性。</li>\r\n",
      "<li>建議網友進行交易之前，務必確實比對貨品之規格是否符合，並留下對方之真實姓名(最好記下身分證字號)、聯絡\r\n",
      "方式，<b>強烈建議網友</b>，務必<b>當場點清</b>貨品規格後再行付款，以免事後產生糾紛。</li>\r\n",
      "<li>建議勿用郵局代收貨款, 或匯款方式進行交易(這些都容易產生糾紛)，建議一手交錢、一手交貨。</li>\r\n",
      "</ul>\r\n",
      "</font>\r\n",
      "</td></tr></table>\r\n",
      "</p>\r\n",
      "\r\n",
      "\r\n",
      "\r\n",
      "       <p align=left>\r\n",
      "       &nbsp;<font color=blue class=default><b>對這個拍賣的回應：</b></font>\r\n",
      "       <center>\r\n",
      "       <table CELLSPACING=0 BORDER=0 CELLPADDING=3 width=100% >\r\n",
      "<tr><td><hr color=#ffffff></td></tr><tr><td bgcolor=#d7efef><span class=default>up</td></tr><tr><td align=left bgcolor=#d7efef class=navBf><font color=#000000><b><a target=_blank href='/myalbum.asp?nickname=Virtualkay'>Virtualkay</a></b></font> [2016/3/28 下午 07:15:07]</font></td></tr><tr><td><hr color=#ffffff></td></tr><tr><td bgcolor=#d7efef><span class=default>up</td></tr><tr><td align=left bgcolor=#d7efef class=navBf><font color=#000000><b><a target=_blank href='/myalbum.asp?nickname=Virtualkay'>Virtualkay</a></b></font> [2016/3/28 下午 03:34:32]</font></td></tr><tr><td><hr color=#ffffff></td></tr><tr><td bgcolor=#d7efef><span class=default>up</td></tr><tr><td align=left bgcolor=#d7efef class=navBf><font color=#000000><b><a target=_blank href='/myalbum.asp?nickname=Virtualkay'>Virtualkay</a></b></font> [2016/3/27 下午 05:32:36]</font></td></tr><tr><td><hr color=#ffffff></td></tr><tr><td bgcolor=#d7efef><span class=default>Up</td></tr><tr><td align=left bgcolor=#d7efef class=navBf><font color=#000000><b><a target=_blank href='/myalbum.asp?nickname=Virtualkay'>Virtualkay</a></b></font> [2016/3/24 下午 02:07:25]</font></td></tr><tr><td><hr color=#ffffff></td></tr><tr><td bgcolor=#d7efef><span class=default>up</td></tr><tr><td align=left bgcolor=#d7efef class=navBf><font color=#000000><b><a target=_blank href='/myalbum.asp?nickname=Virtualkay'>Virtualkay</a></b></font> [2016/3/23 下午 08:14:47]</font></td></tr><tr><td><hr color=#8888ff></td></tr></table>\r\n",
      "\r\n",
      "</center>\r\n",
      "<div class=\"ad\" style=\"text-align:center;\">\r\n",
      "\t<p><script type=\"text/javascript\" src=\"http://ad.dcview.com/index.php?id=13&chr=Big5\"></script></p>\r\n",
      "</div>\r\n",
      "</TD>\r\n",
      "</tr>\r\n",
      "</table>\r\n",
      "\r\n",
      "\r\n",
      "</TD>\r\n",
      "</tr>\r\n",
      "</table>\r\n",
      "</div>\r\n",
      "</center>\r\n",
      "\r\n",
      "<!--<table width=\"1000\" border=\"0\" align=\"center\" cellpadding=\"0\" cellspacing=\"0\">\r\n",
      "<tr><td><img src=\"/images/00new.gif\" width=\"5\" height=\"10\"></td></tr>\r\n",
      "<tr><td>\r\n",
      "  <table width=\"1000\" border=\"0\" cellpadding=\"0\" cellspacing=\"1\" bgcolor=\"AAAAAA\">\r\n",
      "  <tr>\r\n",
      "    <td width=\"50%\" background=\"/images/tit_bg-g2.gif\"><img src=\"/images/tit_event.gif\" width=\"71\" height=\"18\"></td>\r\n",
      "    <td background=\"/images/tit_bg-g2.gif\"><img src=\"/images/tit_newinfo.gif\" width=\"71\" height=\"18\"></td>\r\n",
      "  </tr>\r\n",
      "  <tr>\r\n",
      "  \r\n",
      "  <td bgcolor=\"#FFFFFF\">\r\n",
      "    <table cellPadding=3 width=\"100%\" border=0>\r\n",
      "    <tr>\r\n",
      "    <script type=\"text/javascript\" src=\"http://ad.dcview.com/index.php?id=50&chr=Big5\"></script>\r\n",
      "      </tr>\r\n",
      "    </table>\r\n",
      "  </td>\r\n",
      "  \r\n",
      "\r\n",
      "  <td bgcolor=\"#FFFFFF\">\r\n",
      "    <table cellPadding=3 width=\"100%\" border=0>\r\n",
      "    <tr> \r\n",
      "    <script type=\"text/javascript\" src=\"http://ad.dcview.com/index.php?id=51&chr=Big5\"></script>\r\n",
      "    </tr>\r\n",
      "    </table>\r\n",
      "  </td></tr>\r\n",
      "  \r\n",
      "  </table>\r\n",
      "</td></tr>\r\n",
      "</table>-->\r\n",
      "\r\n",
      "<div id=\"down-ad\">\r\n",
      "\t<ul>\r\n",
      "\t\t<script type=\"text/javascript\" src=\"http://ad.dcview.com/index.php?id=15&chr=Big5\"></script>\r\n",
      "\t</ul>\r\n",
      "</div>\r\n",
      "<!-- clear float -->\r\n",
      "<div class=\"clearfix\"></div><!--<p align=center>\r\n",
      "<table width=\"540\" border=\"0\" align=\"center\" cellpadding=\"0\" cellspacing=\"2\">\r\n",
      "<tr> \r\n",
      "<td>\r\n",
      "  <p align=\"center\"><SPAN class=Copyright>DCView 版權所有，若有侵權，本公司將依法訴追，絕不寬貸<br></SPAN><br>\r\n",
      "  <SPAN class=navbfe>\r\n",
      "  <A href=\"http://service.dcview.com\" target=_blank>服務說明與客服中心</a>∣<A href=\"http://service.dcview.com/sales/\" target=_blank>整合行銷服務</a>∣<A href=\"http://service.dcview.com/qa_list.php?classid=6\" target=_blank>行銷合作</a>∣<a href=\"http://service.dcview.com/sales/advertisement.php\" target=_blank>廣告刊登</a>\r\n",
      "  </SPAN></p>\r\n",
      "</td>\r\n",
      "</tr>\r\n",
      "<tr><td class=\"Copyright\"><img src=\"/images/line_g-2.gif\" width=\"100%\" height=\"1\"></td></tr>\r\n",
      "<tr><td class=\"Copyright\"><div align=\"center\">Copyright&copy; 2002-2012 迪希數位科技股份有限公司 All rights reserved.</div></td>\r\n",
      "</tr>\r\n",
      "\r\n",
      "</table>\r\n",
      "</p>-->\r\n",
      "<style type=\"text/css\">\r\n",
      "#footer #nav li.more .nav-more {\r\n",
      "\tposition: absolute;\r\n",
      "\ttop: -50px;\r\n",
      "    right: 0;\r\n",
      "\tz-index: 100000;\r\n",
      "}\r\n",
      "</style>\r\n",
      "<div id=\"footer\">\r\n",
      "\t\t<!-- =footer-main -->\r\n",
      "\t\t<div class=\"footer-main\">\r\n",
      "\t\t\t<!-- =nav -->\r\n",
      "\t\t\t<div id=\"nav\">\r\n",
      "    \t\t\t<ul id=\"more\">\r\n",
      "        \t\t\t<li><a href=\"http://gallery.dcview.com\"><span>作品發表區</span></a></li>\r\n",
      "        \t\t\t<li><a href=\"http://blog.dcview.com\"><span>達人部落</span></a></li>\r\n",
      "        \t\t\t<li><a href=\"http://forum.dcview.com\"><span>討論區</span></a></li>\r\n",
      "        \t\t\t<li><a href=\"http://article.dcview.com\"><span>文章總覽</span></a></li>\r\n",
      "        \t\t\t<li><a href=\"http://library.dcview.com\"><span>影像圖書館</span></a></li>\r\n",
      "        \t\t\t<li ><a href=\"http://school.dcview.com\"><span>影像學院</span></a></li>        \r\n",
      "        \t\t\t<li><a href=\"http://tw.dcview.com/spec/\"><span>相機專區</span></a></li>\r\n",
      "        \t\t\t<li class=\"add\"><a href=\"http://www.dcview.com/dvphone/\"><span>照相手機</span></a></li>\r\n",
      "        \t\t\t<li class=\"add\"><a href=\"http://phototour.dcview.com\"><span>旅行攝</span></a></li>\r\n",
      "        \t\t\t<li><a href=\"http://ishot.dcview.com/\"><span>iShot購物</span></a></li>\r\n",
      "        \t\t\t<li class=\"active\"><a href=\"http://www.dcview.com.tw/dcbid/flealist.asp\"><span>二手專區</span></a></li>\r\n",
      "\t\t\t\t\t<li class=\"more\">\r\n",
      "\t\t\t\t\t\t<a href=\"#\" onmouseover=\"mopen('m2')\" onmouseout=\"mclosetime()\"><span>更多</span></a>\r\n",
      "    \t\t\t\t\t<div class=\"nav-more\" style=\"visibility: hidden;\" id=\"m2\" onmouseover=\"mcancelclosetime()\" onmouseout=\"mclosetime()\">\r\n",
      "\t\t\t\t\t\t<a href=\"http://www.dcview.com.tw/e_paper/epaper_list.htm\">會員電子報</a>\r\n",
      "\t\t\t\t\t\t<!--<a href=\"http://dcpad.dcview.com/mmzine\">影像誌</a>\r\n",
      "\t\t\t\t\t\t<a href=\"http://www.dcview.com.tw/guide.asp\">新手指南</a>\r\n",
      "\t\t\t\t\t\t<a href=\"http://www.dcview.com.tw/sitemap.asp\">網站導覽</a>-->\r\n",
      "\t\t\t\t\t\t<a href=\"http://www.dcview.com.tw/member/\">客服中心</a>\r\n",
      "\t\t\t\t\t\t<!--<a href=\"http://search.dcview.com/search.jsp\">進階搜尋</a>\r\n",
      "\t\t\t\t\t\t<a href=\"http://dcpad.dcview.com/\">DCPad</a>\r\n",
      "\t\t    \t\t\t<a href=\"http://dcpad.dcview.com/taipeishopping/info/\">好康報馬仔</a>-->\r\n",
      "    \t\t\t\t\t</div>\r\n",
      "\t\t\t\t\t</li>\r\n",
      "\t\t\t\t</ul>\r\n",
      "\t\t\t</div>\r\n",
      "\t\t\t\t<!-- =copyright -->\r\n",
      "\t\t\t<div class=\"copyright\">\r\n",
      "\t\t\t\t<div class=\"logo\">\r\n",
      "\t\t\t\t\t<a href=\"new.html\">\r\n",
      "\t\t\t\t\t<img src=\"/images_new/logo_d2.gif\" alt=\"dcview-首頁\" width=\"200\" height=\"60\" /></a>\r\n",
      "\t\t\t\t</div>\r\n",
      "\t\t\t\t<div class=\"content\">\r\n",
      "\t\t\t\t\t<p class=\"link\"><a href=\"http://service.dcview.com/\">服務說明與客服中心</a> ∣ <a href=\"http://service.dcview.com/sales/\">整合行銷服務</a> ∣ <a href=\"http://service.dcview.com/qa_list.php?classid=6\">行銷合作</a> ∣ <a href=\"http://service.dcview.com/sales/advertisement.php\">廣告刊登</a></p>\r\n",
      "\t\t\t\t\t<p>DCView 版權所有，若有侵權，本公司將依法訴訟，絕不寬貸</p>\r\n",
      "\t\t\t\t\t<p>Copyright c 2002-2013 迪希數位科技股份有限公司 All Rights Reserved.</p>\r\n",
      "\t\t\t\t</div>\r\n",
      "\t\t\t\t<div class=\"tag\">\r\n",
      "\t\t\t\t\tDCView 的社群：\r\n",
      "\t\t\t\t\t<a target=\"_blank\" href=\"http://www.facebook.com/pages/DCView/402684696689?v=wall&amp;ref=ts\"><img title=\"facebook\" alt=\"facebook\" src=\"/images_new/facebook_20.png\" width=\"20\" height=\"20\"></a>\r\n",
      "\t\t\t\t\t<a target=\"_blank\" href=\"http://www.plurk.com/dcview\"><img title=\"plurk\" alt=\"plurk\" src=\"/images_new/plurk_20.png\" width=\"20\" height=\"20\"></a>\r\n",
      "\t\t\t\t</div>\r\n",
      "\t\t\t</div>\r\n",
      "\t\t</div>\r\n",
      "</div>\r\n",
      "<script src=\"http://www.google-analytics.com/urchin.js\" type=\"text/javascript\"> </script> \r\n",
      "<script type=\"text/javascript\">\r\n",
      "\t_uacct =\"UA-2075591-1\"; \r\n",
      "\turchinTracker(); \r\n",
      "</script>\r\n",
      "<script type=\"text/javascript\">\r\n",
      "var gaJsHost = ((\"https:\" == document.location.protocol) ? \"https://ssl.\" : \"http://www.\");\r\n",
      "document.write(unescape(\"%3Cscript src='\" + gaJsHost + \"google-analytics.com/ga.js' type='text/javascript'%3E%3C/script%3E\"));\r\n",
      "</script>\r\n",
      "<script type=\"text/javascript\">\r\n",
      "var pageTracker = _gat._getTracker(\"UA-5051332-7\");\r\n",
      "pageTracker._setDomainName(\".dcview.com\");\r\n",
      "pageTracker._initData();\r\n",
      "pageTracker._trackPageview();\r\n",
      "</script>\r\n",
      "\r\n",
      "</BODY>\r\n",
      "</HTML>\n"
     ]
    }
   ],
   "source": [
    "print res3.text"
   ]
  },
  {
   "cell_type": "code",
   "execution_count": 404,
   "metadata": {
    "collapsed": false
   },
   "outputs": [
    {
     "name": "stdout",
     "output_type": "stream",
     "text": [
      "回應\r\n",
      "\r\n",
      " | \n",
      "刊登物品\n",
      "售＄75000\n",
      "Nikon D810(公保內)到10月中-低快門完美如新單盒齊含原廠手把\n",
      "\n",
      "地點：\r\n",
      "   北部\n",
      "刊登人\n",
      "\n",
      "Virtualkay\r\n",
      "   \r\n",
      "　    <kay5402@hotmail.com>\r\n",
      "   \r\n",
      "　   tel: 0980997775\n",
      "刊登時間\n",
      "\r\n",
      "2016/3/23 13:06\n",
      "【售】 \r",
      "1. Nikon D750(公保內)+ Nikon 24-70G(水過保) \r",
      "2. Nikon D750(公保內)+ Nikon 50 1.8G (公) \r",
      "3. Nikon TC-14 II (公過保) \r",
      "4. Nikon 14-24 f2.8G (公過保) \r",
      "5. Nikon SB910 (水過保) \r",
      "6. Tamron 70-200 f2.8 Di VC USD A009 (公保內) \r",
      "7. Nissin MF18 Marco 環形閃光燈 for Nikon (公) \r",
      "8. Pixel king i-TTL \r",
      "9. Nikon 50mm f1.4G(公過保) \r",
      "10. Marsace 瑪瑟士DP-N1424 濾鏡環支架+ ND16(未使用) \r",
      "11. Nikon D810(公保內) +MB-D12 \r",
      "12. Nikon 35mm f1.4G (公過保) \r",
      "13. Nikon 35mm f1.4G (水過保)\r",
      "【地點】 台北 \r",
      "【價格】 \r",
      "1. 77000 2. 49000 3.8000 4. 37000 5. 10000 \r",
      "6. 30000 7.8000 8. 2500 9. 9000 \r",
      "10. 8000 11. 75000 12. 34000 13. 30000 \r",
      "【配件】原廠配件 \r",
      "【交易方式】台北面交 \r",
      "【聯絡方式】LINE: virtualkay 簡訊:0980997775 \r",
      "【備註】 \r",
      "1. D750公司貨2015年12購買快門2000, 鏡頭201208過保eWAT水貨皆如新 \r",
      "2. 2015年底購買, 尚未註冊, 無災情, 快門2000, 單盒齊全 \r",
      "3. 公過保無單盒狀況良好無傷 \r",
      "4. 104年12月過保國祥公司貨, 狀況如新無摔撞前後玉完整 \r",
      "5. 約購入兩年過保, 無單當水貨賣 \r",
      "6. 2017年1月25過保公司貨, 狀況如新單盒齊 \r",
      "7. 20150125購入公司貨, 如新非常少用 \r",
      "8. 一觸發一接收盒子都在, 功能正常, 少用如新 \r",
      "9. 201005過保公司貨品單盒齊全,8成新 \r",
      "10. 包裝盒裝齊全, 尚未使用過 \r",
      "11. 20161011過保公司貨,快門35XX,外觀如新單盒齊全, 手把同期購買平輸原廠品 \r",
      "12. 2013過保榮泰公司貨, 鏡頭如新單盒齊全\r",
      "13. 平輸過保, 外觀無傷, 品項功能接良好, 彩盒\n",
      "回應\r\n",
      "\r\n",
      "\r\n",
      " | 刊登物品\n",
      "網友請注意:\r\n",
      "\n",
      "本版僅提供網頁平台供網友張貼拍賣訊息。因此本版無法保證所有訊息資料之可靠性。\n",
      "建議網友進行交易之前，務必確實比對貨品之規格是否符合，並留下對方之真實姓名(最好記下身分證字號)、聯絡\r\n",
      "方式，強烈建議網友，務必當場點清貨品規格後再行付款，以免事後產生糾紛。\n",
      "建議勿用郵局代收貨款, 或匯款方式進行交易(這些都容易產生糾紛)，建議一手交錢、一手交貨。\n",
      "\n",
      "up\n",
      "Virtualkay [2016/3/28 下午 07:15:07]\n",
      "\n",
      "up\n",
      "Virtualkay [2016/3/28 下午 03:34:32]\n",
      "\n",
      "up\n",
      "Virtualkay [2016/3/27 下午 05:32:36]\n",
      "\n",
      "Up\n",
      "Virtualkay [2016/3/24 下午 02:07:25]\n",
      "\n",
      "up\n",
      "Virtualkay [2016/3/23 下午 08:14:47]\n",
      "\n"
     ]
    }
   ],
   "source": [
    "soup = bs(res3.text)\n",
    "center = soup.select('center')[1]\n",
    "for tr in center.select('table tr'):\n",
    "    print tr.text.strip()\n"
   ]
  },
  {
   "cell_type": "code",
   "execution_count": null,
   "metadata": {
    "collapsed": true
   },
   "outputs": [],
   "source": []
  }
 ],
 "metadata": {
  "kernelspec": {
   "display_name": "Python 2",
   "language": "python",
   "name": "python2"
  },
  "language_info": {
   "codemirror_mode": {
    "name": "ipython",
    "version": 2
   },
   "file_extension": ".py",
   "mimetype": "text/x-python",
   "name": "python",
   "nbconvert_exporter": "python",
   "pygments_lexer": "ipython2",
   "version": "2.7.11"
  }
 },
 "nbformat": 4,
 "nbformat_minor": 0
}
