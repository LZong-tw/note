{
 "cells": [
  {
   "cell_type": "markdown",
   "metadata": {},
   "source": [
    "# 回測"
   ]
  },
  {
   "cell_type": "markdown",
   "metadata": {},
   "source": [
    "## 夏普率及最大虧損"
   ]
  },
  {
   "cell_type": "markdown",
   "metadata": {},
   "source": [
    "### 夏普率"
   ]
  },
  {
   "cell_type": "markdown",
   "metadata": {},
   "source": [
    "夏普率的定義：\n",
    "\n",
    "$$訊息比率=\\frac{超額報酬平均值}{超額報酬標準差}$$\n",
    "\n",
    "其中，\n",
    "\n",
    "$$超額報酬 = 投資組合報酬 - 比較基準報酬$$"
   ]
  },
  {
   "cell_type": "code",
   "execution_count": null,
   "metadata": {
    "collapsed": false
   },
   "outputs": [],
   "source": [
    "import ffn\n",
    "\n",
    "%matplotlib inline\n",
    "\n",
    "# Pandas v0.16 之前，使用下面這個\n",
    "#import pandas.io.data as web\n",
    "\n",
    "# Pandas v0.16 之後，使用下面這個\n",
    "import pandas_datareader.data as web\n",
    "\n",
    "from pandas import Series, DataFrame\n",
    "import numpy as np\n",
    "\n",
    "from datetime import datetime"
   ]
  },
  {
   "cell_type": "code",
   "execution_count": null,
   "metadata": {
    "collapsed": false
   },
   "outputs": [],
   "source": [
    "# 讀取從指定日期之後的股價資訊\n",
    "df = web.DataReader(\"TSLA\", 'google', datetime(2016,1,1))"
   ]
  },
  {
   "cell_type": "code",
   "execution_count": null,
   "metadata": {
    "collapsed": true
   },
   "outputs": [],
   "source": [
    "# 手動設定進出場日期\n",
    "# 進出場日期之後會由策略自動產生\n",
    "\n",
    "#進場日期\n",
    "entry = datetime(2016,2,10)\n",
    "#出場日期\n",
    "exit = datetime(2016,4,6)"
   ]
  },
  {
   "cell_type": "code",
   "execution_count": null,
   "metadata": {
    "collapsed": false
   },
   "outputs": [],
   "source": [
    "dailyRet = df['Close'][entry:exit].pct_change()"
   ]
  },
  {
   "cell_type": "code",
   "execution_count": null,
   "metadata": {
    "collapsed": true
   },
   "outputs": [],
   "source": [
    "#假設無風險利率為 4%\n",
    "#假設一年有252個交易日\n",
    "excessRet = dailyRet - 0.04/252\n",
    "\n",
    "sharpeRatio = np.sqrt(252.0)*np.mean(excessRet)/np.std(excessRet)"
   ]
  },
  {
   "cell_type": "code",
   "execution_count": null,
   "metadata": {
    "collapsed": false
   },
   "outputs": [],
   "source": [
    "sharpeRatio"
   ]
  },
  {
   "cell_type": "markdown",
   "metadata": {},
   "source": [
    "### 最大虧損額及最大虧損持續時間"
   ]
  },
  {
   "cell_type": "markdown",
   "metadata": {},
   "source": [
    "### 下圖取自 Qunatitative Trading by Ernest Chan \n",
    "<img src=\"images/maxdd.png\" width=\"800\" />"
   ]
  },
  {
   "cell_type": "code",
   "execution_count": null,
   "metadata": {
    "collapsed": true
   },
   "outputs": [],
   "source": [
    "cumRet = np.cumprod(1 + excessRet)"
   ]
  },
  {
   "cell_type": "code",
   "execution_count": null,
   "metadata": {
    "collapsed": false
   },
   "outputs": [],
   "source": [
    "ffn.core.calc_max_drawdown(cumRet)"
   ]
  },
  {
   "cell_type": "code",
   "execution_count": null,
   "metadata": {
    "collapsed": true
   },
   "outputs": [],
   "source": [
    "dd_series = ffn.core.to_drawdown_series(cumRet)"
   ]
  },
  {
   "cell_type": "code",
   "execution_count": null,
   "metadata": {
    "collapsed": true
   },
   "outputs": [],
   "source": [
    "dd_details = ffn.core.drawdown_details(dd_series)"
   ]
  },
  {
   "cell_type": "code",
   "execution_count": null,
   "metadata": {
    "collapsed": false
   },
   "outputs": [],
   "source": [
    "dd_details"
   ]
  },
  {
   "cell_type": "code",
   "execution_count": null,
   "metadata": {
    "collapsed": false
   },
   "outputs": [],
   "source": [
    "cumRet.plot(style='ro-')"
   ]
  },
  {
   "cell_type": "code",
   "execution_count": null,
   "metadata": {
    "collapsed": true
   },
   "outputs": [],
   "source": [
    "def DrawDownAnalysis(cumRet):\n",
    "    dd_series = ffn.core.to_drawdown_series(cumRet)\n",
    "    dd_details = ffn.core.drawdown_details(dd_series)\n",
    "    return dd_details['drawdown'].min(), dd_details['days'].max()"
   ]
  },
  {
   "cell_type": "code",
   "execution_count": null,
   "metadata": {
    "collapsed": false
   },
   "outputs": [],
   "source": [
    "DrawDownAnalysis(cumRet)"
   ]
  }
 ],
 "metadata": {
  "anaconda-cloud": {},
  "kernelspec": {
   "display_name": "Python [default]",
   "language": "python",
   "name": "python3"
  },
  "language_info": {
   "codemirror_mode": {
    "name": "ipython",
    "version": 3
   },
   "file_extension": ".py",
   "mimetype": "text/x-python",
   "name": "python",
   "nbconvert_exporter": "python",
   "pygments_lexer": "ipython3",
   "version": "3.5.2"
  }
 },
 "nbformat": 4,
 "nbformat_minor": 0
}
