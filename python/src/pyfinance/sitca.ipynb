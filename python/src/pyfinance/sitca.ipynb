{
 "cells": [
  {
   "cell_type": "code",
   "execution_count": 51,
   "metadata": {
    "collapsed": false
   },
   "outputs": [],
   "source": [
    "import requests\n",
    "from bs4 import BeautifulSoup\n",
    "import pandas as pd\n",
    "rs = requests.session()\n",
    "res = rs.get('http://www.sitca.org.tw/ROC/Industry/IN2212.aspx?pid=IN2222_02')\n",
    "soup = BeautifulSoup(res.text,'html.parser')\n",
    "payload = {\n",
    "'ctl00$ContentPlaceHolder1$ddlQ_Y':'2016',\n",
    "'ctl00$ContentPlaceHolder1$ddlQ_M':'3',\n",
    "'ctl00$ContentPlaceHolder1$ddlQ_Fund':'00965469',\n",
    "'ctl00$ContentPlaceHolder1$BtnQuery':'查詢'\n",
    "}\n",
    "for ele in soup.select('input[type==hidden]'):\n",
    "    payload[ele['name']] = ele['value']\n",
    "res2 = rs.post('http://www.sitca.org.tw/ROC/Industry/IN2212.aspx?pid=IN2222_02', data= payload)\n",
    "soup = BeautifulSoup(res2.text)"
   ]
  },
  {
   "cell_type": "code",
   "execution_count": 61,
   "metadata": {
    "collapsed": false
   },
   "outputs": [],
   "source": [
    "tb = soup.select('tr + tr table')[0]\n",
    "joinstr = '<table>'\n",
    "for tr in tb.select('tr'):\n",
    "    if len(tr) == 8:\n",
    "        td = tr.select('td')[1:]    \n",
    "    elif len(tr) == 7:\n",
    "        td = tr.select('td')\n",
    "    joinstr += '<tr>' +  ''.join([c.prettify('utf-8') for c in td]) + '</tr>'    \n",
    "joinstr += '</table>'"
   ]
  },
  {
   "cell_type": "code",
   "execution_count": 62,
   "metadata": {
    "collapsed": true
   },
   "outputs": [],
   "source": [
    "dfs = pd.read_html(joinstr, encoding = 'utf-8')"
   ]
  },
  {
   "cell_type": "code",
   "execution_count": 63,
   "metadata": {
    "collapsed": false
   },
   "outputs": [
    {
     "data": {
      "text/html": [
       "<div>\n",
       "<table border=\"1\" class=\"dataframe\">\n",
       "  <thead>\n",
       "    <tr style=\"text-align: right;\">\n",
       "      <th></th>\n",
       "      <th>委託買賣名次</th>\n",
       "      <th>券商</th>\n",
       "      <th>手續費金額</th>\n",
       "      <th>佔手續費總金額%</th>\n",
       "      <th>交易金額</th>\n",
       "      <th>手續費金額</th>\n",
       "      <th>平均手續費</th>\n",
       "    </tr>\n",
       "  </thead>\n",
       "  <tbody>\n",
       "    <tr>\n",
       "      <th>0</th>\n",
       "      <td>5</td>\n",
       "      <td>日盛證券</td>\n",
       "      <td>1110</td>\n",
       "      <td>0.63%</td>\n",
       "      <td>1117434</td>\n",
       "      <td>1110</td>\n",
       "      <td>0.10%</td>\n",
       "    </tr>\n",
       "    <tr>\n",
       "      <th>1</th>\n",
       "      <td>5</td>\n",
       "      <td>日盛證券</td>\n",
       "      <td>1110</td>\n",
       "      <td>0.63%</td>\n",
       "      <td>1117434</td>\n",
       "      <td>1110</td>\n",
       "      <td>0.10%</td>\n",
       "    </tr>\n",
       "    <tr>\n",
       "      <th>2</th>\n",
       "      <td>1</td>\n",
       "      <td>統一綜合證券</td>\n",
       "      <td>75715</td>\n",
       "      <td>42.87%</td>\n",
       "      <td>75911202</td>\n",
       "      <td>75715</td>\n",
       "      <td>0.10%</td>\n",
       "    </tr>\n",
       "    <tr>\n",
       "      <th>3</th>\n",
       "      <td>2</td>\n",
       "      <td>兆豐證券 (本公司之董事、監事、持股大於5%股東兆豐金融控股股份有限公司擔任該公司之董事、監...</td>\n",
       "      <td>58609</td>\n",
       "      <td>33.18%</td>\n",
       "      <td>58590594</td>\n",
       "      <td>58609</td>\n",
       "      <td>0.10%</td>\n",
       "    </tr>\n",
       "    <tr>\n",
       "      <th>4</th>\n",
       "      <td>3</td>\n",
       "      <td>國票綜合證券</td>\n",
       "      <td>35706</td>\n",
       "      <td>20.22%</td>\n",
       "      <td>35679639</td>\n",
       "      <td>35706</td>\n",
       "      <td>0.10%</td>\n",
       "    </tr>\n",
       "    <tr>\n",
       "      <th>5</th>\n",
       "      <td>4</td>\n",
       "      <td>永豐金證券</td>\n",
       "      <td>5489</td>\n",
       "      <td>3.11%</td>\n",
       "      <td>5498489</td>\n",
       "      <td>5489</td>\n",
       "      <td>0.10%</td>\n",
       "    </tr>\n",
       "    <tr>\n",
       "      <th>6</th>\n",
       "      <td>5</td>\n",
       "      <td>日盛證券</td>\n",
       "      <td>1110</td>\n",
       "      <td>0.63%</td>\n",
       "      <td>1117434</td>\n",
       "      <td>1110</td>\n",
       "      <td>0.10%</td>\n",
       "    </tr>\n",
       "  </tbody>\n",
       "</table>\n",
       "</div>"
      ],
      "text/plain": [
       "   委託買賣名次                                                 券商  手續費金額 佔手續費總金額%  \\\n",
       "0       5                                               日盛證券   1110    0.63%   \n",
       "1       5                                               日盛證券   1110    0.63%   \n",
       "2       1                                             統一綜合證券  75715   42.87%   \n",
       "3       2  兆豐證券 (本公司之董事、監事、持股大於5%股東兆豐金融控股股份有限公司擔任該公司之董事、監...  58609   33.18%   \n",
       "4       3                                             國票綜合證券  35706   20.22%   \n",
       "5       4                                              永豐金證券   5489    3.11%   \n",
       "6       5                                               日盛證券   1110    0.63%   \n",
       "\n",
       "       交易金額  手續費金額  平均手續費  \n",
       "0   1117434   1110  0.10%  \n",
       "1   1117434   1110  0.10%  \n",
       "2  75911202  75715  0.10%  \n",
       "3  58590594  58609  0.10%  \n",
       "4  35679639  35706  0.10%  \n",
       "5   5498489   5489  0.10%  \n",
       "6   1117434   1110  0.10%  "
      ]
     },
     "execution_count": 63,
     "metadata": {},
     "output_type": "execute_result"
    }
   ],
   "source": [
    "df = dfs[0]\n",
    "df.columns = ['委託買賣名次','券商','手續費金額','佔手續費總金額%','交易金額','手續費金額','平均手續費']\n",
    "df"
   ]
  }
 ],
 "metadata": {
  "kernelspec": {
   "display_name": "Python 2",
   "language": "python",
   "name": "python2"
  },
  "language_info": {
   "codemirror_mode": {
    "name": "ipython",
    "version": 2
   },
   "file_extension": ".py",
   "mimetype": "text/x-python",
   "name": "python",
   "nbconvert_exporter": "python",
   "pygments_lexer": "ipython2",
   "version": "2.7.11"
  }
 },
 "nbformat": 4,
 "nbformat_minor": 0
}
