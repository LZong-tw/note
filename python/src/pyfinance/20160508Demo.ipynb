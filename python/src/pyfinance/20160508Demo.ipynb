{
 "cells": [
  {
   "cell_type": "code",
   "execution_count": 1,
   "metadata": {
    "collapsed": false,
    "scrolled": true
   },
   "outputs": [
    {
     "name": "stdout",
     "output_type": "stream",
     "text": [
      "5\n"
     ]
    }
   ],
   "source": [
    "a = 3\n",
    "b = 2\n",
    "print(a+b)"
   ]
  },
  {
   "cell_type": "code",
   "execution_count": 2,
   "metadata": {
    "collapsed": false
   },
   "outputs": [
    {
     "name": "stdout",
     "output_type": "stream",
     "text": [
      "11\n"
     ]
    }
   ],
   "source": [
    "print(a+8)"
   ]
  },
  {
   "cell_type": "code",
   "execution_count": 4,
   "metadata": {
    "collapsed": false
   },
   "outputs": [
    {
     "name": "stdout",
     "output_type": "stream",
     "text": [
      "<Response [200]>\n"
     ]
    }
   ],
   "source": [
    "import requests\n",
    "res = requests.get('https://tw.stock.yahoo.com/q/q?s=2330')\n",
    "print res"
   ]
  },
  {
   "cell_type": "code",
   "execution_count": 8,
   "metadata": {
    "collapsed": false
   },
   "outputs": [],
   "source": [
    "#print res.text"
   ]
  },
  {
   "cell_type": "code",
   "execution_count": 9,
   "metadata": {
    "collapsed": false
   },
   "outputs": [
    {
     "data": {
      "text/plain": [
       "['ConnectionError',\n",
       " 'FileModeWarning',\n",
       " 'HTTPError',\n",
       " 'NullHandler',\n",
       " 'PreparedRequest',\n",
       " 'Request',\n",
       " 'RequestException',\n",
       " 'Response',\n",
       " 'Session',\n",
       " 'Timeout',\n",
       " 'TooManyRedirects',\n",
       " 'URLRequired',\n",
       " '__author__',\n",
       " '__build__',\n",
       " '__builtins__',\n",
       " '__copyright__',\n",
       " '__doc__',\n",
       " '__file__',\n",
       " '__license__',\n",
       " '__name__',\n",
       " '__package__',\n",
       " '__path__',\n",
       " '__title__',\n",
       " '__version__',\n",
       " 'adapters',\n",
       " 'api',\n",
       " 'auth',\n",
       " 'certs',\n",
       " 'codes',\n",
       " 'compat',\n",
       " 'cookies',\n",
       " 'delete',\n",
       " 'exceptions',\n",
       " 'get',\n",
       " 'head',\n",
       " 'hooks',\n",
       " 'logging',\n",
       " 'models',\n",
       " 'options',\n",
       " 'packages',\n",
       " 'patch',\n",
       " 'post',\n",
       " 'put',\n",
       " 'request',\n",
       " 'session',\n",
       " 'sessions',\n",
       " 'status_codes',\n",
       " 'structures',\n",
       " 'utils',\n",
       " 'warnings']"
      ]
     },
     "execution_count": 9,
     "metadata": {},
     "output_type": "execute_result"
    }
   ],
   "source": [
    "dir(requests)"
   ]
  },
  {
   "cell_type": "code",
   "execution_count": 10,
   "metadata": {
    "collapsed": false
   },
   "outputs": [
    {
     "name": "stdout",
     "output_type": "stream",
     "text": [
      "Help on package requests:\n",
      "\n",
      "NAME\n",
      "    requests\n",
      "\n",
      "FILE\n",
      "    c:\\anaconda2\\lib\\site-packages\\requests\\__init__.py\n",
      "\n",
      "DESCRIPTION\n",
      "    Requests HTTP library\n",
      "    ~~~~~~~~~~~~~~~~~~~~~\n",
      "    \n",
      "    Requests is an HTTP library, written in Python, for human beings. Basic GET\n",
      "    usage:\n",
      "    \n",
      "       >>> import requests\n",
      "       >>> r = requests.get('https://www.python.org')\n",
      "       >>> r.status_code\n",
      "       200\n",
      "       >>> 'Python is a programming language' in r.content\n",
      "       True\n",
      "    \n",
      "    ... or POST:\n",
      "    \n",
      "       >>> payload = dict(key1='value1', key2='value2')\n",
      "       >>> r = requests.post('http://httpbin.org/post', data=payload)\n",
      "       >>> print(r.text)\n",
      "       {\n",
      "         ...\n",
      "         \"form\": {\n",
      "           \"key2\": \"value2\",\n",
      "           \"key1\": \"value1\"\n",
      "         },\n",
      "         ...\n",
      "       }\n",
      "    \n",
      "    The other HTTP methods are supported - see `requests.api`. Full documentation\n",
      "    is at <http://python-requests.org>.\n",
      "    \n",
      "    :copyright: (c) 2015 by Kenneth Reitz.\n",
      "    :license: Apache 2.0, see LICENSE for more details.\n",
      "\n",
      "PACKAGE CONTENTS\n",
      "    adapters\n",
      "    api\n",
      "    auth\n",
      "    certs\n",
      "    compat\n",
      "    cookies\n",
      "    exceptions\n",
      "    hooks\n",
      "    models\n",
      "    packages (package)\n",
      "    sessions\n",
      "    status_codes\n",
      "    structures\n",
      "    utils\n",
      "\n",
      "DATA\n",
      "    __author__ = 'Kenneth Reitz'\n",
      "    __build__ = 133377\n",
      "    __copyright__ = 'Copyright 2015 Kenneth Reitz'\n",
      "    __license__ = 'Apache 2.0'\n",
      "    __title__ = 'requests'\n",
      "    __version__ = '2.9.1'\n",
      "    codes = <lookup 'status_codes'>\n",
      "\n",
      "VERSION\n",
      "    2.9.1\n",
      "\n",
      "AUTHOR\n",
      "    Kenneth Reitz\n",
      "\n",
      "\n"
     ]
    }
   ],
   "source": [
    "help(requests)"
   ]
  },
  {
   "cell_type": "code",
   "execution_count": 11,
   "metadata": {
    "collapsed": true
   },
   "outputs": [],
   "source": [
    "?requests"
   ]
  },
  {
   "cell_type": "code",
   "execution_count": 12,
   "metadata": {
    "collapsed": false
   },
   "outputs": [
    {
     "name": "stdout",
     "output_type": "stream",
     "text": [
      "<Response [200]>\n"
     ]
    }
   ],
   "source": [
    "import requests\n",
    "payload = {\n",
    "'qdate':'105/05/06',\n",
    "'select2':'ALL',\n",
    "'sorting':'by_issue'    \n",
    "}\n",
    "\n",
    "url = 'http://www.twse.com.tw/ch/trading/fund/T86/T86.php'\n",
    "res = requests.post(url , data = payload )\n",
    "print res"
   ]
  },
  {
   "cell_type": "code",
   "execution_count": 22,
   "metadata": {
    "collapsed": false
   },
   "outputs": [
    {
     "name": "stdout",
     "output_type": "stream",
     "text": [
      "<class 'requests.models.Response'>\n"
     ]
    }
   ],
   "source": [
    "print type(res)\n",
    "#print res.text"
   ]
  },
  {
   "cell_type": "markdown",
   "metadata": {},
   "source": [
    "## BeautifulSoup"
   ]
  },
  {
   "cell_type": "code",
   "execution_count": 23,
   "metadata": {
    "collapsed": false
   },
   "outputs": [
    {
     "name": "stdout",
     "output_type": "stream",
     "text": [
      "<class 'bs4.BeautifulSoup'>\n",
      "\n",
      "\n",
      "\n",
      "Hello World\n",
      "This is link1\n",
      "This is link2\n",
      "\n",
      "\n"
     ]
    }
   ],
   "source": [
    "from bs4 import BeautifulSoup \n",
    "html_sample = ''' \n",
    "<html> \n",
    " <body> \n",
    " <h1 id=\"title\">Hello World</h1> \n",
    " <a href=\"#\" class=\"link\">This is link1</a> \n",
    " <a href=\"# link2\" class=\"link\">This is link2</a> \n",
    " </body> \n",
    " </html>'''\n",
    "\n",
    "soup = BeautifulSoup(html_sample, 'html.parser')\n",
    "print type(soup)\n",
    "print soup.text"
   ]
  },
  {
   "cell_type": "markdown",
   "metadata": {},
   "source": [
    "## select by tag"
   ]
  },
  {
   "cell_type": "code",
   "execution_count": 24,
   "metadata": {
    "collapsed": false
   },
   "outputs": [
    {
     "name": "stdout",
     "output_type": "stream",
     "text": [
      "[<a class=\"link\" href=\"#\">This is link1</a>, <a class=\"link\" href=\"# link2\">This is link2</a>]\n"
     ]
    }
   ],
   "source": [
    "print soup.select('a')"
   ]
  },
  {
   "cell_type": "code",
   "execution_count": 34,
   "metadata": {
    "collapsed": false
   },
   "outputs": [
    {
     "name": "stdout",
     "output_type": "stream",
     "text": [
      "<a class=\"link\" href=\"#\">This is link1</a>\n",
      "<a class=\"link\" href=\"# link2\">This is link2</a>\n"
     ]
    }
   ],
   "source": [
    "alinks = soup.select('a')\n",
    "print alinks[0]\n",
    "print alinks[1]"
   ]
  },
  {
   "cell_type": "code",
   "execution_count": 35,
   "metadata": {
    "collapsed": false
   },
   "outputs": [
    {
     "name": "stdout",
     "output_type": "stream",
     "text": [
      "<a class=\"link\" href=\"#\">This is link1</a>\n",
      "<a class=\"link\" href=\"# link2\">This is link2</a>\n"
     ]
    }
   ],
   "source": [
    "for qoo in alinks:\n",
    "    print qoo"
   ]
  },
  {
   "cell_type": "code",
   "execution_count": 38,
   "metadata": {
    "collapsed": false
   },
   "outputs": [
    {
     "name": "stdout",
     "output_type": "stream",
     "text": [
      "<h1 id=\"title\">Hello World</h1>\n"
     ]
    }
   ],
   "source": [
    "h1 =  soup.select('h1')\n",
    "print h1[0]"
   ]
  },
  {
   "cell_type": "markdown",
   "metadata": {},
   "source": [
    "## list operation"
   ]
  },
  {
   "cell_type": "markdown",
   "metadata": {},
   "source": [
    "- list => []\n",
    "- dictionary => {}\n",
    "- tuple = > ()"
   ]
  },
  {
   "cell_type": "code",
   "execution_count": 29,
   "metadata": {
    "collapsed": false
   },
   "outputs": [
    {
     "name": "stdout",
     "output_type": "stream",
     "text": [
      "[175, 172, 180]\n",
      "175\n",
      "180\n",
      "[175, 172, 180, 166]\n",
      "[175, 172, 180]\n",
      "[172, 175, 180]\n"
     ]
    }
   ],
   "source": [
    "height = 175\n",
    "heights = [175, 172, 180]\n",
    "print heights\n",
    "print heights[0] # get first element\n",
    "print heights[-1] # get last element\n",
    "\n",
    "heights.append(166) #add new element\n",
    "print heights\n",
    "heights.pop() # remove last element\n",
    "print heights\n",
    "heights.sort() # sort element\n",
    "print heights"
   ]
  },
  {
   "cell_type": "markdown",
   "metadata": {},
   "source": [
    "## get element by id"
   ]
  },
  {
   "cell_type": "code",
   "execution_count": 43,
   "metadata": {
    "collapsed": false
   },
   "outputs": [
    {
     "name": "stdout",
     "output_type": "stream",
     "text": [
      "[<h1 id=\"title\">Hello World</h1>]\n",
      "<h1 id=\"title\">Hello World</h1>\n",
      "Hello World\n"
     ]
    }
   ],
   "source": [
    "#print soup\n",
    "print soup.select('#title') # id => #\n",
    "print soup.select('#title')[0]\n",
    "print soup.select('#title')[0].text"
   ]
  },
  {
   "cell_type": "markdown",
   "metadata": {},
   "source": [
    "## get element by class"
   ]
  },
  {
   "cell_type": "code",
   "execution_count": 48,
   "metadata": {
    "collapsed": false
   },
   "outputs": [
    {
     "name": "stdout",
     "output_type": "stream",
     "text": [
      "[<a class=\"link\" href=\"#\">This is link1</a>, <a class=\"link\" href=\"# link2\">This is link2</a>]\n",
      "<a class=\"link\" href=\"#\">This is link1</a>\n",
      "<a class=\"link\" href=\"# link2\">This is link2</a>\n"
     ]
    }
   ],
   "source": [
    "#print soup\n",
    "print soup.select('.link') # class => .\n",
    "print soup.select('.link')[0] # get first item\n",
    "print soup.select('.link')[1] # get second item"
   ]
  },
  {
   "cell_type": "code",
   "execution_count": 51,
   "metadata": {
    "collapsed": false
   },
   "outputs": [
    {
     "name": "stdout",
     "output_type": "stream",
     "text": [
      "<a class=\"link\" href=\"#\">This is link1</a>\n",
      "This is link1\n",
      "<a class=\"link\" href=\"# link2\">This is link2</a>\n",
      "This is link2\n"
     ]
    }
   ],
   "source": [
    "for link in soup.select('.link'):\n",
    "    print link\n",
    "    print link.text"
   ]
  },
  {
   "cell_type": "markdown",
   "metadata": {},
   "source": [
    "## get property of a tag"
   ]
  },
  {
   "cell_type": "code",
   "execution_count": 56,
   "metadata": {
    "collapsed": false
   },
   "outputs": [
    {
     "name": "stdout",
     "output_type": "stream",
     "text": [
      "<a class=\"link\" href=\"#\">This is link1</a>\n",
      "#\n"
     ]
    }
   ],
   "source": [
    "link =  soup.select('.link')[0]\n",
    "print link\n",
    "print link['href']"
   ]
  },
  {
   "cell_type": "code",
   "execution_count": 62,
   "metadata": {
    "collapsed": false
   },
   "outputs": [
    {
     "name": "stdout",
     "output_type": "stream",
     "text": [
      "[<a href=\"#\" qoo=\"123\" qqq=\"234\">this is a link</a>]\n",
      "<a href=\"#\" qoo=\"123\" qqq=\"234\">this is a link</a>\n",
      "123\n",
      "123\n",
      "#\n"
     ]
    }
   ],
   "source": [
    "sample = '<a href=\"#\" qoo=123 qqq=234>this is a link</a>'\n",
    "soup = BeautifulSoup(sample, 'html.parser')\n",
    "print soup.select('a')\n",
    "print soup.select('a')[0]\n",
    "print soup.select('a')[0]['qoo']\n",
    "print soup.select('a')[0]['qoo']\n",
    "print soup.select('a')[0]['href']"
   ]
  },
  {
   "cell_type": "markdown",
   "metadata": {},
   "source": [
    "## get 2330 price"
   ]
  },
  {
   "cell_type": "code",
   "execution_count": 68,
   "metadata": {
    "collapsed": false
   },
   "outputs": [
    {
     "name": "stdout",
     "output_type": "stream",
     "text": [
      "[<b>148.0</b>]\n",
      "<b>148.0</b>\n",
      "148.0\n"
     ]
    }
   ],
   "source": [
    "import requests\n",
    "from bs4 import BeautifulSoup\n",
    "res= requests.get('https://tw.stock.yahoo.com/q/q?s=2330')\n",
    "#print res.text\n",
    "\n",
    "soup = BeautifulSoup(res.text)\n",
    "print soup.select('b')\n",
    "print soup.select('b')[0]\n",
    "print soup.select('b')[0].text\n",
    "#print soup.text"
   ]
  },
  {
   "cell_type": "markdown",
   "metadata": {},
   "source": [
    "## get 2330 news"
   ]
  },
  {
   "cell_type": "code",
   "execution_count": 74,
   "metadata": {
    "collapsed": false
   },
   "outputs": [
    {
     "name": "stdout",
     "output_type": "stream",
     "text": [
      "https://tw.stock.yahoo.com/news_content/url/d/a/20160507/%E7%B6%A0%E8%83%BD%E6%98%AF%E9%96%80%E5%A5%BD%E7%94%9F%E6%84%8F-%E4%B8%AD%E7%A7%91%E5%9C%92%E5%8D%80%E7%94%9F%E6%A9%9F%E8%93%AC%E5%8B%83-055324594.html 綠能是門好生意 中科園區生機蓬勃\n",
      "https://tw.stock.yahoo.com/news_content/url/d/a/20160507/%E5%8F%B0%E5%8C%97%E8%82%A1%E5%B8%82-%E6%90%B6%E6%8A%B1%E8%98%8B%E6%9E%9C%E9%8F%88-%E4%BB%8A%E5%B9%B4-%E5%A0%B4%E7%A9%BA-025624477.html 《台北股市》搶抱蘋果鏈，今年一場空\n",
      "https://tw.stock.yahoo.com/news_content/url/d/a/20160506/%E5%85%AC%E5%91%8A-%E5%8F%B0%E7%A9%8D%E9%9B%BB%E4%BB%A3%E5%AD%90%E5%85%AC%E5%8F%B8-tsmc-global-ltd-095950473.html 【公告】台積電代子公司 TSMC Global Ltd. 取得BBT之普通公司債\n",
      "https://tw.stock.yahoo.com/news_content/url/d/a/20160506/%E8%AD%89%E4%BA%A4%E6%89%80-%E4%BB%8A%E6%97%A5%E5%96%AE-%E8%AD%89%E5%88%B8%E9%89%85%E9%A1%8D%E6%88%90%E4%BA%A4%E8%82%A1%E7%A5%A8-%E9%B4%BB%E6%B5%B7-%E5%8F%B0%E7%A9%8D%E9%9B%BB-091645655.html 《證交所》今日單一證券鉅額成交股票：鴻海、台積電\n",
      "https://beap.gemini.yahoo.com/mbclk?bv=1.0.0&es=uUS8cI8GIS8FAvQzmnCzcXoRL3VQimZHCK61CCRR2KAwUYx.0HOPnghHB04eOgXrTtWdelNvN1qmU1WtaEm6EwPYQhY1o9bTh2hAED8K56IK62LDLfDl7CufjsK1pOZl.l6gAeQlOHMJvRVYSmaO1.ugmK.bcSofI9SOZUGfcclS_KRSKH1z_4fMVS5TsIDkbzIT68rOCdxS6BjpL3k_3C7Na60shh9kVUd7XnyByyRFl0TdTIQkFvxfVNHzlzNWfr4XNbpKnjiu7H3JngE_K6F4DsWRdTkZIAYlb41PFvInef.rPKj.LaU2wjEfLrSQ3JQBRkbRAHIRZQ8Ml5iSmEvokXOvbLxPvSrinOquN_KEBlIPd8sDCDFHxedU7nk3Kljld4QfepuwQ51E.X292wCD_r31XCQMQryN4sN5QdkjjKbS7rzSdUkmYCKDMZesRC6C74V4.f3q1p9Hn9fd4SS3J8xcVfCaiyZ9flNV%26lp= 【台灣優良精品】無毒建材搶鋒頭！歐美住家指定使用\n",
      "https://tw.emarketing.yahoo.com/ysmacq/project.html \n",
      "\n",
      "\n"
     ]
    }
   ],
   "source": [
    "import requests\n",
    "from bs4 import BeautifulSoup\n",
    "res= requests.get('https://tw.stock.yahoo.com/q/q?s=2330')\n",
    "\n",
    "soup = BeautifulSoup(res.text)\n",
    "for alink in soup.select('div.bd.quote a'): # get all 'a' tag under 'div.bd.quote'\n",
    "    print alink['href'], alink.text"
   ]
  },
  {
   "cell_type": "code",
   "execution_count": 76,
   "metadata": {
    "collapsed": false
   },
   "outputs": [
    {
     "name": "stdout",
     "output_type": "stream",
     "text": [
      "https://tw.stock.yahoo.com/news_content/url/d/a/20160507/%E7%B6%A0%E8%83%BD%E6%98%AF%E9%96%80%E5%A5%BD%E7%94%9F%E6%84%8F-%E4%B8%AD%E7%A7%91%E5%9C%92%E5%8D%80%E7%94%9F%E6%A9%9F%E8%93%AC%E5%8B%83-055324594.html 綠能是門好生意 中科園區生機蓬勃\n",
      "https://tw.stock.yahoo.com/news_content/url/d/a/20160507/%E5%8F%B0%E5%8C%97%E8%82%A1%E5%B8%82-%E6%90%B6%E6%8A%B1%E8%98%8B%E6%9E%9C%E9%8F%88-%E4%BB%8A%E5%B9%B4-%E5%A0%B4%E7%A9%BA-025624477.html 《台北股市》搶抱蘋果鏈，今年一場空\n",
      "https://tw.stock.yahoo.com/news_content/url/d/a/20160506/%E5%85%AC%E5%91%8A-%E5%8F%B0%E7%A9%8D%E9%9B%BB%E4%BB%A3%E5%AD%90%E5%85%AC%E5%8F%B8-tsmc-global-ltd-095950473.html 【公告】台積電代子公司 TSMC Global Ltd. 取得BBT之普通公司債\n",
      "https://tw.stock.yahoo.com/news_content/url/d/a/20160506/%E8%AD%89%E4%BA%A4%E6%89%80-%E4%BB%8A%E6%97%A5%E5%96%AE-%E8%AD%89%E5%88%B8%E9%89%85%E9%A1%8D%E6%88%90%E4%BA%A4%E8%82%A1%E7%A5%A8-%E9%B4%BB%E6%B5%B7-%E5%8F%B0%E7%A9%8D%E9%9B%BB-091645655.html 《證交所》今日單一證券鉅額成交股票：鴻海、台積電\n",
      "https://beap.gemini.yahoo.com/mbclk?bv=1.0.0&es=uUS8cI8GIS8FAvQzmnCzcXoRL3VQimZHCK61CCRR2KAwUYx.0HOPnghHB04eOgXrTtWdelNvN1qmU1WtaEm6EwPYQhY1o9bTh2hAED8K56IK62LDLfDl7CufjsK1pOZl.l6gAeQlOHMJvRVYSmaO1.ugmK.bcSofI9SOZUGfcclS_KRSKH1z_4fMVS5TsIDkbzIT68rOCdxS6BjpL3k_3C7Na60shh9kVUd7XnyByyRFl0TdTIQkFvxfVNHzlzNWfr4XNbpKnjiu7H3JngE_K6F4DsWRdTkZIAYlb41PFvInef.rPKj.LaU2wjEfLrSQ3JQBRkbRAHIRZQ8Ml5iSmEvokXOvbLxPvSrinOquN_KEBlIPd8sDCDFHxedU7nk3Kljld4QfepuwQ51E.X292wCD_r31XCQMQryN4sN5QdkjjKbS7rzSdUkmYCKDMZesRC6C74V4.f3q1p9Hn9fd4SS3J8xcVfCaiyZ9flNV%26lp= 【台灣優良精品】無毒建材搶鋒頭！歐美住家指定使用\n",
      "https://tw.emarketing.yahoo.com/ysmacq/project.html \n",
      "\n",
      "\n"
     ]
    }
   ],
   "source": [
    "for alink in soup.select('.quote a'): # get all 'a' tag under 'div.bd.quote'\n",
    "    print alink['href'], alink.text\n"
   ]
  },
  {
   "cell_type": "markdown",
   "metadata": {},
   "source": [
    "## install info lite\n",
    "- https://chrome.google.com/webstore/detail/infolite/ipjbadabbpedegielkhgpiekdlmfpgal/related"
   ]
  },
  {
   "cell_type": "code",
   "execution_count": 83,
   "metadata": {
    "collapsed": false
   },
   "outputs": [
    {
     "name": "stdout",
     "output_type": "stream",
     "text": [
      "[1, 2]\n",
      "[2, 3, 4]\n"
     ]
    }
   ],
   "source": [
    "a = [1,2,3,4,5]\n",
    "print a[0:2]\n",
    "print a[1:4]"
   ]
  },
  {
   "cell_type": "markdown",
   "metadata": {},
   "source": [
    "## not recommend"
   ]
  },
  {
   "cell_type": "code",
   "execution_count": 89,
   "metadata": {
    "collapsed": false
   },
   "outputs": [
    {
     "name": "stdout",
     "output_type": "stream",
     "text": [
      "股票代號 2330台積電加到投資組合\n",
      "時間 14:30\n",
      "成交 148.0\n",
      "買進 147.5\n",
      "賣出 148.0\n",
      "漲跌 △0.5\n",
      "                \n",
      "張數 36,528\n",
      "昨收 147.5\n",
      "開盤 148.5\n",
      "最高 148.5\n",
      "最低 147.0\n",
      "個股資料 \n",
      "成交明細技術　新聞基本　籌碼個股健診\n"
     ]
    }
   ],
   "source": [
    "import requests\n",
    "from bs4 import BeautifulSoup\n",
    "res= requests.get('https://tw.stock.yahoo.com/q/q?s=2330')\n",
    "\n",
    "soup = BeautifulSoup(res.text)\n",
    "tb = soup.select('table + table table')\n",
    "tr = tb[0].select('tr')\n",
    "\n",
    "th = tr[0].select('th')\n",
    "td = tr[1].select('td')\n",
    "\n",
    "for h, d in zip(th, td):\n",
    "    print h.text,d.text"
   ]
  },
  {
   "cell_type": "code",
   "execution_count": 102,
   "metadata": {
    "collapsed": false
   },
   "outputs": [
    {
     "name": "stdout",
     "output_type": "stream",
     "text": [
      "a 1\n",
      "b 2\n",
      "c 3\n",
      "[('a', 1), ('b', 2), ('c', 3)]\n",
      "('a', 1)\n",
      "('b', 2)\n",
      "('c', 3)\n",
      "a 1\n",
      "b 2\n",
      "c 3\n",
      "a 1\n",
      "b 2\n",
      "c 3\n"
     ]
    }
   ],
   "source": [
    "a = ['a', 'b', 'c']\n",
    "b = [1,2,3]\n",
    "#print len(a)\n",
    "for i in range(0, len(a)):\n",
    "    print a[i], b[i]\n",
    "     \n",
    "print zip(a, b)\n",
    "\n",
    "for t in zip(a,b):\n",
    "    print t\n",
    "    \n",
    "for t in zip(a,b):\n",
    "    print t[0], t[1]\n",
    "    \n",
    "for t1,t2 in zip(a,b):\n",
    "    print t1, t2"
   ]
  },
  {
   "cell_type": "markdown",
   "metadata": {},
   "source": [
    "## recommend"
   ]
  },
  {
   "cell_type": "code",
   "execution_count": 92,
   "metadata": {
    "collapsed": false
   },
   "outputs": [
    {
     "data": {
      "text/html": [
       "<div>\n",
       "<table border=\"1\" class=\"dataframe\">\n",
       "  <thead>\n",
       "    <tr style=\"text-align: right;\">\n",
       "      <th></th>\n",
       "      <th>0</th>\n",
       "      <th>1</th>\n",
       "      <th>2</th>\n",
       "      <th>3</th>\n",
       "      <th>4</th>\n",
       "      <th>5</th>\n",
       "      <th>6</th>\n",
       "      <th>7</th>\n",
       "      <th>8</th>\n",
       "      <th>9</th>\n",
       "      <th>10</th>\n",
       "      <th>11</th>\n",
       "    </tr>\n",
       "  </thead>\n",
       "  <tbody>\n",
       "    <tr>\n",
       "      <th>0</th>\n",
       "      <td>股票  代號</td>\n",
       "      <td>時間</td>\n",
       "      <td>成交</td>\n",
       "      <td>買進</td>\n",
       "      <td>賣出</td>\n",
       "      <td>漲跌</td>\n",
       "      <td>張數</td>\n",
       "      <td>昨收</td>\n",
       "      <td>開盤</td>\n",
       "      <td>最高</td>\n",
       "      <td>最低</td>\n",
       "      <td>個股資料</td>\n",
       "    </tr>\n",
       "    <tr>\n",
       "      <th>1</th>\n",
       "      <td>2330台積電  加到投資組合</td>\n",
       "      <td>14:30</td>\n",
       "      <td>148.0</td>\n",
       "      <td>147.5</td>\n",
       "      <td>148.0</td>\n",
       "      <td>△0.5</td>\n",
       "      <td>36528</td>\n",
       "      <td>147.5</td>\n",
       "      <td>148.5</td>\n",
       "      <td>148.5</td>\n",
       "      <td>147.0</td>\n",
       "      <td>成交明細  技術  新聞  基本  籌碼  個股健診</td>\n",
       "    </tr>\n",
       "    <tr>\n",
       "      <th>2</th>\n",
       "      <td>凱基證券下單</td>\n",
       "      <td>買  賣  張  零股交易</td>\n",
       "      <td>NaN</td>\n",
       "      <td>NaN</td>\n",
       "      <td>NaN</td>\n",
       "      <td>NaN</td>\n",
       "      <td>NaN</td>\n",
       "      <td>NaN</td>\n",
       "      <td>NaN</td>\n",
       "      <td>NaN</td>\n",
       "      <td>NaN</td>\n",
       "      <td>NaN</td>\n",
       "    </tr>\n",
       "  </tbody>\n",
       "</table>\n",
       "</div>"
      ],
      "text/plain": [
       "                0              1      2      3      4     5      6      7   \\\n",
       "0           股票  代號             時間     成交     買進     賣出    漲跌     張數     昨收   \n",
       "1  2330台積電  加到投資組合          14:30  148.0  147.5  148.0  △0.5  36528  147.5   \n",
       "2           凱基證券下單  買  賣  張  零股交易    NaN    NaN    NaN   NaN    NaN    NaN   \n",
       "\n",
       "      8      9      10                          11  \n",
       "0     開盤     最高     最低                        個股資料  \n",
       "1  148.5  148.5  147.0  成交明細  技術  新聞  基本  籌碼  個股健診  \n",
       "2    NaN    NaN    NaN                         NaN  "
      ]
     },
     "execution_count": 92,
     "metadata": {},
     "output_type": "execute_result"
    }
   ],
   "source": [
    "import requests\n",
    "import pandas as pd\n",
    "from bs4 import BeautifulSoup\n",
    "res= requests.get('https://tw.stock.yahoo.com/q/q?s=2330')\n",
    "\n",
    "soup = BeautifulSoup(res.text)\n",
    "tb = soup.select('table + table table')\n",
    "df = pd.read_html(tb[0].prettify('utf-8'), encoding= 'utf-8')\n",
    "df[0]"
   ]
  },
  {
   "cell_type": "markdown",
   "metadata": {},
   "source": [
    "## w3c school \n",
    "- http://www.w3schools.com/cssref/css_selectors.asp"
   ]
  },
  {
   "cell_type": "markdown",
   "metadata": {},
   "source": [
    "## 投資信託暨顧問商業同業公會"
   ]
  },
  {
   "cell_type": "code",
   "execution_count": 2,
   "metadata": {
    "collapsed": false
   },
   "outputs": [
    {
     "name": "stderr",
     "output_type": "stream",
     "text": [
      "C:\\Anaconda2\\lib\\site-packages\\bs4\\__init__.py:166: UserWarning: No parser was explicitly specified, so I'm using the best available HTML parser for this system (\"lxml\"). This usually isn't a problem, but if you run this code on another system, or in a different virtual environment, it may use a different parser and behave differently.\n",
      "\n",
      "To get rid of this warning, change this:\n",
      "\n",
      " BeautifulSoup([your markup])\n",
      "\n",
      "to this:\n",
      "\n",
      " BeautifulSoup([your markup], \"lxml\")\n",
      "\n",
      "  markup_type=markup_type))\n"
     ]
    }
   ],
   "source": [
    "import requests\n",
    "from bs4 import BeautifulSoup\n",
    "import pandas as pd\n",
    "rs = requests.session()\n",
    "res = rs.get('http://www.sitca.org.tw/ROC/Industry/IN2212.aspx?pid=IN2222_02')\n",
    "soup = BeautifulSoup(res.text)\n",
    "payload = {\n",
    "'ctl00$ContentPlaceHolder1$ddlQ_Y':'2016',\n",
    "'ctl00$ContentPlaceHolder1$ddlQ_M':'3',\n",
    "'ctl00$ContentPlaceHolder1$ddlQ_Fund':'00965469',\n",
    "'ctl00$ContentPlaceHolder1$BtnQuery':'查詢'\n",
    "}\n",
    "for ele in soup.select('input[type==hidden]'):\n",
    "    payload[ele['name']] = ele['value']\n",
    "res2 = rs.post('http://www.sitca.org.tw/ROC/Industry/IN2212.aspx?pid=IN2222_02', data= payload)\n",
    "soup = BeautifulSoup(res2.text)\n",
    "dfs = pd.read_html(soup.select('table')[0].prettify('utf-8'), encoding = 'utf-8')"
   ]
  },
  {
   "cell_type": "code",
   "execution_count": 1,
   "metadata": {
    "collapsed": false
   },
   "outputs": [
    {
     "ename": "NameError",
     "evalue": "name 'soup' is not defined",
     "output_type": "error",
     "traceback": [
      "\u001b[1;31m---------------------------------------------------------------------------\u001b[0m",
      "\u001b[1;31mNameError\u001b[0m                                 Traceback (most recent call last)",
      "\u001b[1;32m<ipython-input-1-30039a76d12d>\u001b[0m in \u001b[0;36m<module>\u001b[1;34m()\u001b[0m\n\u001b[1;32m----> 1\u001b[1;33m \u001b[1;32mprint\u001b[0m \u001b[0msoup\u001b[0m\u001b[1;33m.\u001b[0m\u001b[0mselect\u001b[0m\u001b[1;33m(\u001b[0m\u001b[1;34m'table'\u001b[0m\u001b[1;33m)\u001b[0m\u001b[1;33m[\u001b[0m\u001b[1;36m0\u001b[0m\u001b[1;33m]\u001b[0m\u001b[1;33m.\u001b[0m\u001b[0mprettify\u001b[0m\u001b[1;33m(\u001b[0m\u001b[1;34m'utf-8'\u001b[0m\u001b[1;33m)\u001b[0m\u001b[1;33m\u001b[0m\u001b[0m\n\u001b[0m",
      "\u001b[1;31mNameError\u001b[0m: name 'soup' is not defined"
     ]
    }
   ],
   "source": [
    "print soup.select('table')[0].prettify('utf-8')"
   ]
  },
  {
   "cell_type": "code",
   "execution_count": 9,
   "metadata": {
    "collapsed": false
   },
   "outputs": [],
   "source": [
    "stockdf = dfs[0]"
   ]
  },
  {
   "cell_type": "code",
   "execution_count": 10,
   "metadata": {
    "collapsed": true
   },
   "outputs": [],
   "source": [
    "stockdf.columns  = stockdf.iloc[5]"
   ]
  },
  {
   "cell_type": "code",
   "execution_count": 7,
   "metadata": {
    "collapsed": false
   },
   "outputs": [],
   "source": [
    "stockdf = stockdf.reindex(stockdf.drop([1,2,3,4,5]))"
   ]
  },
  {
   "cell_type": "code",
   "execution_count": 17,
   "metadata": {
    "collapsed": false
   },
   "outputs": [],
   "source": [
    "s1 = stockdf.drop([0,1,2,3,4,5,6])"
   ]
  },
  {
   "cell_type": "code",
   "execution_count": 21,
   "metadata": {
    "collapsed": false
   },
   "outputs": [
    {
     "data": {
      "text/html": [
       "<div>\n",
       "<table border=\"1\" class=\"dataframe\">\n",
       "  <thead>\n",
       "    <tr style=\"text-align: right;\">\n",
       "      <th>5</th>\n",
       "      <th>基金名稱</th>\n",
       "      <th>委託買賣名次</th>\n",
       "      <th>券商</th>\n",
       "      <th>手續費金額</th>\n",
       "      <th>佔手續費總金額%</th>\n",
       "      <th>股票交易</th>\n",
       "    </tr>\n",
       "  </thead>\n",
       "  <tbody>\n",
       "    <tr>\n",
       "      <th>7</th>\n",
       "      <td>兆豐國際第一基金</td>\n",
       "      <td>1</td>\n",
       "      <td>統一綜合證券</td>\n",
       "      <td>75715</td>\n",
       "      <td>42.87%</td>\n",
       "      <td>75911202</td>\n",
       "    </tr>\n",
       "    <tr>\n",
       "      <th>8</th>\n",
       "      <td>2</td>\n",
       "      <td>兆豐證券 (本公司之董事、監事、持股大於5%股東兆豐金融控股股份有限公司擔任該公司之董事、監...</td>\n",
       "      <td>58609</td>\n",
       "      <td>33.18%</td>\n",
       "      <td>58590594</td>\n",
       "      <td>58609</td>\n",
       "    </tr>\n",
       "    <tr>\n",
       "      <th>9</th>\n",
       "      <td>3</td>\n",
       "      <td>國票綜合證券</td>\n",
       "      <td>35706</td>\n",
       "      <td>20.22%</td>\n",
       "      <td>35679639</td>\n",
       "      <td>35706</td>\n",
       "    </tr>\n",
       "    <tr>\n",
       "      <th>10</th>\n",
       "      <td>4</td>\n",
       "      <td>永豐金證券</td>\n",
       "      <td>5489</td>\n",
       "      <td>3.11%</td>\n",
       "      <td>5498489</td>\n",
       "      <td>5489</td>\n",
       "    </tr>\n",
       "    <tr>\n",
       "      <th>11</th>\n",
       "      <td>5</td>\n",
       "      <td>日盛證券</td>\n",
       "      <td>1110</td>\n",
       "      <td>0.63%</td>\n",
       "      <td>1117434</td>\n",
       "      <td>1110</td>\n",
       "    </tr>\n",
       "  </tbody>\n",
       "</table>\n",
       "</div>"
      ],
      "text/plain": [
       "5       基金名稱                                             委託買賣名次      券商  \\\n",
       "7   兆豐國際第一基金                                                  1  統一綜合證券   \n",
       "8          2  兆豐證券 (本公司之董事、監事、持股大於5%股東兆豐金融控股股份有限公司擔任該公司之董事、監...   58609   \n",
       "9          3                                             國票綜合證券   35706   \n",
       "10         4                                              永豐金證券    5489   \n",
       "11         5                                               日盛證券    1110   \n",
       "\n",
       "5    手續費金額  佔手續費總金額%      股票交易  \n",
       "7    75715    42.87%  75911202  \n",
       "8   33.18%  58590594     58609  \n",
       "9   20.22%  35679639     35706  \n",
       "10   3.11%   5498489      5489  \n",
       "11   0.63%   1117434      1110  "
      ]
     },
     "execution_count": 21,
     "metadata": {},
     "output_type": "execute_result"
    }
   ],
   "source": [
    "s1[[u'基金名稱',u'委託買賣名次',u'券商',u'手續費金額', u'佔手續費總金額%',u'股票交易']]"
   ]
  },
  {
   "cell_type": "markdown",
   "metadata": {
    "collapsed": true
   },
   "source": [
    "## cnyes news"
   ]
  },
  {
   "cell_type": "code",
   "execution_count": 4,
   "metadata": {
    "collapsed": false
   },
   "outputs": [],
   "source": [
    "import requests\n",
    "res = requests.get('http://news.cnyes.com/wd_stock/list.shtml?ga=nav')\n",
    "#print res.encoding\n",
    "res.encoding='utf-8'"
   ]
  },
  {
   "cell_type": "code",
   "execution_count": 8,
   "metadata": {
    "collapsed": false
   },
   "outputs": [
    {
     "name": "stdout",
     "output_type": "stream",
     "text": [
      "http://news.cnyes.com/Content/20160508/20160508082005000739632.shtml?c=headline 私有化招證監會約談？奇虎360：傳言與事實不符\n",
      "http://news.cnyes.com/Content/20160507/20160507183802000714456.shtml?c=headline 林鄭月娥被中斷發言退保諮詢會提早結束\n",
      "http://news.cnyes.com/Content/20160507/20160507174149000603253.shtml?c=headline SAVANNAH首日參觀人次料破萬\n",
      "http://news.cnyes.com/Content/20160507/20160507174149000030872.shtml?c=headline 慧聰網售內地附屬予上海鋼聯 下周一復牌\n",
      "http://news.cnyes.com/Content/20160507/20160507173800000513789.shtml?c=headline 團體退休保障諮詢會外請願批評政府漠視民意\n",
      "http://news.cnyes.com/Content/20160507/20160507173144000149859.shtml?c=headline 恆大減持盛京銀行H股 華置69億接盤\n",
      "http://news.cnyes.com/Content/20160507/20160507172153000698453.shtml?c=headline 嘉能可擬再洽售農業部門9.9%股權\n",
      "http://news.cnyes.com/Content/20160507/20160507171358000467271.shtml?c=headline MEGAEXPO終止收購Ultraman知識產權\n",
      "http://news.cnyes.com/Content/20160507/20160507171150000540807.shtml?c=headline 雨潤附屬償還10億人民幣中期票據存不確定\n",
      "http://news.cnyes.com/Content/20160507/20160507171150000200858.shtml?c=headline 北京汽車4月總銷售量按年升13%\n",
      "http://news.cnyes.com/Content/20160507/20160507171150000134634.shtml?c=headline 民生國際發盈喜\n",
      "http://news.cnyes.com/Content/20160507/20160507171149000915553.shtml?c=headline 建福集團發盈警\n",
      "http://news.cnyes.com/Content/20160507/20160507170153000549253.shtml?c=headline 香港食品投資發盈警\n",
      "http://news.cnyes.com/Content/20160507/20160507170153000903076.shtml?c=headline 四洲集團發盈警\n",
      "http://news.cnyes.com/Content/20160507/20160507170152000122792.shtml?c=headline 圓美光電申膚轉主板上市\n",
      "http://news.cnyes.com/Content/20160507/20160507170152000507769.shtml?c=headline 融信資源大折讓2供1籌3563萬元\n",
      "http://news.cnyes.com/Content/20160507/20160507170152000268095.shtml?c=headline 太平洋實業控股股東獲第三方洽購股份\n",
      "http://news.cnyes.com/Content/20160507/20160507165103000533419.shtml?c=headline 南大蘇富特3個月虧損擴大了\n",
      "http://news.cnyes.com/Content/20160507/20160507164142000382669.shtml?c=headline 中國糖果首季轉蝕81萬人民幣\n",
      "http://news.cnyes.com/Content/20160507/20160507164142000256495.shtml?c=headline 緬甸邊境炸藥倉庫爆炸波及雲南多人傷\n",
      "http://news.cnyes.com/Content/20160507/20160507163758000814534.shtml?c=headline 宏峰太平洋首季少賺18% 靠網絡銷售突圍\n",
      "http://news.cnyes.com/Content/20160507/20160507163145000772711.shtml?c=headline 創維數碼今年電視機銷售目標1700萬部\n",
      "http://news.cnyes.com/Content/20160507/20160507162604000781393.shtml?c=headline 宏創高科3個月虧損縮改善靠放債業務\n",
      "http://news.cnyes.com/Content/20160507/20160507161401000877478.shtml?c=headline 上海醫藥附屬與日最大漢方藥生產商組合資\n",
      "http://news.cnyes.com/Content/20160507/20160507161149000504781.shtml?c=headline 新宇國際3個月多賺4.9%\n",
      "http://news.cnyes.com/Content/20160507/20160507154956000047531.shtml?c=headline 上海醫藥董事長樓定波請辭\n",
      "http://news.cnyes.com/Content/20160507/20160507154956000928606.shtml?c=headline 香港珠寶首季仍虧 經濟令集團業務復甦遲緩\n",
      "http://news.cnyes.com/Content/20160507/20160507154956000510899.shtml?c=headline 易通訊季度少賺38%\n",
      "http://news.cnyes.com/Content/20160507/20160507154143000478682.shtml?c=headline 銀合配股籌1560萬 擬強化委託貸款\n",
      "http://news.cnyes.com/Content/20160507/20160507153140000870415.shtml?c=headline 景瑞控股首4個月合約銷售逾40億人民幣\n",
      "http://news.cnyes.com/Content/20160507/20160507153140000165699.shtml?c=headline 中國城建集團考慮分拆業務上創業板\n",
      "http://news.cnyes.com/Content/20160507/20160507152141000543538.shtml?c=headline 海天天?展開無人機產品等應用\n",
      "http://news.cnyes.com/Content/20160507/20160507152559000485887.shtml?c=headline 差估署被拖欠逾億元差餉陳家強稱須釐定工作次序\n",
      "http://news.cnyes.com/Content/20160507/20160507151351000072181.shtml?c=headline 首都金融發盈喜\n",
      "http://news.cnyes.com/Content/20160507/20160507151144000517927.shtml?c=headline 匯聯金融服務發盈喜\n",
      "http://news.cnyes.com/Content/20160507/20160507151143000935927.shtml?c=headline 中國新電信發盈喜\n",
      "http://news.cnyes.com/Content/20160507/20160507151143000507426.shtml?c=headline 首華財經網絡首季蝕錢 續尋商機\n",
      "http://news.cnyes.com/Content/20160507/20160507150156000823472.shtml?c=headline 鼎石資本首季賺464萬\n",
      "http://news.cnyes.com/Content/20160507/20160507144950000772473.shtml?c=headline 神州資源向一內地人配股只籌近千萬\n",
      "http://news.cnyes.com/Content/20160507/20160507144950000761260.shtml?c=headline 億和精密獲中銀2億分期貸款\n"
     ]
    }
   ],
   "source": [
    "from bs4 import BeautifulSoup\n",
    "\n",
    "soup = BeautifulSoup(res.text)\n",
    "for link in soup.select('.bd_dbottom li > a'):\n",
    "    print link['href'], link.text"
   ]
  },
  {
   "cell_type": "markdown",
   "metadata": {},
   "source": [
    "## 使用read_html 讀取表格"
   ]
  },
  {
   "cell_type": "code",
   "execution_count": 14,
   "metadata": {
    "collapsed": false
   },
   "outputs": [
    {
     "name": "stdout",
     "output_type": "stream",
     "text": [
      "Month Savings\n",
      "January $100\n",
      "February $80\n",
      "Sum $180\n"
     ]
    }
   ],
   "source": [
    "table = \"\"\"\n",
    "<table> \n",
    "    <thead> \n",
    "        <tr> \n",
    "        <th>Month</th>  \n",
    "        <th>Savings</th> \n",
    "        </tr> \n",
    "    </thead> \n",
    "    <tbody> \n",
    "        <tr> <td>January</td> <td>$100</td></tr> \n",
    "        <tr> <td>February</td> <td>$80</td></tr> \n",
    "    </tbody> \n",
    "    <tfoot> \n",
    "        <tr> <td>Sum</td> <td>$180</td> </tr> \n",
    "    </tfoot> \n",
    "</table>\n",
    "\"\"\"\n",
    "from bs4 import BeautifulSoup\n",
    "soup = BeautifulSoup(table)\n",
    "tb =  soup.select('table')[0]\n",
    "for tr in tb.select('tr'):\n",
    "    if len(tr.select('th')) >0:\n",
    "        for th in tr.select('th'):\n",
    "            print th.text,\n",
    "        print\n",
    "    if len(tr.select('td')) >0:\n",
    "        for td in tr.select('td'):\n",
    "            print td.text,\n",
    "        print\n"
   ]
  },
  {
   "cell_type": "code",
   "execution_count": 18,
   "metadata": {
    "collapsed": false
   },
   "outputs": [
    {
     "data": {
      "text/html": [
       "<div>\n",
       "<table border=\"1\" class=\"dataframe\">\n",
       "  <thead>\n",
       "    <tr style=\"text-align: right;\">\n",
       "      <th></th>\n",
       "      <th>Month</th>\n",
       "      <th>Savings</th>\n",
       "    </tr>\n",
       "  </thead>\n",
       "  <tbody>\n",
       "    <tr>\n",
       "      <th>0</th>\n",
       "      <td>January</td>\n",
       "      <td>$100</td>\n",
       "    </tr>\n",
       "    <tr>\n",
       "      <th>1</th>\n",
       "      <td>February</td>\n",
       "      <td>$80</td>\n",
       "    </tr>\n",
       "    <tr>\n",
       "      <th>2</th>\n",
       "      <td>Sum</td>\n",
       "      <td>$180</td>\n",
       "    </tr>\n",
       "  </tbody>\n",
       "</table>\n",
       "</div>"
      ],
      "text/plain": [
       "      Month Savings\n",
       "0   January    $100\n",
       "1  February     $80\n",
       "2       Sum    $180"
      ]
     },
     "execution_count": 18,
     "metadata": {},
     "output_type": "execute_result"
    }
   ],
   "source": [
    "table = \"\"\"\n",
    "<table> \n",
    "    <thead> \n",
    "        <tr> \n",
    "        <th>Month</th>  \n",
    "        <th>Savings</th> \n",
    "        </tr> \n",
    "    </thead> \n",
    "    <tbody> \n",
    "        <tr> <td>January</td> <td>$100</td></tr> \n",
    "        <tr> <td>February</td> <td>$80</td></tr> \n",
    "    </tbody> \n",
    "    <tfoot> \n",
    "        <tr> <td>Sum</td> <td>$180</td> </tr> \n",
    "    </tfoot> \n",
    "</table>\n",
    "\"\"\"\n",
    "import pandas as pd\n",
    "dfs = pd.read_html(table)\n",
    "dfs[0]"
   ]
  },
  {
   "cell_type": "markdown",
   "metadata": {
    "collapsed": true
   },
   "source": [
    "## 在Anaconda Prompt下執行\n",
    "- pip install html5lib\n",
    "- 要把jupyter notebook 重啟"
   ]
  },
  {
   "cell_type": "code",
   "execution_count": 3,
   "metadata": {
    "collapsed": false
   },
   "outputs": [],
   "source": [
    "import requests\n",
    "from bs4 import BeautifulSoup\n",
    "res = requests.get('https://tw.stock.yahoo.com/q/q?s=2330')\n",
    "soup = BeautifulSoup(res.text)\n",
    "tb = soup.select('table + table table')[0]\n",
    "#print tb"
   ]
  },
  {
   "cell_type": "code",
   "execution_count": 10,
   "metadata": {
    "collapsed": false
   },
   "outputs": [
    {
     "name": "stdout",
     "output_type": "stream",
     "text": [
      "<class 'bs4.element.Tag'>\n",
      "<type 'str'>\n"
     ]
    },
    {
     "data": {
      "text/html": [
       "<div>\n",
       "<table border=\"1\" class=\"dataframe\">\n",
       "  <thead>\n",
       "    <tr style=\"text-align: right;\">\n",
       "      <th></th>\n",
       "      <th>0</th>\n",
       "      <th>1</th>\n",
       "      <th>2</th>\n",
       "      <th>3</th>\n",
       "      <th>4</th>\n",
       "      <th>5</th>\n",
       "      <th>6</th>\n",
       "      <th>7</th>\n",
       "      <th>8</th>\n",
       "      <th>9</th>\n",
       "      <th>10</th>\n",
       "      <th>11</th>\n",
       "    </tr>\n",
       "  </thead>\n",
       "  <tbody>\n",
       "    <tr>\n",
       "      <th>0</th>\n",
       "      <td>股票  代號</td>\n",
       "      <td>時間</td>\n",
       "      <td>成交</td>\n",
       "      <td>買進</td>\n",
       "      <td>賣出</td>\n",
       "      <td>漲跌</td>\n",
       "      <td>張數</td>\n",
       "      <td>昨收</td>\n",
       "      <td>開盤</td>\n",
       "      <td>最高</td>\n",
       "      <td>最低</td>\n",
       "      <td>個股資料</td>\n",
       "    </tr>\n",
       "    <tr>\n",
       "      <th>1</th>\n",
       "      <td>2330台積電  加到投資組合</td>\n",
       "      <td>14:30</td>\n",
       "      <td>148.0</td>\n",
       "      <td>147.5</td>\n",
       "      <td>148.0</td>\n",
       "      <td>△0.5</td>\n",
       "      <td>36528</td>\n",
       "      <td>147.5</td>\n",
       "      <td>148.5</td>\n",
       "      <td>148.5</td>\n",
       "      <td>147.0</td>\n",
       "      <td>成交明細  技術  新聞  基本  籌碼  個股健診</td>\n",
       "    </tr>\n",
       "    <tr>\n",
       "      <th>2</th>\n",
       "      <td>凱基證券下單</td>\n",
       "      <td>買  賣  張  零股交易</td>\n",
       "      <td>NaN</td>\n",
       "      <td>NaN</td>\n",
       "      <td>NaN</td>\n",
       "      <td>NaN</td>\n",
       "      <td>NaN</td>\n",
       "      <td>NaN</td>\n",
       "      <td>NaN</td>\n",
       "      <td>NaN</td>\n",
       "      <td>NaN</td>\n",
       "      <td>NaN</td>\n",
       "    </tr>\n",
       "  </tbody>\n",
       "</table>\n",
       "</div>"
      ],
      "text/plain": [
       "                0              1      2      3      4     5      6      7   \\\n",
       "0           股票  代號             時間     成交     買進     賣出    漲跌     張數     昨收   \n",
       "1  2330台積電  加到投資組合          14:30  148.0  147.5  148.0  △0.5  36528  147.5   \n",
       "2           凱基證券下單  買  賣  張  零股交易    NaN    NaN    NaN   NaN    NaN    NaN   \n",
       "\n",
       "      8      9      10                          11  \n",
       "0     開盤     最高     最低                        個股資料  \n",
       "1  148.5  148.5  147.0  成交明細  技術  新聞  基本  籌碼  個股健診  \n",
       "2    NaN    NaN    NaN                         NaN  "
      ]
     },
     "execution_count": 10,
     "metadata": {},
     "output_type": "execute_result"
    }
   ],
   "source": [
    "import pandas as pd\n",
    "print type(tb)\n",
    "print type(tb.prettify('utf-8'))\n",
    "dfs = pd.read_html(tb.prettify('utf-8'), encoding = 'utf-8')\n",
    "dfs[0]"
   ]
  },
  {
   "cell_type": "code",
   "execution_count": 13,
   "metadata": {
    "collapsed": false
   },
   "outputs": [],
   "source": [
    "stockdf = dfs[0]\n",
    "stockdf.columns =  stockdf.iloc[0] # 把第0列當成是欄位名稱"
   ]
  },
  {
   "cell_type": "code",
   "execution_count": 15,
   "metadata": {
    "collapsed": false
   },
   "outputs": [
    {
     "data": {
      "text/html": [
       "<div>\n",
       "<table border=\"1\" class=\"dataframe\">\n",
       "  <thead>\n",
       "    <tr style=\"text-align: right;\">\n",
       "      <th></th>\n",
       "      <th>股票  代號</th>\n",
       "      <th>時間</th>\n",
       "      <th>成交</th>\n",
       "      <th>買進</th>\n",
       "      <th>賣出</th>\n",
       "      <th>漲跌</th>\n",
       "      <th>張數</th>\n",
       "      <th>昨收</th>\n",
       "      <th>開盤</th>\n",
       "      <th>最高</th>\n",
       "      <th>最低</th>\n",
       "      <th>個股資料</th>\n",
       "    </tr>\n",
       "  </thead>\n",
       "  <tbody>\n",
       "    <tr>\n",
       "      <th>1</th>\n",
       "      <td>2330台積電  加到投資組合</td>\n",
       "      <td>14:30</td>\n",
       "      <td>148.0</td>\n",
       "      <td>147.5</td>\n",
       "      <td>148.0</td>\n",
       "      <td>△0.5</td>\n",
       "      <td>36528</td>\n",
       "      <td>147.5</td>\n",
       "      <td>148.5</td>\n",
       "      <td>148.5</td>\n",
       "      <td>147.0</td>\n",
       "      <td>成交明細  技術  新聞  基本  籌碼  個股健診</td>\n",
       "    </tr>\n",
       "  </tbody>\n",
       "</table>\n",
       "</div>"
      ],
      "text/plain": [
       "0           股票  代號     時間     成交     買進     賣出    漲跌     張數     昨收     開盤  \\\n",
       "1  2330台積電  加到投資組合  14:30  148.0  147.5  148.0  △0.5  36528  147.5  148.5   \n",
       "\n",
       "0     最高     最低                        個股資料  \n",
       "1  148.5  147.0  成交明細  技術  新聞  基本  籌碼  個股健診  "
      ]
     },
     "execution_count": 15,
     "metadata": {},
     "output_type": "execute_result"
    }
   ],
   "source": [
    "#stockdf\n",
    "stockdf = stockdf.drop([0,2])\n",
    "stockdf"
   ]
  },
  {
   "cell_type": "code",
   "execution_count": 16,
   "metadata": {
    "collapsed": false
   },
   "outputs": [
    {
     "data": {
      "text/plain": [
       "1    148.0\n",
       "Name: 成交, dtype: object"
      ]
     },
     "execution_count": 16,
     "metadata": {},
     "output_type": "execute_result"
    }
   ],
   "source": [
    "stockdf[u'成交']"
   ]
  },
  {
   "cell_type": "markdown",
   "metadata": {},
   "source": [
    "## PANDAS"
   ]
  },
  {
   "cell_type": "code",
   "execution_count": 26,
   "metadata": {
    "collapsed": false
   },
   "outputs": [
    {
     "data": {
      "text/html": [
       "<div>\n",
       "<table border=\"1\" class=\"dataframe\">\n",
       "  <thead>\n",
       "    <tr style=\"text-align: right;\">\n",
       "      <th></th>\n",
       "      <th>0</th>\n",
       "      <th>1</th>\n",
       "      <th>2</th>\n",
       "    </tr>\n",
       "  </thead>\n",
       "  <tbody>\n",
       "    <tr>\n",
       "      <th>0</th>\n",
       "      <td>frank</td>\n",
       "      <td>M</td>\n",
       "      <td>29</td>\n",
       "    </tr>\n",
       "    <tr>\n",
       "      <th>1</th>\n",
       "      <td>mary</td>\n",
       "      <td>F</td>\n",
       "      <td>23</td>\n",
       "    </tr>\n",
       "    <tr>\n",
       "      <th>2</th>\n",
       "      <td>tom</td>\n",
       "      <td>M</td>\n",
       "      <td>35</td>\n",
       "    </tr>\n",
       "    <tr>\n",
       "      <th>3</th>\n",
       "      <td>ted</td>\n",
       "      <td>M</td>\n",
       "      <td>33</td>\n",
       "    </tr>\n",
       "    <tr>\n",
       "      <th>4</th>\n",
       "      <td>jean</td>\n",
       "      <td>F</td>\n",
       "      <td>21</td>\n",
       "    </tr>\n",
       "    <tr>\n",
       "      <th>5</th>\n",
       "      <td>lisa</td>\n",
       "      <td>F</td>\n",
       "      <td>20</td>\n",
       "    </tr>\n",
       "  </tbody>\n",
       "</table>\n",
       "</div>"
      ],
      "text/plain": [
       "       0  1   2\n",
       "0  frank  M  29\n",
       "1   mary  F  23\n",
       "2    tom  M  35\n",
       "3    ted  M  33\n",
       "4   jean  F  21\n",
       "5   lisa  F  20"
      ]
     },
     "execution_count": 26,
     "metadata": {},
     "output_type": "execute_result"
    }
   ],
   "source": [
    "name = 'david'\n",
    "age = '32'\n",
    "\n",
    "names  = ['david', 'may', 'john']\n",
    "ages   = ['30', '23', '27']\n",
    "\n",
    "import pandas\n",
    "people = [['frank', 'M', 29], ['mary', 'F', 23], ['tom', 'M', 35], ['ted', 'M', 33], ['jean', 'F', 21], ['lisa', 'F', 20]]\n",
    "df = pandas.DataFrame(people)\n",
    "df"
   ]
  },
  {
   "cell_type": "code",
   "execution_count": 25,
   "metadata": {
    "collapsed": false
   },
   "outputs": [
    {
     "name": "stdout",
     "output_type": "stream",
     "text": [
      "       0\n",
      "0  frank\n",
      "1   mary\n",
      "2    tom\n",
      "3    ted\n",
      "4   jean\n",
      "5   lisa\n",
      "0    frank\n",
      "1        M\n",
      "2       29\n",
      "Name: 0, dtype: object\n"
     ]
    }
   ],
   "source": [
    "print df[[0]] # get data by first column\n",
    "print df.ix[0] # get data by first row"
   ]
  },
  {
   "cell_type": "code",
   "execution_count": 27,
   "metadata": {
    "collapsed": false
   },
   "outputs": [
    {
     "data": {
      "text/html": [
       "<div>\n",
       "<table border=\"1\" class=\"dataframe\">\n",
       "  <thead>\n",
       "    <tr style=\"text-align: right;\">\n",
       "      <th></th>\n",
       "      <th>name</th>\n",
       "      <th>gender</th>\n",
       "      <th>age</th>\n",
       "    </tr>\n",
       "  </thead>\n",
       "  <tbody>\n",
       "    <tr>\n",
       "      <th>0</th>\n",
       "      <td>frank</td>\n",
       "      <td>M</td>\n",
       "      <td>29</td>\n",
       "    </tr>\n",
       "    <tr>\n",
       "      <th>1</th>\n",
       "      <td>mary</td>\n",
       "      <td>F</td>\n",
       "      <td>23</td>\n",
       "    </tr>\n",
       "    <tr>\n",
       "      <th>2</th>\n",
       "      <td>tom</td>\n",
       "      <td>M</td>\n",
       "      <td>35</td>\n",
       "    </tr>\n",
       "    <tr>\n",
       "      <th>3</th>\n",
       "      <td>ted</td>\n",
       "      <td>M</td>\n",
       "      <td>33</td>\n",
       "    </tr>\n",
       "    <tr>\n",
       "      <th>4</th>\n",
       "      <td>jean</td>\n",
       "      <td>F</td>\n",
       "      <td>21</td>\n",
       "    </tr>\n",
       "    <tr>\n",
       "      <th>5</th>\n",
       "      <td>lisa</td>\n",
       "      <td>F</td>\n",
       "      <td>20</td>\n",
       "    </tr>\n",
       "  </tbody>\n",
       "</table>\n",
       "</div>"
      ],
      "text/plain": [
       "    name gender  age\n",
       "0  frank      M   29\n",
       "1   mary      F   23\n",
       "2    tom      M   35\n",
       "3    ted      M   33\n",
       "4   jean      F   21\n",
       "5   lisa      F   20"
      ]
     },
     "execution_count": 27,
     "metadata": {},
     "output_type": "execute_result"
    }
   ],
   "source": [
    "df.columns = ['name', 'gender', 'age']\n",
    "df"
   ]
  },
  {
   "cell_type": "code",
   "execution_count": 29,
   "metadata": {
    "collapsed": false
   },
   "outputs": [
    {
     "data": {
      "text/html": [
       "<div>\n",
       "<table border=\"1\" class=\"dataframe\">\n",
       "  <thead>\n",
       "    <tr style=\"text-align: right;\">\n",
       "      <th></th>\n",
       "      <th>name</th>\n",
       "      <th>gender</th>\n",
       "    </tr>\n",
       "  </thead>\n",
       "  <tbody>\n",
       "    <tr>\n",
       "      <th>0</th>\n",
       "      <td>frank</td>\n",
       "      <td>M</td>\n",
       "    </tr>\n",
       "    <tr>\n",
       "      <th>1</th>\n",
       "      <td>mary</td>\n",
       "      <td>F</td>\n",
       "    </tr>\n",
       "    <tr>\n",
       "      <th>2</th>\n",
       "      <td>tom</td>\n",
       "      <td>M</td>\n",
       "    </tr>\n",
       "    <tr>\n",
       "      <th>3</th>\n",
       "      <td>ted</td>\n",
       "      <td>M</td>\n",
       "    </tr>\n",
       "    <tr>\n",
       "      <th>4</th>\n",
       "      <td>jean</td>\n",
       "      <td>F</td>\n",
       "    </tr>\n",
       "    <tr>\n",
       "      <th>5</th>\n",
       "      <td>lisa</td>\n",
       "      <td>F</td>\n",
       "    </tr>\n",
       "  </tbody>\n",
       "</table>\n",
       "</div>"
      ],
      "text/plain": [
       "    name gender\n",
       "0  frank      M\n",
       "1   mary      F\n",
       "2    tom      M\n",
       "3    ted      M\n",
       "4   jean      F\n",
       "5   lisa      F"
      ]
     },
     "execution_count": 29,
     "metadata": {},
     "output_type": "execute_result"
    }
   ],
   "source": [
    "df['name']\n",
    "df[['name', 'gender']]"
   ]
  },
  {
   "cell_type": "code",
   "execution_count": 30,
   "metadata": {
    "collapsed": false
   },
   "outputs": [
    {
     "data": {
      "text/html": [
       "<div>\n",
       "<table border=\"1\" class=\"dataframe\">\n",
       "  <thead>\n",
       "    <tr style=\"text-align: right;\">\n",
       "      <th></th>\n",
       "      <th>age</th>\n",
       "    </tr>\n",
       "  </thead>\n",
       "  <tbody>\n",
       "    <tr>\n",
       "      <th>count</th>\n",
       "      <td>6.000000</td>\n",
       "    </tr>\n",
       "    <tr>\n",
       "      <th>mean</th>\n",
       "      <td>26.833333</td>\n",
       "    </tr>\n",
       "    <tr>\n",
       "      <th>std</th>\n",
       "      <td>6.400521</td>\n",
       "    </tr>\n",
       "    <tr>\n",
       "      <th>min</th>\n",
       "      <td>20.000000</td>\n",
       "    </tr>\n",
       "    <tr>\n",
       "      <th>25%</th>\n",
       "      <td>21.500000</td>\n",
       "    </tr>\n",
       "    <tr>\n",
       "      <th>50%</th>\n",
       "      <td>26.000000</td>\n",
       "    </tr>\n",
       "    <tr>\n",
       "      <th>75%</th>\n",
       "      <td>32.000000</td>\n",
       "    </tr>\n",
       "    <tr>\n",
       "      <th>max</th>\n",
       "      <td>35.000000</td>\n",
       "    </tr>\n",
       "  </tbody>\n",
       "</table>\n",
       "</div>"
      ],
      "text/plain": [
       "             age\n",
       "count   6.000000\n",
       "mean   26.833333\n",
       "std     6.400521\n",
       "min    20.000000\n",
       "25%    21.500000\n",
       "50%    26.000000\n",
       "75%    32.000000\n",
       "max    35.000000"
      ]
     },
     "execution_count": 30,
     "metadata": {},
     "output_type": "execute_result"
    }
   ],
   "source": [
    "df.describe()"
   ]
  },
  {
   "cell_type": "code",
   "execution_count": 35,
   "metadata": {
    "collapsed": false
   },
   "outputs": [
    {
     "name": "stdout",
     "output_type": "stream",
     "text": [
      "0    M\n",
      "1    F\n",
      "2    M\n",
      "3    M\n",
      "4    F\n",
      "5    F\n",
      "Name: gender, dtype: object\n",
      "0     True\n",
      "1    False\n",
      "2     True\n",
      "3     True\n",
      "4    False\n",
      "5    False\n",
      "Name: gender, dtype: bool\n",
      "    name gender  age\n",
      "0  frank      M   29\n",
      "2    tom      M   35\n",
      "3    ted      M   33\n"
     ]
    }
   ],
   "source": [
    "print df['gender'] \n",
    "print df['gender'] == 'M'\n",
    "print df[df['gender'] == 'M']"
   ]
  },
  {
   "cell_type": "code",
   "execution_count": 37,
   "metadata": {
    "collapsed": false
   },
   "outputs": [
    {
     "data": {
      "text/plain": [
       "age    32.333333\n",
       "dtype: float64"
      ]
     },
     "execution_count": 37,
     "metadata": {},
     "output_type": "execute_result"
    }
   ],
   "source": [
    "df[df['gender'] == 'M']['age'].mean()\n",
    "df[df['gender'] == 'M'].mean()"
   ]
  },
  {
   "cell_type": "code",
   "execution_count": 38,
   "metadata": {
    "collapsed": true
   },
   "outputs": [],
   "source": [
    "df['height'] = 172"
   ]
  },
  {
   "cell_type": "code",
   "execution_count": 39,
   "metadata": {
    "collapsed": false
   },
   "outputs": [
    {
     "data": {
      "text/html": [
       "<div>\n",
       "<table border=\"1\" class=\"dataframe\">\n",
       "  <thead>\n",
       "    <tr style=\"text-align: right;\">\n",
       "      <th></th>\n",
       "      <th>name</th>\n",
       "      <th>gender</th>\n",
       "      <th>age</th>\n",
       "      <th>height</th>\n",
       "    </tr>\n",
       "  </thead>\n",
       "  <tbody>\n",
       "    <tr>\n",
       "      <th>0</th>\n",
       "      <td>frank</td>\n",
       "      <td>M</td>\n",
       "      <td>29</td>\n",
       "      <td>172</td>\n",
       "    </tr>\n",
       "    <tr>\n",
       "      <th>1</th>\n",
       "      <td>mary</td>\n",
       "      <td>F</td>\n",
       "      <td>23</td>\n",
       "      <td>172</td>\n",
       "    </tr>\n",
       "    <tr>\n",
       "      <th>2</th>\n",
       "      <td>tom</td>\n",
       "      <td>M</td>\n",
       "      <td>35</td>\n",
       "      <td>172</td>\n",
       "    </tr>\n",
       "    <tr>\n",
       "      <th>3</th>\n",
       "      <td>ted</td>\n",
       "      <td>M</td>\n",
       "      <td>33</td>\n",
       "      <td>172</td>\n",
       "    </tr>\n",
       "    <tr>\n",
       "      <th>4</th>\n",
       "      <td>jean</td>\n",
       "      <td>F</td>\n",
       "      <td>21</td>\n",
       "      <td>172</td>\n",
       "    </tr>\n",
       "    <tr>\n",
       "      <th>5</th>\n",
       "      <td>lisa</td>\n",
       "      <td>F</td>\n",
       "      <td>20</td>\n",
       "      <td>172</td>\n",
       "    </tr>\n",
       "  </tbody>\n",
       "</table>\n",
       "</div>"
      ],
      "text/plain": [
       "    name gender  age  height\n",
       "0  frank      M   29     172\n",
       "1   mary      F   23     172\n",
       "2    tom      M   35     172\n",
       "3    ted      M   33     172\n",
       "4   jean      F   21     172\n",
       "5   lisa      F   20     172"
      ]
     },
     "execution_count": 39,
     "metadata": {},
     "output_type": "execute_result"
    }
   ],
   "source": [
    "df"
   ]
  },
  {
   "cell_type": "code",
   "execution_count": 43,
   "metadata": {
    "collapsed": false
   },
   "outputs": [
    {
     "data": {
      "text/plain": [
       "age        32.333333\n",
       "height    172.000000\n",
       "dtype: float64"
      ]
     },
     "execution_count": 43,
     "metadata": {},
     "output_type": "execute_result"
    }
   ],
   "source": [
    "df[df['gender'] == 'M']['age'].mean()\n",
    "df[df['gender'] == 'M'].mean()\n",
    "#dir(df)"
   ]
  },
  {
   "cell_type": "code",
   "execution_count": 44,
   "metadata": {
    "collapsed": false
   },
   "outputs": [
    {
     "name": "stdout",
     "output_type": "stream",
     "text": [
      "32.3333333333\n",
      "21.3333333333\n"
     ]
    }
   ],
   "source": [
    "print df[df['gender'] == 'M']['age'].mean()\n",
    "print df[df['gender'] == 'F']['age'].mean()"
   ]
  },
  {
   "cell_type": "code",
   "execution_count": 45,
   "metadata": {
    "collapsed": false
   },
   "outputs": [
    {
     "data": {
      "text/plain": [
       "gender\n",
       "F    21.333333\n",
       "M    32.333333\n",
       "Name: age, dtype: float64"
      ]
     },
     "execution_count": 45,
     "metadata": {},
     "output_type": "execute_result"
    }
   ],
   "source": [
    "df.groupby('gender')['age'].mean()"
   ]
  },
  {
   "cell_type": "markdown",
   "metadata": {},
   "source": [
    "## 三大法人買賣超日報資訊"
   ]
  },
  {
   "cell_type": "code",
   "execution_count": 83,
   "metadata": {
    "collapsed": false
   },
   "outputs": [],
   "source": [
    "import requests\n",
    "url = 'http://www.twse.com.tw/ch/trading/fund/T86/T86.php'\n",
    "payload = {\n",
    "'qdate':'105/05/06',\n",
    "'select2':'24',\n",
    "'sorting':'by_issue'    \n",
    "}\n",
    "res = requests.post( url, data=payload )\n",
    "#print res"
   ]
  },
  {
   "cell_type": "code",
   "execution_count": 84,
   "metadata": {
    "collapsed": false
   },
   "outputs": [],
   "source": [
    "from bs4 import BeautifulSoup as bs \n",
    "#soup = BeautifulSoup(res.text)\n",
    "soup = bs(res.text)\n",
    "tb = soup.select('#tbl-sortable')[0]"
   ]
  },
  {
   "cell_type": "code",
   "execution_count": 85,
   "metadata": {
    "collapsed": false
   },
   "outputs": [
    {
     "name": "stdout",
     "output_type": "stream",
     "text": [
      "<type 'list'>\n",
      "1\n"
     ]
    }
   ],
   "source": [
    "import pandas as pd\n",
    "# use prettify to convert object from tag to str\n",
    "dfs = pd.read_html(tb.prettify('utf-8'), encoding = 'utf-8')\n",
    "print type(dfs) # check the type of an object\n",
    "print len(dfs)"
   ]
  },
  {
   "cell_type": "code",
   "execution_count": 86,
   "metadata": {
    "collapsed": false
   },
   "outputs": [],
   "source": [
    "stockdf = dfs[0]"
   ]
  },
  {
   "cell_type": "code",
   "execution_count": 87,
   "metadata": {
    "collapsed": false
   },
   "outputs": [
    {
     "data": {
      "text/html": [
       "<div>\n",
       "<table border=\"1\" class=\"dataframe\">\n",
       "  <thead>\n",
       "    <tr style=\"text-align: right;\">\n",
       "      <th></th>\n",
       "      <th>證券  代號</th>\n",
       "      <th>證券  名稱</th>\n",
       "      <th>外資  買進股數</th>\n",
       "      <th>外資  賣出股數</th>\n",
       "      <th>外資  買賣超股數</th>\n",
       "      <th>投信  買進股數</th>\n",
       "      <th>投信  賣出股數</th>\n",
       "      <th>投信  買賣超股數</th>\n",
       "      <th>自營商  買賣超股數</th>\n",
       "      <th>自營商  買進股數  (自行買賣)</th>\n",
       "      <th>自營商  賣出股數  (自行買賣)</th>\n",
       "      <th>自營商  買賣超股數  (自行買賣)</th>\n",
       "      <th>自營商  買進股數  (避險)</th>\n",
       "      <th>自營商  賣出股數  (避險)</th>\n",
       "      <th>自營商  買賣超股數  (避險)</th>\n",
       "      <th>三大法人  買賣超股數</th>\n",
       "    </tr>\n",
       "  </thead>\n",
       "  <tbody>\n",
       "    <tr>\n",
       "      <th>0</th>\n",
       "      <td>3474</td>\n",
       "      <td>華亞科</td>\n",
       "      <td>5865836</td>\n",
       "      <td>3726000</td>\n",
       "      <td>2139836</td>\n",
       "      <td>0</td>\n",
       "      <td>0</td>\n",
       "      <td>0</td>\n",
       "      <td>-4000</td>\n",
       "      <td>0</td>\n",
       "      <td>0</td>\n",
       "      <td>0</td>\n",
       "      <td>0</td>\n",
       "      <td>4000</td>\n",
       "      <td>-4000</td>\n",
       "      <td>2135836</td>\n",
       "    </tr>\n",
       "    <tr>\n",
       "      <th>1</th>\n",
       "      <td>2408</td>\n",
       "      <td>南亞科</td>\n",
       "      <td>2755000</td>\n",
       "      <td>1194000</td>\n",
       "      <td>1561000</td>\n",
       "      <td>0</td>\n",
       "      <td>0</td>\n",
       "      <td>0</td>\n",
       "      <td>104000</td>\n",
       "      <td>1000</td>\n",
       "      <td>0</td>\n",
       "      <td>1000</td>\n",
       "      <td>106000</td>\n",
       "      <td>3000</td>\n",
       "      <td>103000</td>\n",
       "      <td>1665000</td>\n",
       "    </tr>\n",
       "    <tr>\n",
       "      <th>2</th>\n",
       "      <td>2449</td>\n",
       "      <td>京元電</td>\n",
       "      <td>6490000</td>\n",
       "      <td>5054000</td>\n",
       "      <td>1436000</td>\n",
       "      <td>144000</td>\n",
       "      <td>443000</td>\n",
       "      <td>-299000</td>\n",
       "      <td>131000</td>\n",
       "      <td>42000</td>\n",
       "      <td>77000</td>\n",
       "      <td>-35000</td>\n",
       "      <td>509000</td>\n",
       "      <td>343000</td>\n",
       "      <td>166000</td>\n",
       "      <td>1268000</td>\n",
       "    </tr>\n",
       "    <tr>\n",
       "      <th>3</th>\n",
       "      <td>2458</td>\n",
       "      <td>義隆</td>\n",
       "      <td>818000</td>\n",
       "      <td>289000</td>\n",
       "      <td>529000</td>\n",
       "      <td>0</td>\n",
       "      <td>0</td>\n",
       "      <td>0</td>\n",
       "      <td>-46000</td>\n",
       "      <td>12000</td>\n",
       "      <td>34000</td>\n",
       "      <td>-22000</td>\n",
       "      <td>63000</td>\n",
       "      <td>87000</td>\n",
       "      <td>-24000</td>\n",
       "      <td>483000</td>\n",
       "    </tr>\n",
       "    <tr>\n",
       "      <th>4</th>\n",
       "      <td>3545</td>\n",
       "      <td>敦泰</td>\n",
       "      <td>604000</td>\n",
       "      <td>176000</td>\n",
       "      <td>428000</td>\n",
       "      <td>0</td>\n",
       "      <td>0</td>\n",
       "      <td>0</td>\n",
       "      <td>-6000</td>\n",
       "      <td>0</td>\n",
       "      <td>4000</td>\n",
       "      <td>-4000</td>\n",
       "      <td>12000</td>\n",
       "      <td>14000</td>\n",
       "      <td>-2000</td>\n",
       "      <td>422000</td>\n",
       "    </tr>\n",
       "  </tbody>\n",
       "</table>\n",
       "</div>"
      ],
      "text/plain": [
       "   證券  代號 證券  名稱  外資  買進股數  外資  賣出股數  外資  買賣超股數  投信  買進股數  投信  賣出股數  \\\n",
       "0    3474    華亞科   5865836   3726000    2139836         0         0   \n",
       "1    2408    南亞科   2755000   1194000    1561000         0         0   \n",
       "2    2449    京元電   6490000   5054000    1436000    144000    443000   \n",
       "3    2458     義隆    818000    289000     529000         0         0   \n",
       "4    3545     敦泰    604000    176000     428000         0         0   \n",
       "\n",
       "   投信  買賣超股數  自營商  買賣超股數  自營商  買進股數  (自行買賣)  自營商  賣出股數  (自行買賣)  \\\n",
       "0          0       -4000                  0                  0   \n",
       "1          0      104000               1000                  0   \n",
       "2    -299000      131000              42000              77000   \n",
       "3          0      -46000              12000              34000   \n",
       "4          0       -6000                  0               4000   \n",
       "\n",
       "   自營商  買賣超股數  (自行買賣)  自營商  買進股數  (避險)  自營商  賣出股數  (避險)  自營商  買賣超股數  (避險)  \\\n",
       "0                   0                0             4000             -4000   \n",
       "1                1000           106000             3000            103000   \n",
       "2              -35000           509000           343000            166000   \n",
       "3              -22000            63000            87000            -24000   \n",
       "4               -4000            12000            14000             -2000   \n",
       "\n",
       "   三大法人  買賣超股數  \n",
       "0      2135836  \n",
       "1      1665000  \n",
       "2      1268000  \n",
       "3       483000  \n",
       "4       422000  "
      ]
     },
     "execution_count": 87,
     "metadata": {},
     "output_type": "execute_result"
    }
   ],
   "source": [
    "stockdf.head()"
   ]
  },
  {
   "cell_type": "code",
   "execution_count": 88,
   "metadata": {
    "collapsed": false
   },
   "outputs": [
    {
     "data": {
      "text/html": [
       "<div>\n",
       "<table border=\"1\" class=\"dataframe\">\n",
       "  <thead>\n",
       "    <tr style=\"text-align: right;\">\n",
       "      <th></th>\n",
       "      <th>證券  代號</th>\n",
       "      <th>外資  買進股數</th>\n",
       "      <th>外資  賣出股數</th>\n",
       "      <th>外資  買賣超股數</th>\n",
       "      <th>投信  買進股數</th>\n",
       "      <th>投信  賣出股數</th>\n",
       "      <th>投信  買賣超股數</th>\n",
       "      <th>自營商  買賣超股數</th>\n",
       "      <th>自營商  買進股數  (自行買賣)</th>\n",
       "      <th>自營商  賣出股數  (自行買賣)</th>\n",
       "      <th>自營商  買賣超股數  (自行買賣)</th>\n",
       "      <th>自營商  買進股數  (避險)</th>\n",
       "      <th>自營商  賣出股數  (避險)</th>\n",
       "      <th>自營商  買賣超股數  (避險)</th>\n",
       "      <th>三大法人  買賣超股數</th>\n",
       "    </tr>\n",
       "  </thead>\n",
       "  <tbody>\n",
       "    <tr>\n",
       "      <th>count</th>\n",
       "      <td>71.000000</td>\n",
       "      <td>71.000000</td>\n",
       "      <td>71.000000</td>\n",
       "      <td>71.000000</td>\n",
       "      <td>71.000000</td>\n",
       "      <td>71.000000</td>\n",
       "      <td>71.000000</td>\n",
       "      <td>71.000000</td>\n",
       "      <td>71.000000</td>\n",
       "      <td>71.000000</td>\n",
       "      <td>71.000000</td>\n",
       "      <td>71.000000</td>\n",
       "      <td>71.000000</td>\n",
       "      <td>71.000000</td>\n",
       "      <td>71.000000</td>\n",
       "    </tr>\n",
       "    <tr>\n",
       "      <th>mean</th>\n",
       "      <td>3996.788732</td>\n",
       "      <td>1468625.929577</td>\n",
       "      <td>2238486.436620</td>\n",
       "      <td>-769860.507042</td>\n",
       "      <td>9521.126761</td>\n",
       "      <td>59154.929577</td>\n",
       "      <td>-49633.802817</td>\n",
       "      <td>14197.183099</td>\n",
       "      <td>20605.633803</td>\n",
       "      <td>19704.225352</td>\n",
       "      <td>901.408451</td>\n",
       "      <td>45084.507042</td>\n",
       "      <td>31788.732394</td>\n",
       "      <td>13295.774648</td>\n",
       "      <td>-805297.126761</td>\n",
       "    </tr>\n",
       "    <tr>\n",
       "      <th>std</th>\n",
       "      <td>1892.374102</td>\n",
       "      <td>4596145.702459</td>\n",
       "      <td>6915952.326882</td>\n",
       "      <td>2968397.153022</td>\n",
       "      <td>30858.135836</td>\n",
       "      <td>291425.935109</td>\n",
       "      <td>287705.367120</td>\n",
       "      <td>115016.721731</td>\n",
       "      <td>51232.377841</td>\n",
       "      <td>54260.586687</td>\n",
       "      <td>47299.699464</td>\n",
       "      <td>121813.528041</td>\n",
       "      <td>96348.462141</td>\n",
       "      <td>83966.216738</td>\n",
       "      <td>2955181.742567</td>\n",
       "    </tr>\n",
       "    <tr>\n",
       "      <th>min</th>\n",
       "      <td>2302.000000</td>\n",
       "      <td>0.000000</td>\n",
       "      <td>0.000000</td>\n",
       "      <td>-15578580.000000</td>\n",
       "      <td>0.000000</td>\n",
       "      <td>0.000000</td>\n",
       "      <td>-2350000.000000</td>\n",
       "      <td>-531000.000000</td>\n",
       "      <td>0.000000</td>\n",
       "      <td>0.000000</td>\n",
       "      <td>-302000.000000</td>\n",
       "      <td>0.000000</td>\n",
       "      <td>0.000000</td>\n",
       "      <td>-229000.000000</td>\n",
       "      <td>-15518580.000000</td>\n",
       "    </tr>\n",
       "    <tr>\n",
       "      <th>25%</th>\n",
       "      <td>2435.000000</td>\n",
       "      <td>10500.000000</td>\n",
       "      <td>17500.000000</td>\n",
       "      <td>-116000.000000</td>\n",
       "      <td>0.000000</td>\n",
       "      <td>0.000000</td>\n",
       "      <td>0.000000</td>\n",
       "      <td>-3500.000000</td>\n",
       "      <td>0.000000</td>\n",
       "      <td>0.000000</td>\n",
       "      <td>-3500.000000</td>\n",
       "      <td>0.000000</td>\n",
       "      <td>0.000000</td>\n",
       "      <td>0.000000</td>\n",
       "      <td>-151500.000000</td>\n",
       "    </tr>\n",
       "    <tr>\n",
       "      <th>50%</th>\n",
       "      <td>3413.000000</td>\n",
       "      <td>51000.000000</td>\n",
       "      <td>86000.000000</td>\n",
       "      <td>-6000.000000</td>\n",
       "      <td>0.000000</td>\n",
       "      <td>0.000000</td>\n",
       "      <td>0.000000</td>\n",
       "      <td>0.000000</td>\n",
       "      <td>1000.000000</td>\n",
       "      <td>0.000000</td>\n",
       "      <td>0.000000</td>\n",
       "      <td>0.000000</td>\n",
       "      <td>0.000000</td>\n",
       "      <td>0.000000</td>\n",
       "      <td>-17000.000000</td>\n",
       "    </tr>\n",
       "    <tr>\n",
       "      <th>75%</th>\n",
       "      <td>5277.000000</td>\n",
       "      <td>310303.000000</td>\n",
       "      <td>312500.000000</td>\n",
       "      <td>16500.000000</td>\n",
       "      <td>0.000000</td>\n",
       "      <td>0.000000</td>\n",
       "      <td>0.000000</td>\n",
       "      <td>4000.000000</td>\n",
       "      <td>10000.000000</td>\n",
       "      <td>12000.000000</td>\n",
       "      <td>1500.000000</td>\n",
       "      <td>5000.000000</td>\n",
       "      <td>4000.000000</td>\n",
       "      <td>0.000000</td>\n",
       "      <td>10000.000000</td>\n",
       "    </tr>\n",
       "    <tr>\n",
       "      <th>max</th>\n",
       "      <td>8271.000000</td>\n",
       "      <td>30192917.000000</td>\n",
       "      <td>36329176.000000</td>\n",
       "      <td>2139836.000000</td>\n",
       "      <td>148000.000000</td>\n",
       "      <td>2350000.000000</td>\n",
       "      <td>132000.000000</td>\n",
       "      <td>616000.000000</td>\n",
       "      <td>270000.000000</td>\n",
       "      <td>350000.000000</td>\n",
       "      <td>115000.000000</td>\n",
       "      <td>640000.000000</td>\n",
       "      <td>585000.000000</td>\n",
       "      <td>541000.000000</td>\n",
       "      <td>2135836.000000</td>\n",
       "    </tr>\n",
       "  </tbody>\n",
       "</table>\n",
       "</div>"
      ],
      "text/plain": [
       "            證券  代號         外資  買進股數         外資  賣出股數        外資  買賣超股數  \\\n",
       "count    71.000000        71.000000        71.000000        71.000000   \n",
       "mean   3996.788732   1468625.929577   2238486.436620   -769860.507042   \n",
       "std    1892.374102   4596145.702459   6915952.326882   2968397.153022   \n",
       "min    2302.000000         0.000000         0.000000 -15578580.000000   \n",
       "25%    2435.000000     10500.000000     17500.000000   -116000.000000   \n",
       "50%    3413.000000     51000.000000     86000.000000     -6000.000000   \n",
       "75%    5277.000000    310303.000000    312500.000000     16500.000000   \n",
       "max    8271.000000  30192917.000000  36329176.000000   2139836.000000   \n",
       "\n",
       "            投信  買進股數        投信  賣出股數       投信  買賣超股數     自營商  買賣超股數  \\\n",
       "count      71.000000       71.000000       71.000000      71.000000   \n",
       "mean     9521.126761    59154.929577   -49633.802817   14197.183099   \n",
       "std     30858.135836   291425.935109   287705.367120  115016.721731   \n",
       "min         0.000000        0.000000 -2350000.000000 -531000.000000   \n",
       "25%         0.000000        0.000000        0.000000   -3500.000000   \n",
       "50%         0.000000        0.000000        0.000000       0.000000   \n",
       "75%         0.000000        0.000000        0.000000    4000.000000   \n",
       "max    148000.000000  2350000.000000   132000.000000  616000.000000   \n",
       "\n",
       "       自營商  買進股數  (自行買賣)  自營商  賣出股數  (自行買賣)  自營商  買賣超股數  (自行買賣)  \\\n",
       "count          71.000000          71.000000           71.000000   \n",
       "mean        20605.633803       19704.225352          901.408451   \n",
       "std         51232.377841       54260.586687        47299.699464   \n",
       "min             0.000000           0.000000      -302000.000000   \n",
       "25%             0.000000           0.000000        -3500.000000   \n",
       "50%          1000.000000           0.000000            0.000000   \n",
       "75%         10000.000000       12000.000000         1500.000000   \n",
       "max        270000.000000      350000.000000       115000.000000   \n",
       "\n",
       "       自營商  買進股數  (避險)  自營商  賣出股數  (避險)  自營商  買賣超股數  (避險)      三大法人  買賣超股數  \n",
       "count        71.000000        71.000000         71.000000        71.000000  \n",
       "mean      45084.507042     31788.732394      13295.774648   -805297.126761  \n",
       "std      121813.528041     96348.462141      83966.216738   2955181.742567  \n",
       "min           0.000000         0.000000    -229000.000000 -15518580.000000  \n",
       "25%           0.000000         0.000000          0.000000   -151500.000000  \n",
       "50%           0.000000         0.000000          0.000000    -17000.000000  \n",
       "75%        5000.000000      4000.000000          0.000000     10000.000000  \n",
       "max      640000.000000    585000.000000     541000.000000   2135836.000000  "
      ]
     },
     "execution_count": 88,
     "metadata": {},
     "output_type": "execute_result"
    }
   ],
   "source": [
    "stockdf.describe()"
   ]
  },
  {
   "cell_type": "code",
   "execution_count": 89,
   "metadata": {
    "collapsed": false
   },
   "outputs": [
    {
     "data": {
      "text/plain": [
       "Index([u'證券  代號', u'證券  名稱', u'外資  買進股數', u'外資  賣出股數', u'外資  買賣超股數',\n",
       "       u'投信  買進股數', u'投信  賣出股數', u'投信  買賣超股數', u'自營商  買賣超股數',\n",
       "       u'自營商  買進股數  (自行買賣)', u'自營商  賣出股數  (自行買賣)', u'自營商  買賣超股數  (自行買賣)',\n",
       "       u'自營商  買進股數  (避險)', u'自營商  賣出股數  (避險)', u'自營商  買賣超股數  (避險)',\n",
       "       u'三大法人  買賣超股數'],\n",
       "      dtype='object')"
      ]
     },
     "execution_count": 89,
     "metadata": {},
     "output_type": "execute_result"
    }
   ],
   "source": [
    "stockdf.columns"
   ]
  },
  {
   "cell_type": "code",
   "execution_count": 97,
   "metadata": {
    "collapsed": false
   },
   "outputs": [
    {
     "data": {
      "text/html": [
       "<div>\n",
       "<table border=\"1\" class=\"dataframe\">\n",
       "  <thead>\n",
       "    <tr style=\"text-align: right;\">\n",
       "      <th></th>\n",
       "      <th>證券  代號</th>\n",
       "      <th>證券  名稱</th>\n",
       "      <th>外資  買進股數</th>\n",
       "      <th>外資  賣出股數</th>\n",
       "      <th>外資  買賣超股數</th>\n",
       "      <th>投信  買進股數</th>\n",
       "      <th>投信  賣出股數</th>\n",
       "      <th>投信  買賣超股數</th>\n",
       "      <th>自營商  買賣超股數</th>\n",
       "      <th>自營商  買進股數  (自行買賣)</th>\n",
       "      <th>自營商  賣出股數  (自行買賣)</th>\n",
       "      <th>自營商  買賣超股數  (自行買賣)</th>\n",
       "      <th>自營商  買進股數  (避險)</th>\n",
       "      <th>自營商  賣出股數  (避險)</th>\n",
       "      <th>自營商  買賣超股數  (避險)</th>\n",
       "      <th>三大法人  買賣超股數</th>\n",
       "    </tr>\n",
       "  </thead>\n",
       "  <tbody>\n",
       "    <tr>\n",
       "      <th>0</th>\n",
       "      <td>3474</td>\n",
       "      <td>華亞科</td>\n",
       "      <td>5865836</td>\n",
       "      <td>3726000</td>\n",
       "      <td>2139836</td>\n",
       "      <td>0</td>\n",
       "      <td>0</td>\n",
       "      <td>0</td>\n",
       "      <td>-4000</td>\n",
       "      <td>0</td>\n",
       "      <td>0</td>\n",
       "      <td>0</td>\n",
       "      <td>0</td>\n",
       "      <td>4000</td>\n",
       "      <td>-4000</td>\n",
       "      <td>2135836</td>\n",
       "    </tr>\n",
       "  </tbody>\n",
       "</table>\n",
       "</div>"
      ],
      "text/plain": [
       "   證券  代號 證券  名稱  外資  買進股數  外資  賣出股數  外資  買賣超股數  投信  買進股數  投信  賣出股數  \\\n",
       "0    3474    華亞科   5865836   3726000    2139836         0         0   \n",
       "\n",
       "   投信  買賣超股數  自營商  買賣超股數  自營商  買進股數  (自行買賣)  自營商  賣出股數  (自行買賣)  \\\n",
       "0          0       -4000                  0                  0   \n",
       "\n",
       "   自營商  買賣超股數  (自行買賣)  自營商  買進股數  (避險)  自營商  賣出股數  (避險)  自營商  買賣超股數  (避險)  \\\n",
       "0                   0                0             4000             -4000   \n",
       "\n",
       "   三大法人  買賣超股數  \n",
       "0      2135836  "
      ]
     },
     "execution_count": 97,
     "metadata": {},
     "output_type": "execute_result"
    }
   ],
   "source": [
    "#stockdf[u'外資  買賣超股數']\n",
    "#stockdf[u'外資  買賣超股數'].max()\n",
    "stockdf[stockdf[u'外資  買賣超股數']==stockdf[u'外資  買賣超股數'].max()]"
   ]
  },
  {
   "cell_type": "code",
   "execution_count": 101,
   "metadata": {
    "collapsed": false
   },
   "outputs": [
    {
     "data": {
      "text/html": [
       "<div>\n",
       "<table border=\"1\" class=\"dataframe\">\n",
       "  <thead>\n",
       "    <tr style=\"text-align: right;\">\n",
       "      <th></th>\n",
       "      <th>證券  代號</th>\n",
       "      <th>證券  名稱</th>\n",
       "      <th>外資  買進股數</th>\n",
       "      <th>外資  賣出股數</th>\n",
       "      <th>外資  買賣超股數</th>\n",
       "      <th>投信  買進股數</th>\n",
       "      <th>投信  賣出股數</th>\n",
       "      <th>投信  買賣超股數</th>\n",
       "      <th>自營商  買賣超股數</th>\n",
       "      <th>自營商  買進股數  (自行買賣)</th>\n",
       "      <th>自營商  賣出股數  (自行買賣)</th>\n",
       "      <th>自營商  買賣超股數  (自行買賣)</th>\n",
       "      <th>自營商  買進股數  (避險)</th>\n",
       "      <th>自營商  賣出股數  (避險)</th>\n",
       "      <th>自營商  買賣超股數  (避險)</th>\n",
       "      <th>三大法人  買賣超股數</th>\n",
       "    </tr>\n",
       "  </thead>\n",
       "  <tbody>\n",
       "    <tr>\n",
       "      <th>0</th>\n",
       "      <td>3474</td>\n",
       "      <td>華亞科</td>\n",
       "      <td>5865836</td>\n",
       "      <td>3726000</td>\n",
       "      <td>2139836</td>\n",
       "      <td>0</td>\n",
       "      <td>0</td>\n",
       "      <td>0</td>\n",
       "      <td>-4000</td>\n",
       "      <td>0</td>\n",
       "      <td>0</td>\n",
       "      <td>0</td>\n",
       "      <td>0</td>\n",
       "      <td>4000</td>\n",
       "      <td>-4000</td>\n",
       "      <td>2135836</td>\n",
       "    </tr>\n",
       "    <tr>\n",
       "      <th>1</th>\n",
       "      <td>2408</td>\n",
       "      <td>南亞科</td>\n",
       "      <td>2755000</td>\n",
       "      <td>1194000</td>\n",
       "      <td>1561000</td>\n",
       "      <td>0</td>\n",
       "      <td>0</td>\n",
       "      <td>0</td>\n",
       "      <td>104000</td>\n",
       "      <td>1000</td>\n",
       "      <td>0</td>\n",
       "      <td>1000</td>\n",
       "      <td>106000</td>\n",
       "      <td>3000</td>\n",
       "      <td>103000</td>\n",
       "      <td>1665000</td>\n",
       "    </tr>\n",
       "    <tr>\n",
       "      <th>2</th>\n",
       "      <td>2449</td>\n",
       "      <td>京元電</td>\n",
       "      <td>6490000</td>\n",
       "      <td>5054000</td>\n",
       "      <td>1436000</td>\n",
       "      <td>144000</td>\n",
       "      <td>443000</td>\n",
       "      <td>-299000</td>\n",
       "      <td>131000</td>\n",
       "      <td>42000</td>\n",
       "      <td>77000</td>\n",
       "      <td>-35000</td>\n",
       "      <td>509000</td>\n",
       "      <td>343000</td>\n",
       "      <td>166000</td>\n",
       "      <td>1268000</td>\n",
       "    </tr>\n",
       "  </tbody>\n",
       "</table>\n",
       "</div>"
      ],
      "text/plain": [
       "   證券  代號 證券  名稱  外資  買進股數  外資  賣出股數  外資  買賣超股數  投信  買進股數  投信  賣出股數  \\\n",
       "0    3474    華亞科   5865836   3726000    2139836         0         0   \n",
       "1    2408    南亞科   2755000   1194000    1561000         0         0   \n",
       "2    2449    京元電   6490000   5054000    1436000    144000    443000   \n",
       "\n",
       "   投信  買賣超股數  自營商  買賣超股數  自營商  買進股數  (自行買賣)  自營商  賣出股數  (自行買賣)  \\\n",
       "0          0       -4000                  0                  0   \n",
       "1          0      104000               1000                  0   \n",
       "2    -299000      131000              42000              77000   \n",
       "\n",
       "   自營商  買賣超股數  (自行買賣)  自營商  買進股數  (避險)  自營商  賣出股數  (避險)  自營商  買賣超股數  (避險)  \\\n",
       "0                   0                0             4000             -4000   \n",
       "1                1000           106000             3000            103000   \n",
       "2              -35000           509000           343000            166000   \n",
       "\n",
       "   三大法人  買賣超股數  \n",
       "0      2135836  \n",
       "1      1665000  \n",
       "2      1268000  "
      ]
     },
     "execution_count": 101,
     "metadata": {},
     "output_type": "execute_result"
    }
   ],
   "source": [
    "stockdf.sort_values( by= u'外資  買賣超股數', ascending=False)\n",
    "stockdf.sort_values( by= u'外資  買賣超股數', ascending=False).head(3)"
   ]
  },
  {
   "cell_type": "code",
   "execution_count": 150,
   "metadata": {
    "collapsed": false
   },
   "outputs": [
    {
     "name": "stdout",
     "output_type": "stream",
     "text": [
      "2016-05-08 16:24:31.687000\n",
      "2016-05-08\n",
      "2016-03-02 00:00:00\n"
     ]
    }
   ],
   "source": [
    "from datetime import datetime\n",
    "print datetime.now()\n",
    "# using strftime to convert from time to string\n",
    "print datetime.now().strftime('%Y-%m-%d')\n",
    "\n",
    "# using strptime to convert from stirng to time\n",
    "dt = '2016/03/02'\n",
    "print datetime.strptime(dt, '%Y/%m/%d')\n"
   ]
  },
  {
   "cell_type": "code",
   "execution_count": 156,
   "metadata": {
    "collapsed": false
   },
   "outputs": [
    {
     "name": "stdout",
     "output_type": "stream",
     "text": [
      "2016-05-07 16:27:16.584000\n",
      "1\n",
      "2016-05-07\n",
      "2\n",
      "2016-05-06\n",
      "3\n",
      "2016-05-05\n",
      "4\n",
      "2016-05-04\n",
      "5\n",
      "2016-05-03\n",
      "6\n",
      "2016-05-02\n",
      "7\n",
      "2016-05-01\n",
      "8\n",
      "2016-04-30\n",
      "9\n",
      "2016-04-29\n"
     ]
    }
   ],
   "source": [
    "from datetime import datetime, timedelta\n",
    "print datetime.now() - timedelta(days = 1)\n",
    "for i in range(1,10):\n",
    "    print i\n",
    "    dt = datetime.now() - timedelta(days = i)\n",
    "    print dt.strftime('%Y-%m-%d')"
   ]
  },
  {
   "cell_type": "code",
   "execution_count": 161,
   "metadata": {
    "collapsed": false
   },
   "outputs": [
    {
     "name": "stdout",
     "output_type": "stream",
     "text": [
      "105/05/07\n",
      "105/05/06\n",
      "105/05/05\n",
      "105/05/04\n",
      "105/05/03\n",
      "105/05/02\n",
      "105/05/01\n",
      "105/04/30\n",
      "105/04/29\n"
     ]
    }
   ],
   "source": [
    "from datetime import datetime, timedelta\n",
    "#https://docs.python.org/2/library/datetime.html\n",
    "for i in range(1,10):\n",
    "    dt = datetime.now() - timedelta(days = i)\n",
    "    year = dt.strftime('%Y')\n",
    "    monthdate = dt.strftime('%m/%d')\n",
    "    #print type(year)\n",
    "    year =  int(year) - 1911\n",
    "    print '{}/{}'.format(year, monthdate)\n",
    "    #, monthdate"
   ]
  },
  {
   "cell_type": "code",
   "execution_count": 163,
   "metadata": {
    "collapsed": false
   },
   "outputs": [
    {
     "name": "stdout",
     "output_type": "stream",
     "text": [
      "105/05/06\n",
      "{'qdate': '105/04/29', 'sorting': 'by_issue', 'select2': '24'}\n"
     ]
    }
   ],
   "source": [
    "\n",
    "payload = {\n",
    "'qdate':'105/05/06',\n",
    "'select2':'24',\n",
    "'sorting':'by_issue'    \n",
    "}\n",
    "print payload['qdate']\n",
    "payload['qdate'] = '105/04/29'\n",
    "print payload"
   ]
  },
  {
   "cell_type": "code",
   "execution_count": 168,
   "metadata": {
    "collapsed": false
   },
   "outputs": [
    {
     "data": {
      "text/plain": [
       "'105/05/08'"
      ]
     },
     "execution_count": 168,
     "metadata": {},
     "output_type": "execute_result"
    }
   ],
   "source": [
    "def getTWDate(dt):\n",
    "    year = int(dt.strftime('%Y')) - 1911\n",
    "    monthdate = dt.strftime('%m/%d')\n",
    "    ymd = '{}/{}'.format(year, monthdate)\n",
    "    return ymd\n",
    "\n",
    "getTWDate(datetime.now())"
   ]
  },
  {
   "cell_type": "code",
   "execution_count": 169,
   "metadata": {
    "collapsed": true
   },
   "outputs": [],
   "source": [
    "def getTradingVolume(dt):\n",
    "    payload['qdate'] = getTWDate(dt)\n",
    "    res = requests.post('http://www.twse.com.tw/ch/trading/fund/T86/T86.php', data=payload)\n",
    "    soup = bs(res.text, 'html5lib')\n",
    "    tbl = soup.select('#tbl-sortable')[0]\n",
    "    dfs = pd.read_html(tbl.prettify('utf-8'), encoding='utf-8')\n",
    "    stockdf = dfs[0]\n",
    "    stockdf['ymd'] = dt\n",
    "    return stockdf\n"
   ]
  },
  {
   "cell_type": "code",
   "execution_count": 170,
   "metadata": {
    "collapsed": false
   },
   "outputs": [],
   "source": [
    "#print datetime.now().date()"
   ]
  },
  {
   "cell_type": "code",
   "execution_count": 180,
   "metadata": {
    "collapsed": true
   },
   "outputs": [],
   "source": [
    "from datetime import datetime, timedelta\n",
    "currentdate = datetime.now()\n",
    "dftotal = []\n",
    "for i in range(1,10): # use range to control days\n",
    "    dt = currentdate.date() - timedelta(days = i)\n",
    "    df = getTradingVolume(dt)\n",
    "    dftotal.append(df)"
   ]
  },
  {
   "cell_type": "code",
   "execution_count": 181,
   "metadata": {
    "collapsed": false
   },
   "outputs": [],
   "source": [
    "import pandas as pd\n",
    "stockdf = pd.concat(dftotal, ignore_index=True)"
   ]
  },
  {
   "cell_type": "code",
   "execution_count": 182,
   "metadata": {
    "collapsed": false
   },
   "outputs": [
    {
     "data": {
      "text/plain": [
       "證券  代號                350\n",
       "證券  名稱                350\n",
       "外資  買進股數              350\n",
       "外資  賣出股數              350\n",
       "外資  買賣超股數             350\n",
       "投信  買進股數              350\n",
       "投信  賣出股數              350\n",
       "投信  買賣超股數             350\n",
       "自營商  買賣超股數            350\n",
       "自營商  買進股數  (自行買賣)     350\n",
       "自營商  賣出股數  (自行買賣)     350\n",
       "自營商  買賣超股數  (自行買賣)    350\n",
       "自營商  買進股數  (避險)       350\n",
       "自營商  賣出股數  (避險)       350\n",
       "自營商  買賣超股數  (避險)      350\n",
       "三大法人  買賣超股數           350\n",
       "ymd                   350\n",
       "dtype: int64"
      ]
     },
     "execution_count": 182,
     "metadata": {},
     "output_type": "execute_result"
    }
   ],
   "source": [
    "stockdf.count()"
   ]
  },
  {
   "cell_type": "code",
   "execution_count": 184,
   "metadata": {
    "collapsed": false
   },
   "outputs": [
    {
     "data": {
      "text/html": [
       "<div>\n",
       "<table border=\"1\" class=\"dataframe\">\n",
       "  <thead>\n",
       "    <tr style=\"text-align: right;\">\n",
       "      <th></th>\n",
       "      <th>證券  代號</th>\n",
       "      <th>外資  買進股數</th>\n",
       "      <th>外資  賣出股數</th>\n",
       "      <th>外資  買賣超股數</th>\n",
       "      <th>投信  買進股數</th>\n",
       "      <th>投信  賣出股數</th>\n",
       "      <th>投信  買賣超股數</th>\n",
       "      <th>自營商  買賣超股數</th>\n",
       "      <th>自營商  買進股數  (自行買賣)</th>\n",
       "      <th>自營商  賣出股數  (自行買賣)</th>\n",
       "      <th>自營商  買賣超股數  (自行買賣)</th>\n",
       "      <th>自營商  買進股數  (避險)</th>\n",
       "      <th>自營商  賣出股數  (避險)</th>\n",
       "      <th>自營商  買賣超股數  (避險)</th>\n",
       "      <th>三大法人  買賣超股數</th>\n",
       "    </tr>\n",
       "  </thead>\n",
       "  <tbody>\n",
       "    <tr>\n",
       "      <th>count</th>\n",
       "      <td>5</td>\n",
       "      <td>5.000000</td>\n",
       "      <td>5.00000</td>\n",
       "      <td>5.000000</td>\n",
       "      <td>5.00000</td>\n",
       "      <td>5.000000</td>\n",
       "      <td>5.000000</td>\n",
       "      <td>5.000000</td>\n",
       "      <td>5.00000</td>\n",
       "      <td>5.000000</td>\n",
       "      <td>5.000000</td>\n",
       "      <td>5.000000</td>\n",
       "      <td>5.000000</td>\n",
       "      <td>5.000000</td>\n",
       "      <td>5.000000</td>\n",
       "    </tr>\n",
       "    <tr>\n",
       "      <th>mean</th>\n",
       "      <td>2330</td>\n",
       "      <td>26403069.400000</td>\n",
       "      <td>50932738.20000</td>\n",
       "      <td>-24529668.800000</td>\n",
       "      <td>31000.00000</td>\n",
       "      <td>360800.000000</td>\n",
       "      <td>-329800.000000</td>\n",
       "      <td>1419600.000000</td>\n",
       "      <td>1235400.00000</td>\n",
       "      <td>130800.000000</td>\n",
       "      <td>1104600.000000</td>\n",
       "      <td>631400.000000</td>\n",
       "      <td>316400.000000</td>\n",
       "      <td>315000.000000</td>\n",
       "      <td>-23439868.800000</td>\n",
       "    </tr>\n",
       "    <tr>\n",
       "      <th>std</th>\n",
       "      <td>0</td>\n",
       "      <td>7956224.327653</td>\n",
       "      <td>14070043.41484</td>\n",
       "      <td>15747340.910085</td>\n",
       "      <td>53837.71912</td>\n",
       "      <td>482928.773216</td>\n",
       "      <td>508385.385313</td>\n",
       "      <td>914683.715827</td>\n",
       "      <td>649342.97563</td>\n",
       "      <td>72441.010484</td>\n",
       "      <td>653132.299002</td>\n",
       "      <td>390584.561907</td>\n",
       "      <td>80214.088538</td>\n",
       "      <td>359648.439452</td>\n",
       "      <td>15202874.302711</td>\n",
       "    </tr>\n",
       "    <tr>\n",
       "      <th>min</th>\n",
       "      <td>2330</td>\n",
       "      <td>16652487.000000</td>\n",
       "      <td>36329176.00000</td>\n",
       "      <td>-47307028.000000</td>\n",
       "      <td>0.00000</td>\n",
       "      <td>19000.000000</td>\n",
       "      <td>-1187000.000000</td>\n",
       "      <td>123000.000000</td>\n",
       "      <td>270000.00000</td>\n",
       "      <td>37000.000000</td>\n",
       "      <td>68000.000000</td>\n",
       "      <td>307000.000000</td>\n",
       "      <td>195000.000000</td>\n",
       "      <td>2000.000000</td>\n",
       "      <td>-45206028.000000</td>\n",
       "    </tr>\n",
       "    <tr>\n",
       "      <th>25%</th>\n",
       "      <td>2330</td>\n",
       "      <td>23512540.000000</td>\n",
       "      <td>37758202.00000</td>\n",
       "      <td>-28496849.000000</td>\n",
       "      <td>7000.00000</td>\n",
       "      <td>53000.000000</td>\n",
       "      <td>-373000.000000</td>\n",
       "      <td>1010000.000000</td>\n",
       "      <td>1045000.00000</td>\n",
       "      <td>98000.000000</td>\n",
       "      <td>1008000.000000</td>\n",
       "      <td>337000.000000</td>\n",
       "      <td>282000.000000</td>\n",
       "      <td>55000.000000</td>\n",
       "      <td>-27643849.000000</td>\n",
       "    </tr>\n",
       "    <tr>\n",
       "      <th>50%</th>\n",
       "      <td>2330</td>\n",
       "      <td>23891785.000000</td>\n",
       "      <td>50354331.00000</td>\n",
       "      <td>-26841791.000000</td>\n",
       "      <td>10000.00000</td>\n",
       "      <td>165000.000000</td>\n",
       "      <td>-155000.000000</td>\n",
       "      <td>1451000.000000</td>\n",
       "      <td>1379000.00000</td>\n",
       "      <td>111000.000000</td>\n",
       "      <td>1268000.000000</td>\n",
       "      <td>404000.000000</td>\n",
       "      <td>348000.000000</td>\n",
       "      <td>112000.000000</td>\n",
       "      <td>-25986791.000000</td>\n",
       "    </tr>\n",
       "    <tr>\n",
       "      <th>75%</th>\n",
       "      <td>2330</td>\n",
       "      <td>30192917.000000</td>\n",
       "      <td>63959515.00000</td>\n",
       "      <td>-13866417.000000</td>\n",
       "      <td>11000.00000</td>\n",
       "      <td>380000.000000</td>\n",
       "      <td>-8000.000000</td>\n",
       "      <td>2040000.000000</td>\n",
       "      <td>1437000.00000</td>\n",
       "      <td>202000.000000</td>\n",
       "      <td>1339000.000000</td>\n",
       "      <td>989000.000000</td>\n",
       "      <td>355000.000000</td>\n",
       "      <td>634000.000000</td>\n",
       "      <td>-12341417.000000</td>\n",
       "    </tr>\n",
       "    <tr>\n",
       "      <th>max</th>\n",
       "      <td>2330</td>\n",
       "      <td>37765618.000000</td>\n",
       "      <td>66262467.00000</td>\n",
       "      <td>-6136259.000000</td>\n",
       "      <td>127000.00000</td>\n",
       "      <td>1187000.000000</td>\n",
       "      <td>74000.000000</td>\n",
       "      <td>2474000.000000</td>\n",
       "      <td>2046000.00000</td>\n",
       "      <td>206000.000000</td>\n",
       "      <td>1840000.000000</td>\n",
       "      <td>1120000.000000</td>\n",
       "      <td>402000.000000</td>\n",
       "      <td>772000.000000</td>\n",
       "      <td>-6021259.000000</td>\n",
       "    </tr>\n",
       "  </tbody>\n",
       "</table>\n",
       "</div>"
      ],
      "text/plain": [
       "       證券  代號         外資  買進股數        外資  賣出股數        外資  買賣超股數      投信  買進股數  \\\n",
       "count       5         5.000000         5.00000         5.000000       5.00000   \n",
       "mean     2330  26403069.400000  50932738.20000 -24529668.800000   31000.00000   \n",
       "std         0   7956224.327653  14070043.41484  15747340.910085   53837.71912   \n",
       "min      2330  16652487.000000  36329176.00000 -47307028.000000       0.00000   \n",
       "25%      2330  23512540.000000  37758202.00000 -28496849.000000    7000.00000   \n",
       "50%      2330  23891785.000000  50354331.00000 -26841791.000000   10000.00000   \n",
       "75%      2330  30192917.000000  63959515.00000 -13866417.000000   11000.00000   \n",
       "max      2330  37765618.000000  66262467.00000  -6136259.000000  127000.00000   \n",
       "\n",
       "             投信  賣出股數       投信  買賣超股數      自營商  買賣超股數  自營商  買進股數  (自行買賣)  \\\n",
       "count        5.000000        5.000000        5.000000            5.00000   \n",
       "mean    360800.000000  -329800.000000  1419600.000000      1235400.00000   \n",
       "std     482928.773216   508385.385313   914683.715827       649342.97563   \n",
       "min      19000.000000 -1187000.000000   123000.000000       270000.00000   \n",
       "25%      53000.000000  -373000.000000  1010000.000000      1045000.00000   \n",
       "50%     165000.000000  -155000.000000  1451000.000000      1379000.00000   \n",
       "75%     380000.000000    -8000.000000  2040000.000000      1437000.00000   \n",
       "max    1187000.000000    74000.000000  2474000.000000      2046000.00000   \n",
       "\n",
       "       自營商  賣出股數  (自行買賣)  自營商  買賣超股數  (自行買賣)  自營商  買進股數  (避險)  \\\n",
       "count           5.000000            5.000000         5.000000   \n",
       "mean       130800.000000      1104600.000000    631400.000000   \n",
       "std         72441.010484       653132.299002    390584.561907   \n",
       "min         37000.000000        68000.000000    307000.000000   \n",
       "25%         98000.000000      1008000.000000    337000.000000   \n",
       "50%        111000.000000      1268000.000000    404000.000000   \n",
       "75%        202000.000000      1339000.000000    989000.000000   \n",
       "max        206000.000000      1840000.000000   1120000.000000   \n",
       "\n",
       "       自營商  賣出股數  (避險)  自營商  買賣超股數  (避險)      三大法人  買賣超股數  \n",
       "count         5.000000          5.000000         5.000000  \n",
       "mean     316400.000000     315000.000000 -23439868.800000  \n",
       "std       80214.088538     359648.439452  15202874.302711  \n",
       "min      195000.000000       2000.000000 -45206028.000000  \n",
       "25%      282000.000000      55000.000000 -27643849.000000  \n",
       "50%      348000.000000     112000.000000 -25986791.000000  \n",
       "75%      355000.000000     634000.000000 -12341417.000000  \n",
       "max      402000.000000     772000.000000  -6021259.000000  "
      ]
     },
     "execution_count": 184,
     "metadata": {},
     "output_type": "execute_result"
    }
   ],
   "source": [
    "stockdf[stockdf[u'證券  代號'] == 2330]\n",
    "stockdf[stockdf[u'證券  代號'] == 2330].describe()"
   ]
  },
  {
   "cell_type": "markdown",
   "metadata": {},
   "source": [
    "## read_html get yahoo stock"
   ]
  },
  {
   "cell_type": "code",
   "execution_count": 67,
   "metadata": {
    "collapsed": false
   },
   "outputs": [],
   "source": [
    "import pandas as pd\n",
    "dfs = pd.read_html('https://tw.stock.yahoo.com/q/q?s=2330')\n",
    "dfs[6]"
   ]
  },
  {
   "cell_type": "markdown",
   "metadata": {},
   "source": [
    "## Crawl MI_INDEX"
   ]
  },
  {
   "cell_type": "code",
   "execution_count": 71,
   "metadata": {
    "collapsed": false
   },
   "outputs": [
    {
     "name": "stdout",
     "output_type": "stream",
     "text": [
      "<Response [200]>\n"
     ]
    }
   ],
   "source": [
    "import requests\n",
    "url ='http://www.twse.com.tw/ch/trading/exchange/MI_INDEX/MI_INDEX.php'\n",
    "payload ={\n",
    "'qdate':'105/05/06',\n",
    "'selectType':'ALLBUT0999'\n",
    "}\n",
    "res = requests.post(url,data=payload)\n",
    "print res"
   ]
  },
  {
   "cell_type": "code",
   "execution_count": 73,
   "metadata": {
    "collapsed": false
   },
   "outputs": [],
   "source": [
    "from bs4 import BeautifulSoup\n",
    "soup = BeautifulSoup(res.text)\n",
    "tb = soup.select('br + table')[0]\n",
    "dfs = pd.read_html(tb.prettify('utf-8'), encoding = 'utf-8')"
   ]
  },
  {
   "cell_type": "code",
   "execution_count": 75,
   "metadata": {
    "collapsed": false
   },
   "outputs": [],
   "source": [
    "stockdf = dfs[0]"
   ]
  },
  {
   "cell_type": "code",
   "execution_count": 77,
   "metadata": {
    "collapsed": false
   },
   "outputs": [
    {
     "name": "stdout",
     "output_type": "stream",
     "text": [
      "thireojr oejroi ejrioej roiej oierjoe reojr eoj eoirj orj oe\n"
     ]
    }
   ],
   "source": [
    "print \"thireojr oejroi ejrioej roiej o\\\n",
    "ierjoe reojr eoj eoirj orj oe\""
   ]
  },
  {
   "cell_type": "code",
   "execution_count": 80,
   "metadata": {
    "collapsed": false
   },
   "outputs": [],
   "source": [
    "stockdf.columns = ['證券代號','證券名稱','成交股數','成交筆數',\\\n",
    "                   '成交金額','開盤價','最高價','最低價','收盤價','漲跌(+/-)',\\\n",
    "                   '漲跌價差','最後揭示買價','最後揭示買量','最後揭示賣價','最後揭示賣量',\\\n",
    "                   '本益比']"
   ]
  },
  {
   "cell_type": "code",
   "execution_count": 82,
   "metadata": {
    "collapsed": false
   },
   "outputs": [
    {
     "data": {
      "text/html": [
       "<div>\n",
       "<table border=\"1\" class=\"dataframe\">\n",
       "  <thead>\n",
       "    <tr style=\"text-align: right;\">\n",
       "      <th></th>\n",
       "      <th>成交股數</th>\n",
       "      <th>成交筆數</th>\n",
       "      <th>成交金額</th>\n",
       "      <th>漲跌價差</th>\n",
       "      <th>最後揭示買量</th>\n",
       "      <th>最後揭示賣量</th>\n",
       "      <th>本益比</th>\n",
       "    </tr>\n",
       "  </thead>\n",
       "  <tbody>\n",
       "    <tr>\n",
       "      <th>count</th>\n",
       "      <td>9.450000e+02</td>\n",
       "      <td>945.000000</td>\n",
       "      <td>9.450000e+02</td>\n",
       "      <td>945.000000</td>\n",
       "      <td>945.000000</td>\n",
       "      <td>945.000000</td>\n",
       "      <td>945.000000</td>\n",
       "    </tr>\n",
       "    <tr>\n",
       "      <th>mean</th>\n",
       "      <td>2.277625e+06</td>\n",
       "      <td>763.153439</td>\n",
       "      <td>8.760069e+07</td>\n",
       "      <td>0.535238</td>\n",
       "      <td>70.133333</td>\n",
       "      <td>41.007407</td>\n",
       "      <td>24.221037</td>\n",
       "    </tr>\n",
       "    <tr>\n",
       "      <th>std</th>\n",
       "      <td>7.668226e+06</td>\n",
       "      <td>1873.771820</td>\n",
       "      <td>3.620729e+08</td>\n",
       "      <td>1.534058</td>\n",
       "      <td>414.957226</td>\n",
       "      <td>174.330180</td>\n",
       "      <td>109.305003</td>\n",
       "    </tr>\n",
       "    <tr>\n",
       "      <th>min</th>\n",
       "      <td>0.000000e+00</td>\n",
       "      <td>0.000000</td>\n",
       "      <td>0.000000e+00</td>\n",
       "      <td>0.000000</td>\n",
       "      <td>0.000000</td>\n",
       "      <td>0.000000</td>\n",
       "      <td>0.000000</td>\n",
       "    </tr>\n",
       "    <tr>\n",
       "      <th>25%</th>\n",
       "      <td>7.401100e+04</td>\n",
       "      <td>37.000000</td>\n",
       "      <td>1.213277e+06</td>\n",
       "      <td>0.050000</td>\n",
       "      <td>3.000000</td>\n",
       "      <td>2.000000</td>\n",
       "      <td>3.530000</td>\n",
       "    </tr>\n",
       "    <tr>\n",
       "      <th>50%</th>\n",
       "      <td>2.840990e+05</td>\n",
       "      <td>129.000000</td>\n",
       "      <td>5.852519e+06</td>\n",
       "      <td>0.150000</td>\n",
       "      <td>8.000000</td>\n",
       "      <td>5.000000</td>\n",
       "      <td>11.680000</td>\n",
       "    </tr>\n",
       "    <tr>\n",
       "      <th>75%</th>\n",
       "      <td>1.072330e+06</td>\n",
       "      <td>545.000000</td>\n",
       "      <td>3.570804e+07</td>\n",
       "      <td>0.400000</td>\n",
       "      <td>27.000000</td>\n",
       "      <td>16.000000</td>\n",
       "      <td>18.160000</td>\n",
       "    </tr>\n",
       "    <tr>\n",
       "      <th>max</th>\n",
       "      <td>1.163083e+08</td>\n",
       "      <td>21269.000000</td>\n",
       "      <td>5.824460e+09</td>\n",
       "      <td>30.000000</td>\n",
       "      <td>10327.000000</td>\n",
       "      <td>2487.000000</td>\n",
       "      <td>2430.000000</td>\n",
       "    </tr>\n",
       "  </tbody>\n",
       "</table>\n",
       "</div>"
      ],
      "text/plain": [
       "               成交股數          成交筆數          成交金額        漲跌價差        最後揭示買量  \\\n",
       "count  9.450000e+02    945.000000  9.450000e+02  945.000000    945.000000   \n",
       "mean   2.277625e+06    763.153439  8.760069e+07    0.535238     70.133333   \n",
       "std    7.668226e+06   1873.771820  3.620729e+08    1.534058    414.957226   \n",
       "min    0.000000e+00      0.000000  0.000000e+00    0.000000      0.000000   \n",
       "25%    7.401100e+04     37.000000  1.213277e+06    0.050000      3.000000   \n",
       "50%    2.840990e+05    129.000000  5.852519e+06    0.150000      8.000000   \n",
       "75%    1.072330e+06    545.000000  3.570804e+07    0.400000     27.000000   \n",
       "max    1.163083e+08  21269.000000  5.824460e+09   30.000000  10327.000000   \n",
       "\n",
       "            最後揭示賣量          本益比  \n",
       "count   945.000000   945.000000  \n",
       "mean     41.007407    24.221037  \n",
       "std     174.330180   109.305003  \n",
       "min       0.000000     0.000000  \n",
       "25%       2.000000     3.530000  \n",
       "50%       5.000000    11.680000  \n",
       "75%      16.000000    18.160000  \n",
       "max    2487.000000  2430.000000  "
      ]
     },
     "execution_count": 82,
     "metadata": {},
     "output_type": "execute_result"
    }
   ],
   "source": [
    "stockdf.describe()"
   ]
  },
  {
   "cell_type": "markdown",
   "metadata": {},
   "source": [
    "## cnyes analysis"
   ]
  },
  {
   "cell_type": "code",
   "execution_count": 103,
   "metadata": {
    "collapsed": false
   },
   "outputs": [
    {
     "name": "stdout",
     "output_type": "stream",
     "text": [
      "[1, 2, 3, 4, 5, 6, 7, 8, 9]\n",
      "1\n",
      "2\n",
      "3\n",
      "4\n",
      "5\n",
      "6\n",
      "7\n",
      "8\n",
      "9\n"
     ]
    }
   ],
   "source": [
    "print range(1,10)\n",
    "for i in range(1,10):\n",
    "    print i"
   ]
  },
  {
   "cell_type": "code",
   "execution_count": 105,
   "metadata": {
    "collapsed": false
   },
   "outputs": [
    {
     "data": {
      "text/plain": [
       "'Hi my name is david'"
      ]
     },
     "execution_count": 105,
     "metadata": {},
     "output_type": "execute_result"
    }
   ],
   "source": [
    "a = 'Hi my name is {}'\n",
    "a.format('david')"
   ]
  },
  {
   "cell_type": "code",
   "execution_count": 113,
   "metadata": {
    "collapsed": false
   },
   "outputs": [
    {
     "name": "stdout",
     "output_type": "stream",
     "text": [
      "da              ddd\n"
     ]
    }
   ],
   "source": [
    "a = '              da              ddd          '\n",
    "print a.strip()"
   ]
  },
  {
   "cell_type": "code",
   "execution_count": 112,
   "metadata": {
    "collapsed": false
   },
   "outputs": [
    {
     "name": "stdout",
     "output_type": "stream",
     "text": [
      "陽光能源(00757-HK)公告，向由由執行董事譚鑫擁有35%股權的錦州吉興(賣方)，收購位於遼寧省錦州市的國有土地使用權連同其上建設的工廠大樓及處所，交易代價為800萬元(人民幣.下同)。該土地總面積為1.76萬平方米，現時為工業用途，賣方原來之收購成本價為275.3萬元。董事認為收購事項是集團絕佳的投資機會，可提供更多工作空間，配合集團光伏組件銷售的預期拓展。\n",
      "更多精彩內容 請登陸財華智庫網 (http://www.finet.com.cn) 財華香港網 (http://www.finet.hk)或現代電視 (http://www.fintv.com)\n"
     ]
    }
   ],
   "source": [
    "def getNewsText(url):\n",
    "    res = requests.get(url)\n",
    "    res.encoding = 'utf-8'\n",
    "    soup = bs(res.text)\n",
    "    article = soup.select('#newsText')[0].text.strip()\n",
    "    return article\n",
    "\n",
    "print getNewsText('http://news.cnyes.com/Content/20160507/20160507144148000852043.shtml?c=headline')"
   ]
  },
  {
   "cell_type": "code",
   "execution_count": 116,
   "metadata": {
    "collapsed": false
   },
   "outputs": [
    {
     "name": "stdout",
     "output_type": "stream",
     "text": [
      "1 2 3 4 5 6 7 8 9 10 11 12 13 14\n"
     ]
    }
   ],
   "source": [
    "import requests\n",
    "from bs4 import BeautifulSoup as bs\n",
    "url = 'http://news.cnyes.com/wd_stock/list_{}.shtml'\n",
    "\n",
    "\n",
    "newslist = []\n",
    "for i in range(1,15):\n",
    "    res = requests.get(url.format(i))\n",
    "    res.encoding = 'utf-8'\n",
    "    soup = bs(res.text)\n",
    "    for alink in soup.select('.bd_dbottom li > a'):\n",
    "        newslist.append({'title':alink.text, 'link':alink['href'], 'article':getNewsText(alink['href'])})\n",
    "    print i,\n"
   ]
  },
  {
   "cell_type": "code",
   "execution_count": 121,
   "metadata": {
    "collapsed": false
   },
   "outputs": [
    {
     "data": {
      "text/html": [
       "<div>\n",
       "<table border=\"1\" class=\"dataframe\">\n",
       "  <thead>\n",
       "    <tr style=\"text-align: right;\">\n",
       "      <th></th>\n",
       "      <th>article</th>\n",
       "      <th>link</th>\n",
       "      <th>title</th>\n",
       "    </tr>\n",
       "  </thead>\n",
       "  <tbody>\n",
       "    <tr>\n",
       "      <th>0</th>\n",
       "      <td>陽光能源(00757-HK)公告，向由由執行董事譚鑫擁有35%股權的錦州吉興(賣方)，收購位...</td>\n",
       "      <td>http://news.cnyes.com/Content/20160507/2016050...</td>\n",
       "      <td>陽光能源購錦州廠地配合光伏業務發展</td>\n",
       "    </tr>\n",
       "    <tr>\n",
       "      <th>1</th>\n",
       "      <td>全國人大委員長張德江將會在本月中訪港，全國港澳研究會副會長劉兆佳表示，相信張德江訪港有四個目...</td>\n",
       "      <td>http://news.cnyes.com/Content/20160507/2016050...</td>\n",
       "      <td>劉兆佳估計張德江來港為突顯中央堅持一國兩制</td>\n",
       "    </tr>\n",
       "    <tr>\n",
       "      <th>2</th>\n",
       "      <td>央行今日公布4月外儲數據，4月外?儲備32190億美元，預期32040億美元，前值32126...</td>\n",
       "      <td>http://news.cnyes.com/Content/20160507/2016050...</td>\n",
       "      <td>中國4月外?儲備32190億 小幅上升64億美元</td>\n",
       "    </tr>\n",
       "    <tr>\n",
       "      <th>3</th>\n",
       "      <td>年初的暴跌行情結束之後，經曆了三個月的反彈震盪行情，市場信心似乎也有所修複回穩，近期有多只基...</td>\n",
       "      <td>http://news.cnyes.com/Content/20160507/2016050...</td>\n",
       "      <td>新基金發行回暖 保本基金占比4成以上</td>\n",
       "    </tr>\n",
       "    <tr>\n",
       "      <th>4</th>\n",
       "      <td>據財新訊，央行在《2016年第一季度中國貨幣政策執行報告》中分析稱，國際上，美聯儲後續加息節...</td>\n",
       "      <td>http://news.cnyes.com/Content/20160507/2016050...</td>\n",
       "      <td>央行：經濟金融領域風險暴露增多</td>\n",
       "    </tr>\n",
       "  </tbody>\n",
       "</table>\n",
       "</div>"
      ],
      "text/plain": [
       "                                             article  \\\n",
       "0  陽光能源(00757-HK)公告，向由由執行董事譚鑫擁有35%股權的錦州吉興(賣方)，收購位...   \n",
       "1  全國人大委員長張德江將會在本月中訪港，全國港澳研究會副會長劉兆佳表示，相信張德江訪港有四個目...   \n",
       "2  央行今日公布4月外儲數據，4月外?儲備32190億美元，預期32040億美元，前值32126...   \n",
       "3  年初的暴跌行情結束之後，經曆了三個月的反彈震盪行情，市場信心似乎也有所修複回穩，近期有多只基...   \n",
       "4  據財新訊，央行在《2016年第一季度中國貨幣政策執行報告》中分析稱，國際上，美聯儲後續加息節...   \n",
       "\n",
       "                                                link                     title  \n",
       "0  http://news.cnyes.com/Content/20160507/2016050...         陽光能源購錦州廠地配合光伏業務發展  \n",
       "1  http://news.cnyes.com/Content/20160507/2016050...     劉兆佳估計張德江來港為突顯中央堅持一國兩制  \n",
       "2  http://news.cnyes.com/Content/20160507/2016050...  中國4月外?儲備32190億 小幅上升64億美元  \n",
       "3  http://news.cnyes.com/Content/20160507/2016050...        新基金發行回暖 保本基金占比4成以上  \n",
       "4  http://news.cnyes.com/Content/20160507/2016050...           央行：經濟金融領域風險暴露增多  "
      ]
     },
     "execution_count": 121,
     "metadata": {},
     "output_type": "execute_result"
    }
   ],
   "source": [
    "import pandas as pd\n",
    "df = pd.DataFrame(newslist)\n",
    "df.head()"
   ]
  },
  {
   "cell_type": "code",
   "execution_count": 120,
   "metadata": {
    "collapsed": false
   },
   "outputs": [
    {
     "name": "stdout",
     "output_type": "stream",
     "text": [
      "巴菲特 旗下 伯克希爾 · 哈撒 韋股 東大會 在 「 股神 」 的 家 鄉 奧馬哈 舉行\n"
     ]
    }
   ],
   "source": [
    "import jieba\n",
    "for ele in jieba.cut('巴菲特旗下伯克希爾·哈撒韋股東大會在「股神」的家鄉奧馬哈舉行'):\n",
    "    print ele,"
   ]
  },
  {
   "cell_type": "code",
   "execution_count": 134,
   "metadata": {
    "collapsed": true
   },
   "outputs": [],
   "source": [
    "corpus =[]\n",
    "titles = []\n",
    "for news in newslist:\n",
    "    titles.append(news['title'])\n",
    "    corpus.append(' '.join(jieba.cut(news['article'])))\n"
   ]
  },
  {
   "cell_type": "code",
   "execution_count": 135,
   "metadata": {
    "collapsed": false
   },
   "outputs": [
    {
     "name": "stdout",
     "output_type": "stream",
     "text": [
      "劉兆佳估計張德江來港為突顯中央堅持一國兩制\n",
      "全國 人大 委員長 張 德江 將會 在 本月 中訪 港 ， 全國 港澳 研究 會 副 會長 劉兆佳 表示 ， 相信 張 德江 訪港 有 四個 目標 ， 中央 希望 藉此 表示 仍然 關懷 香港 人 的 福祉 ， 其次 是 要 突顯 中央 對 一國 兩制 仍然 堅持 ， 並嚴格 遵守 過去 的 規則 。 第三 是 強調 國家 發展 對 香港 發展 的 重要性 ， 第四 就是 要 強化 港人 的 信心 ， 在 制度 上 仍 有 優勢 ， 可 在 國家 新 一輪 發展 中 扮演 角色 。 劉兆佳 又 指 ， 中央 對港 獨現 時 未 看 得 很 嚴重 ， 不認 為 是 一股 龐大 政治 勢力 ， 只是 擔憂 若 不 遏止 的 話 ， 港獨會 在 青年人 之間 蔓延 ， 形成 一種 政治 或 社會 運動 ， 對 中港 關 係 、 香港 的 穩定 不利 。 他 指 原則 上 及 感情 上 ， 中央 難以 接受 港 獨主張 ， 因為 是 否定 中央 對 香港 的 主權 及 有 分裂 國家 的 意味 ， 中央 會強 調國 家主 權及 統一 的 重要性 ， 但 未必 會花 篇幅 去 抨擊 。 \n",
      " 更 多 精彩 內容   請 登陸 財華智 庫網   ( http : / / www . finet . com . cn )   財華 香港 網   ( http : / / www . finet . hk ) 或 現代電視   ( http : / / www . fintv . com )\n"
     ]
    }
   ],
   "source": [
    "print titles[1]\n",
    "print corpus[1]"
   ]
  },
  {
   "cell_type": "code",
   "execution_count": 136,
   "metadata": {
    "collapsed": false
   },
   "outputs": [],
   "source": [
    "from sklearn.feature_extraction.text import CountVectorizer\n",
    "vectorizer=CountVectorizer()\n",
    "X=vectorizer.fit_transform(corpus)\n",
    "word=vectorizer.get_feature_names()\n"
   ]
  },
  {
   "cell_type": "code",
   "execution_count": 139,
   "metadata": {
    "collapsed": true
   },
   "outputs": [],
   "source": [
    "from sklearn.feature_extraction.text import TfidfTransformer\n",
    "transformer=TfidfTransformer()\n",
    "X=vectorizer.fit_transform(corpus)\n",
    "tfidf=transformer.fit_transform(X)\n",
    "weight=tfidf.toarray()\n",
    "word=vectorizer.get_feature_names()"
   ]
  },
  {
   "cell_type": "code",
   "execution_count": 146,
   "metadata": {
    "collapsed": false
   },
   "outputs": [
    {
     "name": "stdout",
     "output_type": "stream",
     "text": [
      "[查詢文章]: 上市券商4月業績出爐 東北證券營收為負值\n",
      "[相似文章]: 國投安信：安信證券4月淨利潤環比增長32.25% 0.368017587511\n",
      "[相似文章]: 廣發證券母公司4月淨利潤環比下降24% 0.292799267319\n",
      "[相似文章]: 國泰君安母公司4月淨利潤環比下降五成 0.291879937283\n",
      "[相似文章]: 海通證券母公司4月淨利潤環比下降55% 0.290935000219\n",
      "[相似文章]: 快訊：券商板塊走強 山西證券率先翻紅 0.278882794239\n",
      "[相似文章]: 05月05日龍虎榜：巨量換手揭示賽福天主力或有大動作 0.266334504975\n",
      "[相似文章]: 國海證券母公司4月淨利潤環比下降60.93% 0.265175818926\n",
      "[相似文章]: 華泰證券母公司4月淨利潤環比下降23% 0.247205083933\n",
      "[相似文章]: 中信証券4月淨利潤下跌77% 0.240041564678\n",
      "[相似文章]: 05月05日龍虎榜：主力資金大幅建倉青山紙業 0.224430612545\n",
      "[相似文章]: 05月05日龍虎榜：聯儲證券有限責任公司客戶資產管理部操作個股 0.223524388608\n",
      "[相似文章]: 05月05日龍虎榜：揭秘天鵝股份因何連續三日上漲超20% 0.216483497919\n",
      "[相似文章]: 中信証券4月份淨利潤5.5億元人民幣 按年跌77% 0.213477633026\n",
      "[相似文章]: 晚間公告：中通客車銷量同增7成 暴風科技復牌 0.212306488591\n",
      "[相似文章]: 05月05日龍虎榜：主力資金連續五日搶籌個股名單一覽 0.207958945921\n",
      "[相似文章]: 05月05日龍虎榜：主力資金連續三日搶籌個股名單一覽 0.195456773456\n",
      "[相似文章]: 05月05日龍虎榜：主力資金連續五日出逃個股名單一覽 0.176188778805\n",
      "[相似文章]: 海通證券：經濟複蘇乏力 趨勢仍需觀察 0.136662464444\n",
      "[相似文章]: 龍虎榜點評： 勝宏科技4天怒封3漲停 知名游資齊發力 0.114167257812\n",
      "[相似文章]: 中國4月外?儲備32190億 小幅上升64億美元 0.101559803881\n"
     ]
    }
   ],
   "source": [
    "from sklearn.metrics.pairwise import linear_kernel\n",
    "\n",
    "def getSimiliarArticle(idx):\n",
    "    print \"[查詢文章]:\" , titles[idx]\n",
    "    cosine_similarities = linear_kernel(tfidf[idx],tfidf).flatten()\n",
    "    related_docs_indices = cosine_similarities.argsort()[::-1]\n",
    "    for doc in related_docs_indices[1:]:\n",
    "        if cosine_similarities[doc] >= 0.1:\n",
    "            print \"[相似文章]:\", titles[doc], cosine_similarities[doc]\n",
    "getSimiliarArticle(6)"
   ]
  },
  {
   "cell_type": "code",
   "execution_count": 133,
   "metadata": {
    "collapsed": false
   },
   "outputs": [
    {
     "name": "stdout",
     "output_type": "stream",
     "text": [
      "不易 人事 今處理 公文 更新 案還 殘障 求職 洩漏 洪智坤 清楚 看到 結果 處議 議處\n",
      "[[0 0 1 2 1 1 0 0 1 1 0 1 0 0 0]\n",
      " [1 0 0 0 0 0 1 1 0 1 0 0 0 0 0]\n",
      " [0 1 0 0 0 0 0 0 0 1 1 0 1 1 1]]\n"
     ]
    }
   ],
   "source": [
    "import jieba \n",
    "ary=['【更新】柯P：洪智坤洩漏公文案還沒看到公文今處理',\n",
    "     '留洪智坤柯：殘障求職不易',\n",
    "     '人事處議處洪智坤柯P：不清楚議處結果']\n",
    "jieba.add_word('洪智坤')\n",
    "corpus=[]\n",
    "for title in ary:\n",
    "    corpus.append(' '.join(jieba.cut(title)))\n",
    "\n",
    "from sklearn.feature_extraction.text import CountVectorizer\n",
    "vectorizer=CountVectorizer()\n",
    "X=vectorizer.fit_transform(corpus)\n",
    "\n",
    "word=vectorizer.get_feature_names()\n",
    "for w in word:\n",
    "    print w, \n",
    "print \n",
    "print X.toarray()"
   ]
  },
  {
   "cell_type": "code",
   "execution_count": null,
   "metadata": {
    "collapsed": true
   },
   "outputs": [],
   "source": []
  }
 ],
 "metadata": {
  "kernelspec": {
   "display_name": "Python 3",
   "language": "python",
   "name": "python3"
  },
  "language_info": {
   "codemirror_mode": {
    "name": "ipython",
    "version": 3
   },
   "file_extension": ".py",
   "mimetype": "text/x-python",
   "name": "python",
   "nbconvert_exporter": "python",
   "pygments_lexer": "ipython3",
   "version": "3.6.0"
  }
 },
 "nbformat": 4,
 "nbformat_minor": 0
}
