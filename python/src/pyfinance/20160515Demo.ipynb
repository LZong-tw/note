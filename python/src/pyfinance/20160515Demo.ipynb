{
 "cells": [
  {
   "cell_type": "code",
   "execution_count": 1,
   "metadata": {
    "collapsed": true
   },
   "outputs": [],
   "source": [
    "import requests\n",
    "payload={\n",
    "'qdate':'105/05/13',\n",
    "'select2':'24',\n",
    "'sorting':'by_issue'    \n",
    "}\n",
    "url = 'http://www.twse.com.tw/ch/trading/fund/T86/T86.php'\n",
    "res = requests.post(url, data=payload)"
   ]
  },
  {
   "cell_type": "code",
   "execution_count": 4,
   "metadata": {
    "collapsed": false
   },
   "outputs": [],
   "source": [
    "#print res.text"
   ]
  },
  {
   "cell_type": "code",
   "execution_count": 6,
   "metadata": {
    "collapsed": false
   },
   "outputs": [],
   "source": [
    "from bs4 import BeautifulSoup as bs\n",
    "soup = bs(res.text)\n",
    "tb = soup.select('#tbl-sortable')[0]"
   ]
  },
  {
   "cell_type": "code",
   "execution_count": 7,
   "metadata": {
    "collapsed": true
   },
   "outputs": [],
   "source": [
    "import pandas as pd\n",
    "dfs = pd.read_html(tb.prettify('utf-8'), encoding='utf-8')"
   ]
  },
  {
   "cell_type": "code",
   "execution_count": 9,
   "metadata": {
    "collapsed": false
   },
   "outputs": [
    {
     "data": {
      "text/html": [
       "<div>\n",
       "<table border=\"1\" class=\"dataframe\">\n",
       "  <thead>\n",
       "    <tr style=\"text-align: right;\">\n",
       "      <th></th>\n",
       "      <th>證券  代號</th>\n",
       "      <th>證券  名稱</th>\n",
       "      <th>外資  買進股數</th>\n",
       "      <th>外資  賣出股數</th>\n",
       "      <th>外資  買賣超股數</th>\n",
       "      <th>投信  買進股數</th>\n",
       "      <th>投信  賣出股數</th>\n",
       "      <th>投信  買賣超股數</th>\n",
       "      <th>自營商  買賣超股數</th>\n",
       "      <th>自營商  買進股數  (自行買賣)</th>\n",
       "      <th>自營商  賣出股數  (自行買賣)</th>\n",
       "      <th>自營商  買賣超股數  (自行買賣)</th>\n",
       "      <th>自營商  買進股數  (避險)</th>\n",
       "      <th>自營商  賣出股數  (避險)</th>\n",
       "      <th>自營商  買賣超股數  (避險)</th>\n",
       "      <th>三大法人  買賣超股數</th>\n",
       "    </tr>\n",
       "  </thead>\n",
       "  <tbody>\n",
       "    <tr>\n",
       "      <th>0</th>\n",
       "      <td>2408</td>\n",
       "      <td>南亞科</td>\n",
       "      <td>18079000</td>\n",
       "      <td>4097000</td>\n",
       "      <td>13982000</td>\n",
       "      <td>0</td>\n",
       "      <td>0</td>\n",
       "      <td>0</td>\n",
       "      <td>329000</td>\n",
       "      <td>317000</td>\n",
       "      <td>17000</td>\n",
       "      <td>300000</td>\n",
       "      <td>154000</td>\n",
       "      <td>125000</td>\n",
       "      <td>29000</td>\n",
       "      <td>14311000</td>\n",
       "    </tr>\n",
       "    <tr>\n",
       "      <th>1</th>\n",
       "      <td>3474</td>\n",
       "      <td>華亞科</td>\n",
       "      <td>9560000</td>\n",
       "      <td>4665000</td>\n",
       "      <td>4895000</td>\n",
       "      <td>0</td>\n",
       "      <td>0</td>\n",
       "      <td>0</td>\n",
       "      <td>113000</td>\n",
       "      <td>201000</td>\n",
       "      <td>30000</td>\n",
       "      <td>171000</td>\n",
       "      <td>0</td>\n",
       "      <td>58000</td>\n",
       "      <td>-58000</td>\n",
       "      <td>5008000</td>\n",
       "    </tr>\n",
       "    <tr>\n",
       "      <th>2</th>\n",
       "      <td>2449</td>\n",
       "      <td>京元電</td>\n",
       "      <td>8513011</td>\n",
       "      <td>4469755</td>\n",
       "      <td>4043256</td>\n",
       "      <td>58000</td>\n",
       "      <td>490000</td>\n",
       "      <td>-432000</td>\n",
       "      <td>472000</td>\n",
       "      <td>0</td>\n",
       "      <td>107000</td>\n",
       "      <td>-107000</td>\n",
       "      <td>1266000</td>\n",
       "      <td>687000</td>\n",
       "      <td>579000</td>\n",
       "      <td>4083256</td>\n",
       "    </tr>\n",
       "    <tr>\n",
       "      <th>3</th>\n",
       "      <td>3413</td>\n",
       "      <td>京鼎</td>\n",
       "      <td>529000</td>\n",
       "      <td>24000</td>\n",
       "      <td>505000</td>\n",
       "      <td>0</td>\n",
       "      <td>0</td>\n",
       "      <td>0</td>\n",
       "      <td>-1000</td>\n",
       "      <td>0</td>\n",
       "      <td>1000</td>\n",
       "      <td>-1000</td>\n",
       "      <td>0</td>\n",
       "      <td>0</td>\n",
       "      <td>0</td>\n",
       "      <td>504000</td>\n",
       "    </tr>\n",
       "    <tr>\n",
       "      <th>4</th>\n",
       "      <td>3016</td>\n",
       "      <td>嘉晶</td>\n",
       "      <td>440000</td>\n",
       "      <td>91000</td>\n",
       "      <td>349000</td>\n",
       "      <td>0</td>\n",
       "      <td>0</td>\n",
       "      <td>0</td>\n",
       "      <td>-12000</td>\n",
       "      <td>2000</td>\n",
       "      <td>14000</td>\n",
       "      <td>-12000</td>\n",
       "      <td>0</td>\n",
       "      <td>0</td>\n",
       "      <td>0</td>\n",
       "      <td>337000</td>\n",
       "    </tr>\n",
       "  </tbody>\n",
       "</table>\n",
       "</div>"
      ],
      "text/plain": [
       "   證券  代號 證券  名稱  外資  買進股數  外資  賣出股數  外資  買賣超股數  投信  買進股數  投信  賣出股數  \\\n",
       "0    2408    南亞科  18079000   4097000   13982000         0         0   \n",
       "1    3474    華亞科   9560000   4665000    4895000         0         0   \n",
       "2    2449    京元電   8513011   4469755    4043256     58000    490000   \n",
       "3    3413     京鼎    529000     24000     505000         0         0   \n",
       "4    3016     嘉晶    440000     91000     349000         0         0   \n",
       "\n",
       "   投信  買賣超股數  自營商  買賣超股數  自營商  買進股數  (自行買賣)  自營商  賣出股數  (自行買賣)  \\\n",
       "0          0      329000             317000              17000   \n",
       "1          0      113000             201000              30000   \n",
       "2    -432000      472000                  0             107000   \n",
       "3          0       -1000                  0               1000   \n",
       "4          0      -12000               2000              14000   \n",
       "\n",
       "   自營商  買賣超股數  (自行買賣)  自營商  買進股數  (避險)  自營商  賣出股數  (避險)  自營商  買賣超股數  (避險)  \\\n",
       "0              300000           154000           125000             29000   \n",
       "1              171000                0            58000            -58000   \n",
       "2             -107000          1266000           687000            579000   \n",
       "3               -1000                0                0                 0   \n",
       "4              -12000                0                0                 0   \n",
       "\n",
       "   三大法人  買賣超股數  \n",
       "0     14311000  \n",
       "1      5008000  \n",
       "2      4083256  \n",
       "3       504000  \n",
       "4       337000  "
      ]
     },
     "execution_count": 9,
     "metadata": {},
     "output_type": "execute_result"
    }
   ],
   "source": [
    "dfs[0].head()"
   ]
  },
  {
   "cell_type": "code",
   "execution_count": 19,
   "metadata": {
    "collapsed": false
   },
   "outputs": [
    {
     "name": "stdout",
     "output_type": "stream",
     "text": [
      "2016-05-15 09:37:17.229000\n",
      "105/05/14\n",
      "105/05/13\n",
      "105/05/12\n",
      "105/05/11\n",
      "105/05/10\n",
      "105/05/09\n",
      "105/05/08\n",
      "105/05/07\n",
      "105/05/06\n"
     ]
    }
   ],
   "source": [
    "from datetime import datetime, timedelta\n",
    "print datetime.now()\n",
    "#print datetime.now() - datetime.timedelta(days = 1)\n",
    "currentdate = datetime.now()\n",
    "\n",
    "\n",
    "for i in range(1,10):\n",
    "    ymd = currentdate - timedelta(days = i)\n",
    "    year = str(int(ymd.strftime('%Y')) - 1911)\n",
    "    monthdate = ymd.strftime('/%m/%d')\n",
    "    print year + monthdate\n",
    "           "
   ]
  },
  {
   "cell_type": "code",
   "execution_count": 20,
   "metadata": {
    "collapsed": true
   },
   "outputs": [],
   "source": [
    "def getTWDate(dt):\n",
    "    year = int(dt.strftime('%Y')) - 1911\n",
    "    monthdate = dt.strftime('%m/%d')\n",
    "    ymd = '{}/{}'.format(year, monthdate)\n",
    "    return ymd"
   ]
  },
  {
   "cell_type": "code",
   "execution_count": 43,
   "metadata": {
    "collapsed": true
   },
   "outputs": [],
   "source": [
    "url = 'http://www.twse.com.tw/ch/trading/fund/T86/T86.php'\n",
    "payload={\n",
    "'qdate':'105/05/13',\n",
    "'select2':'24',\n",
    "'sorting':'by_issue'    \n",
    "}\n",
    "from bs4 import BeautifulSoup as bs\n",
    "import pandas as pd\n",
    "\n",
    "def getTradingVolume(date):\n",
    "    payload['qdate'] = getTWDate(date)\n",
    "    res = requests.post(url, data=payload)    \n",
    "    soup = bs(res.text)\n",
    "    tb = soup.select('#tbl-sortable')[0]\n",
    "    dfs = pd.read_html(tb.prettify('utf-8'), encoding='utf-8')\n",
    "    stockdf = dfs[0]\n",
    "    stockdf['date'] = date.date()\n",
    "    return stockdf"
   ]
  },
  {
   "cell_type": "code",
   "execution_count": 44,
   "metadata": {
    "collapsed": true
   },
   "outputs": [],
   "source": [
    "dt = datetime.strptime('2016/05/12', '%Y/%m/%d')"
   ]
  },
  {
   "cell_type": "code",
   "execution_count": 45,
   "metadata": {
    "collapsed": false
   },
   "outputs": [
    {
     "name": "stdout",
     "output_type": "stream",
     "text": [
      "2016-05-12\n"
     ]
    }
   ],
   "source": [
    "dt\n",
    "print dt.date()"
   ]
  },
  {
   "cell_type": "code",
   "execution_count": 46,
   "metadata": {
    "collapsed": true
   },
   "outputs": [],
   "source": [
    "df = getTradingVolume(dt)"
   ]
  },
  {
   "cell_type": "code",
   "execution_count": 47,
   "metadata": {
    "collapsed": false
   },
   "outputs": [],
   "source": [
    "#df"
   ]
  },
  {
   "cell_type": "code",
   "execution_count": 52,
   "metadata": {
    "collapsed": false
   },
   "outputs": [],
   "source": [
    "import requests\n",
    "\n",
    "currentdate = datetime.now()\n",
    "dfall = []\n",
    "for i in range(1,30):\n",
    "    ymd = currentdate - timedelta(days = i)\n",
    "    df = getTradingVolume(ymd)\n",
    "    dfall.append(df)"
   ]
  },
  {
   "cell_type": "code",
   "execution_count": 53,
   "metadata": {
    "collapsed": false
   },
   "outputs": [
    {
     "data": {
      "text/plain": [
       "29"
      ]
     },
     "execution_count": 53,
     "metadata": {},
     "output_type": "execute_result"
    }
   ],
   "source": [
    "len(dfall)"
   ]
  },
  {
   "cell_type": "code",
   "execution_count": 57,
   "metadata": {
    "collapsed": true
   },
   "outputs": [],
   "source": [
    "stockdf = pd.concat(dfall)"
   ]
  },
  {
   "cell_type": "code",
   "execution_count": 56,
   "metadata": {
    "collapsed": false
   },
   "outputs": [],
   "source": [
    "#dftotal"
   ]
  },
  {
   "cell_type": "code",
   "execution_count": 58,
   "metadata": {
    "collapsed": false
   },
   "outputs": [
    {
     "data": {
      "text/plain": [
       "Index([            u'證券  代號',             u'證券  名稱',           u'外資  買進股數',\n",
       "                 u'外資  賣出股數',          u'外資  買賣超股數',           u'投信  買進股數',\n",
       "                 u'投信  賣出股數',          u'投信  買賣超股數',         u'自營商  買賣超股數',\n",
       "        u'自營商  買進股數  (自行買賣)',  u'自營商  賣出股數  (自行買賣)', u'自營商  買賣超股數  (自行買賣)',\n",
       "          u'自營商  買進股數  (避險)',    u'自營商  賣出股數  (避險)',   u'自營商  買賣超股數  (避險)',\n",
       "              u'三大法人  買賣超股數',               u'date'],\n",
       "      dtype='object')"
      ]
     },
     "execution_count": 58,
     "metadata": {},
     "output_type": "execute_result"
    }
   ],
   "source": [
    "stockdf.columns\n"
   ]
  },
  {
   "cell_type": "code",
   "execution_count": 62,
   "metadata": {
    "collapsed": false
   },
   "outputs": [],
   "source": [
    "df2330 = stockdf[stockdf[u'證券  代號'] == 2330]"
   ]
  },
  {
   "cell_type": "code",
   "execution_count": 63,
   "metadata": {
    "collapsed": false
   },
   "outputs": [
    {
     "data": {
      "text/html": [
       "<div>\n",
       "<table border=\"1\" class=\"dataframe\">\n",
       "  <thead>\n",
       "    <tr style=\"text-align: right;\">\n",
       "      <th></th>\n",
       "      <th>證券  代號</th>\n",
       "      <th>證券  名稱</th>\n",
       "      <th>外資  買進股數</th>\n",
       "      <th>外資  賣出股數</th>\n",
       "      <th>外資  買賣超股數</th>\n",
       "      <th>投信  買進股數</th>\n",
       "      <th>投信  賣出股數</th>\n",
       "      <th>投信  買賣超股數</th>\n",
       "      <th>自營商  買賣超股數</th>\n",
       "      <th>自營商  買進股數  (自行買賣)</th>\n",
       "      <th>自營商  賣出股數  (自行買賣)</th>\n",
       "      <th>自營商  買賣超股數  (自行買賣)</th>\n",
       "      <th>自營商  買進股數  (避險)</th>\n",
       "      <th>自營商  賣出股數  (避險)</th>\n",
       "      <th>自營商  買賣超股數  (避險)</th>\n",
       "      <th>三大法人  買賣超股數</th>\n",
       "      <th>date</th>\n",
       "    </tr>\n",
       "  </thead>\n",
       "  <tbody>\n",
       "    <tr>\n",
       "      <th>66</th>\n",
       "      <td>2330</td>\n",
       "      <td>台積電</td>\n",
       "      <td>21174000</td>\n",
       "      <td>54670407</td>\n",
       "      <td>-33496407</td>\n",
       "      <td>329000</td>\n",
       "      <td>9000</td>\n",
       "      <td>320000</td>\n",
       "      <td>934000</td>\n",
       "      <td>1306000</td>\n",
       "      <td>328000</td>\n",
       "      <td>978000</td>\n",
       "      <td>384000</td>\n",
       "      <td>428000</td>\n",
       "      <td>-44000</td>\n",
       "      <td>-32242407</td>\n",
       "      <td>2016-05-13</td>\n",
       "    </tr>\n",
       "    <tr>\n",
       "      <th>67</th>\n",
       "      <td>2330</td>\n",
       "      <td>台積電</td>\n",
       "      <td>12719000</td>\n",
       "      <td>19946830</td>\n",
       "      <td>-7227830</td>\n",
       "      <td>54000</td>\n",
       "      <td>200000</td>\n",
       "      <td>-146000</td>\n",
       "      <td>-712000</td>\n",
       "      <td>81000</td>\n",
       "      <td>573000</td>\n",
       "      <td>-492000</td>\n",
       "      <td>180000</td>\n",
       "      <td>400000</td>\n",
       "      <td>-220000</td>\n",
       "      <td>-8085830</td>\n",
       "      <td>2016-05-12</td>\n",
       "    </tr>\n",
       "    <tr>\n",
       "      <th>70</th>\n",
       "      <td>2330</td>\n",
       "      <td>台積電</td>\n",
       "      <td>23622636</td>\n",
       "      <td>40207253</td>\n",
       "      <td>-16584617</td>\n",
       "      <td>461938</td>\n",
       "      <td>40000</td>\n",
       "      <td>421938</td>\n",
       "      <td>-156000</td>\n",
       "      <td>688000</td>\n",
       "      <td>493000</td>\n",
       "      <td>195000</td>\n",
       "      <td>355000</td>\n",
       "      <td>706000</td>\n",
       "      <td>-351000</td>\n",
       "      <td>-16318679</td>\n",
       "      <td>2016-05-11</td>\n",
       "    </tr>\n",
       "    <tr>\n",
       "      <th>68</th>\n",
       "      <td>2330</td>\n",
       "      <td>台積電</td>\n",
       "      <td>27595804</td>\n",
       "      <td>36472619</td>\n",
       "      <td>-8876815</td>\n",
       "      <td>124107</td>\n",
       "      <td>0</td>\n",
       "      <td>124107</td>\n",
       "      <td>444000</td>\n",
       "      <td>692000</td>\n",
       "      <td>708000</td>\n",
       "      <td>-16000</td>\n",
       "      <td>570000</td>\n",
       "      <td>110000</td>\n",
       "      <td>460000</td>\n",
       "      <td>-8308708</td>\n",
       "      <td>2016-05-10</td>\n",
       "    </tr>\n",
       "    <tr>\n",
       "      <th>71</th>\n",
       "      <td>2330</td>\n",
       "      <td>台積電</td>\n",
       "      <td>24509300</td>\n",
       "      <td>34812293</td>\n",
       "      <td>-10302993</td>\n",
       "      <td>145000</td>\n",
       "      <td>0</td>\n",
       "      <td>145000</td>\n",
       "      <td>-905000</td>\n",
       "      <td>61000</td>\n",
       "      <td>1018000</td>\n",
       "      <td>-957000</td>\n",
       "      <td>258000</td>\n",
       "      <td>206000</td>\n",
       "      <td>52000</td>\n",
       "      <td>-11062993</td>\n",
       "      <td>2016-05-09</td>\n",
       "    </tr>\n",
       "  </tbody>\n",
       "</table>\n",
       "</div>"
      ],
      "text/plain": [
       "    證券  代號 證券  名稱  外資  買進股數  外資  賣出股數  外資  買賣超股數  投信  買進股數  投信  賣出股數  \\\n",
       "66    2330    台積電  21174000  54670407  -33496407    329000      9000   \n",
       "67    2330    台積電  12719000  19946830   -7227830     54000    200000   \n",
       "70    2330    台積電  23622636  40207253  -16584617    461938     40000   \n",
       "68    2330    台積電  27595804  36472619   -8876815    124107         0   \n",
       "71    2330    台積電  24509300  34812293  -10302993    145000         0   \n",
       "\n",
       "    投信  買賣超股數  自營商  買賣超股數  自營商  買進股數  (自行買賣)  自營商  賣出股數  (自行買賣)  \\\n",
       "66     320000      934000            1306000             328000   \n",
       "67    -146000     -712000              81000             573000   \n",
       "70     421938     -156000             688000             493000   \n",
       "68     124107      444000             692000             708000   \n",
       "71     145000     -905000              61000            1018000   \n",
       "\n",
       "    自營商  買賣超股數  (自行買賣)  自營商  買進股數  (避險)  自營商  賣出股數  (避險)  自營商  買賣超股數  (避險)  \\\n",
       "66              978000           384000           428000            -44000   \n",
       "67             -492000           180000           400000           -220000   \n",
       "70              195000           355000           706000           -351000   \n",
       "68              -16000           570000           110000            460000   \n",
       "71             -957000           258000           206000             52000   \n",
       "\n",
       "    三大法人  買賣超股數        date  \n",
       "66    -32242407  2016-05-13  \n",
       "67     -8085830  2016-05-12  \n",
       "70    -16318679  2016-05-11  \n",
       "68     -8308708  2016-05-10  \n",
       "71    -11062993  2016-05-09  "
      ]
     },
     "execution_count": 63,
     "metadata": {},
     "output_type": "execute_result"
    }
   ],
   "source": [
    "df2330.head()"
   ]
  },
  {
   "cell_type": "code",
   "execution_count": 64,
   "metadata": {
    "collapsed": false
   },
   "outputs": [
    {
     "data": {
      "text/html": [
       "<div>\n",
       "<table border=\"1\" class=\"dataframe\">\n",
       "  <thead>\n",
       "    <tr style=\"text-align: right;\">\n",
       "      <th></th>\n",
       "      <th>證券  代號</th>\n",
       "      <th>外資  買進股數</th>\n",
       "      <th>外資  賣出股數</th>\n",
       "      <th>外資  買賣超股數</th>\n",
       "      <th>投信  買進股數</th>\n",
       "      <th>投信  賣出股數</th>\n",
       "      <th>投信  買賣超股數</th>\n",
       "      <th>自營商  買賣超股數</th>\n",
       "      <th>自營商  買進股數  (自行買賣)</th>\n",
       "      <th>自營商  賣出股數  (自行買賣)</th>\n",
       "      <th>自營商  買賣超股數  (自行買賣)</th>\n",
       "      <th>自營商  買進股數  (避險)</th>\n",
       "      <th>自營商  賣出股數  (避險)</th>\n",
       "      <th>自營商  買賣超股數  (避險)</th>\n",
       "      <th>三大法人  買賣超股數</th>\n",
       "    </tr>\n",
       "  </thead>\n",
       "  <tbody>\n",
       "    <tr>\n",
       "      <th>count</th>\n",
       "      <td>19</td>\n",
       "      <td>19.000000</td>\n",
       "      <td>19.000000</td>\n",
       "      <td>19.000000</td>\n",
       "      <td>19.000000</td>\n",
       "      <td>19.000000</td>\n",
       "      <td>19.000000</td>\n",
       "      <td>19.000000</td>\n",
       "      <td>19.000000</td>\n",
       "      <td>19.000000</td>\n",
       "      <td>19.000000</td>\n",
       "      <td>19.000000</td>\n",
       "      <td>19.000000</td>\n",
       "      <td>19.000000</td>\n",
       "      <td>19.000000</td>\n",
       "    </tr>\n",
       "    <tr>\n",
       "      <th>mean</th>\n",
       "      <td>2330</td>\n",
       "      <td>22138587.842105</td>\n",
       "      <td>33736859.526316</td>\n",
       "      <td>-11598271.684211</td>\n",
       "      <td>109791.842105</td>\n",
       "      <td>237828.421053</td>\n",
       "      <td>-128036.578947</td>\n",
       "      <td>460171.052632</td>\n",
       "      <td>646263.157895</td>\n",
       "      <td>371157.894737</td>\n",
       "      <td>275105.263158</td>\n",
       "      <td>706421.052632</td>\n",
       "      <td>521355.263158</td>\n",
       "      <td>185065.789474</td>\n",
       "      <td>-11266137.210526</td>\n",
       "    </tr>\n",
       "    <tr>\n",
       "      <th>std</th>\n",
       "      <td>0</td>\n",
       "      <td>6805220.410908</td>\n",
       "      <td>16872066.956777</td>\n",
       "      <td>14408106.192703</td>\n",
       "      <td>124063.276872</td>\n",
       "      <td>290786.082910</td>\n",
       "      <td>360325.253183</td>\n",
       "      <td>1268529.128144</td>\n",
       "      <td>628386.367532</td>\n",
       "      <td>271460.302635</td>\n",
       "      <td>769795.852789</td>\n",
       "      <td>548304.894479</td>\n",
       "      <td>548826.897471</td>\n",
       "      <td>802783.317547</td>\n",
       "      <td>13663364.764087</td>\n",
       "    </tr>\n",
       "    <tr>\n",
       "      <th>min</th>\n",
       "      <td>2330</td>\n",
       "      <td>11925989.000000</td>\n",
       "      <td>9734929.000000</td>\n",
       "      <td>-47307028.000000</td>\n",
       "      <td>0.000000</td>\n",
       "      <td>0.000000</td>\n",
       "      <td>-1187000.000000</td>\n",
       "      <td>-2240749.000000</td>\n",
       "      <td>43000.000000</td>\n",
       "      <td>37000.000000</td>\n",
       "      <td>-957000.000000</td>\n",
       "      <td>180000.000000</td>\n",
       "      <td>59000.000000</td>\n",
       "      <td>-2036749.000000</td>\n",
       "      <td>-45206028.000000</td>\n",
       "    </tr>\n",
       "    <tr>\n",
       "      <th>25%</th>\n",
       "      <td>2330</td>\n",
       "      <td>16411205.000000</td>\n",
       "      <td>18224430.000000</td>\n",
       "      <td>-16441120.500000</td>\n",
       "      <td>13500.000000</td>\n",
       "      <td>40500.000000</td>\n",
       "      <td>-265000.000000</td>\n",
       "      <td>-64500.000000</td>\n",
       "      <td>60500.000000</td>\n",
       "      <td>185000.000000</td>\n",
       "      <td>-179000.000000</td>\n",
       "      <td>322000.000000</td>\n",
       "      <td>198000.000000</td>\n",
       "      <td>-21000.000000</td>\n",
       "      <td>-15718651.500000</td>\n",
       "    </tr>\n",
       "    <tr>\n",
       "      <th>50%</th>\n",
       "      <td>2330</td>\n",
       "      <td>23622636.000000</td>\n",
       "      <td>34812293.000000</td>\n",
       "      <td>-8876815.000000</td>\n",
       "      <td>84000.000000</td>\n",
       "      <td>165000.000000</td>\n",
       "      <td>-146000.000000</td>\n",
       "      <td>363000.000000</td>\n",
       "      <td>393000.000000</td>\n",
       "      <td>259000.000000</td>\n",
       "      <td>-16000.000000</td>\n",
       "      <td>423000.000000</td>\n",
       "      <td>355000.000000</td>\n",
       "      <td>112000.000000</td>\n",
       "      <td>-8308708.000000</td>\n",
       "    </tr>\n",
       "    <tr>\n",
       "      <th>75%</th>\n",
       "      <td>2330</td>\n",
       "      <td>25227748.000000</td>\n",
       "      <td>40945676.500000</td>\n",
       "      <td>-4878821.000000</td>\n",
       "      <td>136000.000000</td>\n",
       "      <td>294500.000000</td>\n",
       "      <td>99053.500000</td>\n",
       "      <td>1230500.000000</td>\n",
       "      <td>1175500.000000</td>\n",
       "      <td>533000.000000</td>\n",
       "      <td>993000.000000</td>\n",
       "      <td>1054500.000000</td>\n",
       "      <td>690500.500000</td>\n",
       "      <td>547000.000000</td>\n",
       "      <td>-4137110.000000</td>\n",
       "    </tr>\n",
       "    <tr>\n",
       "      <th>max</th>\n",
       "      <td>2330</td>\n",
       "      <td>37765618.000000</td>\n",
       "      <td>66262467.000000</td>\n",
       "      <td>11166864.000000</td>\n",
       "      <td>461938.000000</td>\n",
       "      <td>1187000.000000</td>\n",
       "      <td>421938.000000</td>\n",
       "      <td>2868000.000000</td>\n",
       "      <td>2046000.000000</td>\n",
       "      <td>1018000.000000</td>\n",
       "      <td>1840000.000000</td>\n",
       "      <td>2145000.000000</td>\n",
       "      <td>2336749.000000</td>\n",
       "      <td>1587000.000000</td>\n",
       "      <td>9809864.000000</td>\n",
       "    </tr>\n",
       "  </tbody>\n",
       "</table>\n",
       "</div>"
      ],
      "text/plain": [
       "       證券  代號         外資  買進股數         外資  賣出股數        外資  買賣超股數  \\\n",
       "count      19        19.000000        19.000000        19.000000   \n",
       "mean     2330  22138587.842105  33736859.526316 -11598271.684211   \n",
       "std         0   6805220.410908  16872066.956777  14408106.192703   \n",
       "min      2330  11925989.000000   9734929.000000 -47307028.000000   \n",
       "25%      2330  16411205.000000  18224430.000000 -16441120.500000   \n",
       "50%      2330  23622636.000000  34812293.000000  -8876815.000000   \n",
       "75%      2330  25227748.000000  40945676.500000  -4878821.000000   \n",
       "max      2330  37765618.000000  66262467.000000  11166864.000000   \n",
       "\n",
       "            投信  買進股數        投信  賣出股數       投信  買賣超股數      自營商  買賣超股數  \\\n",
       "count      19.000000       19.000000       19.000000       19.000000   \n",
       "mean   109791.842105   237828.421053  -128036.578947   460171.052632   \n",
       "std    124063.276872   290786.082910   360325.253183  1268529.128144   \n",
       "min         0.000000        0.000000 -1187000.000000 -2240749.000000   \n",
       "25%     13500.000000    40500.000000  -265000.000000   -64500.000000   \n",
       "50%     84000.000000   165000.000000  -146000.000000   363000.000000   \n",
       "75%    136000.000000   294500.000000    99053.500000  1230500.000000   \n",
       "max    461938.000000  1187000.000000   421938.000000  2868000.000000   \n",
       "\n",
       "       自營商  買進股數  (自行買賣)  自營商  賣出股數  (自行買賣)  自營商  買賣超股數  (自行買賣)  \\\n",
       "count          19.000000          19.000000           19.000000   \n",
       "mean       646263.157895      371157.894737       275105.263158   \n",
       "std        628386.367532      271460.302635       769795.852789   \n",
       "min         43000.000000       37000.000000      -957000.000000   \n",
       "25%         60500.000000      185000.000000      -179000.000000   \n",
       "50%        393000.000000      259000.000000       -16000.000000   \n",
       "75%       1175500.000000      533000.000000       993000.000000   \n",
       "max       2046000.000000     1018000.000000      1840000.000000   \n",
       "\n",
       "       自營商  買進股數  (避險)  自營商  賣出股數  (避險)  自營商  買賣超股數  (避險)      三大法人  買賣超股數  \n",
       "count        19.000000        19.000000         19.000000        19.000000  \n",
       "mean     706421.052632    521355.263158     185065.789474 -11266137.210526  \n",
       "std      548304.894479    548826.897471     802783.317547  13663364.764087  \n",
       "min      180000.000000     59000.000000   -2036749.000000 -45206028.000000  \n",
       "25%      322000.000000    198000.000000     -21000.000000 -15718651.500000  \n",
       "50%      423000.000000    355000.000000     112000.000000  -8308708.000000  \n",
       "75%     1054500.000000    690500.500000     547000.000000  -4137110.000000  \n",
       "max     2145000.000000   2336749.000000    1587000.000000   9809864.000000  "
      ]
     },
     "execution_count": 64,
     "metadata": {},
     "output_type": "execute_result"
    }
   ],
   "source": [
    "df2330.describe()"
   ]
  },
  {
   "cell_type": "code",
   "execution_count": 65,
   "metadata": {
    "collapsed": true
   },
   "outputs": [],
   "source": [
    "?df2330.plot"
   ]
  },
  {
   "cell_type": "code",
   "execution_count": 67,
   "metadata": {
    "collapsed": false
   },
   "outputs": [
    {
     "name": "stdout",
     "output_type": "stream",
     "text": [
      " 磁碟區 C 中的磁碟是 OS 7\n",
      " 磁碟區序號:  C485-A13C\n",
      "\n",
      " C:\\Users\\User\\pyfinance 的目錄\n",
      "\n",
      "2016/05/15  上午 09:55    <DIR>          .\n",
      "2016/05/15  上午 09:55    <DIR>          ..\n",
      "2016/03/28  上午 09:41               826 .gitignore\n",
      "2016/05/15  上午 09:17    <DIR>          .ipynb_checkpoints\n",
      "2016/05/08  上午 01:37         3,745,521 20160508 Python網路爬蟲入門-財經為例.pdf\n",
      "2016/05/08  上午 01:37         3,693,897 20160508 Python網路爬蟲入門-財經為例.pptx\n",
      "2016/05/09  下午 06:00           127,887 20160508Demo.ipynb\n",
      "2016/05/15  上午 09:55            30,675 20160515Demo.ipynb\n",
      "2016/05/15  上午 07:42             1,730 downlad.csv\n",
      "2016/05/08  上午 01:36         1,385,472 finance.sqlite\n",
      "2016/03/28  下午 03:48            34,380 foo.png\n",
      "2016/05/10  下午 11:21           463,539 location.png\n",
      "2016/05/08  上午 10:27           417,212 lunch.jpg\n",
      "2016/05/08  上午 11:04           321,575 lunch2.jpg\n",
      "2016/03/28  下午 03:20    <DIR>          names\n",
      "2016/05/08  上午 01:39    <DIR>          old\n",
      "2015/12/31  上午 01:17            30,969 pandas_readhtml.ipynb\n",
      "2016/05/08  上午 01:39            73,661 Python_Finance.ipynb\n",
      "2016/05/08  上午 01:45               560 README.md\n",
      "2016/05/09  下午 06:17             6,733 sitca.ipynb\n",
      "2016/05/15  上午 08:56            32,144 supplement.ipynb\n",
      "2016/05/08  下午 01:58               339 tb.html\n",
      "2016/05/08  下午 11:09            30,494 Untitled.ipynb\n",
      "              18 個檔案      10,397,614 位元組\n",
      "               5 個目錄  227,765,788,672 位元組可用\n"
     ]
    }
   ],
   "source": [
    "%ls"
   ]
  },
  {
   "cell_type": "code",
   "execution_count": 68,
   "metadata": {
    "collapsed": false
   },
   "outputs": [
    {
     "name": "stdout",
     "output_type": "stream",
     "text": [
      "Populating the interactive namespace from numpy and matplotlib\n"
     ]
    },
    {
     "name": "stderr",
     "output_type": "stream",
     "text": [
      "WARNING: pylab import has clobbered these variables: ['datetime']\n",
      "`%matplotlib` prevents importing * from pylab and numpy\n"
     ]
    }
   ],
   "source": [
    "%pylab inline"
   ]
  },
  {
   "cell_type": "code",
   "execution_count": 69,
   "metadata": {
    "collapsed": false
   },
   "outputs": [
    {
     "data": {
      "text/plain": [
       "<matplotlib.axes._subplots.AxesSubplot at 0xe6b3dd8>"
      ]
     },
     "execution_count": 69,
     "metadata": {},
     "output_type": "execute_result"
    },
    {
     "data": {
      "image/png": "[encoded data removed]",
      "text/plain": [
       "<matplotlib.figure.Figure at 0xd711390>"
      ]
     },
     "metadata": {},
     "output_type": "display_data"
    }
   ],
   "source": [
    "df2330.plot(kind=\"line\", x = 'date', y = u'外資  買進股數')"
   ]
  },
  {
   "cell_type": "code",
   "execution_count": 71,
   "metadata": {
    "collapsed": false
   },
   "outputs": [
    {
     "data": {
      "text/plain": [
       "<matplotlib.axes._subplots.AxesSubplot at 0xe43ed30>"
      ]
     },
     "execution_count": 71,
     "metadata": {},
     "output_type": "execute_result"
    },
    {
     "data": {
      "image/png": "[encoded data removed]",
      "text/plain": [
       "<matplotlib.figure.Figure at 0xd0c6748>"
      ]
     },
     "metadata": {},
     "output_type": "display_data"
    }
   ],
   "source": [
    "df2330.plot(kind=\"line\", x = 'date', y = [u'外資  買進股數', u'外資  賣出股數'])"
   ]
  },
  {
   "cell_type": "code",
   "execution_count": 70,
   "metadata": {
    "collapsed": false
   },
   "outputs": [
    {
     "data": {
      "text/plain": [
       "<matplotlib.axes._subplots.AxesSubplot at 0xd435198>"
      ]
     },
     "execution_count": 70,
     "metadata": {},
     "output_type": "execute_result"
    },
    {
     "data": {
      "image/png": "[encoded data removed]",
      "text/plain": [
       "<matplotlib.figure.Figure at 0xd41f278>"
      ]
     },
     "metadata": {},
     "output_type": "display_data"
    }
   ],
   "source": [
    "df2330.plot(kind=\"box\", y = u'外資  買進股數')"
   ]
  },
  {
   "cell_type": "markdown",
   "metadata": {},
   "source": [
    "## 三大法人買賣超日報 "
   ]
  },
  {
   "cell_type": "code",
   "execution_count": 75,
   "metadata": {
    "collapsed": true
   },
   "outputs": [],
   "source": [
    "from bs4 import BeautifulSoup as bs\n",
    "from datetime import datetime, timedelta\n",
    "import pandas as pd"
   ]
  },
  {
   "cell_type": "code",
   "execution_count": 132,
   "metadata": {
    "collapsed": true
   },
   "outputs": [],
   "source": [
    "url = 'http://www.twse.com.tw/ch/trading/fund/T86/T86.php'\n",
    "payload={\n",
    "'qdate':'105/05/13',\n",
    "'select2':'24',\n",
    "'sorting':'by_issue'    \n",
    "}"
   ]
  },
  {
   "cell_type": "code",
   "execution_count": 133,
   "metadata": {
    "collapsed": true
   },
   "outputs": [],
   "source": [
    "\n",
    "def getTWDate(dt):\n",
    "    year = int(dt.strftime('%Y')) - 1911\n",
    "    monthdate = dt.strftime('%m/%d')\n",
    "    ymd = '{}/{}'.format(year, monthdate)\n",
    "    return ymd\n",
    "\n",
    "def getTradingVolume(date):\n",
    "    payload['qdate'] = getTWDate(date)\n",
    "    res = requests.post(url, data=payload)    \n",
    "    soup = bs(res.text)\n",
    "    tb = soup.select('#tbl-sortable')[0]\n",
    "    dfs = pd.read_html(tb.prettify('utf-8'), encoding='utf-8')\n",
    "    stockdf = dfs[0]\n",
    "    stockdf['date'] = date.date()\n",
    "    return stockdf"
   ]
  },
  {
   "cell_type": "code",
   "execution_count": 134,
   "metadata": {
    "collapsed": false
   },
   "outputs": [],
   "source": [
    "import requests\n",
    "\n",
    "currentdate = datetime.now()\n",
    "dfall = []\n",
    "for i in range(1,3):\n",
    "    ymd = currentdate - timedelta(days = i)\n",
    "    df = getTradingVolume(ymd)\n",
    "    dfall.append(df)"
   ]
  },
  {
   "cell_type": "code",
   "execution_count": 135,
   "metadata": {
    "collapsed": true
   },
   "outputs": [],
   "source": [
    "stockdf = pd.concat(dfall)"
   ]
  },
  {
   "cell_type": "markdown",
   "metadata": {},
   "source": [
    "## SQLite 操作"
   ]
  },
  {
   "cell_type": "code",
   "execution_count": 100,
   "metadata": {
    "collapsed": true
   },
   "outputs": [],
   "source": [
    "import sqlite3 as lite\n",
    "con = lite.connect('finance2.sqlite')\n",
    "con.close()"
   ]
  },
  {
   "cell_type": "code",
   "execution_count": 101,
   "metadata": {
    "collapsed": false
   },
   "outputs": [
    {
     "name": "stdout",
     "output_type": "stream",
     "text": [
      "(u'3.6.21',)\n"
     ]
    }
   ],
   "source": [
    "import sqlite3 as lite\n",
    "con = lite.connect('finance2.sqlite')\n",
    "cur = con.cursor()\n",
    "cur.execute('SELECT SQLITE_VERSION()')\n",
    "data = cur.fetchone()\n",
    "print data\n",
    "con.close()"
   ]
  },
  {
   "cell_type": "code",
   "execution_count": 102,
   "metadata": {
    "collapsed": false
   },
   "outputs": [
    {
     "name": "stdout",
     "output_type": "stream",
     "text": [
      "[(u'0912173381', u'United State'), (u'0928375018', u'Tokyo Japan'), (u'0957209108', u'Taipei')]\n"
     ]
    }
   ],
   "source": [
    "import sqlite3 as lite\n",
    "con = lite.connect('finance2.sqlite')\n",
    "cur = con.cursor()\n",
    "\n",
    "cur.execute(\"DROP TABLE IF EXISTS PhoneAddress\") \n",
    "cur.execute(\"CREATE TABLE PhoneAddress(phone CHAR(10) PRIMARY KEY, address TEXT, name TEXT unique, age INT NOT NULL)\") \n",
    "cur.execute(\"INSERT INTO PhoneAddress VALUES('0912173381','United State','Jhon Doe',53)\") \n",
    "cur.execute(\"INSERT INTO PhoneAddress VALUES('0928375018','Tokyo Japan','MuMu Cat',6)\") \n",
    "cur.execute(\"INSERT INTO PhoneAddress VALUES('0957209108','Taipei','Richard',29)\") \n",
    "con.commit()\n",
    "cur.execute(\"SELECT phone,address FROM PhoneAddress\") \n",
    "\n",
    "data = cur.fetchall()\n",
    "print data\n",
    "con.close()"
   ]
  },
  {
   "cell_type": "code",
   "execution_count": 103,
   "metadata": {
    "collapsed": false
   },
   "outputs": [
    {
     "name": "stdout",
     "output_type": "stream",
     "text": [
      "0912173381 United State\n",
      "[(u'0928375018', u'Tokyo Japan'), (u'0957209108', u'Taipei')]\n"
     ]
    }
   ],
   "source": [
    "import sqlite3 as lite\n",
    "con = lite.connect('finance2.sqlite')\n",
    "cur = con.cursor()\n",
    "\n",
    "cur.execute(\"SELECT phone,address FROM PhoneAddress\") \n",
    "\n",
    "data = cur.fetchone()\n",
    "print data[0], data[1]\n",
    "\n",
    "data = cur.fetchall()\n",
    "print data\n",
    "con.close()"
   ]
  },
  {
   "cell_type": "code",
   "execution_count": 104,
   "metadata": {
    "collapsed": false
   },
   "outputs": [
    {
     "data": {
      "text/plain": [
       "['__add__',\n",
       " '__class__',\n",
       " '__contains__',\n",
       " '__delattr__',\n",
       " '__delitem__',\n",
       " '__delslice__',\n",
       " '__doc__',\n",
       " '__eq__',\n",
       " '__format__',\n",
       " '__ge__',\n",
       " '__getattribute__',\n",
       " '__getitem__',\n",
       " '__getslice__',\n",
       " '__gt__',\n",
       " '__hash__',\n",
       " '__iadd__',\n",
       " '__imul__',\n",
       " '__init__',\n",
       " '__iter__',\n",
       " '__le__',\n",
       " '__len__',\n",
       " '__lt__',\n",
       " '__mul__',\n",
       " '__ne__',\n",
       " '__new__',\n",
       " '__reduce__',\n",
       " '__reduce_ex__',\n",
       " '__repr__',\n",
       " '__reversed__',\n",
       " '__rmul__',\n",
       " '__setattr__',\n",
       " '__setitem__',\n",
       " '__setslice__',\n",
       " '__sizeof__',\n",
       " '__str__',\n",
       " '__subclasshook__',\n",
       " 'append',\n",
       " 'count',\n",
       " 'extend',\n",
       " 'index',\n",
       " 'insert',\n",
       " 'pop',\n",
       " 'remove',\n",
       " 'reverse',\n",
       " 'sort']"
      ]
     },
     "execution_count": 104,
     "metadata": {},
     "output_type": "execute_result"
    }
   ],
   "source": [
    "a = (1,2)\n",
    "b = [1,2]\n",
    "dir(b)"
   ]
  },
  {
   "cell_type": "code",
   "execution_count": 105,
   "metadata": {
    "collapsed": false
   },
   "outputs": [
    {
     "data": {
      "text/html": [
       "<div>\n",
       "<table border=\"1\" class=\"dataframe\">\n",
       "  <thead>\n",
       "    <tr style=\"text-align: right;\">\n",
       "      <th></th>\n",
       "      <th>證券  代號</th>\n",
       "      <th>證券  名稱</th>\n",
       "      <th>外資  買進股數</th>\n",
       "      <th>外資  賣出股數</th>\n",
       "      <th>外資  買賣超股數</th>\n",
       "      <th>投信  買進股數</th>\n",
       "      <th>投信  賣出股數</th>\n",
       "      <th>投信  買賣超股數</th>\n",
       "      <th>自營商  買賣超股數</th>\n",
       "      <th>自營商  買進股數  (自行買賣)</th>\n",
       "      <th>自營商  賣出股數  (自行買賣)</th>\n",
       "      <th>自營商  買賣超股數  (自行買賣)</th>\n",
       "      <th>自營商  買進股數  (避險)</th>\n",
       "      <th>自營商  賣出股數  (避險)</th>\n",
       "      <th>自營商  買賣超股數  (避險)</th>\n",
       "      <th>三大法人  買賣超股數</th>\n",
       "      <th>date</th>\n",
       "    </tr>\n",
       "  </thead>\n",
       "  <tbody>\n",
       "    <tr>\n",
       "      <th>0</th>\n",
       "      <td>2408</td>\n",
       "      <td>南亞科</td>\n",
       "      <td>18079000</td>\n",
       "      <td>4097000</td>\n",
       "      <td>13982000</td>\n",
       "      <td>0</td>\n",
       "      <td>0</td>\n",
       "      <td>0</td>\n",
       "      <td>329000</td>\n",
       "      <td>317000</td>\n",
       "      <td>17000</td>\n",
       "      <td>300000</td>\n",
       "      <td>154000</td>\n",
       "      <td>125000</td>\n",
       "      <td>29000</td>\n",
       "      <td>14311000</td>\n",
       "      <td>2016-05-13</td>\n",
       "    </tr>\n",
       "    <tr>\n",
       "      <th>1</th>\n",
       "      <td>3474</td>\n",
       "      <td>華亞科</td>\n",
       "      <td>9560000</td>\n",
       "      <td>4665000</td>\n",
       "      <td>4895000</td>\n",
       "      <td>0</td>\n",
       "      <td>0</td>\n",
       "      <td>0</td>\n",
       "      <td>113000</td>\n",
       "      <td>201000</td>\n",
       "      <td>30000</td>\n",
       "      <td>171000</td>\n",
       "      <td>0</td>\n",
       "      <td>58000</td>\n",
       "      <td>-58000</td>\n",
       "      <td>5008000</td>\n",
       "      <td>2016-05-13</td>\n",
       "    </tr>\n",
       "    <tr>\n",
       "      <th>2</th>\n",
       "      <td>2449</td>\n",
       "      <td>京元電</td>\n",
       "      <td>8513011</td>\n",
       "      <td>4469755</td>\n",
       "      <td>4043256</td>\n",
       "      <td>58000</td>\n",
       "      <td>490000</td>\n",
       "      <td>-432000</td>\n",
       "      <td>472000</td>\n",
       "      <td>0</td>\n",
       "      <td>107000</td>\n",
       "      <td>-107000</td>\n",
       "      <td>1266000</td>\n",
       "      <td>687000</td>\n",
       "      <td>579000</td>\n",
       "      <td>4083256</td>\n",
       "      <td>2016-05-13</td>\n",
       "    </tr>\n",
       "    <tr>\n",
       "      <th>3</th>\n",
       "      <td>3413</td>\n",
       "      <td>京鼎</td>\n",
       "      <td>529000</td>\n",
       "      <td>24000</td>\n",
       "      <td>505000</td>\n",
       "      <td>0</td>\n",
       "      <td>0</td>\n",
       "      <td>0</td>\n",
       "      <td>-1000</td>\n",
       "      <td>0</td>\n",
       "      <td>1000</td>\n",
       "      <td>-1000</td>\n",
       "      <td>0</td>\n",
       "      <td>0</td>\n",
       "      <td>0</td>\n",
       "      <td>504000</td>\n",
       "      <td>2016-05-13</td>\n",
       "    </tr>\n",
       "    <tr>\n",
       "      <th>4</th>\n",
       "      <td>3016</td>\n",
       "      <td>嘉晶</td>\n",
       "      <td>440000</td>\n",
       "      <td>91000</td>\n",
       "      <td>349000</td>\n",
       "      <td>0</td>\n",
       "      <td>0</td>\n",
       "      <td>0</td>\n",
       "      <td>-12000</td>\n",
       "      <td>2000</td>\n",
       "      <td>14000</td>\n",
       "      <td>-12000</td>\n",
       "      <td>0</td>\n",
       "      <td>0</td>\n",
       "      <td>0</td>\n",
       "      <td>337000</td>\n",
       "      <td>2016-05-13</td>\n",
       "    </tr>\n",
       "  </tbody>\n",
       "</table>\n",
       "</div>"
      ],
      "text/plain": [
       "   證券  代號 證券  名稱  外資  買進股數  外資  賣出股數  外資  買賣超股數  投信  買進股數  投信  賣出股數  \\\n",
       "0    2408    南亞科  18079000   4097000   13982000         0         0   \n",
       "1    3474    華亞科   9560000   4665000    4895000         0         0   \n",
       "2    2449    京元電   8513011   4469755    4043256     58000    490000   \n",
       "3    3413     京鼎    529000     24000     505000         0         0   \n",
       "4    3016     嘉晶    440000     91000     349000         0         0   \n",
       "\n",
       "   投信  買賣超股數  自營商  買賣超股數  自營商  買進股數  (自行買賣)  自營商  賣出股數  (自行買賣)  \\\n",
       "0          0      329000             317000              17000   \n",
       "1          0      113000             201000              30000   \n",
       "2    -432000      472000                  0             107000   \n",
       "3          0       -1000                  0               1000   \n",
       "4          0      -12000               2000              14000   \n",
       "\n",
       "   自營商  買賣超股數  (自行買賣)  自營商  買進股數  (避險)  自營商  賣出股數  (避險)  自營商  買賣超股數  (避險)  \\\n",
       "0              300000           154000           125000             29000   \n",
       "1              171000                0            58000            -58000   \n",
       "2             -107000          1266000           687000            579000   \n",
       "3               -1000                0                0                 0   \n",
       "4              -12000                0                0                 0   \n",
       "\n",
       "   三大法人  買賣超股數        date  \n",
       "0     14311000  2016-05-13  \n",
       "1      5008000  2016-05-13  \n",
       "2      4083256  2016-05-13  \n",
       "3       504000  2016-05-13  \n",
       "4       337000  2016-05-13  "
      ]
     },
     "execution_count": 105,
     "metadata": {},
     "output_type": "execute_result"
    }
   ],
   "source": [
    "stockdf.head()"
   ]
  },
  {
   "cell_type": "code",
   "execution_count": 106,
   "metadata": {
    "collapsed": false
   },
   "outputs": [
    {
     "name": "stderr",
     "output_type": "stream",
     "text": [
      "C:\\Anaconda2\\lib\\site-packages\\ipykernel\\__main__.py:3: UserWarning: The spaces in these column names will not be changed. In pandas versions < 0.14, spaces were converted to underscores.\n",
      "  app.launch_new_instance()\n"
     ]
    }
   ],
   "source": [
    "import sqlite3 as lite\n",
    "con = lite.connect('finance2.sqlite')\n",
    "stockdf.to_sql(name = 'trading_volume', index=False, con = con, if_exists=\"replace\")\n",
    "#con.commit()\n",
    "con.close()"
   ]
  },
  {
   "cell_type": "code",
   "execution_count": 136,
   "metadata": {
    "collapsed": false
   },
   "outputs": [],
   "source": [
    "\n",
    "#stockdf.head()\n",
    "#len(stockdf.columns)\n",
    "#stockdf.columns = ['id', 'name', 'buy', 'sale', '4','5', '6', '7' '8','9','10','11','12', '13', '14', '15', '16', 'date']"
   ]
  },
  {
   "cell_type": "code",
   "execution_count": 137,
   "metadata": {
    "collapsed": false
   },
   "outputs": [
    {
     "name": "stderr",
     "output_type": "stream",
     "text": [
      "C:\\Anaconda2\\lib\\site-packages\\ipykernel\\__main__.py:2: UserWarning: The spaces in these column names will not be changed. In pandas versions < 0.14, spaces were converted to underscores.\n",
      "  from ipykernel import kernelapp as app\n"
     ]
    }
   ],
   "source": [
    "with lite.connect('finance2.sqlite') as con:\n",
    "    stockdf.to_sql(name = 'trading_volume', index=False, con = con, if_exists=\"replace\")"
   ]
  },
  {
   "cell_type": "code",
   "execution_count": 138,
   "metadata": {
    "collapsed": false
   },
   "outputs": [
    {
     "data": {
      "text/html": [
       "<div>\n",
       "<table border=\"1\" class=\"dataframe\">\n",
       "  <thead>\n",
       "    <tr style=\"text-align: right;\">\n",
       "      <th></th>\n",
       "      <th>證券  代號</th>\n",
       "      <th>證券  名稱</th>\n",
       "      <th>外資  買進股數</th>\n",
       "      <th>外資  賣出股數</th>\n",
       "      <th>外資  買賣超股數</th>\n",
       "      <th>投信  買進股數</th>\n",
       "      <th>投信  賣出股數</th>\n",
       "      <th>投信  買賣超股數</th>\n",
       "      <th>自營商  買賣超股數</th>\n",
       "      <th>自營商  買進股數  (自行買賣)</th>\n",
       "      <th>自營商  賣出股數  (自行買賣)</th>\n",
       "      <th>自營商  買賣超股數  (自行買賣)</th>\n",
       "      <th>自營商  買進股數  (避險)</th>\n",
       "      <th>自營商  賣出股數  (避險)</th>\n",
       "      <th>自營商  買賣超股數  (避險)</th>\n",
       "      <th>三大法人  買賣超股數</th>\n",
       "      <th>date</th>\n",
       "    </tr>\n",
       "  </thead>\n",
       "  <tbody>\n",
       "    <tr>\n",
       "      <th>0</th>\n",
       "      <td>2408</td>\n",
       "      <td>南亞科</td>\n",
       "      <td>18079000</td>\n",
       "      <td>4097000</td>\n",
       "      <td>13982000</td>\n",
       "      <td>0</td>\n",
       "      <td>0</td>\n",
       "      <td>0</td>\n",
       "      <td>329000</td>\n",
       "      <td>317000</td>\n",
       "      <td>17000</td>\n",
       "      <td>300000</td>\n",
       "      <td>154000</td>\n",
       "      <td>125000</td>\n",
       "      <td>29000</td>\n",
       "      <td>14311000</td>\n",
       "      <td>2016-05-13</td>\n",
       "    </tr>\n",
       "    <tr>\n",
       "      <th>1</th>\n",
       "      <td>3474</td>\n",
       "      <td>華亞科</td>\n",
       "      <td>9560000</td>\n",
       "      <td>4665000</td>\n",
       "      <td>4895000</td>\n",
       "      <td>0</td>\n",
       "      <td>0</td>\n",
       "      <td>0</td>\n",
       "      <td>113000</td>\n",
       "      <td>201000</td>\n",
       "      <td>30000</td>\n",
       "      <td>171000</td>\n",
       "      <td>0</td>\n",
       "      <td>58000</td>\n",
       "      <td>-58000</td>\n",
       "      <td>5008000</td>\n",
       "      <td>2016-05-13</td>\n",
       "    </tr>\n",
       "    <tr>\n",
       "      <th>2</th>\n",
       "      <td>2449</td>\n",
       "      <td>京元電</td>\n",
       "      <td>8513011</td>\n",
       "      <td>4469755</td>\n",
       "      <td>4043256</td>\n",
       "      <td>58000</td>\n",
       "      <td>490000</td>\n",
       "      <td>-432000</td>\n",
       "      <td>472000</td>\n",
       "      <td>0</td>\n",
       "      <td>107000</td>\n",
       "      <td>-107000</td>\n",
       "      <td>1266000</td>\n",
       "      <td>687000</td>\n",
       "      <td>579000</td>\n",
       "      <td>4083256</td>\n",
       "      <td>2016-05-13</td>\n",
       "    </tr>\n",
       "    <tr>\n",
       "      <th>3</th>\n",
       "      <td>3413</td>\n",
       "      <td>京鼎</td>\n",
       "      <td>529000</td>\n",
       "      <td>24000</td>\n",
       "      <td>505000</td>\n",
       "      <td>0</td>\n",
       "      <td>0</td>\n",
       "      <td>0</td>\n",
       "      <td>-1000</td>\n",
       "      <td>0</td>\n",
       "      <td>1000</td>\n",
       "      <td>-1000</td>\n",
       "      <td>0</td>\n",
       "      <td>0</td>\n",
       "      <td>0</td>\n",
       "      <td>504000</td>\n",
       "      <td>2016-05-13</td>\n",
       "    </tr>\n",
       "    <tr>\n",
       "      <th>4</th>\n",
       "      <td>3016</td>\n",
       "      <td>嘉晶</td>\n",
       "      <td>440000</td>\n",
       "      <td>91000</td>\n",
       "      <td>349000</td>\n",
       "      <td>0</td>\n",
       "      <td>0</td>\n",
       "      <td>0</td>\n",
       "      <td>-12000</td>\n",
       "      <td>2000</td>\n",
       "      <td>14000</td>\n",
       "      <td>-12000</td>\n",
       "      <td>0</td>\n",
       "      <td>0</td>\n",
       "      <td>0</td>\n",
       "      <td>337000</td>\n",
       "      <td>2016-05-13</td>\n",
       "    </tr>\n",
       "  </tbody>\n",
       "</table>\n",
       "</div>"
      ],
      "text/plain": [
       "   證券  代號 證券  名稱  外資  買進股數  外資  賣出股數  外資  買賣超股數  投信  買進股數  投信  賣出股數  \\\n",
       "0    2408    南亞科  18079000   4097000   13982000         0         0   \n",
       "1    3474    華亞科   9560000   4665000    4895000         0         0   \n",
       "2    2449    京元電   8513011   4469755    4043256     58000    490000   \n",
       "3    3413     京鼎    529000     24000     505000         0         0   \n",
       "4    3016     嘉晶    440000     91000     349000         0         0   \n",
       "\n",
       "   投信  買賣超股數  自營商  買賣超股數  自營商  買進股數  (自行買賣)  自營商  賣出股數  (自行買賣)  \\\n",
       "0          0      329000             317000              17000   \n",
       "1          0      113000             201000              30000   \n",
       "2    -432000      472000                  0             107000   \n",
       "3          0       -1000                  0               1000   \n",
       "4          0      -12000               2000              14000   \n",
       "\n",
       "   自營商  買賣超股數  (自行買賣)  自營商  買進股數  (避險)  自營商  賣出股數  (避險)  自營商  買賣超股數  (避險)  \\\n",
       "0              300000           154000           125000             29000   \n",
       "1              171000                0            58000            -58000   \n",
       "2             -107000          1266000           687000            579000   \n",
       "3               -1000                0                0                 0   \n",
       "4              -12000                0                0                 0   \n",
       "\n",
       "   三大法人  買賣超股數        date  \n",
       "0     14311000  2016-05-13  \n",
       "1      5008000  2016-05-13  \n",
       "2      4083256  2016-05-13  \n",
       "3       504000  2016-05-13  \n",
       "4       337000  2016-05-13  "
      ]
     },
     "execution_count": 138,
     "metadata": {},
     "output_type": "execute_result"
    }
   ],
   "source": [
    "import pandas as pd\n",
    "with lite.connect('finance2.sqlite') as con:\n",
    "    df2 = pd.read_sql_query('select * from trading_volume', con)\n",
    "df2.head()"
   ]
  },
  {
   "cell_type": "code",
   "execution_count": 139,
   "metadata": {
    "collapsed": false
   },
   "outputs": [
    {
     "data": {
      "text/plain": [
       "Index([u'證券  代號', u'證券  名稱', u'外資  買進股數', u'外資  賣出股數', u'外資  買賣超股數',\n",
       "       u'投信  買進股數', u'投信  賣出股數', u'投信  買賣超股數', u'自營商  買賣超股數',\n",
       "       u'自營商  買進股數  (自行買賣)', u'自營商  賣出股數  (自行買賣)', u'自營商  買賣超股數  (自行買賣)',\n",
       "       u'自營商  買進股數  (避險)', u'自營商  賣出股數  (避險)', u'自營商  買賣超股數  (避險)',\n",
       "       u'三大法人  買賣超股數', u'date'],\n",
       "      dtype='object')"
      ]
     },
     "execution_count": 139,
     "metadata": {},
     "output_type": "execute_result"
    }
   ],
   "source": [
    "df2.columns"
   ]
  },
  {
   "cell_type": "code",
   "execution_count": 148,
   "metadata": {
    "collapsed": false,
    "scrolled": true
   },
   "outputs": [
    {
     "data": {
      "text/html": [
       "<div>\n",
       "<table border=\"1\" class=\"dataframe\">\n",
       "  <thead>\n",
       "    <tr style=\"text-align: right;\">\n",
       "      <th></th>\n",
       "      <th>證券  代號</th>\n",
       "      <th>證券  名稱</th>\n",
       "      <th>外資  買進股數</th>\n",
       "    </tr>\n",
       "  </thead>\n",
       "  <tbody>\n",
       "    <tr>\n",
       "      <th>0</th>\n",
       "      <td>2408</td>\n",
       "      <td>南亞科</td>\n",
       "      <td>18079000</td>\n",
       "    </tr>\n",
       "    <tr>\n",
       "      <th>1</th>\n",
       "      <td>3474</td>\n",
       "      <td>華亞科</td>\n",
       "      <td>9560000</td>\n",
       "    </tr>\n",
       "    <tr>\n",
       "      <th>2</th>\n",
       "      <td>2449</td>\n",
       "      <td>京元電</td>\n",
       "      <td>8513011</td>\n",
       "    </tr>\n",
       "    <tr>\n",
       "      <th>3</th>\n",
       "      <td>3413</td>\n",
       "      <td>京鼎</td>\n",
       "      <td>529000</td>\n",
       "    </tr>\n",
       "    <tr>\n",
       "      <th>4</th>\n",
       "      <td>3016</td>\n",
       "      <td>嘉晶</td>\n",
       "      <td>440000</td>\n",
       "    </tr>\n",
       "  </tbody>\n",
       "</table>\n",
       "</div>"
      ],
      "text/plain": [
       "   證券  代號 證券  名稱  外資  買進股數\n",
       "0    2408    南亞科  18079000\n",
       "1    3474    華亞科   9560000\n",
       "2    2449    京元電   8513011\n",
       "3    3413     京鼎    529000\n",
       "4    3016     嘉晶    440000"
      ]
     },
     "execution_count": 148,
     "metadata": {},
     "output_type": "execute_result"
    }
   ],
   "source": [
    "import pandas as pd\n",
    "with lite.connect('finance2.sqlite') as con:\n",
    "    df2 = pd.read_sql_query(\\\n",
    "        \"select \\\"證券  代號\\\",\\\"證券  名稱\\\",\\\"外資  買進股數\\\" from trading_volume\".decode('utf-8'), con)\n",
    "df2.head()"
   ]
  },
  {
   "cell_type": "code",
   "execution_count": 131,
   "metadata": {
    "collapsed": true
   },
   "outputs": [],
   "source": [
    "df2.to_excel('test.xlsx')"
   ]
  },
  {
   "cell_type": "code",
   "execution_count": 149,
   "metadata": {
    "collapsed": true
   },
   "outputs": [],
   "source": [
    "df3 = pd.read_excel('test.xlsx')"
   ]
  },
  {
   "cell_type": "code",
   "execution_count": 150,
   "metadata": {
    "collapsed": false
   },
   "outputs": [
    {
     "data": {
      "text/html": [
       "<div>\n",
       "<table border=\"1\" class=\"dataframe\">\n",
       "  <thead>\n",
       "    <tr style=\"text-align: right;\">\n",
       "      <th></th>\n",
       "      <th>id</th>\n",
       "      <th>name</th>\n",
       "    </tr>\n",
       "  </thead>\n",
       "  <tbody>\n",
       "    <tr>\n",
       "      <th>0</th>\n",
       "      <td>2408</td>\n",
       "      <td>南亞科</td>\n",
       "    </tr>\n",
       "    <tr>\n",
       "      <th>1</th>\n",
       "      <td>3474</td>\n",
       "      <td>華亞科</td>\n",
       "    </tr>\n",
       "    <tr>\n",
       "      <th>2</th>\n",
       "      <td>2449</td>\n",
       "      <td>京元電</td>\n",
       "    </tr>\n",
       "    <tr>\n",
       "      <th>3</th>\n",
       "      <td>3413</td>\n",
       "      <td>京鼎</td>\n",
       "    </tr>\n",
       "    <tr>\n",
       "      <th>4</th>\n",
       "      <td>3016</td>\n",
       "      <td>嘉晶</td>\n",
       "    </tr>\n",
       "    <tr>\n",
       "      <th>5</th>\n",
       "      <td>8016</td>\n",
       "      <td>矽創</td>\n",
       "    </tr>\n",
       "    <tr>\n",
       "      <th>6</th>\n",
       "      <td>2401</td>\n",
       "      <td>凌陽</td>\n",
       "    </tr>\n",
       "    <tr>\n",
       "      <th>7</th>\n",
       "      <td>2388</td>\n",
       "      <td>威盛</td>\n",
       "    </tr>\n",
       "    <tr>\n",
       "      <th>8</th>\n",
       "      <td>2337</td>\n",
       "      <td>旺宏</td>\n",
       "    </tr>\n",
       "    <tr>\n",
       "      <th>9</th>\n",
       "      <td>2379</td>\n",
       "      <td>瑞昱</td>\n",
       "    </tr>\n",
       "    <tr>\n",
       "      <th>10</th>\n",
       "      <td>3035</td>\n",
       "      <td>智原</td>\n",
       "    </tr>\n",
       "    <tr>\n",
       "      <th>11</th>\n",
       "      <td>2344</td>\n",
       "      <td>華邦電</td>\n",
       "    </tr>\n",
       "    <tr>\n",
       "      <th>12</th>\n",
       "      <td>3519</td>\n",
       "      <td>綠能</td>\n",
       "    </tr>\n",
       "    <tr>\n",
       "      <th>13</th>\n",
       "      <td>6239</td>\n",
       "      <td>力成</td>\n",
       "    </tr>\n",
       "    <tr>\n",
       "      <th>14</th>\n",
       "      <td>3189</td>\n",
       "      <td>景碩</td>\n",
       "    </tr>\n",
       "    <tr>\n",
       "      <th>15</th>\n",
       "      <td>3034</td>\n",
       "      <td>聯詠</td>\n",
       "    </tr>\n",
       "    <tr>\n",
       "      <th>16</th>\n",
       "      <td>2325</td>\n",
       "      <td>矽品</td>\n",
       "    </tr>\n",
       "    <tr>\n",
       "      <th>17</th>\n",
       "      <td>2311</td>\n",
       "      <td>日月光</td>\n",
       "    </tr>\n",
       "    <tr>\n",
       "      <th>18</th>\n",
       "      <td>2303</td>\n",
       "      <td>聯電</td>\n",
       "    </tr>\n",
       "    <tr>\n",
       "      <th>19</th>\n",
       "      <td>2330</td>\n",
       "      <td>台積電</td>\n",
       "    </tr>\n",
       "  </tbody>\n",
       "</table>\n",
       "</div>"
      ],
      "text/plain": [
       "      id name\n",
       "0   2408  南亞科\n",
       "1   3474  華亞科\n",
       "2   2449  京元電\n",
       "3   3413   京鼎\n",
       "4   3016   嘉晶\n",
       "5   8016   矽創\n",
       "6   2401   凌陽\n",
       "7   2388   威盛\n",
       "8   2337   旺宏\n",
       "9   2379   瑞昱\n",
       "10  3035   智原\n",
       "11  2344  華邦電\n",
       "12  3519   綠能\n",
       "13  6239   力成\n",
       "14  3189   景碩\n",
       "15  3034   聯詠\n",
       "16  2325   矽品\n",
       "17  2311  日月光\n",
       "18  2303   聯電\n",
       "19  2330  台積電"
      ]
     },
     "execution_count": 150,
     "metadata": {},
     "output_type": "execute_result"
    }
   ],
   "source": [
    "df3"
   ]
  },
  {
   "cell_type": "markdown",
   "metadata": {},
   "source": [
    "## 2330　102年第1季 IFRS 合併財務報表預覽"
   ]
  },
  {
   "cell_type": "code",
   "execution_count": 159,
   "metadata": {
    "collapsed": false
   },
   "outputs": [
    {
     "name": "stdout",
     "output_type": "stream",
     "text": [
      "ISO-8859-1\n",
      "big5\n"
     ]
    }
   ],
   "source": [
    "import requests\n",
    "url = 'http://mops.twse.com.tw/server-java/t164sb01'\n",
    "payload = {\n",
    "'step':'1',\n",
    "'CO_ID':'2330',\n",
    "'SYEAR':'2013',\n",
    "'SSEASON':'1',\n",
    "'REPORT_ID':'C'\n",
    "}\n",
    "res = requests.post(url, data= payload)\n",
    "print res.encoding\n",
    "res.encoding = 'big5'\n",
    "print res.encoding"
   ]
  },
  {
   "cell_type": "code",
   "execution_count": 161,
   "metadata": {
    "collapsed": false
   },
   "outputs": [],
   "source": [
    "from bs4 import BeautifulSoup as bs\n",
    "soup = bs(res.text)\n",
    "tb = soup.select('.result_table')[0]\n",
    "#print tb"
   ]
  },
  {
   "cell_type": "code",
   "execution_count": 168,
   "metadata": {
    "collapsed": true
   },
   "outputs": [],
   "source": [
    "import pandas as pd\n",
    "dfs = pd.read_html(tb.prettify('utf-8'), encoding = 'utf-8', header=0, skiprows=0)"
   ]
  },
  {
   "cell_type": "code",
   "execution_count": 171,
   "metadata": {
    "collapsed": false
   },
   "outputs": [],
   "source": [
    "stockdf = dfs[0]\n",
    "stockdf['stockno'] = '2330'\n",
    "import sqlite3 as lite\n",
    "with lite.connect('finance2.sqlite') as con:\n",
    "    stockdf.to_sql('ifrs', con = con, if_exists='replace')"
   ]
  },
  {
   "cell_type": "markdown",
   "metadata": {},
   "source": [
    "## 三大法人買賣明細資訊\n"
   ]
  },
  {
   "cell_type": "code",
   "execution_count": null,
   "metadata": {
    "collapsed": true
   },
   "outputs": [],
   "source": [
    "Document(Doc):\n",
    "requests    ------------> document: <html> data </html>\n",
    "100 * 3\n",
    "    \n",
    "AJAX(XHR):\n",
    "requests    ------------> document: <html></html>\n",
    "requests    ------------> javascript: $('html').html(data)\n",
    "requests    ------------> data: data\n",
    "2 + 1 + 100 * 1"
   ]
  },
  {
   "cell_type": "code",
   "execution_count": null,
   "metadata": {
    "collapsed": true
   },
   "outputs": [],
   "source": [
    "XML:\n",
    "<employee>\n",
    "    <name> qoo </name>\n",
    "    <age> 10 <age>\n",
    "</employee>\n",
    "\n",
    "JSON:\n",
    "{employee:{name:qoo, age:10}}"
   ]
  },
  {
   "cell_type": "code",
   "execution_count": 173,
   "metadata": {
    "collapsed": false
   },
   "outputs": [
    {
     "name": "stdout",
     "output_type": "stream",
     "text": [
      "<Response [200]>\n"
     ]
    }
   ],
   "source": [
    "import requests\n",
    "res = requests.get('http://www.tpex.org.tw/web/stock/3insti/daily_trade/3itrade_hedge_result.php?l=zh-tw&se=EW&t=D&d=105/05/10&_=1463283795803')\n",
    "print res"
   ]
  },
  {
   "cell_type": "code",
   "execution_count": 176,
   "metadata": {
    "collapsed": false
   },
   "outputs": [],
   "source": [
    "#print res.text\n",
    "import json\n",
    "jd = json.loads(res.text)\n",
    "#print jd['aaData']"
   ]
  },
  {
   "cell_type": "code",
   "execution_count": 177,
   "metadata": {
    "collapsed": false
   },
   "outputs": [
    {
     "data": {
      "text/html": [
       "<div>\n",
       "<table border=\"1\" class=\"dataframe\">\n",
       "  <thead>\n",
       "    <tr style=\"text-align: right;\">\n",
       "      <th></th>\n",
       "      <th>0</th>\n",
       "      <th>1</th>\n",
       "      <th>2</th>\n",
       "      <th>3</th>\n",
       "      <th>4</th>\n",
       "      <th>5</th>\n",
       "      <th>6</th>\n",
       "      <th>7</th>\n",
       "      <th>8</th>\n",
       "      <th>9</th>\n",
       "      <th>10</th>\n",
       "      <th>11</th>\n",
       "      <th>12</th>\n",
       "      <th>13</th>\n",
       "      <th>14</th>\n",
       "      <th>15</th>\n",
       "    </tr>\n",
       "  </thead>\n",
       "  <tbody>\n",
       "    <tr>\n",
       "      <th>0</th>\n",
       "      <td>006201</td>\n",
       "      <td>寶富櫃</td>\n",
       "      <td>0</td>\n",
       "      <td>0</td>\n",
       "      <td>0</td>\n",
       "      <td>0</td>\n",
       "      <td>0</td>\n",
       "      <td>0</td>\n",
       "      <td>-45,000</td>\n",
       "      <td>0</td>\n",
       "      <td>0</td>\n",
       "      <td>0</td>\n",
       "      <td>0</td>\n",
       "      <td>45,000</td>\n",
       "      <td>-45,000</td>\n",
       "      <td>-45,000</td>\n",
       "    </tr>\n",
       "    <tr>\n",
       "      <th>1</th>\n",
       "      <td>1258</td>\n",
       "      <td>F-其祥</td>\n",
       "      <td>3,000</td>\n",
       "      <td>0</td>\n",
       "      <td>3,000</td>\n",
       "      <td>0</td>\n",
       "      <td>0</td>\n",
       "      <td>0</td>\n",
       "      <td>-1,000</td>\n",
       "      <td>0</td>\n",
       "      <td>1,000</td>\n",
       "      <td>-1,000</td>\n",
       "      <td>0</td>\n",
       "      <td>0</td>\n",
       "      <td>0</td>\n",
       "      <td>2,000</td>\n",
       "    </tr>\n",
       "    <tr>\n",
       "      <th>2</th>\n",
       "      <td>1259</td>\n",
       "      <td>安心</td>\n",
       "      <td>14,000</td>\n",
       "      <td>0</td>\n",
       "      <td>14,000</td>\n",
       "      <td>0</td>\n",
       "      <td>0</td>\n",
       "      <td>0</td>\n",
       "      <td>0</td>\n",
       "      <td>0</td>\n",
       "      <td>0</td>\n",
       "      <td>0</td>\n",
       "      <td>0</td>\n",
       "      <td>0</td>\n",
       "      <td>0</td>\n",
       "      <td>14,000</td>\n",
       "    </tr>\n",
       "    <tr>\n",
       "      <th>3</th>\n",
       "      <td>1264</td>\n",
       "      <td>德麥</td>\n",
       "      <td>4,000</td>\n",
       "      <td>1,000</td>\n",
       "      <td>3,000</td>\n",
       "      <td>0</td>\n",
       "      <td>0</td>\n",
       "      <td>0</td>\n",
       "      <td>0</td>\n",
       "      <td>0</td>\n",
       "      <td>0</td>\n",
       "      <td>0</td>\n",
       "      <td>0</td>\n",
       "      <td>0</td>\n",
       "      <td>0</td>\n",
       "      <td>3,000</td>\n",
       "    </tr>\n",
       "    <tr>\n",
       "      <th>4</th>\n",
       "      <td>1565</td>\n",
       "      <td>精華</td>\n",
       "      <td>148,000</td>\n",
       "      <td>136,000</td>\n",
       "      <td>12,000</td>\n",
       "      <td>0</td>\n",
       "      <td>0</td>\n",
       "      <td>0</td>\n",
       "      <td>-1,000</td>\n",
       "      <td>0</td>\n",
       "      <td>0</td>\n",
       "      <td>0</td>\n",
       "      <td>1,000</td>\n",
       "      <td>2,000</td>\n",
       "      <td>-1,000</td>\n",
       "      <td>11,000</td>\n",
       "    </tr>\n",
       "  </tbody>\n",
       "</table>\n",
       "</div>"
      ],
      "text/plain": [
       "        0       1                  2                  3                  4   \\\n",
       "0  006201    寶富櫃                    0                  0                  0   \n",
       "1  1258     F-其祥                3,000                  0              3,000   \n",
       "2  1259     安心                 14,000                  0             14,000   \n",
       "3  1264     德麥                  4,000              1,000              3,000   \n",
       "4  1565     精華                148,000            136,000             12,000   \n",
       "\n",
       "                  5                  6                  7                  8   \\\n",
       "0                  0                  0                  0            -45,000   \n",
       "1                  0                  0                  0             -1,000   \n",
       "2                  0                  0                  0                  0   \n",
       "3                  0                  0                  0                  0   \n",
       "4                  0                  0                  0             -1,000   \n",
       "\n",
       "                  9                  10                 11                 12  \\\n",
       "0                  0                  0                  0                  0   \n",
       "1                  0              1,000             -1,000                  0   \n",
       "2                  0                  0                  0                  0   \n",
       "3                  0                  0                  0                  0   \n",
       "4                  0                  0                  0              1,000   \n",
       "\n",
       "                  13                 14                 15  \n",
       "0             45,000            -45,000            -45,000  \n",
       "1                  0                  0              2,000  \n",
       "2                  0                  0             14,000  \n",
       "3                  0                  0              3,000  \n",
       "4              2,000             -1,000             11,000  "
      ]
     },
     "execution_count": 177,
     "metadata": {},
     "output_type": "execute_result"
    }
   ],
   "source": [
    "import pandas as pd\n",
    "df = pd.DataFrame(jd['aaData'])\n",
    "df.head()"
   ]
  },
  {
   "cell_type": "markdown",
   "metadata": {},
   "source": [
    "## 三大法人交易資訊"
   ]
  },
  {
   "cell_type": "code",
   "execution_count": 203,
   "metadata": {
    "collapsed": false
   },
   "outputs": [
    {
     "name": "stdout",
     "output_type": "stream",
     "text": [
      "<Response [200]>\n"
     ]
    }
   ],
   "source": [
    "import requests\n",
    "url = 'http://www.taifex.com.tw/chinese/3/7_12_1.asp'\n",
    "payload = {\n",
    "'DATA_DATE_Y':'2016',\n",
    "'DATA_DATE_M':'5',\n",
    "'DATA_DATE_D':'12',\n",
    "'syear':'2016',\n",
    "'smonth':'5',\n",
    "'sday':'12',\n",
    "'datestart':'2016/5/12'    \n",
    "}\n",
    "res = requests.post(url, data = payload)\n",
    "res.encoding='utf-8'\n",
    "print res"
   ]
  },
  {
   "cell_type": "code",
   "execution_count": 205,
   "metadata": {
    "collapsed": false
   },
   "outputs": [],
   "source": [
    "#print res.text"
   ]
  },
  {
   "cell_type": "code",
   "execution_count": 207,
   "metadata": {
    "collapsed": false
   },
   "outputs": [],
   "source": [
    "from bs4 import BeautifulSoup as bs\n",
    "soup = bs(res.text)\n",
    "tb = soup.select('.table_f')[0]"
   ]
  },
  {
   "cell_type": "code",
   "execution_count": 209,
   "metadata": {
    "collapsed": true
   },
   "outputs": [],
   "source": [
    "?pd.read_html"
   ]
  },
  {
   "cell_type": "code",
   "execution_count": 219,
   "metadata": {
    "collapsed": false
   },
   "outputs": [],
   "source": [
    "import pandas as pd\n",
    "dfs = pd.read_html(tb.prettify('utf-8'), \\\n",
    "            encoding = 'utf-8', skiprows=[0,1], header=0)\n",
    "stockdf = dfs[0]"
   ]
  },
  {
   "cell_type": "code",
   "execution_count": 220,
   "metadata": {
    "collapsed": false
   },
   "outputs": [
    {
     "data": {
      "text/html": [
       "<div>\n",
       "<table border=\"1\" class=\"dataframe\">\n",
       "  <thead>\n",
       "    <tr style=\"text-align: right;\">\n",
       "      <th></th>\n",
       "      <th>身份別</th>\n",
       "      <th>多方口數</th>\n",
       "      <th>多方契約金額</th>\n",
       "      <th>空方口數</th>\n",
       "      <th>空方契約金額</th>\n",
       "      <th>多空淨額口數</th>\n",
       "      <th>多空淨額契約金額</th>\n",
       "      <th>date</th>\n",
       "    </tr>\n",
       "  </thead>\n",
       "  <tbody>\n",
       "    <tr>\n",
       "      <th>0</th>\n",
       "      <td>自營商</td>\n",
       "      <td>288779</td>\n",
       "      <td>39991</td>\n",
       "      <td>266375</td>\n",
       "      <td>46217</td>\n",
       "      <td>22404</td>\n",
       "      <td>-6226</td>\n",
       "      <td>2016/5/12</td>\n",
       "    </tr>\n",
       "    <tr>\n",
       "      <th>1</th>\n",
       "      <td>投信</td>\n",
       "      <td>4753</td>\n",
       "      <td>7459</td>\n",
       "      <td>4011</td>\n",
       "      <td>6302</td>\n",
       "      <td>742</td>\n",
       "      <td>1157</td>\n",
       "      <td>2016/5/12</td>\n",
       "    </tr>\n",
       "    <tr>\n",
       "      <th>2</th>\n",
       "      <td>外資</td>\n",
       "      <td>174311</td>\n",
       "      <td>89034</td>\n",
       "      <td>168547</td>\n",
       "      <td>86050</td>\n",
       "      <td>5764</td>\n",
       "      <td>2984</td>\n",
       "      <td>2016/5/12</td>\n",
       "    </tr>\n",
       "    <tr>\n",
       "      <th>3</th>\n",
       "      <td>合計</td>\n",
       "      <td>467843</td>\n",
       "      <td>136484</td>\n",
       "      <td>438933</td>\n",
       "      <td>138569</td>\n",
       "      <td>28910</td>\n",
       "      <td>-2085</td>\n",
       "      <td>2016/5/12</td>\n",
       "    </tr>\n",
       "  </tbody>\n",
       "</table>\n",
       "</div>"
      ],
      "text/plain": [
       "   身份別    多方口數  多方契約金額    空方口數  空方契約金額  多空淨額口數  多空淨額契約金額       date\n",
       "0  自營商  288779   39991  266375   46217   22404     -6226  2016/5/12\n",
       "1   投信    4753    7459    4011    6302     742      1157  2016/5/12\n",
       "2   外資  174311   89034  168547   86050    5764      2984  2016/5/12\n",
       "3   合計  467843  136484  438933  138569   28910     -2085  2016/5/12"
      ]
     },
     "execution_count": 220,
     "metadata": {},
     "output_type": "execute_result"
    }
   ],
   "source": [
    "stockdf.columns = ['身份別','多方口數','多方契約金額',\\\n",
    "                   '空方口數','空方契約金額',\\\n",
    "                   '多空淨額口數','多空淨額契約金額']\n",
    "stockdf['date'] = '2016/5/12' \n",
    "stockdf"
   ]
  },
  {
   "cell_type": "markdown",
   "metadata": {},
   "source": [
    "## 證交所三大法人csv檔抓取"
   ]
  },
  {
   "cell_type": "code",
   "execution_count": 226,
   "metadata": {
    "collapsed": false
   },
   "outputs": [],
   "source": [
    "url = 'http://www.twse.com.tw/ch/trading/fund/T86/T86.php'\n",
    "payload = {\n",
    "'download':'csv',\n",
    "'qdate':'105/05/13',\n",
    "'select2':'01',\n",
    "'sorting':'by_issue'    \n",
    "}\n",
    "res = requests.post(url , payload)\n",
    "res.encoding= 'big5'\n",
    "\n",
    "with open('20160513.csv', 'w') as f:\n",
    "    f.write(res.text.encode('utf-8'))"
   ]
  },
  {
   "cell_type": "code",
   "execution_count": 234,
   "metadata": {
    "collapsed": false
   },
   "outputs": [
    {
     "data": {
      "text/html": [
       "<div>\n",
       "<table border=\"1\" class=\"dataframe\">\n",
       "  <thead>\n",
       "    <tr style=\"text-align: right;\">\n",
       "      <th></th>\n",
       "      <th>證券代號</th>\n",
       "      <th>證券名稱</th>\n",
       "      <th>外資買進股數</th>\n",
       "      <th>外資賣出股數</th>\n",
       "      <th>外資買賣超股數</th>\n",
       "      <th>投信買進股數</th>\n",
       "      <th>投信賣出股數</th>\n",
       "      <th>投信買賣超股數</th>\n",
       "      <th>自營商買賣超股數</th>\n",
       "      <th>自營商買進股數(自行買賣)</th>\n",
       "      <th>自營商賣出股數(自行買賣)</th>\n",
       "      <th>自營商買賣超股數(自行買賣)</th>\n",
       "      <th>自營商買進股數(避險)</th>\n",
       "      <th>自營商賣出股數(避險)</th>\n",
       "      <th>自營商買賣超股數(避險)</th>\n",
       "      <th>三大法人買賣超股數</th>\n",
       "    </tr>\n",
       "  </thead>\n",
       "  <tbody>\n",
       "    <tr>\n",
       "      <th>2</th>\n",
       "      <td>=\"1108\"</td>\n",
       "      <td>幸福</td>\n",
       "      <td>2,000</td>\n",
       "      <td>2,000</td>\n",
       "      <td>0</td>\n",
       "      <td>0</td>\n",
       "      <td>0</td>\n",
       "      <td>0</td>\n",
       "      <td>0</td>\n",
       "      <td>0</td>\n",
       "      <td>0</td>\n",
       "      <td>0</td>\n",
       "      <td>0</td>\n",
       "      <td>0</td>\n",
       "      <td>0</td>\n",
       "      <td>0</td>\n",
       "    </tr>\n",
       "    <tr>\n",
       "      <th>3</th>\n",
       "      <td>=\"1110\"</td>\n",
       "      <td>東泥</td>\n",
       "      <td>13,000</td>\n",
       "      <td>16,000</td>\n",
       "      <td>-3,000</td>\n",
       "      <td>0</td>\n",
       "      <td>0</td>\n",
       "      <td>0</td>\n",
       "      <td>0</td>\n",
       "      <td>0</td>\n",
       "      <td>0</td>\n",
       "      <td>0</td>\n",
       "      <td>0</td>\n",
       "      <td>0</td>\n",
       "      <td>0</td>\n",
       "      <td>-3,000</td>\n",
       "    </tr>\n",
       "    <tr>\n",
       "      <th>4</th>\n",
       "      <td>=\"1104\"</td>\n",
       "      <td>環泥</td>\n",
       "      <td>61,000</td>\n",
       "      <td>118,000</td>\n",
       "      <td>-57,000</td>\n",
       "      <td>0</td>\n",
       "      <td>0</td>\n",
       "      <td>0</td>\n",
       "      <td>-9,000</td>\n",
       "      <td>0</td>\n",
       "      <td>9,000</td>\n",
       "      <td>-9,000</td>\n",
       "      <td>0</td>\n",
       "      <td>0</td>\n",
       "      <td>0</td>\n",
       "      <td>-66,000</td>\n",
       "    </tr>\n",
       "    <tr>\n",
       "      <th>5</th>\n",
       "      <td>=\"1103\"</td>\n",
       "      <td>嘉泥</td>\n",
       "      <td>0</td>\n",
       "      <td>79,000</td>\n",
       "      <td>-79,000</td>\n",
       "      <td>0</td>\n",
       "      <td>0</td>\n",
       "      <td>0</td>\n",
       "      <td>0</td>\n",
       "      <td>0</td>\n",
       "      <td>0</td>\n",
       "      <td>0</td>\n",
       "      <td>0</td>\n",
       "      <td>0</td>\n",
       "      <td>0</td>\n",
       "      <td>-79,000</td>\n",
       "    </tr>\n",
       "    <tr>\n",
       "      <th>6</th>\n",
       "      <td>=\"1102\"</td>\n",
       "      <td>亞泥</td>\n",
       "      <td>2,308,000</td>\n",
       "      <td>3,899,000</td>\n",
       "      <td>-1,591,000</td>\n",
       "      <td>0</td>\n",
       "      <td>0</td>\n",
       "      <td>0</td>\n",
       "      <td>221,000</td>\n",
       "      <td>0</td>\n",
       "      <td>84,000</td>\n",
       "      <td>-84,000</td>\n",
       "      <td>305,000</td>\n",
       "      <td>0</td>\n",
       "      <td>305,000</td>\n",
       "      <td>-1,370,000</td>\n",
       "    </tr>\n",
       "  </tbody>\n",
       "</table>\n",
       "</div>"
      ],
      "text/plain": [
       "      證券代號            證券名稱     外資買進股數     外資賣出股數     外資買賣超股數 投信買進股數 投信賣出股數  \\\n",
       "2  =\"1108\"  幸福                  2,000      2,000           0      0      0   \n",
       "3  =\"1110\"  東泥                 13,000     16,000      -3,000      0      0   \n",
       "4  =\"1104\"  環泥                 61,000    118,000     -57,000      0      0   \n",
       "5  =\"1103\"  嘉泥                      0     79,000     -79,000      0      0   \n",
       "6  =\"1102\"  亞泥              2,308,000  3,899,000  -1,591,000      0      0   \n",
       "\n",
       "  投信買賣超股數 自營商買賣超股數 自營商買進股數(自行買賣) 自營商賣出股數(自行買賣) 自營商買賣超股數(自行買賣) 自營商買進股數(避險)  \\\n",
       "2       0        0             0             0              0           0   \n",
       "3       0        0             0             0              0           0   \n",
       "4       0   -9,000             0         9,000         -9,000           0   \n",
       "5       0        0             0             0              0           0   \n",
       "6       0  221,000             0        84,000        -84,000     305,000   \n",
       "\n",
       "  自營商賣出股數(避險) 自營商買賣超股數(避險)   三大法人買賣超股數  \n",
       "2           0            0           0  \n",
       "3           0            0      -3,000  \n",
       "4           0            0     -66,000  \n",
       "5           0            0     -79,000  \n",
       "6           0      305,000  -1,370,000  "
      ]
     },
     "execution_count": 234,
     "metadata": {},
     "output_type": "execute_result"
    }
   ],
   "source": [
    "import pandas as pd\n",
    "df = pd.read_csv('20160513.csv', names=[\"證券代號\",\"證券名稱\",\"外資買進股數\",\"外資賣出股數\",\\\n",
    "                \"外資買賣超股數\",\"投信買進股數\",\"投信賣出股數\",\"投信買賣超股數\",\"自營商買賣超股數\",\\\n",
    "                \"自營商買進股數(自行買賣)\",\"自營商賣出股數(自行買賣)\",\"自營商買賣超股數(自行買賣)\",\\\n",
    "                \"自營商買進股數(避險)\",\"自營商賣出股數(避險)\",\"自營商買賣超股數(避險)\",\"三大法人買賣超股數\"])\n",
    "df = df.dropna()\n",
    "df = df.drop(1)\n",
    "df.head()"
   ]
  },
  {
   "cell_type": "code",
   "execution_count": 235,
   "metadata": {
    "collapsed": false
   },
   "outputs": [
    {
     "data": {
      "text/plain": [
       "Index([u'證券代號', u'證券名稱', u'外資買進股數', u'外資賣出股數', u'外資買賣超股數', u'投信買進股數',\n",
       "       u'投信賣出股數', u'投信買賣超股數', u'自營商買賣超股數', u'自營商買進股數(自行買賣)', u'自營商賣出股數(自行買賣)',\n",
       "       u'自營商買賣超股數(自行買賣)', u'自營商買進股數(避險)', u'自營商賣出股數(避險)', u'自營商買賣超股數(避險)',\n",
       "       u'三大法人買賣超股數'],\n",
       "      dtype='object')"
      ]
     },
     "execution_count": 235,
     "metadata": {},
     "output_type": "execute_result"
    }
   ],
   "source": [
    "df.columns"
   ]
  },
  {
   "cell_type": "code",
   "execution_count": 243,
   "metadata": {
    "collapsed": false
   },
   "outputs": [
    {
     "data": {
      "text/html": [
       "<div>\n",
       "<table border=\"1\" class=\"dataframe\">\n",
       "  <thead>\n",
       "    <tr style=\"text-align: right;\">\n",
       "      <th></th>\n",
       "      <th>證券代號</th>\n",
       "      <th>證券名稱</th>\n",
       "      <th>外資買進股數</th>\n",
       "      <th>外資賣出股數</th>\n",
       "      <th>外資買賣超股數</th>\n",
       "      <th>投信買進股數</th>\n",
       "      <th>投信賣出股數</th>\n",
       "      <th>投信買賣超股數</th>\n",
       "      <th>自營商買賣超股數</th>\n",
       "      <th>自營商買進股數(自行買賣)</th>\n",
       "      <th>自營商賣出股數(自行買賣)</th>\n",
       "      <th>自營商買賣超股數(自行買賣)</th>\n",
       "      <th>自營商買進股數(避險)</th>\n",
       "      <th>自營商賣出股數(避險)</th>\n",
       "      <th>自營商買賣超股數(避險)</th>\n",
       "      <th>三大法人買賣超股數</th>\n",
       "    </tr>\n",
       "  </thead>\n",
       "  <tbody>\n",
       "    <tr>\n",
       "      <th>2</th>\n",
       "      <td>1108</td>\n",
       "      <td>幸福</td>\n",
       "      <td>2,000</td>\n",
       "      <td>2,000</td>\n",
       "      <td>0</td>\n",
       "      <td>0</td>\n",
       "      <td>0</td>\n",
       "      <td>0</td>\n",
       "      <td>0</td>\n",
       "      <td>0</td>\n",
       "      <td>0</td>\n",
       "      <td>0</td>\n",
       "      <td>0</td>\n",
       "      <td>0</td>\n",
       "      <td>0</td>\n",
       "      <td>0</td>\n",
       "    </tr>\n",
       "    <tr>\n",
       "      <th>3</th>\n",
       "      <td>1110</td>\n",
       "      <td>東泥</td>\n",
       "      <td>13,000</td>\n",
       "      <td>16,000</td>\n",
       "      <td>-3,000</td>\n",
       "      <td>0</td>\n",
       "      <td>0</td>\n",
       "      <td>0</td>\n",
       "      <td>0</td>\n",
       "      <td>0</td>\n",
       "      <td>0</td>\n",
       "      <td>0</td>\n",
       "      <td>0</td>\n",
       "      <td>0</td>\n",
       "      <td>0</td>\n",
       "      <td>-3,000</td>\n",
       "    </tr>\n",
       "    <tr>\n",
       "      <th>4</th>\n",
       "      <td>1104</td>\n",
       "      <td>環泥</td>\n",
       "      <td>61,000</td>\n",
       "      <td>118,000</td>\n",
       "      <td>-57,000</td>\n",
       "      <td>0</td>\n",
       "      <td>0</td>\n",
       "      <td>0</td>\n",
       "      <td>-9,000</td>\n",
       "      <td>0</td>\n",
       "      <td>9,000</td>\n",
       "      <td>-9,000</td>\n",
       "      <td>0</td>\n",
       "      <td>0</td>\n",
       "      <td>0</td>\n",
       "      <td>-66,000</td>\n",
       "    </tr>\n",
       "    <tr>\n",
       "      <th>5</th>\n",
       "      <td>1103</td>\n",
       "      <td>嘉泥</td>\n",
       "      <td>0</td>\n",
       "      <td>79,000</td>\n",
       "      <td>-79,000</td>\n",
       "      <td>0</td>\n",
       "      <td>0</td>\n",
       "      <td>0</td>\n",
       "      <td>0</td>\n",
       "      <td>0</td>\n",
       "      <td>0</td>\n",
       "      <td>0</td>\n",
       "      <td>0</td>\n",
       "      <td>0</td>\n",
       "      <td>0</td>\n",
       "      <td>-79,000</td>\n",
       "    </tr>\n",
       "    <tr>\n",
       "      <th>6</th>\n",
       "      <td>1102</td>\n",
       "      <td>亞泥</td>\n",
       "      <td>2,308,000</td>\n",
       "      <td>3,899,000</td>\n",
       "      <td>-1,591,000</td>\n",
       "      <td>0</td>\n",
       "      <td>0</td>\n",
       "      <td>0</td>\n",
       "      <td>221,000</td>\n",
       "      <td>0</td>\n",
       "      <td>84,000</td>\n",
       "      <td>-84,000</td>\n",
       "      <td>305,000</td>\n",
       "      <td>0</td>\n",
       "      <td>305,000</td>\n",
       "      <td>-1,370,000</td>\n",
       "    </tr>\n",
       "    <tr>\n",
       "      <th>7</th>\n",
       "      <td>1101</td>\n",
       "      <td>台泥</td>\n",
       "      <td>1,008,000</td>\n",
       "      <td>5,384,000</td>\n",
       "      <td>-4,376,000</td>\n",
       "      <td>0</td>\n",
       "      <td>0</td>\n",
       "      <td>0</td>\n",
       "      <td>350,000</td>\n",
       "      <td>194,000</td>\n",
       "      <td>2,000</td>\n",
       "      <td>192,000</td>\n",
       "      <td>258,000</td>\n",
       "      <td>100,000</td>\n",
       "      <td>158,000</td>\n",
       "      <td>-4,026,000</td>\n",
       "    </tr>\n",
       "  </tbody>\n",
       "</table>\n",
       "</div>"
      ],
      "text/plain": [
       "   證券代號            證券名稱     外資買進股數     外資賣出股數     外資買賣超股數 投信買進股數 投信賣出股數  \\\n",
       "2  1108  幸福                  2,000      2,000           0      0      0   \n",
       "3  1110  東泥                 13,000     16,000      -3,000      0      0   \n",
       "4  1104  環泥                 61,000    118,000     -57,000      0      0   \n",
       "5  1103  嘉泥                      0     79,000     -79,000      0      0   \n",
       "6  1102  亞泥              2,308,000  3,899,000  -1,591,000      0      0   \n",
       "7  1101  台泥              1,008,000  5,384,000  -4,376,000      0      0   \n",
       "\n",
       "  投信買賣超股數 自營商買賣超股數 自營商買進股數(自行買賣) 自營商賣出股數(自行買賣) 自營商買賣超股數(自行買賣) 自營商買進股數(避險)  \\\n",
       "2       0        0             0             0              0           0   \n",
       "3       0        0             0             0              0           0   \n",
       "4       0   -9,000             0         9,000         -9,000           0   \n",
       "5       0        0             0             0              0           0   \n",
       "6       0  221,000             0        84,000        -84,000     305,000   \n",
       "7       0  350,000       194,000         2,000        192,000     258,000   \n",
       "\n",
       "  自營商賣出股數(避險) 自營商買賣超股數(避險)   三大法人買賣超股數  \n",
       "2           0            0           0  \n",
       "3           0            0      -3,000  \n",
       "4           0            0     -66,000  \n",
       "5           0            0     -79,000  \n",
       "6           0      305,000  -1,370,000  \n",
       "7     100,000      158,000  -4,026,000  "
      ]
     },
     "execution_count": 243,
     "metadata": {},
     "output_type": "execute_result"
    }
   ],
   "source": [
    "df['證券代號']= df['證券代號'].str.strip('=').str.strip('\\\"')\n",
    "df"
   ]
  },
  {
   "cell_type": "markdown",
   "metadata": {},
   "source": [
    "## DataFrame 操作"
   ]
  },
  {
   "cell_type": "code",
   "execution_count": 244,
   "metadata": {
    "collapsed": false
   },
   "outputs": [
    {
     "data": {
      "text/html": [
       "<div>\n",
       "<table border=\"1\" class=\"dataframe\">\n",
       "  <thead>\n",
       "    <tr style=\"text-align: right;\">\n",
       "      <th></th>\n",
       "      <th>0</th>\n",
       "      <th>1</th>\n",
       "    </tr>\n",
       "  </thead>\n",
       "  <tbody>\n",
       "    <tr>\n",
       "      <th>0</th>\n",
       "      <td>david</td>\n",
       "      <td>1</td>\n",
       "    </tr>\n",
       "    <tr>\n",
       "      <th>1</th>\n",
       "      <td>mary</td>\n",
       "      <td>2</td>\n",
       "    </tr>\n",
       "  </tbody>\n",
       "</table>\n",
       "</div>"
      ],
      "text/plain": [
       "       0  1\n",
       "0  david  1\n",
       "1   mary  2"
      ]
     },
     "execution_count": 244,
     "metadata": {},
     "output_type": "execute_result"
    }
   ],
   "source": [
    "a = [['david', 1], ['mary', 2]]\n",
    "df1 = pd.DataFrame(a)\n",
    "df1"
   ]
  },
  {
   "cell_type": "code",
   "execution_count": 245,
   "metadata": {
    "collapsed": false
   },
   "outputs": [
    {
     "data": {
      "text/html": [
       "<div>\n",
       "<table border=\"1\" class=\"dataframe\">\n",
       "  <thead>\n",
       "    <tr style=\"text-align: right;\">\n",
       "      <th></th>\n",
       "      <th>id</th>\n",
       "      <th>name</th>\n",
       "    </tr>\n",
       "  </thead>\n",
       "  <tbody>\n",
       "    <tr>\n",
       "      <th>0</th>\n",
       "      <td>1</td>\n",
       "      <td>david</td>\n",
       "    </tr>\n",
       "    <tr>\n",
       "      <th>1</th>\n",
       "      <td>2</td>\n",
       "      <td>mary</td>\n",
       "    </tr>\n",
       "  </tbody>\n",
       "</table>\n",
       "</div>"
      ],
      "text/plain": [
       "   id   name\n",
       "0   1  david\n",
       "1   2   mary"
      ]
     },
     "execution_count": 245,
     "metadata": {},
     "output_type": "execute_result"
    }
   ],
   "source": [
    "b = [{'name':'david', 'id':1}, {'name':'mary', 'id':2}]\n",
    "df2 = pd.DataFrame(b)\n",
    "df2"
   ]
  },
  {
   "cell_type": "markdown",
   "metadata": {},
   "source": [
    "## 財報狗抓取"
   ]
  },
  {
   "cell_type": "code",
   "execution_count": 250,
   "metadata": {
    "collapsed": false
   },
   "outputs": [],
   "source": [
    "import requests\n",
    "headers = {\n",
    "'X-Requested-With':'XMLHttpRequest',\n",
    "'User-Agent':'Mozilla/5.0 (Windows NT 6.1; WOW64) AppleWebKit/537.36 (KHTML, like Gecko) Chrome/50.0.2661.102 Safari/537.36'    \n",
    "}\n",
    "url = 'https://statementdog.com/pick/pick_ajax/?type=1&idx1=15&tm1=2&op1=1&val1=15&_=1463292903371'\n",
    "res = requests.get(url, headers = headers)\n",
    "\n",
    "#print res.text"
   ]
  },
  {
   "cell_type": "code",
   "execution_count": 260,
   "metadata": {
    "collapsed": false
   },
   "outputs": [
    {
     "data": {
      "text/html": [
       "<div>\n",
       "<table border=\"1\" class=\"dataframe\">\n",
       "  <thead>\n",
       "    <tr style=\"text-align: right;\">\n",
       "      <th></th>\n",
       "      <th>data</th>\n",
       "      <th>id</th>\n",
       "      <th>nm</th>\n",
       "      <th>price</th>\n",
       "      <th>roi</th>\n",
       "      <th>ticker</th>\n",
       "    </tr>\n",
       "  </thead>\n",
       "  <tbody>\n",
       "    <tr>\n",
       "      <th>0</th>\n",
       "      <td>[{u'tm': 2, u'val': 18.45, u'idx': 15}]</td>\n",
       "      <td>18</td>\n",
       "      <td>福懋油</td>\n",
       "      <td>30.45</td>\n",
       "      <td>[44.9, 132.1, 101.1]</td>\n",
       "      <td>1225</td>\n",
       "    </tr>\n",
       "    <tr>\n",
       "      <th>1</th>\n",
       "      <td>[{u'tm': 2, u'val': 21.5, u'idx': 15}]</td>\n",
       "      <td>19</td>\n",
       "      <td>佳格</td>\n",
       "      <td>77.10</td>\n",
       "      <td>[1.6, -19.9, -8.0]</td>\n",
       "      <td>1227</td>\n",
       "    </tr>\n",
       "    <tr>\n",
       "      <th>2</th>\n",
       "      <td>[{u'tm': 2, u'val': 25.3, u'idx': 15}]</td>\n",
       "      <td>22</td>\n",
       "      <td>大統益</td>\n",
       "      <td>77.90</td>\n",
       "      <td>[-0.8, 47.9, 47.7]</td>\n",
       "      <td>1232</td>\n",
       "    </tr>\n",
       "    <tr>\n",
       "      <th>3</th>\n",
       "      <td>[{u'tm': 2, u'val': 24.54, u'idx': 15}]</td>\n",
       "      <td>27</td>\n",
       "      <td>F-鮮活</td>\n",
       "      <td>118.50</td>\n",
       "      <td>[-45.2, 72.8, None]</td>\n",
       "      <td>1256</td>\n",
       "    </tr>\n",
       "    <tr>\n",
       "      <th>4</th>\n",
       "      <td>[{u'tm': 2, u'val': 17.6, u'idx': 15}]</td>\n",
       "      <td>28</td>\n",
       "      <td>F-其祥</td>\n",
       "      <td>38.25</td>\n",
       "      <td>[33.8, 56.1, None]</td>\n",
       "      <td>1258</td>\n",
       "    </tr>\n",
       "  </tbody>\n",
       "</table>\n",
       "</div>"
      ],
      "text/plain": [
       "                                      data  id    nm   price  \\\n",
       "0  [{u'tm': 2, u'val': 18.45, u'idx': 15}]  18   福懋油   30.45   \n",
       "1   [{u'tm': 2, u'val': 21.5, u'idx': 15}]  19    佳格   77.10   \n",
       "2   [{u'tm': 2, u'val': 25.3, u'idx': 15}]  22   大統益   77.90   \n",
       "3  [{u'tm': 2, u'val': 24.54, u'idx': 15}]  27  F-鮮活  118.50   \n",
       "4   [{u'tm': 2, u'val': 17.6, u'idx': 15}]  28  F-其祥   38.25   \n",
       "\n",
       "                    roi  ticker  \n",
       "0  [44.9, 132.1, 101.1]    1225  \n",
       "1    [1.6, -19.9, -8.0]    1227  \n",
       "2    [-0.8, 47.9, 47.7]    1232  \n",
       "3   [-45.2, 72.8, None]    1256  \n",
       "4    [33.8, 56.1, None]    1258  "
      ]
     },
     "execution_count": 260,
     "metadata": {},
     "output_type": "execute_result"
    }
   ],
   "source": [
    "import pandas as pd\n",
    "import json\n",
    "jd = json.loads(res.text)\n",
    "#print jd[1]\n",
    "df = pd.DataFrame(jd[1])\n",
    "df.head()"
   ]
  },
  {
   "cell_type": "markdown",
   "metadata": {},
   "source": [
    "## CK101 抓取範例"
   ]
  },
  {
   "cell_type": "code",
   "execution_count": 298,
   "metadata": {
    "collapsed": false
   },
   "outputs": [],
   "source": [
    "import requests\n",
    "headers = {\n",
    "#'User-Agent':'qoo'\n",
    "'User-Agent':'Mozilla/5.0 (Windows NT 6.1; WOW64) AppleWebKit/537.36 (KHTML, like Gecko) Chrome/50.0.2661.102 Safari/537.36'    \n",
    "}\n",
    "res = requests.get('http://ck101.com/', headers = headers)\n",
    "#print res.text"
   ]
  },
  {
   "cell_type": "markdown",
   "metadata": {},
   "source": [
    "## gogofund"
   ]
  },
  {
   "cell_type": "code",
   "execution_count": 270,
   "metadata": {
    "collapsed": false
   },
   "outputs": [],
   "source": [
    "import requests\n",
    "headers = {\n",
    "'Referer':'http://www.gogofund.com/convch/fund/sectorperform.asp',\n",
    "'User-Agent':'Mozilla/5.0 (Windows NT 6.1; WOW64) AppleWebKit/537.36 (KHTML, like Gecko) Chrome/50.0.2661.102 Safari/537.36'    \n",
    "}\n",
    "url = 'http://www.gogofund.com/convch/fund/forframe/sectorperform_sql.asp?FundTypeID=EG&PerformMoney=TWD&Prd=0&O=5&P=1&r=0.22726785669738292'\n",
    "res = requests.get(url, headers = headers)\n",
    "#print res.text"
   ]
  },
  {
   "cell_type": "markdown",
   "metadata": {},
   "source": [
    "## Selenium"
   ]
  },
  {
   "cell_type": "code",
   "execution_count": 297,
   "metadata": {
    "collapsed": false
   },
   "outputs": [],
   "source": [
    "# -*- coding: utf-8 -*-\n",
    "from selenium import webdriver\n",
    "from selenium.webdriver.common.by import By\n",
    "from selenium.webdriver.common.keys import Keys\n",
    "from selenium.webdriver.support.ui import Select\n",
    "from selenium.common.exceptions import NoSuchElementException\n",
    "from selenium.common.exceptions import NoAlertPresentException\n",
    "import unittest, time, re\n",
    "from bs4 import BeautifulSoup as bs\n",
    "import pandas as pd\n",
    "\n",
    "driver = webdriver.Firefox()\n",
    "driver.implicitly_wait(30)\n",
    "\n",
    "base_url = \"http://www.gogofund.com/convch/index.asp\"\n",
    "    \n",
    "driver.get(base_url)\n",
    "driver.find_element_by_css_selector(u\"a[title=\\\"各基金類型績效排行\\\"]\").click()\n",
    "soup = bs(driver.page_source)\n",
    "tb = soup.select('#sectorperform_output table')[0]\n",
    "dfs = pd.read_html(tb.prettify('utf-8'), encoding = 'utf-8')\n",
    "dfs[0]\n",
    "\n",
    "driver.find_element_by_xpath(u\"//input[@value='下一頁']\").click()\n",
    "soup = bs(driver.page_source)\n",
    "tb = soup.select('#sectorperform_output table')[0]\n",
    "dfs = pd.read_html(tb.prettify('utf-8'), encoding = 'utf-8')\n",
    "dfs[0]\n",
    "driver.close()\n",
    "#sectorperform_output \n"
   ]
  },
  {
   "cell_type": "markdown",
   "metadata": {},
   "source": [
    "## myindex"
   ]
  },
  {
   "cell_type": "code",
   "execution_count": 308,
   "metadata": {
    "collapsed": false
   },
   "outputs": [
    {
     "data": {
      "text/html": [
       "<div>\n",
       "<table border=\"1\" class=\"dataframe\">\n",
       "  <thead>\n",
       "    <tr style=\"text-align: right;\">\n",
       "      <th></th>\n",
       "      <th>地域</th>\n",
       "      <th>PER</th>\n",
       "      <th>PBR</th>\n",
       "      <th>配当利回り</th>\n",
       "      <th>時価総額</th>\n",
       "    </tr>\n",
       "  </thead>\n",
       "  <tbody>\n",
       "    <tr>\n",
       "      <th>0</th>\n",
       "      <td>全世界</td>\n",
       "      <td>17.5</td>\n",
       "      <td>2.0</td>\n",
       "      <td>2.64%</td>\n",
       "      <td>36.4兆ドル</td>\n",
       "    </tr>\n",
       "    <tr>\n",
       "      <th>1</th>\n",
       "      <td>先進国</td>\n",
       "      <td>18.1</td>\n",
       "      <td>2.0</td>\n",
       "      <td>2.59%</td>\n",
       "      <td>33.2兆ドル</td>\n",
       "    </tr>\n",
       "    <tr>\n",
       "      <th>2</th>\n",
       "      <td>エマージング国</td>\n",
       "      <td>13.2</td>\n",
       "      <td>1.5</td>\n",
       "      <td>3.17%</td>\n",
       "      <td>3.2兆ドル</td>\n",
       "    </tr>\n",
       "    <tr>\n",
       "      <th>3</th>\n",
       "      <td>ヨーロッパ</td>\n",
       "      <td>16.8</td>\n",
       "      <td>1.7</td>\n",
       "      <td>3.51%</td>\n",
       "      <td>8兆ドル</td>\n",
       "    </tr>\n",
       "    <tr>\n",
       "      <th>4</th>\n",
       "      <td>アジア・パシフィック</td>\n",
       "      <td>13.4</td>\n",
       "      <td>1.2</td>\n",
       "      <td>2.75%</td>\n",
       "      <td>5.2兆ドル</td>\n",
       "    </tr>\n",
       "  </tbody>\n",
       "</table>\n",
       "</div>"
      ],
      "text/plain": [
       "           地域   PER  PBR  配当利回り     時価総額\n",
       "0         全世界  17.5  2.0  2.64%  36.4兆ドル\n",
       "1         先進国  18.1  2.0  2.59%  33.2兆ドル\n",
       "2     エマージング国  13.2  1.5  3.17%   3.2兆ドル\n",
       "3       ヨーロッパ  16.8  1.7  3.51%     8兆ドル\n",
       "4  アジア・パシフィック  13.4  1.2  2.75%   5.2兆ドル"
      ]
     },
     "execution_count": 308,
     "metadata": {},
     "output_type": "execute_result"
    }
   ],
   "source": [
    "import requests\n",
    "from bs4 import BeautifulSoup as bs\n",
    "import pandas as pd\n",
    "res = requests.get('http://myindex.jp/global_per.php')\n",
    "soup = bs(res.text)\n",
    "tb = soup.select('.mgn_l_2em table')[0]\n",
    "dfs = pd.read_html(tb.prettify('utf-8'), encoding = 'utf-8')\n",
    "stockdf = dfs[0]\n",
    "stockdf.columns = ['地域','PER','PBR','配当利回り','時価総額']\n",
    "stockdf.head()"
   ]
  },
  {
   "cell_type": "code",
   "execution_count": 323,
   "metadata": {
    "collapsed": true
   },
   "outputs": [],
   "source": [
    "import requests\n",
    "from bs4 import BeautifulSoup as bs\n",
    "import pandas as pd\n",
    "def getIndex(url, ym):\n",
    "    res = requests.get('http://myindex.jp/global_per.php')\n",
    "    soup = bs(res.text)\n",
    "    tb = soup.select('.mgn_l_2em table')[0]\n",
    "    dfs = pd.read_html(tb.prettify('utf-8'), encoding = 'utf-8')\n",
    "    stockdf = dfs[0]\n",
    "    stockdf.columns = ['地域','PER','PBR','配当利回り','時価総額']\n",
    "    stockdf['date'] = ym\n",
    "    return stockdf"
   ]
  },
  {
   "cell_type": "code",
   "execution_count": 324,
   "metadata": {
    "collapsed": false
   },
   "outputs": [],
   "source": [
    "\n",
    "from datetime import datetime, timedelta\n",
    "from dateutil.relativedelta import relativedelta\n",
    "url = 'http://myindex.jp/global_per_old.php?m={}'\n",
    "currentdate = datetime.today()\n",
    "dfall = []\n",
    "for i in range(1,10):\n",
    "    ym =  (currentdate+ relativedelta(months=-i)).strftime('%Y%m')\n",
    "    dfall.append(getIndex(url.format(ym), ym))"
   ]
  },
  {
   "cell_type": "code",
   "execution_count": 326,
   "metadata": {
    "collapsed": false
   },
   "outputs": [
    {
     "data": {
      "text/html": [
       "<div>\n",
       "<table border=\"1\" class=\"dataframe\">\n",
       "  <thead>\n",
       "    <tr style=\"text-align: right;\">\n",
       "      <th></th>\n",
       "      <th>地域</th>\n",
       "      <th>PER</th>\n",
       "      <th>PBR</th>\n",
       "      <th>配当利回り</th>\n",
       "      <th>時価総額</th>\n",
       "      <th>date</th>\n",
       "    </tr>\n",
       "  </thead>\n",
       "  <tbody>\n",
       "    <tr>\n",
       "      <th>0</th>\n",
       "      <td>全世界</td>\n",
       "      <td>17.5</td>\n",
       "      <td>2.0</td>\n",
       "      <td>2.64%</td>\n",
       "      <td>36.4兆ドル</td>\n",
       "      <td>201604</td>\n",
       "    </tr>\n",
       "    <tr>\n",
       "      <th>1</th>\n",
       "      <td>先進国</td>\n",
       "      <td>18.1</td>\n",
       "      <td>2.0</td>\n",
       "      <td>2.59%</td>\n",
       "      <td>33.2兆ドル</td>\n",
       "      <td>201604</td>\n",
       "    </tr>\n",
       "    <tr>\n",
       "      <th>2</th>\n",
       "      <td>エマージング国</td>\n",
       "      <td>13.2</td>\n",
       "      <td>1.5</td>\n",
       "      <td>3.17%</td>\n",
       "      <td>3.2兆ドル</td>\n",
       "      <td>201604</td>\n",
       "    </tr>\n",
       "    <tr>\n",
       "      <th>3</th>\n",
       "      <td>ヨーロッパ</td>\n",
       "      <td>16.8</td>\n",
       "      <td>1.7</td>\n",
       "      <td>3.51%</td>\n",
       "      <td>8兆ドル</td>\n",
       "      <td>201604</td>\n",
       "    </tr>\n",
       "    <tr>\n",
       "      <th>4</th>\n",
       "      <td>アジア・パシフィック</td>\n",
       "      <td>13.4</td>\n",
       "      <td>1.2</td>\n",
       "      <td>2.75%</td>\n",
       "      <td>5.2兆ドル</td>\n",
       "      <td>201604</td>\n",
       "    </tr>\n",
       "  </tbody>\n",
       "</table>\n",
       "</div>"
      ],
      "text/plain": [
       "           地域   PER  PBR  配当利回り     時価総額    date\n",
       "0         全世界  17.5  2.0  2.64%  36.4兆ドル  201604\n",
       "1         先進国  18.1  2.0  2.59%  33.2兆ドル  201604\n",
       "2     エマージング国  13.2  1.5  3.17%   3.2兆ドル  201604\n",
       "3       ヨーロッパ  16.8  1.7  3.51%     8兆ドル  201604\n",
       "4  アジア・パシフィック  13.4  1.2  2.75%   5.2兆ドル  201604"
      ]
     },
     "execution_count": 326,
     "metadata": {},
     "output_type": "execute_result"
    }
   ],
   "source": [
    "indexdf = pd.concat(dfall)\n",
    "indexdf.head()"
   ]
  },
  {
   "cell_type": "markdown",
   "metadata": {},
   "source": [
    "## 神秘金字塔"
   ]
  },
  {
   "cell_type": "code",
   "execution_count": 349,
   "metadata": {
    "collapsed": false
   },
   "outputs": [],
   "source": [
    "import requests\n",
    "import re\n",
    "res = requests.get('http://norway.twsthr.info/StockHolders.aspx?stock=2330')\n",
    "m = re.findall('series:.*', res.text)\n",
    "#print m"
   ]
  },
  {
   "cell_type": "code",
   "execution_count": 340,
   "metadata": {
    "collapsed": false
   },
   "outputs": [
    {
     "name": "stdout",
     "output_type": "stream",
     "text": [
      "{'__VIEWSTATE': '/wEPDwUJOTAxMjkxMjg3D2QWAgIDD2QWBAIBD2QWAmYPZBYEZg9kFgJmDxAPFgYeB0NoZWNrZWRnHglGb3JlQ29sb3IKAB4EXyFTQgIEZGRkZAIBD2QWAgIBDw8WBB8BCgAfAgIEZGQCAw9kFgQCAw8PFgIeBFRleHRlZGQCCQ8PFgIeB1Zpc2libGVoZGQYAgUeX19Db250cm9sc1JlcXVpcmVQb3N0QmFja0tleV9fFgMFElJhZGlvQnV0dG9uX05vcm1hbAUQUmFkaW9CdXR0b25fRXhjZAUQUmFkaW9CdXR0b25fRXhjZAUPQ2FwdGNoYUNvbnRyb2wxDwUkZjg5OThkMzQtNDQyNC00YmU4LTgyNTEtMzRiODU4NmI3ZDAzZBGxoe0r1STBr4Ya7XiuAl8=', '__EVENTVALIDATION': '/wEdAAad3qEU9CvHTPX9XlRvVSA0fMmuxAJNAJcNkRRsVeJwwqKURZav/+YrVMqaWE2hvMxJwK4Ohf3nRgXHkFhQen1PRSciNdPYWmINCrip1wqw01PJCA0uL9aE2sjICZqv6Gp5WylOwUKR0ZkYuzJKq4N2', 'btnOK': '\\xe6\\x9f\\xa5\\xe8\\xa9\\xa2', 'TextBox_Stkno': '1101', 'RadioButton_Normal': 'RadioButton_Normal'}\n"
     ]
    }
   ],
   "source": [
    "import requests\n",
    "from bs4 import BeautifulSoup as bs\n",
    "payload = {\n",
    "'RadioButton_Normal':'RadioButton_Normal',\n",
    "'TextBox_Stkno':'1101',\n",
    "#'CaptchaControl1':'VQAFD',\n",
    "'btnOK':'查詢'       \n",
    "}\n",
    "rs = requests.session()\n",
    "res = rs.get('http://bsr.twse.com.tw/bshtm/bsMenu.aspx')\n",
    "soup = bs(res.text)\n",
    "for ele in soup.select('input[type==hidden]'):\n",
    "    payload[ele['name']] = ele['value']\n",
    "print payload"
   ]
  },
  {
   "cell_type": "code",
   "execution_count": 352,
   "metadata": {
    "collapsed": false
   },
   "outputs": [
    {
     "data": {
      "text/html": [
       "<div>\n",
       "<table border=\"1\" class=\"dataframe\">\n",
       "  <thead>\n",
       "    <tr style=\"text-align: right;\">\n",
       "      <th></th>\n",
       "      <th>序</th>\n",
       "      <th>證券商</th>\n",
       "      <th>成交單價</th>\n",
       "      <th>買進股數</th>\n",
       "      <th>賣出股數</th>\n",
       "    </tr>\n",
       "  </thead>\n",
       "  <tbody>\n",
       "    <tr>\n",
       "      <th>0</th>\n",
       "      <td>1</td>\n",
       "      <td>1020 合　　庫</td>\n",
       "      <td>28.9</td>\n",
       "      <td>7000</td>\n",
       "      <td>0</td>\n",
       "    </tr>\n",
       "    <tr>\n",
       "      <th>1</th>\n",
       "      <td>3</td>\n",
       "      <td>1020</td>\n",
       "      <td>29.0</td>\n",
       "      <td>2000</td>\n",
       "      <td>0</td>\n",
       "    </tr>\n",
       "    <tr>\n",
       "      <th>2</th>\n",
       "      <td>5</td>\n",
       "      <td>1020</td>\n",
       "      <td>29.3</td>\n",
       "      <td>1000</td>\n",
       "      <td>0</td>\n",
       "    </tr>\n",
       "    <tr>\n",
       "      <th>3</th>\n",
       "      <td>7</td>\n",
       "      <td>1023 合庫高雄</td>\n",
       "      <td>29.1</td>\n",
       "      <td>0</td>\n",
       "      <td>5000</td>\n",
       "    </tr>\n",
       "    <tr>\n",
       "      <th>4</th>\n",
       "      <td>9</td>\n",
       "      <td>1023</td>\n",
       "      <td>29.5</td>\n",
       "      <td>0</td>\n",
       "      <td>100</td>\n",
       "    </tr>\n",
       "  </tbody>\n",
       "</table>\n",
       "</div>"
      ],
      "text/plain": [
       "   序        證券商  成交單價  買進股數  賣出股數\n",
       "0  1  1020 合　　庫  28.9  7000     0\n",
       "1  3       1020  29.0  2000     0\n",
       "2  5       1020  29.3  1000     0\n",
       "3  7  1023 合庫高雄  29.1     0  5000\n",
       "4  9       1023  29.5     0   100"
      ]
     },
     "execution_count": 352,
     "metadata": {},
     "output_type": "execute_result"
    }
   ],
   "source": [
    "import requests\n",
    "res2 = rs.post('http://bsr.twse.com.tw/bshtm/bsMenu.aspx', data=payload)\n",
    "res3 = rs.get('http://bsr.twse.com.tw/bshtm/bsContent.aspx?v=t')\n",
    "soup = bs(res3.text)\n",
    "dfsall = []\n",
    "for tb in soup.select('#table2 table'):\n",
    "    #print tb\n",
    "    dfs = pd.read_html(tb.prettify('utf-8'), encoding = 'utf-8', header=0)\n",
    "    dfsall.append(dfs[0])\n",
    "stockdf = pd.concat(dfsall)\n",
    "stockdf.head()"
   ]
  },
  {
   "cell_type": "code",
   "execution_count": 354,
   "metadata": {
    "collapsed": true
   },
   "outputs": [],
   "source": [
    "import sqlite3 as lite\n",
    "with  lite.connect('finance2.sqlite') as con:\n",
    "    stockdf.to_sql('bshtm', con=con, if_exists=\"replace\") "
   ]
  },
  {
   "cell_type": "markdown",
   "metadata": {},
   "source": [
    "## 網站登入"
   ]
  },
  {
   "cell_type": "code",
   "execution_count": 360,
   "metadata": {
    "collapsed": false
   },
   "outputs": [],
   "source": [
    "import requests\n",
    "from bs4 import BeautifulSoup as bs \n",
    "\n",
    "payload = {\n",
    "'user[email]':'',\n",
    "'user[password]':'',\n",
    "'user[remember_me]':'1'    \n",
    "}\n",
    "rs = requests.session()\n",
    "res = rs.get('https://statementdog.com/users/sign_in')\n",
    "soup = bs(res.text)\n",
    "for ele in soup.select('input[type==hidden]'):\n",
    "    payload[ele['name']] = ele['value']\n",
    "#print payload\n",
    "res2 = rs.post('https://statementdog.com/users/sign_in', data = payload)\n",
    "res3 = rs.get('https://statementdog.com/users/login_success')\n",
    "#print res3.text"
   ]
  },
  {
   "cell_type": "code",
   "execution_count": 388,
   "metadata": {
    "collapsed": false
   },
   "outputs": [],
   "source": [
    "import requests\n",
    "from bs4 import BeautifulSoup as bs \n",
    "payload = {\n",
    "'stk_code':'1333',\n",
    "'auth_num':'UCD8J'    \n",
    "}\n",
    "res = requests.post('http://www.tpex.org.tw/web/stock/aftertrading/broker_trading/brokerBS.php?l=zh-tw', data= payload)\n",
    "res.encoding = 'utf-8'\n",
    "soup = bs(res.text)"
   ]
  },
  {
   "cell_type": "code",
   "execution_count": 389,
   "metadata": {
    "collapsed": false
   },
   "outputs": [
    {
     "data": {
      "text/html": [
       "<div>\n",
       "<table border=\"1\" class=\"dataframe\">\n",
       "  <thead>\n",
       "    <tr style=\"text-align: right;\">\n",
       "      <th></th>\n",
       "      <th>序號</th>\n",
       "      <th>券商</th>\n",
       "      <th>價格</th>\n",
       "      <th>買進股數</th>\n",
       "      <th>賣出股數</th>\n",
       "    </tr>\n",
       "  </thead>\n",
       "  <tbody>\n",
       "    <tr>\n",
       "      <th>0</th>\n",
       "      <td>1</td>\n",
       "      <td>116A 日盛木柵</td>\n",
       "      <td>2.81</td>\n",
       "      <td>10000</td>\n",
       "      <td>0</td>\n",
       "    </tr>\n",
       "    <tr>\n",
       "      <th>1</th>\n",
       "      <td>2</td>\n",
       "      <td>116A</td>\n",
       "      <td>2.83</td>\n",
       "      <td>10000</td>\n",
       "      <td>0</td>\n",
       "    </tr>\n",
       "    <tr>\n",
       "      <th>2</th>\n",
       "      <td>3</td>\n",
       "      <td>116C 日盛八德</td>\n",
       "      <td>2.80</td>\n",
       "      <td>0</td>\n",
       "      <td>4000</td>\n",
       "    </tr>\n",
       "    <tr>\n",
       "      <th>3</th>\n",
       "      <td>4</td>\n",
       "      <td>116Z 日盛中和</td>\n",
       "      <td>2.75</td>\n",
       "      <td>0</td>\n",
       "      <td>6000</td>\n",
       "    </tr>\n",
       "    <tr>\n",
       "      <th>4</th>\n",
       "      <td>5</td>\n",
       "      <td>5269 大慶台中</td>\n",
       "      <td>2.75</td>\n",
       "      <td>0</td>\n",
       "      <td>1000</td>\n",
       "    </tr>\n",
       "    <tr>\n",
       "      <th>5</th>\n",
       "      <td>6</td>\n",
       "      <td>538G 第一金中和</td>\n",
       "      <td>2.83</td>\n",
       "      <td>0</td>\n",
       "      <td>1000</td>\n",
       "    </tr>\n",
       "    <tr>\n",
       "      <th>6</th>\n",
       "      <td>7</td>\n",
       "      <td>7005 兆豐台中港</td>\n",
       "      <td>2.80</td>\n",
       "      <td>0</td>\n",
       "      <td>2000</td>\n",
       "    </tr>\n",
       "    <tr>\n",
       "      <th>7</th>\n",
       "      <td>8</td>\n",
       "      <td>913I 群益萬華</td>\n",
       "      <td>2.83</td>\n",
       "      <td>0</td>\n",
       "      <td>6000</td>\n",
       "    </tr>\n",
       "    <tr>\n",
       "      <th>8</th>\n",
       "      <td>9</td>\n",
       "      <td>9661 富邦新店</td>\n",
       "      <td>2.75</td>\n",
       "      <td>7000</td>\n",
       "      <td>0</td>\n",
       "    </tr>\n",
       "    <tr>\n",
       "      <th>9</th>\n",
       "      <td>10</td>\n",
       "      <td>981Q 元大太平</td>\n",
       "      <td>2.81</td>\n",
       "      <td>0</td>\n",
       "      <td>10000</td>\n",
       "    </tr>\n",
       "    <tr>\n",
       "      <th>10</th>\n",
       "      <td>11</td>\n",
       "      <td>981Q</td>\n",
       "      <td>2.83</td>\n",
       "      <td>0</td>\n",
       "      <td>3000</td>\n",
       "    </tr>\n",
       "    <tr>\n",
       "      <th>11</th>\n",
       "      <td>12</td>\n",
       "      <td>989C 元大板橋</td>\n",
       "      <td>2.80</td>\n",
       "      <td>6000</td>\n",
       "      <td>0</td>\n",
       "    </tr>\n",
       "  </tbody>\n",
       "</table>\n",
       "</div>"
      ],
      "text/plain": [
       "    序號          券商    價格   買進股數   賣出股數\n",
       "0    1   116A 日盛木柵  2.81  10000      0\n",
       "1    2        116A  2.83  10000      0\n",
       "2    3   116C 日盛八德  2.80      0   4000\n",
       "3    4   116Z 日盛中和  2.75      0   6000\n",
       "4    5   5269 大慶台中  2.75      0   1000\n",
       "5    6  538G 第一金中和  2.83      0   1000\n",
       "6    7  7005 兆豐台中港  2.80      0   2000\n",
       "7    8   913I 群益萬華  2.83      0   6000\n",
       "8    9   9661 富邦新店  2.75   7000      0\n",
       "9   10   981Q 元大太平  2.81      0  10000\n",
       "10  11        981Q  2.83      0   3000\n",
       "11  12   989C 元大板橋  2.80   6000      0"
      ]
     },
     "execution_count": 389,
     "metadata": {},
     "output_type": "execute_result"
    }
   ],
   "source": [
    "tb = soup.select('#data_01 table')[0]\n",
    "dfs = pd.read_html(tb.prettify('utf-8'), encoding = 'utf-8', header=0)\n",
    "dfs[0]\n"
   ]
  },
  {
   "cell_type": "code",
   "execution_count": 355,
   "metadata": {
    "collapsed": false
   },
   "outputs": [
    {
     "data": {
      "text/html": [
       "<div>\n",
       "<table border=\"1\" class=\"dataframe\">\n",
       "  <thead>\n",
       "    <tr style=\"text-align: right;\">\n",
       "      <th></th>\n",
       "      <th>a</th>\n",
       "      <th>b</th>\n",
       "      <th>c</th>\n",
       "      <th>d</th>\n",
       "      <th>e</th>\n",
       "      <th>f</th>\n",
       "      <th>g</th>\n",
       "      <th>h</th>\n",
       "      <th>i</th>\n",
       "      <th>j</th>\n",
       "      <th>k</th>\n",
       "    </tr>\n",
       "  </thead>\n",
       "  <tbody>\n",
       "    <tr>\n",
       "      <th>0</th>\n",
       "      <td>008201</td>\n",
       "      <td>標智上證50中國指數基金®</td>\n",
       "      <td>3549100</td>\n",
       "      <td>0</td>\n",
       "      <td>75.50</td>\n",
       "      <td>76.51</td>\n",
       "      <td>-1.33</td>\n",
       "      <td>76.51</td>\n",
       "      <td>20160513</td>\n",
       "      <td>15:00:00</td>\n",
       "      <td>2</td>\n",
       "    </tr>\n",
       "    <tr>\n",
       "      <th>1</th>\n",
       "      <td>0052</td>\n",
       "      <td>FB科技</td>\n",
       "      <td>8,000,000</td>\n",
       "      <td>0</td>\n",
       "      <td>34.41</td>\n",
       "      <td>34.23</td>\n",
       "      <td>0.53</td>\n",
       "      <td>34.68</td>\n",
       "      <td>20160513</td>\n",
       "      <td>13:35:00</td>\n",
       "      <td>1</td>\n",
       "    </tr>\n",
       "    <tr>\n",
       "      <th>2</th>\n",
       "      <td>0057</td>\n",
       "      <td>FB摩台</td>\n",
       "      <td>8,527,000</td>\n",
       "      <td>0</td>\n",
       "      <td>35.94</td>\n",
       "      <td>36.16</td>\n",
       "      <td>-0.61</td>\n",
       "      <td>36.39</td>\n",
       "      <td>20160513</td>\n",
       "      <td>13:35:00</td>\n",
       "      <td>1</td>\n",
       "    </tr>\n",
       "    <tr>\n",
       "      <th>3</th>\n",
       "      <td>0058</td>\n",
       "      <td>FB發達</td>\n",
       "      <td>5,196,000</td>\n",
       "      <td>0</td>\n",
       "      <td>34.60</td>\n",
       "      <td>34.60</td>\n",
       "      <td>-</td>\n",
       "      <td>34.67</td>\n",
       "      <td>20160513</td>\n",
       "      <td>13:35:00</td>\n",
       "      <td>1</td>\n",
       "    </tr>\n",
       "    <tr>\n",
       "      <th>4</th>\n",
       "      <td>0059</td>\n",
       "      <td>FB金融</td>\n",
       "      <td>6,973,000</td>\n",
       "      <td>0</td>\n",
       "      <td>28.29</td>\n",
       "      <td>28.19</td>\n",
       "      <td>0.35</td>\n",
       "      <td>28.32</td>\n",
       "      <td>20160513</td>\n",
       "      <td>13:35:00</td>\n",
       "      <td>1</td>\n",
       "    </tr>\n",
       "  </tbody>\n",
       "</table>\n",
       "</div>"
      ],
      "text/plain": [
       "        a              b          c  d      e      f      g      h         i  \\\n",
       "0  008201  標智上證50中國指數基金®    3549100  0  75.50  76.51  -1.33  76.51  20160513   \n",
       "1    0052           FB科技  8,000,000  0  34.41  34.23   0.53  34.68  20160513   \n",
       "2    0057           FB摩台  8,527,000  0  35.94  36.16  -0.61  36.39  20160513   \n",
       "3    0058           FB發達  5,196,000  0  34.60  34.60      -  34.67  20160513   \n",
       "4    0059           FB金融  6,973,000  0  28.29  28.19   0.35  28.32  20160513   \n",
       "\n",
       "          j  k  \n",
       "0  15:00:00  2  \n",
       "1  13:35:00  1  \n",
       "2  13:35:00  1  \n",
       "3  13:35:00  1  \n",
       "4  13:35:00  1  "
      ]
     },
     "execution_count": 355,
     "metadata": {},
     "output_type": "execute_result"
    }
   ],
   "source": [
    "import requests\n",
    "import json\n",
    "res = requests.get('http://mis.twse.com.tw/stock/data/all_etf.txt?_=1463295247230')\n",
    "jd = json.loads(res.text)\n",
    "ary = []\n",
    "for ele  in jd['a1']:\n",
    "    #print ele['msgArray']\n",
    "    if 'msgArray' in ele:\n",
    "        ary.extend(ele['msgArray'])\n",
    "#print ary\n",
    "df = pd.DataFrame(ary)\n",
    "df.head()"
   ]
  }
 ],
 "metadata": {
  "kernelspec": {
   "display_name": "Python 3",
   "language": "python",
   "name": "python3"
  },
  "language_info": {
   "codemirror_mode": {
    "name": "ipython",
    "version": 3
   },
   "file_extension": ".py",
   "mimetype": "text/x-python",
   "name": "python",
   "nbconvert_exporter": "python",
   "pygments_lexer": "ipython3",
   "version": "3.6.0"
  }
 },
 "nbformat": 4,
 "nbformat_minor": 0
}
