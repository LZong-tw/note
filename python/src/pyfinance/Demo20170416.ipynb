{
 "cells": [
  {
   "cell_type": "markdown",
   "metadata": {},
   "source": [
    "## Python Basic"
   ]
  },
  {
   "cell_type": "code",
   "execution_count": 1,
   "metadata": {
    "collapsed": false
   },
   "outputs": [
    {
     "data": {
      "text/plain": [
       "5"
      ]
     },
     "execution_count": 1,
     "metadata": {},
     "output_type": "execute_result"
    }
   ],
   "source": [
    "a = 3\n",
    "b = 2\n",
    "a + b"
   ]
  },
  {
   "cell_type": "code",
   "execution_count": 2,
   "metadata": {
    "collapsed": false
   },
   "outputs": [
    {
     "data": {
      "text/plain": [
       "23"
      ]
     },
     "execution_count": 2,
     "metadata": {},
     "output_type": "execute_result"
    }
   ],
   "source": [
    "a + 20"
   ]
  },
  {
   "cell_type": "markdown",
   "metadata": {},
   "source": [
    "## 安裝Requests"
   ]
  },
  {
   "cell_type": "code",
   "execution_count": null,
   "metadata": {
    "collapsed": true
   },
   "outputs": [],
   "source": [
    "! pip install requests"
   ]
  },
  {
   "cell_type": "markdown",
   "metadata": {},
   "source": [
    "## 撰寫第一隻爬蟲"
   ]
  },
  {
   "cell_type": "code",
   "execution_count": 5,
   "metadata": {
    "collapsed": true
   },
   "outputs": [],
   "source": [
    "import requests\n",
    "res = requests.get('http://www.twse.com.tw/ch/trading/fund/T86/T86.php')"
   ]
  },
  {
   "cell_type": "code",
   "execution_count": 8,
   "metadata": {
    "collapsed": false
   },
   "outputs": [],
   "source": [
    "#res.text"
   ]
  },
  {
   "cell_type": "markdown",
   "metadata": {},
   "source": [
    "## 查詢套件功能"
   ]
  },
  {
   "cell_type": "code",
   "execution_count": 10,
   "metadata": {
    "collapsed": false
   },
   "outputs": [
    {
     "data": {
      "text/plain": [
       "['ConnectTimeout',\n",
       " 'ConnectionError',\n",
       " 'DependencyWarning',\n",
       " 'FileModeWarning',\n",
       " 'HTTPError',\n",
       " 'NullHandler',\n",
       " 'PreparedRequest',\n",
       " 'ReadTimeout',\n",
       " 'Request',\n",
       " 'RequestException',\n",
       " 'Response',\n",
       " 'Session',\n",
       " 'Timeout',\n",
       " 'TooManyRedirects',\n",
       " 'URLRequired',\n",
       " '__author__',\n",
       " '__build__',\n",
       " '__builtins__',\n",
       " '__cached__',\n",
       " '__copyright__',\n",
       " '__doc__',\n",
       " '__file__',\n",
       " '__license__',\n",
       " '__loader__',\n",
       " '__name__',\n",
       " '__package__',\n",
       " '__path__',\n",
       " '__spec__',\n",
       " '__title__',\n",
       " '__version__',\n",
       " '_internal_utils',\n",
       " 'adapters',\n",
       " 'api',\n",
       " 'auth',\n",
       " 'certs',\n",
       " 'codes',\n",
       " 'compat',\n",
       " 'cookies',\n",
       " 'delete',\n",
       " 'exceptions',\n",
       " 'get',\n",
       " 'head',\n",
       " 'hooks',\n",
       " 'logging',\n",
       " 'models',\n",
       " 'options',\n",
       " 'packages',\n",
       " 'patch',\n",
       " 'post',\n",
       " 'put',\n",
       " 'pyopenssl',\n",
       " 'request',\n",
       " 'session',\n",
       " 'sessions',\n",
       " 'status_codes',\n",
       " 'structures',\n",
       " 'utils',\n",
       " 'warnings']"
      ]
     },
     "execution_count": 10,
     "metadata": {},
     "output_type": "execute_result"
    }
   ],
   "source": [
    "dir(requests)"
   ]
  },
  {
   "cell_type": "code",
   "execution_count": 12,
   "metadata": {
    "collapsed": false
   },
   "outputs": [
    {
     "name": "stdout",
     "output_type": "stream",
     "text": [
      "Help on package requests:\n",
      "\n",
      "NAME\n",
      "    requests\n",
      "\n",
      "DESCRIPTION\n",
      "    Requests HTTP library\n",
      "    ~~~~~~~~~~~~~~~~~~~~~\n",
      "    \n",
      "    Requests is an HTTP library, written in Python, for human beings. Basic GET\n",
      "    usage:\n",
      "    \n",
      "       >>> import requests\n",
      "       >>> r = requests.get('https://www.python.org')\n",
      "       >>> r.status_code\n",
      "       200\n",
      "       >>> 'Python is a programming language' in r.content\n",
      "       True\n",
      "    \n",
      "    ... or POST:\n",
      "    \n",
      "       >>> payload = dict(key1='value1', key2='value2')\n",
      "       >>> r = requests.post('http://httpbin.org/post', data=payload)\n",
      "       >>> print(r.text)\n",
      "       {\n",
      "         ...\n",
      "         \"form\": {\n",
      "           \"key2\": \"value2\",\n",
      "           \"key1\": \"value1\"\n",
      "         },\n",
      "         ...\n",
      "       }\n",
      "    \n",
      "    The other HTTP methods are supported - see `requests.api`. Full documentation\n",
      "    is at <http://python-requests.org>.\n",
      "    \n",
      "    :copyright: (c) 2016 by Kenneth Reitz.\n",
      "    :license: Apache 2.0, see LICENSE for more details.\n",
      "\n",
      "PACKAGE CONTENTS\n",
      "    _internal_utils\n",
      "    adapters\n",
      "    api\n",
      "    auth\n",
      "    certs\n",
      "    compat\n",
      "    cookies\n",
      "    exceptions\n",
      "    hooks\n",
      "    models\n",
      "    packages (package)\n",
      "    sessions\n",
      "    status_codes\n",
      "    structures\n",
      "    utils\n",
      "\n",
      "SUBMODULES\n",
      "    pyopenssl\n",
      "\n",
      "DATA\n",
      "    __build__ = 135684\n",
      "    __copyright__ = 'Copyright 2016 Kenneth Reitz'\n",
      "    __license__ = 'Apache 2.0'\n",
      "    __title__ = 'requests'\n",
      "    codes = <lookup 'status_codes'>\n",
      "\n",
      "VERSION\n",
      "    2.12.4\n",
      "\n",
      "AUTHOR\n",
      "    Kenneth Reitz\n",
      "\n",
      "FILE\n",
      "    c:\\programdata\\anaconda3\\lib\\site-packages\\requests\\__init__.py\n",
      "\n",
      "\n"
     ]
    }
   ],
   "source": [
    "help(requests)"
   ]
  },
  {
   "cell_type": "code",
   "execution_count": 13,
   "metadata": {
    "collapsed": true
   },
   "outputs": [],
   "source": [
    "?requests.get"
   ]
  },
  {
   "cell_type": "markdown",
   "metadata": {},
   "source": [
    "## 使用POST存取其他天的三大法人買賣超資訊"
   ]
  },
  {
   "cell_type": "code",
   "execution_count": 15,
   "metadata": {
    "collapsed": true
   },
   "outputs": [],
   "source": [
    "import requests\n",
    "url = 'http://www.twse.com.tw/ch/trading/fund/T86/T86.php'\n",
    "payload = {\n",
    "'qdate':'106/04/13',\n",
    "'select2':'24',\n",
    "'sorting':'by_issue'    \n",
    "}\n",
    "res = requests.post(url, data = payload)"
   ]
  },
  {
   "cell_type": "code",
   "execution_count": 18,
   "metadata": {
    "collapsed": false
   },
   "outputs": [],
   "source": [
    "#res.text"
   ]
  },
  {
   "cell_type": "code",
   "execution_count": 20,
   "metadata": {
    "collapsed": false
   },
   "outputs": [
    {
     "data": {
      "text/plain": [
       "{'qdate': '106/04/13', 'select2': '24', 'sorting': 'by_issue'}"
      ]
     },
     "execution_count": 20,
     "metadata": {},
     "output_type": "execute_result"
    }
   ],
   "source": [
    "payload"
   ]
  },
  {
   "cell_type": "code",
   "execution_count": 22,
   "metadata": {
    "collapsed": false
   },
   "outputs": [
    {
     "data": {
      "text/plain": [
       "'106/04/13'"
      ]
     },
     "execution_count": 22,
     "metadata": {},
     "output_type": "execute_result"
    }
   ],
   "source": [
    "payload['qdate']"
   ]
  },
  {
   "cell_type": "code",
   "execution_count": 23,
   "metadata": {
    "collapsed": true
   },
   "outputs": [],
   "source": [
    "payload['qdate'] = '106/04/12'"
   ]
  },
  {
   "cell_type": "code",
   "execution_count": 24,
   "metadata": {
    "collapsed": false
   },
   "outputs": [
    {
     "data": {
      "text/plain": [
       "{'qdate': '106/04/12', 'select2': '24', 'sorting': 'by_issue'}"
      ]
     },
     "execution_count": 24,
     "metadata": {},
     "output_type": "execute_result"
    }
   ],
   "source": [
    "payload"
   ]
  },
  {
   "cell_type": "code",
   "execution_count": 30,
   "metadata": {
    "collapsed": false
   },
   "outputs": [
    {
     "data": {
      "text/plain": [
       "requests.models.Response"
      ]
     },
     "execution_count": 30,
     "metadata": {},
     "output_type": "execute_result"
    }
   ],
   "source": [
    "res = requests.post(url, data = payload)\n",
    "type(res)\n",
    "#res.text"
   ]
  },
  {
   "cell_type": "markdown",
   "metadata": {},
   "source": [
    "## 使用BeautifulSoup4"
   ]
  },
  {
   "cell_type": "code",
   "execution_count": 27,
   "metadata": {
    "collapsed": true
   },
   "outputs": [],
   "source": [
    "#import bs4\n",
    "#bs4.BeautifulSoup"
   ]
  },
  {
   "cell_type": "code",
   "execution_count": 28,
   "metadata": {
    "collapsed": true
   },
   "outputs": [],
   "source": [
    "from bs4 import BeautifulSoup\n",
    "html_sample = ''' \n",
    "<html> \n",
    " <body> \n",
    " <h1 id=\"title\">Hello World</h1> \n",
    " <a href=\"#\" class=\"link\">This is link1</a> \n",
    " <a href=\"# link2\" class=\"link\">This is link2</a> \n",
    " </body> \n",
    " </html>'''\n",
    "\n",
    "soup = BeautifulSoup(html_sample, 'html.parser')"
   ]
  },
  {
   "cell_type": "code",
   "execution_count": 31,
   "metadata": {
    "collapsed": false
   },
   "outputs": [
    {
     "data": {
      "text/plain": [
       "'\\n\\n\\nHello World\\nThis is link1\\nThis is link2\\n\\n'"
      ]
     },
     "execution_count": 31,
     "metadata": {},
     "output_type": "execute_result"
    }
   ],
   "source": [
    "soup.text"
   ]
  },
  {
   "cell_type": "code",
   "execution_count": 34,
   "metadata": {
    "collapsed": false
   },
   "outputs": [
    {
     "data": {
      "text/plain": [
       "bs4.BeautifulSoup"
      ]
     },
     "execution_count": 34,
     "metadata": {},
     "output_type": "execute_result"
    }
   ],
   "source": [
    "type(soup)"
   ]
  },
  {
   "cell_type": "code",
   "execution_count": 36,
   "metadata": {
    "collapsed": false
   },
   "outputs": [
    {
     "data": {
      "text/plain": [
       "[<a class=\"link\" href=\"#\">This is link1</a>,\n",
       " <a class=\"link\" href=\"# link2\">This is link2</a>]"
      ]
     },
     "execution_count": 36,
     "metadata": {},
     "output_type": "execute_result"
    }
   ],
   "source": [
    "soup.select('a')"
   ]
  },
  {
   "cell_type": "code",
   "execution_count": 37,
   "metadata": {
    "collapsed": false
   },
   "outputs": [
    {
     "data": {
      "text/plain": [
       "[<a class=\"link\" href=\"#\">This is link1</a>,\n",
       " <a class=\"link\" href=\"# link2\">This is link2</a>]"
      ]
     },
     "execution_count": 37,
     "metadata": {},
     "output_type": "execute_result"
    }
   ],
   "source": [
    "link = soup.select('a')\n",
    "link"
   ]
  },
  {
   "cell_type": "code",
   "execution_count": 39,
   "metadata": {
    "collapsed": false
   },
   "outputs": [
    {
     "data": {
      "text/plain": [
       "<a class=\"link\" href=\"#\">This is link1</a>"
      ]
     },
     "execution_count": 39,
     "metadata": {},
     "output_type": "execute_result"
    }
   ],
   "source": [
    "link[0]"
   ]
  },
  {
   "cell_type": "code",
   "execution_count": 41,
   "metadata": {
    "collapsed": false
   },
   "outputs": [
    {
     "data": {
      "text/plain": [
       "'This is link1'"
      ]
     },
     "execution_count": 41,
     "metadata": {},
     "output_type": "execute_result"
    }
   ],
   "source": [
    "link[0].text"
   ]
  },
  {
   "cell_type": "code",
   "execution_count": 43,
   "metadata": {
    "collapsed": false
   },
   "outputs": [
    {
     "data": {
      "text/plain": [
       "<a class=\"link\" href=\"# link2\">This is link2</a>"
      ]
     },
     "execution_count": 43,
     "metadata": {},
     "output_type": "execute_result"
    }
   ],
   "source": [
    "link[1]"
   ]
  },
  {
   "cell_type": "code",
   "execution_count": 44,
   "metadata": {
    "collapsed": false
   },
   "outputs": [
    {
     "data": {
      "text/plain": [
       "'This is link2'"
      ]
     },
     "execution_count": 44,
     "metadata": {},
     "output_type": "execute_result"
    }
   ],
   "source": [
    "link[1].text"
   ]
  },
  {
   "cell_type": "code",
   "execution_count": 46,
   "metadata": {
    "collapsed": false
   },
   "outputs": [
    {
     "data": {
      "text/plain": [
       "[<h1 id=\"title\">Hello World</h1>]"
      ]
     },
     "execution_count": 46,
     "metadata": {},
     "output_type": "execute_result"
    }
   ],
   "source": [
    "title = soup.select('h1')\n",
    "title"
   ]
  },
  {
   "cell_type": "code",
   "execution_count": 48,
   "metadata": {
    "collapsed": false
   },
   "outputs": [
    {
     "data": {
      "text/plain": [
       "<h1 id=\"title\">Hello World</h1>"
      ]
     },
     "execution_count": 48,
     "metadata": {},
     "output_type": "execute_result"
    }
   ],
   "source": [
    "title[0]"
   ]
  },
  {
   "cell_type": "code",
   "execution_count": 50,
   "metadata": {
    "collapsed": false
   },
   "outputs": [
    {
     "data": {
      "text/plain": [
       "'Hello World'"
      ]
     },
     "execution_count": 50,
     "metadata": {},
     "output_type": "execute_result"
    }
   ],
   "source": [
    "title[0].text"
   ]
  },
  {
   "cell_type": "markdown",
   "metadata": {},
   "source": [
    "## 根據CSS 屬性抓取資料"
   ]
  },
  {
   "cell_type": "code",
   "execution_count": 52,
   "metadata": {
    "collapsed": false
   },
   "outputs": [
    {
     "data": {
      "text/plain": [
       "[<h1 id=\"title\">Hello World</h1>]"
      ]
     },
     "execution_count": 52,
     "metadata": {},
     "output_type": "execute_result"
    }
   ],
   "source": [
    "# id = \"title\", ID => #\n",
    "soup.select('#title')"
   ]
  },
  {
   "cell_type": "code",
   "execution_count": 54,
   "metadata": {
    "collapsed": false
   },
   "outputs": [
    {
     "data": {
      "text/plain": [
       "'Hello World'"
      ]
     },
     "execution_count": 54,
     "metadata": {},
     "output_type": "execute_result"
    }
   ],
   "source": [
    "soup.select('#title')[0].text"
   ]
  },
  {
   "cell_type": "code",
   "execution_count": 56,
   "metadata": {
    "collapsed": false
   },
   "outputs": [
    {
     "data": {
      "text/plain": [
       "[<a class=\"link\" href=\"#\">This is link1</a>,\n",
       " <a class=\"link\" href=\"# link2\">This is link2</a>]"
      ]
     },
     "execution_count": 56,
     "metadata": {},
     "output_type": "execute_result"
    }
   ],
   "source": [
    "# class=\"link\", class => .\n",
    "soup.select('.link')"
   ]
  },
  {
   "cell_type": "code",
   "execution_count": 60,
   "metadata": {
    "collapsed": false
   },
   "outputs": [
    {
     "name": "stdout",
     "output_type": "stream",
     "text": [
      "#\n",
      "# link2\n"
     ]
    }
   ],
   "source": [
    "for qoo in soup.select('.link'):\n",
    "    #print(qoo)\n",
    "    #print(qoo.text)\n",
    "    print(qoo['href'])"
   ]
  },
  {
   "cell_type": "markdown",
   "metadata": {},
   "source": [
    "## 抓取買賣交易表格資料"
   ]
  },
  {
   "cell_type": "code",
   "execution_count": 61,
   "metadata": {
    "collapsed": true
   },
   "outputs": [],
   "source": [
    "import requests\n",
    "\n",
    "url = 'http://www.twse.com.tw/ch/trading/fund/T86/T86.php'\n",
    "payload = {\n",
    "'qdate':'106/04/13',\n",
    "'select2':'24',\n",
    "'sorting':'by_issue'\n",
    "}\n",
    "res = requests.post(url , data = payload )"
   ]
  },
  {
   "cell_type": "code",
   "execution_count": 63,
   "metadata": {
    "collapsed": false
   },
   "outputs": [],
   "source": [
    "from bs4 import BeautifulSoup \n",
    "soup = BeautifulSoup(res.text, 'html.parser')"
   ]
  },
  {
   "cell_type": "code",
   "execution_count": 68,
   "metadata": {
    "collapsed": false
   },
   "outputs": [],
   "source": [
    "tb = soup.select('#tbl-sortable')\n"
   ]
  },
  {
   "cell_type": "code",
   "execution_count": 70,
   "metadata": {
    "collapsed": false
   },
   "outputs": [
    {
     "name": "stdout",
     "output_type": "stream",
     "text": [
      "證券代號\n",
      "證券名稱\n",
      "外資買進股數\n",
      "外資賣出股數\n",
      "外資買賣超股數\n",
      "投信買進股數\n",
      "投信賣出股數\n",
      "投信買賣超股數\n",
      "自營商買賣超股數\n",
      "自營商買進股數(自行買賣)\n",
      "自營商賣出股數(自行買賣)\n",
      "自營商買賣超股數(自行買賣)\n",
      "自營商買進股數(避險)\n",
      "自營商賣出股數(避險)\n",
      "自營商買賣超股數(避險)\n",
      "三大法人買賣超股數\n"
     ]
    }
   ],
   "source": [
    "for th in tb[0].select('th'):\n",
    "    print(th.text)"
   ]
  },
  {
   "cell_type": "markdown",
   "metadata": {},
   "source": [
    "## 使用Pandas 整理資料"
   ]
  },
  {
   "cell_type": "code",
   "execution_count": 72,
   "metadata": {
    "collapsed": true
   },
   "outputs": [],
   "source": [
    "table = \"\"\"\n",
    "<table> \n",
    "    <thead> \n",
    "        <tr> \n",
    "        <th>Month</th>  \n",
    "        <th>Savings</th> \n",
    "        </tr> \n",
    "    </thead> \n",
    "    <tbody> \n",
    "        <tr> <td>January</td> <td>$100</td></tr> \n",
    "        <tr> <td>February</td> <td>$80</td></tr> \n",
    "    </tbody> \n",
    "    <tfoot> \n",
    "        <tr> <td>Sum</td> <td>$180</td> </tr> \n",
    "    </tfoot> \n",
    "</table>\n",
    "\"\"\"\n"
   ]
  },
  {
   "cell_type": "markdown",
   "metadata": {},
   "source": [
    "### 使用BeautifulSoup (不建議)"
   ]
  },
  {
   "cell_type": "code",
   "execution_count": 74,
   "metadata": {
    "collapsed": false
   },
   "outputs": [],
   "source": [
    "from bs4 import BeautifulSoup\n",
    "soup = BeautifulSoup(table, 'html.parser')"
   ]
  },
  {
   "cell_type": "code",
   "execution_count": 77,
   "metadata": {
    "collapsed": false
   },
   "outputs": [
    {
     "data": {
      "text/plain": [
       "['Month', 'Savings']"
      ]
     },
     "execution_count": 77,
     "metadata": {},
     "output_type": "execute_result"
    }
   ],
   "source": [
    "th_ary = []\n",
    "for th in soup.select('th'):\n",
    "    th_ary.append(th.text)\n",
    "th_ary"
   ]
  },
  {
   "cell_type": "code",
   "execution_count": 80,
   "metadata": {
    "collapsed": false
   },
   "outputs": [],
   "source": [
    "tr_ary = []\n",
    "for tr in soup.select('tbody tr'):\n",
    "    td_ary = []\n",
    "    for td in tr.select('td'):\n",
    "        td_ary.append(td.text)\n",
    "    tr_ary.append(td_ary)"
   ]
  },
  {
   "cell_type": "code",
   "execution_count": 81,
   "metadata": {
    "collapsed": false
   },
   "outputs": [
    {
     "data": {
      "text/plain": [
       "[['January', '$100'], ['February', '$80']]"
      ]
     },
     "execution_count": 81,
     "metadata": {},
     "output_type": "execute_result"
    }
   ],
   "source": [
    "tr_ary"
   ]
  },
  {
   "cell_type": "markdown",
   "metadata": {},
   "source": [
    "### 使用Pandas 整理 (建議的方法)"
   ]
  },
  {
   "cell_type": "code",
   "execution_count": null,
   "metadata": {
    "collapsed": true
   },
   "outputs": [],
   "source": [
    "! pip install pandas"
   ]
  },
  {
   "cell_type": "code",
   "execution_count": 85,
   "metadata": {
    "collapsed": false
   },
   "outputs": [
    {
     "data": {
      "text/html": [
       "<div>\n",
       "<table border=\"1\" class=\"dataframe\">\n",
       "  <thead>\n",
       "    <tr style=\"text-align: right;\">\n",
       "      <th></th>\n",
       "      <th>Month</th>\n",
       "      <th>Savings</th>\n",
       "    </tr>\n",
       "  </thead>\n",
       "  <tbody>\n",
       "    <tr>\n",
       "      <th>0</th>\n",
       "      <td>January</td>\n",
       "      <td>$100</td>\n",
       "    </tr>\n",
       "    <tr>\n",
       "      <th>1</th>\n",
       "      <td>February</td>\n",
       "      <td>$80</td>\n",
       "    </tr>\n",
       "    <tr>\n",
       "      <th>2</th>\n",
       "      <td>Sum</td>\n",
       "      <td>$180</td>\n",
       "    </tr>\n",
       "  </tbody>\n",
       "</table>\n",
       "</div>"
      ],
      "text/plain": [
       "      Month Savings\n",
       "0   January    $100\n",
       "1  February     $80\n",
       "2       Sum    $180"
      ]
     },
     "execution_count": 85,
     "metadata": {},
     "output_type": "execute_result"
    }
   ],
   "source": [
    "import pandas\n",
    "dfs = pandas.read_html(table)\n",
    "dfs[0]"
   ]
  },
  {
   "cell_type": "markdown",
   "metadata": {},
   "source": [
    "## 整理買賣交易表格資料"
   ]
  },
  {
   "cell_type": "code",
   "execution_count": 39,
   "metadata": {
    "collapsed": false
   },
   "outputs": [
    {
     "name": "stdout",
     "output_type": "stream",
     "text": [
      "utf-8\n"
     ]
    }
   ],
   "source": [
    "import requests\n",
    "from bs4 import BeautifulSoup\n",
    "\n",
    "url = 'http://www.twse.com.tw/ch/trading/fund/T86/T86.php'\n",
    "payload = {\n",
    "'qdate':'106/04/13',\n",
    "'select2':'24',\n",
    "'sorting':'by_issue'\n",
    "}\n",
    "res = requests.post(url , data = payload )\n",
    "res.encoding  = 'utf-8'\n",
    "print(res.encoding )\n",
    "soup = BeautifulSoup(res.text, 'html.parser')"
   ]
  },
  {
   "cell_type": "code",
   "execution_count": 40,
   "metadata": {
    "collapsed": true
   },
   "outputs": [],
   "source": [
    "tb = soup.select('#tbl-sortable')"
   ]
  },
  {
   "cell_type": "code",
   "execution_count": 92,
   "metadata": {
    "collapsed": false
   },
   "outputs": [
    {
     "data": {
      "text/plain": [
       "list"
      ]
     },
     "execution_count": 92,
     "metadata": {},
     "output_type": "execute_result"
    }
   ],
   "source": [
    "type(tb)"
   ]
  },
  {
   "cell_type": "code",
   "execution_count": 95,
   "metadata": {
    "collapsed": false
   },
   "outputs": [
    {
     "data": {
      "text/plain": [
       "bs4.element.Tag"
      ]
     },
     "execution_count": 95,
     "metadata": {},
     "output_type": "execute_result"
    }
   ],
   "source": [
    "type(tb[0])"
   ]
  },
  {
   "cell_type": "code",
   "execution_count": 41,
   "metadata": {
    "collapsed": false
   },
   "outputs": [
    {
     "data": {
      "text/html": [
       "<div>\n",
       "<table border=\"1\" class=\"dataframe\">\n",
       "  <thead>\n",
       "    <tr style=\"text-align: right;\">\n",
       "      <th></th>\n",
       "      <th>證券\n",
       "    \n",
       "     代號</th>\n",
       "      <th>證券\n",
       "    \n",
       "     名稱</th>\n",
       "      <th>外資\n",
       "    \n",
       "     買進股數</th>\n",
       "      <th>外資\n",
       "    \n",
       "     賣出股數</th>\n",
       "      <th>外資\n",
       "    \n",
       "     買賣超股數</th>\n",
       "      <th>投信\n",
       "    \n",
       "     買進股數</th>\n",
       "      <th>投信\n",
       "    \n",
       "     賣出股數</th>\n",
       "      <th>投信\n",
       "    \n",
       "     買賣超股數</th>\n",
       "      <th>自營商\n",
       "    \n",
       "     買賣超股數</th>\n",
       "      <th>自營商\n",
       "    \n",
       "     買進股數\n",
       "     \n",
       "      (自行買賣)</th>\n",
       "      <th>自營商\n",
       "    \n",
       "     賣出股數\n",
       "     \n",
       "      (自行買賣)</th>\n",
       "      <th>自營商\n",
       "    \n",
       "     買賣超股數\n",
       "     \n",
       "      (自行買賣)</th>\n",
       "      <th>自營商\n",
       "    \n",
       "     買進股數\n",
       "     \n",
       "      (避險)</th>\n",
       "      <th>自營商\n",
       "    \n",
       "     賣出股數\n",
       "     \n",
       "      (避險)</th>\n",
       "      <th>自營商\n",
       "    \n",
       "     買賣超股數\n",
       "     \n",
       "      (避險)</th>\n",
       "      <th>三大法人\n",
       "    \n",
       "     買賣超股數</th>\n",
       "    </tr>\n",
       "  </thead>\n",
       "  <tbody>\n",
       "    <tr>\n",
       "      <th>0</th>\n",
       "      <td>2303</td>\n",
       "      <td>聯電</td>\n",
       "      <td>10754000</td>\n",
       "      <td>5205000</td>\n",
       "      <td>5549000</td>\n",
       "      <td>0</td>\n",
       "      <td>2000</td>\n",
       "      <td>-2000</td>\n",
       "      <td>-601000</td>\n",
       "      <td>0</td>\n",
       "      <td>900000</td>\n",
       "      <td>-900000</td>\n",
       "      <td>390000</td>\n",
       "      <td>91000</td>\n",
       "      <td>299000</td>\n",
       "      <td>4946000</td>\n",
       "    </tr>\n",
       "    <tr>\n",
       "      <th>1</th>\n",
       "      <td>2408</td>\n",
       "      <td>南亞科</td>\n",
       "      <td>1796514</td>\n",
       "      <td>818000</td>\n",
       "      <td>978514</td>\n",
       "      <td>0</td>\n",
       "      <td>0</td>\n",
       "      <td>0</td>\n",
       "      <td>3168000</td>\n",
       "      <td>1172000</td>\n",
       "      <td>303000</td>\n",
       "      <td>869000</td>\n",
       "      <td>2689000</td>\n",
       "      <td>390000</td>\n",
       "      <td>2299000</td>\n",
       "      <td>4146514</td>\n",
       "    </tr>\n",
       "    <tr>\n",
       "      <th>2</th>\n",
       "      <td>2330</td>\n",
       "      <td>台積電</td>\n",
       "      <td>8737954</td>\n",
       "      <td>7580701</td>\n",
       "      <td>1157253</td>\n",
       "      <td>202000</td>\n",
       "      <td>167000</td>\n",
       "      <td>35000</td>\n",
       "      <td>-253000</td>\n",
       "      <td>171000</td>\n",
       "      <td>905000</td>\n",
       "      <td>-734000</td>\n",
       "      <td>624000</td>\n",
       "      <td>143000</td>\n",
       "      <td>481000</td>\n",
       "      <td>939253</td>\n",
       "    </tr>\n",
       "    <tr>\n",
       "      <th>3</th>\n",
       "      <td>3545</td>\n",
       "      <td>敦泰</td>\n",
       "      <td>910000</td>\n",
       "      <td>161200</td>\n",
       "      <td>748800</td>\n",
       "      <td>0</td>\n",
       "      <td>0</td>\n",
       "      <td>0</td>\n",
       "      <td>149000</td>\n",
       "      <td>173000</td>\n",
       "      <td>1000</td>\n",
       "      <td>172000</td>\n",
       "      <td>36000</td>\n",
       "      <td>59000</td>\n",
       "      <td>-23000</td>\n",
       "      <td>897800</td>\n",
       "    </tr>\n",
       "    <tr>\n",
       "      <th>4</th>\n",
       "      <td>8110</td>\n",
       "      <td>華東</td>\n",
       "      <td>1331000</td>\n",
       "      <td>597000</td>\n",
       "      <td>734000</td>\n",
       "      <td>0</td>\n",
       "      <td>0</td>\n",
       "      <td>0</td>\n",
       "      <td>129000</td>\n",
       "      <td>164000</td>\n",
       "      <td>35000</td>\n",
       "      <td>129000</td>\n",
       "      <td>0</td>\n",
       "      <td>0</td>\n",
       "      <td>0</td>\n",
       "      <td>863000</td>\n",
       "    </tr>\n",
       "  </tbody>\n",
       "</table>\n",
       "</div>"
      ],
      "text/plain": [
       "   \\n    證券\\n    \\n     代號\\n    \\n    \\n    證券\\n    \\n     名稱\\n    \\n     \\\n",
       "0                                2303                                 聯電   \n",
       "1                                2408                                南亞科   \n",
       "2                                2330                                台積電   \n",
       "3                                3545                                 敦泰   \n",
       "4                                8110                                 華東   \n",
       "\n",
       "   \\n    外資\\n    \\n     買進股數\\n    \\n     \\n    外資\\n    \\n     賣出股數\\n    \\n     \\\n",
       "0                              10754000                               5205000   \n",
       "1                               1796514                                818000   \n",
       "2                               8737954                               7580701   \n",
       "3                                910000                                161200   \n",
       "4                               1331000                                597000   \n",
       "\n",
       "   \\n    外資\\n    \\n     買賣超股數\\n    \\n     \\\n",
       "0                                5549000   \n",
       "1                                 978514   \n",
       "2                                1157253   \n",
       "3                                 748800   \n",
       "4                                 734000   \n",
       "\n",
       "   \\n    投信\\n    \\n     買進股數\\n    \\n     \\n    投信\\n    \\n     賣出股數\\n    \\n     \\\n",
       "0                                     0                                  2000   \n",
       "1                                     0                                     0   \n",
       "2                                202000                                167000   \n",
       "3                                     0                                     0   \n",
       "4                                     0                                     0   \n",
       "\n",
       "   \\n    投信\\n    \\n     買賣超股數\\n    \\n     \\\n",
       "0                                  -2000   \n",
       "1                                      0   \n",
       "2                                  35000   \n",
       "3                                      0   \n",
       "4                                      0   \n",
       "\n",
       "   \\n    自營商\\n    \\n     買賣超股數\\n    \\n     \\\n",
       "0                                 -601000   \n",
       "1                                 3168000   \n",
       "2                                 -253000   \n",
       "3                                  149000   \n",
       "4                                  129000   \n",
       "\n",
       "   \\n    自營商\\n    \\n     買進股數\\n     \\n      (自行買賣)\\n     \\n    \\n     \\\n",
       "0                                                  0                   \n",
       "1                                            1172000                   \n",
       "2                                             171000                   \n",
       "3                                             173000                   \n",
       "4                                             164000                   \n",
       "\n",
       "   \\n    自營商\\n    \\n     賣出股數\\n     \\n      (自行買賣)\\n     \\n    \\n     \\\n",
       "0                                             900000                   \n",
       "1                                             303000                   \n",
       "2                                             905000                   \n",
       "3                                               1000                   \n",
       "4                                              35000                   \n",
       "\n",
       "   \\n    自營商\\n    \\n     買賣超股數\\n     \\n      (自行買賣)\\n     \\n    \\n     \\\n",
       "0                                            -900000                    \n",
       "1                                             869000                    \n",
       "2                                            -734000                    \n",
       "3                                             172000                    \n",
       "4                                             129000                    \n",
       "\n",
       "   \\n    自營商\\n    \\n     買進股數\\n     \\n      (避險)\\n     \\n    \\n     \\\n",
       "0                                             390000                 \n",
       "1                                            2689000                 \n",
       "2                                             624000                 \n",
       "3                                              36000                 \n",
       "4                                                  0                 \n",
       "\n",
       "   \\n    自營商\\n    \\n     賣出股數\\n     \\n      (避險)\\n     \\n    \\n     \\\n",
       "0                                              91000                 \n",
       "1                                             390000                 \n",
       "2                                             143000                 \n",
       "3                                              59000                 \n",
       "4                                                  0                 \n",
       "\n",
       "   \\n    自營商\\n    \\n     買賣超股數\\n     \\n      (避險)\\n     \\n    \\n     \\\n",
       "0                                             299000                  \n",
       "1                                            2299000                  \n",
       "2                                             481000                  \n",
       "3                                             -23000                  \n",
       "4                                                  0                  \n",
       "\n",
       "   \\n    三大法人\\n    \\n     買賣超股數\\n    \\n     \n",
       "0                                  4946000  \n",
       "1                                  4146514  \n",
       "2                                   939253  \n",
       "3                                   897800  \n",
       "4                                   863000  "
      ]
     },
     "execution_count": 41,
     "metadata": {},
     "output_type": "execute_result"
    }
   ],
   "source": [
    "import pandas\n",
    "dfs = pandas.read_html(tb[0].prettify('utf-8'))\n",
    "dfs[0].head()"
   ]
  },
  {
   "cell_type": "markdown",
   "metadata": {},
   "source": [
    "## Install html5lib"
   ]
  },
  {
   "cell_type": "code",
   "execution_count": null,
   "metadata": {
    "collapsed": true
   },
   "outputs": [],
   "source": [
    "! pip install html5lib==1.0b3\n"
   ]
  },
  {
   "cell_type": "markdown",
   "metadata": {},
   "source": [
    "## 使用Pandas 讀取 csv, clipboard"
   ]
  },
  {
   "cell_type": "code",
   "execution_count": 98,
   "metadata": {
    "collapsed": false
   },
   "outputs": [
    {
     "data": {
      "text/html": [
       "<div>\n",
       "<table border=\"1\" class=\"dataframe\">\n",
       "  <thead>\n",
       "    <tr style=\"text-align: right;\">\n",
       "      <th></th>\n",
       "      <th>確定病名</th>\n",
       "      <th>診斷年份</th>\n",
       "      <th>診斷週別</th>\n",
       "      <th>縣市</th>\n",
       "      <th>性別</th>\n",
       "      <th>是否為境外移入</th>\n",
       "      <th>年齡層</th>\n",
       "      <th>確定病例數</th>\n",
       "    </tr>\n",
       "  </thead>\n",
       "  <tbody>\n",
       "    <tr>\n",
       "      <th>0</th>\n",
       "      <td>梅毒</td>\n",
       "      <td>2003</td>\n",
       "      <td>1</td>\n",
       "      <td>台北市</td>\n",
       "      <td>M</td>\n",
       "      <td>否</td>\n",
       "      <td>55-59</td>\n",
       "      <td>1</td>\n",
       "    </tr>\n",
       "    <tr>\n",
       "      <th>1</th>\n",
       "      <td>梅毒</td>\n",
       "      <td>2003</td>\n",
       "      <td>1</td>\n",
       "      <td>台南市</td>\n",
       "      <td>F</td>\n",
       "      <td>否</td>\n",
       "      <td>55-59</td>\n",
       "      <td>1</td>\n",
       "    </tr>\n",
       "    <tr>\n",
       "      <th>2</th>\n",
       "      <td>梅毒</td>\n",
       "      <td>2003</td>\n",
       "      <td>1</td>\n",
       "      <td>屏東縣</td>\n",
       "      <td>M</td>\n",
       "      <td>否</td>\n",
       "      <td>35-39</td>\n",
       "      <td>1</td>\n",
       "    </tr>\n",
       "    <tr>\n",
       "      <th>3</th>\n",
       "      <td>梅毒</td>\n",
       "      <td>2003</td>\n",
       "      <td>1</td>\n",
       "      <td>高雄市</td>\n",
       "      <td>M</td>\n",
       "      <td>否</td>\n",
       "      <td>60-64</td>\n",
       "      <td>1</td>\n",
       "    </tr>\n",
       "    <tr>\n",
       "      <th>4</th>\n",
       "      <td>梅毒</td>\n",
       "      <td>2003</td>\n",
       "      <td>10</td>\n",
       "      <td>台北市</td>\n",
       "      <td>F</td>\n",
       "      <td>否</td>\n",
       "      <td>20-24</td>\n",
       "      <td>1</td>\n",
       "    </tr>\n",
       "    <tr>\n",
       "      <th>5</th>\n",
       "      <td>梅毒</td>\n",
       "      <td>2003</td>\n",
       "      <td>10</td>\n",
       "      <td>台北市</td>\n",
       "      <td>M</td>\n",
       "      <td>否</td>\n",
       "      <td>25-29</td>\n",
       "      <td>2</td>\n",
       "    </tr>\n",
       "  </tbody>\n",
       "</table>\n",
       "</div>"
      ],
      "text/plain": [
       "  確定病名  診斷年份  診斷週別   縣市 性別 是否為境外移入    年齡層  確定病例數\n",
       "0   梅毒  2003     1  台北市  M       否  55-59      1\n",
       "1   梅毒  2003     1  台南市  F       否  55-59      1\n",
       "2   梅毒  2003     1  屏東縣  M       否  35-39      1\n",
       "3   梅毒  2003     1  高雄市  M       否  60-64      1\n",
       "4   梅毒  2003    10  台北市  F       否  20-24      1\n",
       "5   梅毒  2003    10  台北市  M       否  25-29      2"
      ]
     },
     "execution_count": 98,
     "metadata": {},
     "output_type": "execute_result"
    }
   ],
   "source": [
    "import pandas\n",
    "df2 = pandas.read_clipboard()\n",
    "df2"
   ]
  },
  {
   "cell_type": "code",
   "execution_count": 45,
   "metadata": {
    "collapsed": false
   },
   "outputs": [
    {
     "name": "stderr",
     "output_type": "stream",
     "text": [
      "C:\\ProgramData\\Anaconda3\\lib\\site-packages\\ipykernel\\__main__.py:2: FutureWarning: The 'skip_footer' argument has been deprecated and will be removed in a future version. Please use the 'skipfooter' argument instead.\n",
      "  from ipykernel import kernelapp as app\n",
      "C:\\ProgramData\\Anaconda3\\lib\\site-packages\\ipykernel\\__main__.py:2: ParserWarning: Falling back to the 'python' engine because the 'c' engine does not support skipfooter; you can avoid this warning by specifying engine='python'.\n",
      "  from ipykernel import kernelapp as app\n"
     ]
    },
    {
     "data": {
      "text/html": [
       "<div>\n",
       "<table border=\"1\" class=\"dataframe\">\n",
       "  <thead>\n",
       "    <tr style=\"text-align: right;\">\n",
       "      <th></th>\n",
       "      <th>證券代號</th>\n",
       "      <th>證券名稱</th>\n",
       "      <th>外資買進股數</th>\n",
       "      <th>外資賣出股數</th>\n",
       "      <th>外資買賣超股數</th>\n",
       "      <th>投信買進股數</th>\n",
       "      <th>投信賣出股數</th>\n",
       "      <th>投信買賣超股數</th>\n",
       "      <th>自營商買賣超股數</th>\n",
       "      <th>自營商買進股數(自行買賣)</th>\n",
       "      <th>自營商賣出股數(自行買賣)</th>\n",
       "      <th>自營商買賣超股數(自行買賣)</th>\n",
       "      <th>自營商買進股數(避險)</th>\n",
       "      <th>自營商賣出股數(避險)</th>\n",
       "      <th>自營商買賣超股數(避險)</th>\n",
       "      <th>三大法人買賣超股數</th>\n",
       "    </tr>\n",
       "  </thead>\n",
       "  <tbody>\n",
       "    <tr>\n",
       "      <th>=\"2344\"</th>\n",
       "      <td>華邦電</td>\n",
       "      <td>7,968,000</td>\n",
       "      <td>7,265,000</td>\n",
       "      <td>703,000</td>\n",
       "      <td>194,000</td>\n",
       "      <td>693,000</td>\n",
       "      <td>-499,000</td>\n",
       "      <td>-840,000</td>\n",
       "      <td>729,000</td>\n",
       "      <td>1,718,000</td>\n",
       "      <td>-989,000</td>\n",
       "      <td>2,056,000</td>\n",
       "      <td>1,907,000</td>\n",
       "      <td>149,000</td>\n",
       "      <td>-636,000</td>\n",
       "      <td>NaN</td>\n",
       "    </tr>\n",
       "    <tr>\n",
       "      <th>=\"2458\"</th>\n",
       "      <td>義隆</td>\n",
       "      <td>477,000</td>\n",
       "      <td>371,000</td>\n",
       "      <td>106,000</td>\n",
       "      <td>0</td>\n",
       "      <td>0</td>\n",
       "      <td>0</td>\n",
       "      <td>-1,280,000</td>\n",
       "      <td>23,000</td>\n",
       "      <td>92,000</td>\n",
       "      <td>-69,000</td>\n",
       "      <td>44,000</td>\n",
       "      <td>1,255,000</td>\n",
       "      <td>-1,211,000</td>\n",
       "      <td>-1,174,000</td>\n",
       "      <td>NaN</td>\n",
       "    </tr>\n",
       "    <tr>\n",
       "      <th>=\"8150\"</th>\n",
       "      <td>南茂</td>\n",
       "      <td>1,158,000</td>\n",
       "      <td>3,495,000</td>\n",
       "      <td>-2,337,000</td>\n",
       "      <td>0</td>\n",
       "      <td>0</td>\n",
       "      <td>0</td>\n",
       "      <td>641,000</td>\n",
       "      <td>0</td>\n",
       "      <td>14,000</td>\n",
       "      <td>-14,000</td>\n",
       "      <td>823,000</td>\n",
       "      <td>168,000</td>\n",
       "      <td>655,000</td>\n",
       "      <td>-1,696,000</td>\n",
       "      <td>NaN</td>\n",
       "    </tr>\n",
       "    <tr>\n",
       "      <th>=\"6239\"</th>\n",
       "      <td>力成</td>\n",
       "      <td>188,000</td>\n",
       "      <td>1,663,000</td>\n",
       "      <td>-1,475,000</td>\n",
       "      <td>0</td>\n",
       "      <td>610,000</td>\n",
       "      <td>-610,000</td>\n",
       "      <td>24,000</td>\n",
       "      <td>0</td>\n",
       "      <td>0</td>\n",
       "      <td>0</td>\n",
       "      <td>64,000</td>\n",
       "      <td>40,000</td>\n",
       "      <td>24,000</td>\n",
       "      <td>-2,061,000</td>\n",
       "      <td>NaN</td>\n",
       "    </tr>\n",
       "    <tr>\n",
       "      <th>=\"2311\"</th>\n",
       "      <td>日月光</td>\n",
       "      <td>3,418,000</td>\n",
       "      <td>5,440,000</td>\n",
       "      <td>-2,022,000</td>\n",
       "      <td>0</td>\n",
       "      <td>435,000</td>\n",
       "      <td>-435,000</td>\n",
       "      <td>36,000</td>\n",
       "      <td>100,000</td>\n",
       "      <td>74,000</td>\n",
       "      <td>26,000</td>\n",
       "      <td>80,000</td>\n",
       "      <td>70,000</td>\n",
       "      <td>10,000</td>\n",
       "      <td>-2,421,000</td>\n",
       "      <td>NaN</td>\n",
       "    </tr>\n",
       "  </tbody>\n",
       "</table>\n",
       "</div>"
      ],
      "text/plain": [
       "                   證券代號       證券名稱     外資買進股數      外資賣出股數  外資買賣超股數   投信買進股數  \\\n",
       "=\"2344\"   華邦電            7,968,000  7,265,000     703,000  194,000  693,000   \n",
       "=\"2458\"  義隆                477,000    371,000     106,000        0        0   \n",
       "=\"8150\"  南茂              1,158,000  3,495,000  -2,337,000        0        0   \n",
       "=\"6239\"  力成                188,000  1,663,000  -1,475,000        0  610,000   \n",
       "=\"2311\"   日月光            3,418,000  5,440,000  -2,022,000        0  435,000   \n",
       "\n",
       "           投信賣出股數     投信買賣超股數 自營商買賣超股數 自營商買進股數(自行買賣) 自營商賣出股數(自行買賣)  \\\n",
       "=\"2344\"  -499,000    -840,000  729,000     1,718,000      -989,000   \n",
       "=\"2458\"         0  -1,280,000   23,000        92,000       -69,000   \n",
       "=\"8150\"         0     641,000        0        14,000       -14,000   \n",
       "=\"6239\"  -610,000      24,000        0             0             0   \n",
       "=\"2311\"  -435,000      36,000  100,000        74,000        26,000   \n",
       "\n",
       "        自營商買賣超股數(自行買賣) 自營商買進股數(避險) 自營商賣出股數(避險) 自營商買賣超股數(避險)  三大法人買賣超股數  \n",
       "=\"2344\"      2,056,000   1,907,000     149,000     -636,000        NaN  \n",
       "=\"2458\"         44,000   1,255,000  -1,211,000   -1,174,000        NaN  \n",
       "=\"8150\"        823,000     168,000     655,000   -1,696,000        NaN  \n",
       "=\"6239\"         64,000      40,000      24,000   -2,061,000        NaN  \n",
       "=\"2311\"         80,000      70,000      10,000   -2,421,000        NaN  "
      ]
     },
     "execution_count": 45,
     "metadata": {},
     "output_type": "execute_result"
    }
   ],
   "source": [
    "import pandas\n",
    "df3 = pandas.read_csv('20170413_2by_issue.csv', \\\n",
    "                      encoding='UTF-8',skiprows=[0], \\\n",
    "                      skip_footer = 7)\n",
    "df3.tail()"
   ]
  },
  {
   "cell_type": "markdown",
   "metadata": {},
   "source": [
    "## 讓Pandas 讀取網路股價資料"
   ]
  },
  {
   "cell_type": "code",
   "execution_count": 109,
   "metadata": {
    "collapsed": false
   },
   "outputs": [
    {
     "name": "stdout",
     "output_type": "stream",
     "text": [
      "Requirement already satisfied: pandas-datareader in c:\\programdata\\anaconda3\\lib\\site-packages\n",
      "Requirement already satisfied: pandas in c:\\programdata\\anaconda3\\lib\\site-packages (from pandas-datareader)\n",
      "Requirement already satisfied: requests>=2.3.0 in c:\\programdata\\anaconda3\\lib\\site-packages (from pandas-datareader)\n",
      "Requirement already satisfied: requests-ftp in c:\\programdata\\anaconda3\\lib\\site-packages (from pandas-datareader)\n",
      "Requirement already satisfied: requests-file in c:\\programdata\\anaconda3\\lib\\site-packages (from pandas-datareader)\n",
      "Requirement already satisfied: python-dateutil>=2 in c:\\programdata\\anaconda3\\lib\\site-packages (from pandas->pandas-datareader)\n",
      "Requirement already satisfied: pytz>=2011k in c:\\programdata\\anaconda3\\lib\\site-packages (from pandas->pandas-datareader)\n",
      "Requirement already satisfied: numpy>=1.7.0 in c:\\programdata\\anaconda3\\lib\\site-packages (from pandas->pandas-datareader)\n",
      "Requirement already satisfied: six in c:\\programdata\\anaconda3\\lib\\site-packages (from requests-file->pandas-datareader)\n"
     ]
    }
   ],
   "source": [
    "! pip install pandas-datareader"
   ]
  },
  {
   "cell_type": "code",
   "execution_count": 7,
   "metadata": {
    "collapsed": false
   },
   "outputs": [
    {
     "data": {
      "text/html": [
       "<div>\n",
       "<table border=\"1\" class=\"dataframe\">\n",
       "  <thead>\n",
       "    <tr style=\"text-align: right;\">\n",
       "      <th></th>\n",
       "      <th>Open</th>\n",
       "      <th>High</th>\n",
       "      <th>Low</th>\n",
       "      <th>Close</th>\n",
       "      <th>Volume</th>\n",
       "      <th>Adj Close</th>\n",
       "    </tr>\n",
       "    <tr>\n",
       "      <th>Date</th>\n",
       "      <th></th>\n",
       "      <th></th>\n",
       "      <th></th>\n",
       "      <th></th>\n",
       "      <th></th>\n",
       "      <th></th>\n",
       "    </tr>\n",
       "  </thead>\n",
       "  <tbody>\n",
       "    <tr>\n",
       "      <th>2004-01-02</th>\n",
       "      <td>58.4235</td>\n",
       "      <td>60.2635</td>\n",
       "      <td>58.4235</td>\n",
       "      <td>60.2635</td>\n",
       "      <td>75096569600</td>\n",
       "      <td>28.9860</td>\n",
       "    </tr>\n",
       "    <tr>\n",
       "      <th>2004-01-05</th>\n",
       "      <td>60.2635</td>\n",
       "      <td>60.7236</td>\n",
       "      <td>59.8035</td>\n",
       "      <td>60.7236</td>\n",
       "      <td>40274000</td>\n",
       "      <td>29.2073</td>\n",
       "    </tr>\n",
       "    <tr>\n",
       "      <th>2004-01-06</th>\n",
       "      <td>60.7236</td>\n",
       "      <td>61.1836</td>\n",
       "      <td>59.8035</td>\n",
       "      <td>60.7236</td>\n",
       "      <td>42246844800</td>\n",
       "      <td>29.2073</td>\n",
       "    </tr>\n",
       "    <tr>\n",
       "      <th>2004-01-07</th>\n",
       "      <td>60.7236</td>\n",
       "      <td>61.1836</td>\n",
       "      <td>59.8035</td>\n",
       "      <td>60.2635</td>\n",
       "      <td>57748716800</td>\n",
       "      <td>28.9860</td>\n",
       "    </tr>\n",
       "    <tr>\n",
       "      <th>2004-01-08</th>\n",
       "      <td>60.7236</td>\n",
       "      <td>61.1836</td>\n",
       "      <td>60.2635</td>\n",
       "      <td>60.2635</td>\n",
       "      <td>35635859200</td>\n",
       "      <td>28.9860</td>\n",
       "    </tr>\n",
       "  </tbody>\n",
       "</table>\n",
       "</div>"
      ],
      "text/plain": [
       "               Open     High      Low    Close       Volume  Adj Close\n",
       "Date                                                                  \n",
       "2004-01-02  58.4235  60.2635  58.4235  60.2635  75096569600    28.9860\n",
       "2004-01-05  60.2635  60.7236  59.8035  60.7236     40274000    29.2073\n",
       "2004-01-06  60.7236  61.1836  59.8035  60.7236  42246844800    29.2073\n",
       "2004-01-07  60.7236  61.1836  59.8035  60.2635  57748716800    28.9860\n",
       "2004-01-08  60.7236  61.1836  60.2635  60.2635  35635859200    28.9860"
      ]
     },
     "execution_count": 7,
     "metadata": {},
     "output_type": "execute_result"
    }
   ],
   "source": [
    "from pandas_datareader import data\n",
    "import datetime\n",
    "#?data.get_data_yahoo\n",
    "tw2330 = data.get_data_yahoo('2330.TW', start=datetime.datetime(2004, 1, 1), \n",
    "                                 end=datetime.datetime(2016, 8, 6))\n",
    "tw2330.head()"
   ]
  },
  {
   "cell_type": "markdown",
   "metadata": {},
   "source": [
    "## 整理三大法人買賣超日報資訊"
   ]
  },
  {
   "cell_type": "code",
   "execution_count": 8,
   "metadata": {
    "collapsed": true
   },
   "outputs": [],
   "source": [
    "import requests\n",
    "url = 'http://www.twse.com.tw/ch/trading/fund/T86/T86.php'\n",
    "payload = {\n",
    "'qdate':'106/04/13',\n",
    "'select2':'24',\n",
    "'sorting':'by_issue'\n",
    "}\n",
    "res = requests.post(url, data = payload)"
   ]
  },
  {
   "cell_type": "code",
   "execution_count": 11,
   "metadata": {
    "collapsed": false
   },
   "outputs": [],
   "source": [
    "from bs4 import BeautifulSoup\n",
    "soup = BeautifulSoup(res.text, 'html.parser')\n",
    "tbl = soup.select('#tbl-sortable')[0]"
   ]
  },
  {
   "cell_type": "code",
   "execution_count": 14,
   "metadata": {
    "collapsed": false
   },
   "outputs": [],
   "source": [
    "import pandas\n",
    "dfs = pandas.read_html(tbl.prettify('utf-8'))\n",
    "#dfs[0]"
   ]
  },
  {
   "cell_type": "code",
   "execution_count": 15,
   "metadata": {
    "collapsed": true
   },
   "outputs": [],
   "source": [
    "stockdf = dfs[0]"
   ]
  },
  {
   "cell_type": "code",
   "execution_count": 18,
   "metadata": {
    "collapsed": false
   },
   "outputs": [
    {
     "data": {
      "text/html": [
       "<div>\n",
       "<table border=\"1\" class=\"dataframe\">\n",
       "  <thead>\n",
       "    <tr style=\"text-align: right;\">\n",
       "      <th></th>\n",
       "      <th>證券\n",
       "    \n",
       "     代號</th>\n",
       "      <th>證券\n",
       "    \n",
       "     名稱</th>\n",
       "      <th>外資\n",
       "    \n",
       "     買進股數</th>\n",
       "      <th>外資\n",
       "    \n",
       "     賣出股數</th>\n",
       "      <th>外資\n",
       "    \n",
       "     買賣超股數</th>\n",
       "      <th>投信\n",
       "    \n",
       "     買進股數</th>\n",
       "      <th>投信\n",
       "    \n",
       "     賣出股數</th>\n",
       "      <th>投信\n",
       "    \n",
       "     買賣超股數</th>\n",
       "      <th>自營商\n",
       "    \n",
       "     買賣超股數</th>\n",
       "      <th>自營商\n",
       "    \n",
       "     買進股數\n",
       "     \n",
       "      (自行買賣)</th>\n",
       "      <th>自營商\n",
       "    \n",
       "     賣出股數\n",
       "     \n",
       "      (自行買賣)</th>\n",
       "      <th>自營商\n",
       "    \n",
       "     買賣超股數\n",
       "     \n",
       "      (自行買賣)</th>\n",
       "      <th>自營商\n",
       "    \n",
       "     買進股數\n",
       "     \n",
       "      (避險)</th>\n",
       "      <th>自營商\n",
       "    \n",
       "     賣出股數\n",
       "     \n",
       "      (避險)</th>\n",
       "      <th>自營商\n",
       "    \n",
       "     買賣超股數\n",
       "     \n",
       "      (避險)</th>\n",
       "      <th>三大法人\n",
       "    \n",
       "     買賣超股數</th>\n",
       "    </tr>\n",
       "  </thead>\n",
       "  <tbody>\n",
       "    <tr>\n",
       "      <th>0</th>\n",
       "      <td>2303</td>\n",
       "      <td>聯電</td>\n",
       "      <td>10754000</td>\n",
       "      <td>5205000</td>\n",
       "      <td>5549000</td>\n",
       "      <td>0</td>\n",
       "      <td>2000</td>\n",
       "      <td>-2000</td>\n",
       "      <td>-601000</td>\n",
       "      <td>0</td>\n",
       "      <td>900000</td>\n",
       "      <td>-900000</td>\n",
       "      <td>390000</td>\n",
       "      <td>91000</td>\n",
       "      <td>299000</td>\n",
       "      <td>4946000</td>\n",
       "    </tr>\n",
       "    <tr>\n",
       "      <th>1</th>\n",
       "      <td>2408</td>\n",
       "      <td>南亞科</td>\n",
       "      <td>1796514</td>\n",
       "      <td>818000</td>\n",
       "      <td>978514</td>\n",
       "      <td>0</td>\n",
       "      <td>0</td>\n",
       "      <td>0</td>\n",
       "      <td>3168000</td>\n",
       "      <td>1172000</td>\n",
       "      <td>303000</td>\n",
       "      <td>869000</td>\n",
       "      <td>2689000</td>\n",
       "      <td>390000</td>\n",
       "      <td>2299000</td>\n",
       "      <td>4146514</td>\n",
       "    </tr>\n",
       "    <tr>\n",
       "      <th>2</th>\n",
       "      <td>2330</td>\n",
       "      <td>台積電</td>\n",
       "      <td>8737954</td>\n",
       "      <td>7580701</td>\n",
       "      <td>1157253</td>\n",
       "      <td>202000</td>\n",
       "      <td>167000</td>\n",
       "      <td>35000</td>\n",
       "      <td>-253000</td>\n",
       "      <td>171000</td>\n",
       "      <td>905000</td>\n",
       "      <td>-734000</td>\n",
       "      <td>624000</td>\n",
       "      <td>143000</td>\n",
       "      <td>481000</td>\n",
       "      <td>939253</td>\n",
       "    </tr>\n",
       "    <tr>\n",
       "      <th>3</th>\n",
       "      <td>3545</td>\n",
       "      <td>敦泰</td>\n",
       "      <td>910000</td>\n",
       "      <td>161200</td>\n",
       "      <td>748800</td>\n",
       "      <td>0</td>\n",
       "      <td>0</td>\n",
       "      <td>0</td>\n",
       "      <td>149000</td>\n",
       "      <td>173000</td>\n",
       "      <td>1000</td>\n",
       "      <td>172000</td>\n",
       "      <td>36000</td>\n",
       "      <td>59000</td>\n",
       "      <td>-23000</td>\n",
       "      <td>897800</td>\n",
       "    </tr>\n",
       "    <tr>\n",
       "      <th>4</th>\n",
       "      <td>8110</td>\n",
       "      <td>華東</td>\n",
       "      <td>1331000</td>\n",
       "      <td>597000</td>\n",
       "      <td>734000</td>\n",
       "      <td>0</td>\n",
       "      <td>0</td>\n",
       "      <td>0</td>\n",
       "      <td>129000</td>\n",
       "      <td>164000</td>\n",
       "      <td>35000</td>\n",
       "      <td>129000</td>\n",
       "      <td>0</td>\n",
       "      <td>0</td>\n",
       "      <td>0</td>\n",
       "      <td>863000</td>\n",
       "    </tr>\n",
       "  </tbody>\n",
       "</table>\n",
       "</div>"
      ],
      "text/plain": [
       "   \\n    證券\\n    \\n     代號\\n    \\n    \\n    證券\\n    \\n     名稱\\n    \\n     \\\n",
       "0                                2303                                 聯電   \n",
       "1                                2408                                南亞科   \n",
       "2                                2330                                台積電   \n",
       "3                                3545                                 敦泰   \n",
       "4                                8110                                 華東   \n",
       "\n",
       "   \\n    外資\\n    \\n     買進股數\\n    \\n     \\n    外資\\n    \\n     賣出股數\\n    \\n     \\\n",
       "0                              10754000                               5205000   \n",
       "1                               1796514                                818000   \n",
       "2                               8737954                               7580701   \n",
       "3                                910000                                161200   \n",
       "4                               1331000                                597000   \n",
       "\n",
       "   \\n    外資\\n    \\n     買賣超股數\\n    \\n     \\\n",
       "0                                5549000   \n",
       "1                                 978514   \n",
       "2                                1157253   \n",
       "3                                 748800   \n",
       "4                                 734000   \n",
       "\n",
       "   \\n    投信\\n    \\n     買進股數\\n    \\n     \\n    投信\\n    \\n     賣出股數\\n    \\n     \\\n",
       "0                                     0                                  2000   \n",
       "1                                     0                                     0   \n",
       "2                                202000                                167000   \n",
       "3                                     0                                     0   \n",
       "4                                     0                                     0   \n",
       "\n",
       "   \\n    投信\\n    \\n     買賣超股數\\n    \\n     \\\n",
       "0                                  -2000   \n",
       "1                                      0   \n",
       "2                                  35000   \n",
       "3                                      0   \n",
       "4                                      0   \n",
       "\n",
       "   \\n    自營商\\n    \\n     買賣超股數\\n    \\n     \\\n",
       "0                                 -601000   \n",
       "1                                 3168000   \n",
       "2                                 -253000   \n",
       "3                                  149000   \n",
       "4                                  129000   \n",
       "\n",
       "   \\n    自營商\\n    \\n     買進股數\\n     \\n      (自行買賣)\\n     \\n    \\n     \\\n",
       "0                                                  0                   \n",
       "1                                            1172000                   \n",
       "2                                             171000                   \n",
       "3                                             173000                   \n",
       "4                                             164000                   \n",
       "\n",
       "   \\n    自營商\\n    \\n     賣出股數\\n     \\n      (自行買賣)\\n     \\n    \\n     \\\n",
       "0                                             900000                   \n",
       "1                                             303000                   \n",
       "2                                             905000                   \n",
       "3                                               1000                   \n",
       "4                                              35000                   \n",
       "\n",
       "   \\n    自營商\\n    \\n     買賣超股數\\n     \\n      (自行買賣)\\n     \\n    \\n     \\\n",
       "0                                            -900000                    \n",
       "1                                             869000                    \n",
       "2                                            -734000                    \n",
       "3                                             172000                    \n",
       "4                                             129000                    \n",
       "\n",
       "   \\n    自營商\\n    \\n     買進股數\\n     \\n      (避險)\\n     \\n    \\n     \\\n",
       "0                                             390000                 \n",
       "1                                            2689000                 \n",
       "2                                             624000                 \n",
       "3                                              36000                 \n",
       "4                                                  0                 \n",
       "\n",
       "   \\n    自營商\\n    \\n     賣出股數\\n     \\n      (避險)\\n     \\n    \\n     \\\n",
       "0                                              91000                 \n",
       "1                                             390000                 \n",
       "2                                             143000                 \n",
       "3                                              59000                 \n",
       "4                                                  0                 \n",
       "\n",
       "   \\n    自營商\\n    \\n     買賣超股數\\n     \\n      (避險)\\n     \\n    \\n     \\\n",
       "0                                             299000                  \n",
       "1                                            2299000                  \n",
       "2                                             481000                  \n",
       "3                                             -23000                  \n",
       "4                                                  0                  \n",
       "\n",
       "   \\n    三大法人\\n    \\n     買賣超股數\\n    \\n     \n",
       "0                                  4946000  \n",
       "1                                  4146514  \n",
       "2                                   939253  \n",
       "3                                   897800  \n",
       "4                                   863000  "
      ]
     },
     "execution_count": 18,
     "metadata": {},
     "output_type": "execute_result"
    }
   ],
   "source": [
    "# head 觀看前六列資料\n",
    "stockdf.head()"
   ]
  },
  {
   "cell_type": "code",
   "execution_count": 26,
   "metadata": {
    "collapsed": false
   },
   "outputs": [
    {
     "data": {
      "text/html": [
       "<div>\n",
       "<table border=\"1\" class=\"dataframe\">\n",
       "  <thead>\n",
       "    <tr style=\"text-align: right;\">\n",
       "      <th></th>\n",
       "      <th>證券\n",
       "    \n",
       "     代號</th>\n",
       "      <th>證券\n",
       "    \n",
       "     名稱</th>\n",
       "      <th>外資\n",
       "    \n",
       "     買進股數</th>\n",
       "      <th>外資\n",
       "    \n",
       "     賣出股數</th>\n",
       "      <th>外資\n",
       "    \n",
       "     買賣超股數</th>\n",
       "      <th>投信\n",
       "    \n",
       "     買進股數</th>\n",
       "      <th>投信\n",
       "    \n",
       "     賣出股數</th>\n",
       "      <th>投信\n",
       "    \n",
       "     買賣超股數</th>\n",
       "      <th>自營商\n",
       "    \n",
       "     買賣超股數</th>\n",
       "      <th>自營商\n",
       "    \n",
       "     買進股數\n",
       "     \n",
       "      (自行買賣)</th>\n",
       "      <th>自營商\n",
       "    \n",
       "     賣出股數\n",
       "     \n",
       "      (自行買賣)</th>\n",
       "      <th>自營商\n",
       "    \n",
       "     買賣超股數\n",
       "     \n",
       "      (自行買賣)</th>\n",
       "      <th>自營商\n",
       "    \n",
       "     買進股數\n",
       "     \n",
       "      (避險)</th>\n",
       "      <th>自營商\n",
       "    \n",
       "     賣出股數\n",
       "     \n",
       "      (避險)</th>\n",
       "      <th>自營商\n",
       "    \n",
       "     買賣超股數\n",
       "     \n",
       "      (避險)</th>\n",
       "      <th>三大法人\n",
       "    \n",
       "     買賣超股數</th>\n",
       "    </tr>\n",
       "  </thead>\n",
       "  <tbody>\n",
       "    <tr>\n",
       "      <th>2</th>\n",
       "      <td>2330</td>\n",
       "      <td>台積電</td>\n",
       "      <td>8737954</td>\n",
       "      <td>7580701</td>\n",
       "      <td>1157253</td>\n",
       "      <td>202000</td>\n",
       "      <td>167000</td>\n",
       "      <td>35000</td>\n",
       "      <td>-253000</td>\n",
       "      <td>171000</td>\n",
       "      <td>905000</td>\n",
       "      <td>-734000</td>\n",
       "      <td>624000</td>\n",
       "      <td>143000</td>\n",
       "      <td>481000</td>\n",
       "      <td>939253</td>\n",
       "    </tr>\n",
       "  </tbody>\n",
       "</table>\n",
       "</div>"
      ],
      "text/plain": [
       "   \\n    證券\\n    \\n     代號\\n    \\n    \\n    證券\\n    \\n     名稱\\n    \\n     \\\n",
       "2                                2330                                台積電   \n",
       "\n",
       "   \\n    外資\\n    \\n     買進股數\\n    \\n     \\n    外資\\n    \\n     賣出股數\\n    \\n     \\\n",
       "2                               8737954                               7580701   \n",
       "\n",
       "   \\n    外資\\n    \\n     買賣超股數\\n    \\n     \\\n",
       "2                                1157253   \n",
       "\n",
       "   \\n    投信\\n    \\n     買進股數\\n    \\n     \\n    投信\\n    \\n     賣出股數\\n    \\n     \\\n",
       "2                                202000                                167000   \n",
       "\n",
       "   \\n    投信\\n    \\n     買賣超股數\\n    \\n     \\\n",
       "2                                  35000   \n",
       "\n",
       "   \\n    自營商\\n    \\n     買賣超股數\\n    \\n     \\\n",
       "2                                 -253000   \n",
       "\n",
       "   \\n    自營商\\n    \\n     買進股數\\n     \\n      (自行買賣)\\n     \\n    \\n     \\\n",
       "2                                             171000                   \n",
       "\n",
       "   \\n    自營商\\n    \\n     賣出股數\\n     \\n      (自行買賣)\\n     \\n    \\n     \\\n",
       "2                                             905000                   \n",
       "\n",
       "   \\n    自營商\\n    \\n     買賣超股數\\n     \\n      (自行買賣)\\n     \\n    \\n     \\\n",
       "2                                            -734000                    \n",
       "\n",
       "   \\n    自營商\\n    \\n     買進股數\\n     \\n      (避險)\\n     \\n    \\n     \\\n",
       "2                                             624000                 \n",
       "\n",
       "   \\n    自營商\\n    \\n     賣出股數\\n     \\n      (避險)\\n     \\n    \\n     \\\n",
       "2                                             143000                 \n",
       "\n",
       "   \\n    自營商\\n    \\n     買賣超股數\\n     \\n      (避險)\\n     \\n    \\n     \\\n",
       "2                                             481000                  \n",
       "\n",
       "   \\n    三大法人\\n    \\n     買賣超股數\\n    \\n     \n",
       "2                                   939253  "
      ]
     },
     "execution_count": 26,
     "metadata": {},
     "output_type": "execute_result"
    }
   ],
   "source": [
    "stockdf[stockdf['\\n    證券\\n    \\n     代號\\n    \\n   '] == 2330 ]"
   ]
  },
  {
   "cell_type": "code",
   "execution_count": 28,
   "metadata": {
    "collapsed": false
   },
   "outputs": [
    {
     "data": {
      "text/plain": [
       "Index(['\\n    證券\\n    \\n     代號\\n    \\n   ',\n",
       "       '\\n    證券\\n    \\n     名稱\\n    \\n   ',\n",
       "       '\\n    外資\\n    \\n     買進股數\\n    \\n   ',\n",
       "       '\\n    外資\\n    \\n     賣出股數\\n    \\n   ',\n",
       "       '\\n    外資\\n    \\n     買賣超股數\\n    \\n   ',\n",
       "       '\\n    投信\\n    \\n     買進股數\\n    \\n   ',\n",
       "       '\\n    投信\\n    \\n     賣出股數\\n    \\n   ',\n",
       "       '\\n    投信\\n    \\n     買賣超股數\\n    \\n   ',\n",
       "       '\\n    自營商\\n    \\n     買賣超股數\\n    \\n   ',\n",
       "       '\\n    自營商\\n    \\n     買進股數\\n     \\n      (自行買賣)\\n     \\n    \\n   ',\n",
       "       '\\n    自營商\\n    \\n     賣出股數\\n     \\n      (自行買賣)\\n     \\n    \\n   ',\n",
       "       '\\n    自營商\\n    \\n     買賣超股數\\n     \\n      (自行買賣)\\n     \\n    \\n   ',\n",
       "       '\\n    自營商\\n    \\n     買進股數\\n     \\n      (避險)\\n     \\n    \\n   ',\n",
       "       '\\n    自營商\\n    \\n     賣出股數\\n     \\n      (避險)\\n     \\n    \\n   ',\n",
       "       '\\n    自營商\\n    \\n     買賣超股數\\n     \\n      (避險)\\n     \\n    \\n   ',\n",
       "       '\\n    三大法人\\n    \\n     買賣超股數\\n    \\n   '],\n",
       "      dtype='object')"
      ]
     },
     "execution_count": 28,
     "metadata": {},
     "output_type": "execute_result"
    }
   ],
   "source": [
    "stockdf.columns"
   ]
  },
  {
   "cell_type": "code",
   "execution_count": 32,
   "metadata": {
    "collapsed": false
   },
   "outputs": [
    {
     "data": {
      "text/html": [
       "<div>\n",
       "<table border=\"1\" class=\"dataframe\">\n",
       "  <thead>\n",
       "    <tr style=\"text-align: right;\">\n",
       "      <th></th>\n",
       "      <th>證券\n",
       "    \n",
       "     代號</th>\n",
       "      <th>證券\n",
       "    \n",
       "     名稱</th>\n",
       "      <th>外資\n",
       "    \n",
       "     買進股數</th>\n",
       "      <th>外資\n",
       "    \n",
       "     賣出股數</th>\n",
       "      <th>外資\n",
       "    \n",
       "     買賣超股數</th>\n",
       "      <th>投信\n",
       "    \n",
       "     買進股數</th>\n",
       "      <th>投信\n",
       "    \n",
       "     賣出股數</th>\n",
       "      <th>投信\n",
       "    \n",
       "     買賣超股數</th>\n",
       "      <th>自營商\n",
       "    \n",
       "     買賣超股數</th>\n",
       "      <th>自營商\n",
       "    \n",
       "     買進股數\n",
       "     \n",
       "      (自行買賣)</th>\n",
       "      <th>自營商\n",
       "    \n",
       "     賣出股數\n",
       "     \n",
       "      (自行買賣)</th>\n",
       "      <th>自營商\n",
       "    \n",
       "     買賣超股數\n",
       "     \n",
       "      (自行買賣)</th>\n",
       "      <th>自營商\n",
       "    \n",
       "     買進股數\n",
       "     \n",
       "      (避險)</th>\n",
       "      <th>自營商\n",
       "    \n",
       "     賣出股數\n",
       "     \n",
       "      (避險)</th>\n",
       "      <th>自營商\n",
       "    \n",
       "     買賣超股數\n",
       "     \n",
       "      (避險)</th>\n",
       "      <th>三大法人\n",
       "    \n",
       "     買賣超股數</th>\n",
       "    </tr>\n",
       "  </thead>\n",
       "  <tbody>\n",
       "    <tr>\n",
       "      <th>0</th>\n",
       "      <td>2303</td>\n",
       "      <td>聯電</td>\n",
       "      <td>10754000</td>\n",
       "      <td>5205000</td>\n",
       "      <td>5549000</td>\n",
       "      <td>0</td>\n",
       "      <td>2000</td>\n",
       "      <td>-2000</td>\n",
       "      <td>-601000</td>\n",
       "      <td>0</td>\n",
       "      <td>900000</td>\n",
       "      <td>-900000</td>\n",
       "      <td>390000</td>\n",
       "      <td>91000</td>\n",
       "      <td>299000</td>\n",
       "      <td>4946000</td>\n",
       "    </tr>\n",
       "  </tbody>\n",
       "</table>\n",
       "</div>"
      ],
      "text/plain": [
       "   \\n    證券\\n    \\n     代號\\n    \\n    \\n    證券\\n    \\n     名稱\\n    \\n     \\\n",
       "0                                2303                                 聯電   \n",
       "\n",
       "   \\n    外資\\n    \\n     買進股數\\n    \\n     \\n    外資\\n    \\n     賣出股數\\n    \\n     \\\n",
       "0                              10754000                               5205000   \n",
       "\n",
       "   \\n    外資\\n    \\n     買賣超股數\\n    \\n     \\\n",
       "0                                5549000   \n",
       "\n",
       "   \\n    投信\\n    \\n     買進股數\\n    \\n     \\n    投信\\n    \\n     賣出股數\\n    \\n     \\\n",
       "0                                     0                                  2000   \n",
       "\n",
       "   \\n    投信\\n    \\n     買賣超股數\\n    \\n     \\\n",
       "0                                  -2000   \n",
       "\n",
       "   \\n    自營商\\n    \\n     買賣超股數\\n    \\n     \\\n",
       "0                                 -601000   \n",
       "\n",
       "   \\n    自營商\\n    \\n     買進股數\\n     \\n      (自行買賣)\\n     \\n    \\n     \\\n",
       "0                                                  0                   \n",
       "\n",
       "   \\n    自營商\\n    \\n     賣出股數\\n     \\n      (自行買賣)\\n     \\n    \\n     \\\n",
       "0                                             900000                   \n",
       "\n",
       "   \\n    自營商\\n    \\n     買賣超股數\\n     \\n      (自行買賣)\\n     \\n    \\n     \\\n",
       "0                                            -900000                    \n",
       "\n",
       "   \\n    自營商\\n    \\n     買進股數\\n     \\n      (避險)\\n     \\n    \\n     \\\n",
       "0                                             390000                 \n",
       "\n",
       "   \\n    自營商\\n    \\n     賣出股數\\n     \\n      (避險)\\n     \\n    \\n     \\\n",
       "0                                              91000                 \n",
       "\n",
       "   \\n    自營商\\n    \\n     買賣超股數\\n     \\n      (避險)\\n     \\n    \\n     \\\n",
       "0                                             299000                  \n",
       "\n",
       "   \\n    三大法人\\n    \\n     買賣超股數\\n    \\n     \n",
       "0                                  4946000  "
      ]
     },
     "execution_count": 32,
     "metadata": {},
     "output_type": "execute_result"
    }
   ],
   "source": [
    "stockdf[stockdf['\\n    外資\\n    \\n     買賣超股數\\n    \\n   '] == stockdf['\\n    外資\\n    \\n     買賣超股數\\n    \\n   '].max()]"
   ]
  },
  {
   "cell_type": "code",
   "execution_count": 34,
   "metadata": {
    "collapsed": false
   },
   "outputs": [
    {
     "data": {
      "text/html": [
       "<div>\n",
       "<table border=\"1\" class=\"dataframe\">\n",
       "  <thead>\n",
       "    <tr style=\"text-align: right;\">\n",
       "      <th></th>\n",
       "      <th>證券\n",
       "    \n",
       "     代號</th>\n",
       "      <th>證券\n",
       "    \n",
       "     名稱</th>\n",
       "      <th>外資\n",
       "    \n",
       "     買進股數</th>\n",
       "      <th>外資\n",
       "    \n",
       "     賣出股數</th>\n",
       "      <th>外資\n",
       "    \n",
       "     買賣超股數</th>\n",
       "      <th>投信\n",
       "    \n",
       "     買進股數</th>\n",
       "      <th>投信\n",
       "    \n",
       "     賣出股數</th>\n",
       "      <th>投信\n",
       "    \n",
       "     買賣超股數</th>\n",
       "      <th>自營商\n",
       "    \n",
       "     買賣超股數</th>\n",
       "      <th>自營商\n",
       "    \n",
       "     買進股數\n",
       "     \n",
       "      (自行買賣)</th>\n",
       "      <th>自營商\n",
       "    \n",
       "     賣出股數\n",
       "     \n",
       "      (自行買賣)</th>\n",
       "      <th>自營商\n",
       "    \n",
       "     買賣超股數\n",
       "     \n",
       "      (自行買賣)</th>\n",
       "      <th>自營商\n",
       "    \n",
       "     買進股數\n",
       "     \n",
       "      (避險)</th>\n",
       "      <th>自營商\n",
       "    \n",
       "     賣出股數\n",
       "     \n",
       "      (避險)</th>\n",
       "      <th>自營商\n",
       "    \n",
       "     買賣超股數\n",
       "     \n",
       "      (避險)</th>\n",
       "      <th>三大法人\n",
       "    \n",
       "     買賣超股數</th>\n",
       "    </tr>\n",
       "  </thead>\n",
       "  <tbody>\n",
       "    <tr>\n",
       "      <th>0</th>\n",
       "      <td>2303</td>\n",
       "      <td>聯電</td>\n",
       "      <td>10754000</td>\n",
       "      <td>5205000</td>\n",
       "      <td>5549000</td>\n",
       "      <td>0</td>\n",
       "      <td>2000</td>\n",
       "      <td>-2000</td>\n",
       "      <td>-601000</td>\n",
       "      <td>0</td>\n",
       "      <td>900000</td>\n",
       "      <td>-900000</td>\n",
       "      <td>390000</td>\n",
       "      <td>91000</td>\n",
       "      <td>299000</td>\n",
       "      <td>4946000</td>\n",
       "    </tr>\n",
       "    <tr>\n",
       "      <th>60</th>\n",
       "      <td>2337</td>\n",
       "      <td>旺宏</td>\n",
       "      <td>13547000</td>\n",
       "      <td>11529000</td>\n",
       "      <td>2018000</td>\n",
       "      <td>0</td>\n",
       "      <td>1202000</td>\n",
       "      <td>-1202000</td>\n",
       "      <td>-1130000</td>\n",
       "      <td>0</td>\n",
       "      <td>1130000</td>\n",
       "      <td>-1130000</td>\n",
       "      <td>0</td>\n",
       "      <td>0</td>\n",
       "      <td>0</td>\n",
       "      <td>-314000</td>\n",
       "    </tr>\n",
       "    <tr>\n",
       "      <th>2</th>\n",
       "      <td>2330</td>\n",
       "      <td>台積電</td>\n",
       "      <td>8737954</td>\n",
       "      <td>7580701</td>\n",
       "      <td>1157253</td>\n",
       "      <td>202000</td>\n",
       "      <td>167000</td>\n",
       "      <td>35000</td>\n",
       "      <td>-253000</td>\n",
       "      <td>171000</td>\n",
       "      <td>905000</td>\n",
       "      <td>-734000</td>\n",
       "      <td>624000</td>\n",
       "      <td>143000</td>\n",
       "      <td>481000</td>\n",
       "      <td>939253</td>\n",
       "    </tr>\n",
       "    <tr>\n",
       "      <th>1</th>\n",
       "      <td>2408</td>\n",
       "      <td>南亞科</td>\n",
       "      <td>1796514</td>\n",
       "      <td>818000</td>\n",
       "      <td>978514</td>\n",
       "      <td>0</td>\n",
       "      <td>0</td>\n",
       "      <td>0</td>\n",
       "      <td>3168000</td>\n",
       "      <td>1172000</td>\n",
       "      <td>303000</td>\n",
       "      <td>869000</td>\n",
       "      <td>2689000</td>\n",
       "      <td>390000</td>\n",
       "      <td>2299000</td>\n",
       "      <td>4146514</td>\n",
       "    </tr>\n",
       "    <tr>\n",
       "      <th>3</th>\n",
       "      <td>3545</td>\n",
       "      <td>敦泰</td>\n",
       "      <td>910000</td>\n",
       "      <td>161200</td>\n",
       "      <td>748800</td>\n",
       "      <td>0</td>\n",
       "      <td>0</td>\n",
       "      <td>0</td>\n",
       "      <td>149000</td>\n",
       "      <td>173000</td>\n",
       "      <td>1000</td>\n",
       "      <td>172000</td>\n",
       "      <td>36000</td>\n",
       "      <td>59000</td>\n",
       "      <td>-23000</td>\n",
       "      <td>897800</td>\n",
       "    </tr>\n",
       "  </tbody>\n",
       "</table>\n",
       "</div>"
      ],
      "text/plain": [
       "    \\n    證券\\n    \\n     代號\\n    \\n    \\n    證券\\n    \\n     名稱\\n    \\n     \\\n",
       "0                                 2303                                 聯電   \n",
       "60                                2337                                 旺宏   \n",
       "2                                 2330                                台積電   \n",
       "1                                 2408                                南亞科   \n",
       "3                                 3545                                 敦泰   \n",
       "\n",
       "    \\n    外資\\n    \\n     買進股數\\n    \\n     \\\n",
       "0                               10754000   \n",
       "60                              13547000   \n",
       "2                                8737954   \n",
       "1                                1796514   \n",
       "3                                 910000   \n",
       "\n",
       "    \\n    外資\\n    \\n     賣出股數\\n    \\n     \\\n",
       "0                                5205000   \n",
       "60                              11529000   \n",
       "2                                7580701   \n",
       "1                                 818000   \n",
       "3                                 161200   \n",
       "\n",
       "    \\n    外資\\n    \\n     買賣超股數\\n    \\n     \\\n",
       "0                                 5549000   \n",
       "60                                2018000   \n",
       "2                                 1157253   \n",
       "1                                  978514   \n",
       "3                                  748800   \n",
       "\n",
       "    \\n    投信\\n    \\n     買進股數\\n    \\n     \\\n",
       "0                                      0   \n",
       "60                                     0   \n",
       "2                                 202000   \n",
       "1                                      0   \n",
       "3                                      0   \n",
       "\n",
       "    \\n    投信\\n    \\n     賣出股數\\n    \\n     \\\n",
       "0                                   2000   \n",
       "60                               1202000   \n",
       "2                                 167000   \n",
       "1                                      0   \n",
       "3                                      0   \n",
       "\n",
       "    \\n    投信\\n    \\n     買賣超股數\\n    \\n     \\\n",
       "0                                   -2000   \n",
       "60                               -1202000   \n",
       "2                                   35000   \n",
       "1                                       0   \n",
       "3                                       0   \n",
       "\n",
       "    \\n    自營商\\n    \\n     買賣超股數\\n    \\n     \\\n",
       "0                                  -601000   \n",
       "60                                -1130000   \n",
       "2                                  -253000   \n",
       "1                                  3168000   \n",
       "3                                   149000   \n",
       "\n",
       "    \\n    自營商\\n    \\n     買進股數\\n     \\n      (自行買賣)\\n     \\n    \\n     \\\n",
       "0                                                   0                   \n",
       "60                                                  0                   \n",
       "2                                              171000                   \n",
       "1                                             1172000                   \n",
       "3                                              173000                   \n",
       "\n",
       "    \\n    自營商\\n    \\n     賣出股數\\n     \\n      (自行買賣)\\n     \\n    \\n     \\\n",
       "0                                              900000                   \n",
       "60                                            1130000                   \n",
       "2                                              905000                   \n",
       "1                                              303000                   \n",
       "3                                                1000                   \n",
       "\n",
       "    \\n    自營商\\n    \\n     買賣超股數\\n     \\n      (自行買賣)\\n     \\n    \\n     \\\n",
       "0                                             -900000                    \n",
       "60                                           -1130000                    \n",
       "2                                             -734000                    \n",
       "1                                              869000                    \n",
       "3                                              172000                    \n",
       "\n",
       "    \\n    自營商\\n    \\n     買進股數\\n     \\n      (避險)\\n     \\n    \\n     \\\n",
       "0                                              390000                 \n",
       "60                                                  0                 \n",
       "2                                              624000                 \n",
       "1                                             2689000                 \n",
       "3                                               36000                 \n",
       "\n",
       "    \\n    自營商\\n    \\n     賣出股數\\n     \\n      (避險)\\n     \\n    \\n     \\\n",
       "0                                               91000                 \n",
       "60                                                  0                 \n",
       "2                                              143000                 \n",
       "1                                              390000                 \n",
       "3                                               59000                 \n",
       "\n",
       "    \\n    自營商\\n    \\n     買賣超股數\\n     \\n      (避險)\\n     \\n    \\n     \\\n",
       "0                                              299000                  \n",
       "60                                                  0                  \n",
       "2                                              481000                  \n",
       "1                                             2299000                  \n",
       "3                                              -23000                  \n",
       "\n",
       "    \\n    三大法人\\n    \\n     買賣超股數\\n    \\n     \n",
       "0                                   4946000  \n",
       "60                                  -314000  \n",
       "2                                    939253  \n",
       "1                                   4146514  \n",
       "3                                    897800  "
      ]
     },
     "execution_count": 34,
     "metadata": {},
     "output_type": "execute_result"
    }
   ],
   "source": [
    "stockdf.sort_values( by= '\\n    外資\\n    \\n     買賣超股數\\n    \\n   ', ascending=False).head()\n"
   ]
  },
  {
   "cell_type": "code",
   "execution_count": 35,
   "metadata": {
    "collapsed": true
   },
   "outputs": [],
   "source": [
    "stockdf.to_excel('stock2.xlsx')"
   ]
  },
  {
   "cell_type": "markdown",
   "metadata": {},
   "source": [
    "## 抓取多天期的三大法人買賣資訊"
   ]
  },
  {
   "cell_type": "code",
   "execution_count": 46,
   "metadata": {
    "collapsed": true
   },
   "outputs": [],
   "source": [
    "payload = {\n",
    "'qdate':'106/04/13',\n",
    "'select2':'24',\n",
    "'sorting':'by_issue'\n",
    "}"
   ]
  },
  {
   "cell_type": "code",
   "execution_count": 48,
   "metadata": {
    "collapsed": false
   },
   "outputs": [
    {
     "data": {
      "text/plain": [
       "'106/04/13'"
      ]
     },
     "execution_count": 48,
     "metadata": {},
     "output_type": "execute_result"
    }
   ],
   "source": [
    "payload['qdate']"
   ]
  },
  {
   "cell_type": "code",
   "execution_count": 49,
   "metadata": {
    "collapsed": true
   },
   "outputs": [],
   "source": [
    "payload['qdate'] = '106/04/12'"
   ]
  },
  {
   "cell_type": "code",
   "execution_count": 50,
   "metadata": {
    "collapsed": false
   },
   "outputs": [
    {
     "data": {
      "text/plain": [
       "{'qdate': '106/04/12', 'select2': '24', 'sorting': 'by_issue'}"
      ]
     },
     "execution_count": 50,
     "metadata": {},
     "output_type": "execute_result"
    }
   ],
   "source": [
    "payload"
   ]
  },
  {
   "cell_type": "markdown",
   "metadata": {},
   "source": [
    "### 時間與字串之間的轉換"
   ]
  },
  {
   "cell_type": "code",
   "execution_count": 54,
   "metadata": {
    "collapsed": false
   },
   "outputs": [],
   "source": [
    "from datetime import datetime\n",
    "type(datetime.now())\n",
    "currenttime = datetime.now()"
   ]
  },
  {
   "cell_type": "markdown",
   "metadata": {},
   "source": [
    "### Strftime 文件\n",
    "- https://docs.python.org/3/library/datetime.html#strftime-and-strptime-behavior"
   ]
  },
  {
   "cell_type": "code",
   "execution_count": 56,
   "metadata": {
    "collapsed": false
   },
   "outputs": [
    {
     "data": {
      "text/plain": [
       "'2017-04-16'"
      ]
     },
     "execution_count": 56,
     "metadata": {},
     "output_type": "execute_result"
    }
   ],
   "source": [
    "currenttime.strftime('%Y-%m-%d')"
   ]
  },
  {
   "cell_type": "code",
   "execution_count": 57,
   "metadata": {
    "collapsed": false
   },
   "outputs": [
    {
     "data": {
      "text/plain": [
       "datetime.datetime(2017, 4, 16, 14, 0)"
      ]
     },
     "execution_count": 57,
     "metadata": {},
     "output_type": "execute_result"
    }
   ],
   "source": [
    "a = '2017-04-16 14:00'\n",
    "datetime.strptime(a, '%Y-%m-%d %H:%M')"
   ]
  },
  {
   "cell_type": "markdown",
   "metadata": {},
   "source": [
    "### 往前幾天"
   ]
  },
  {
   "cell_type": "code",
   "execution_count": 61,
   "metadata": {
    "collapsed": false
   },
   "outputs": [
    {
     "data": {
      "text/plain": [
       "datetime.datetime(2014, 7, 21, 14, 59, 44, 238758)"
      ]
     },
     "execution_count": 61,
     "metadata": {},
     "output_type": "execute_result"
    }
   ],
   "source": [
    "from datetime import datetime, timedelta\n",
    "currenttime = datetime.now()\n",
    "currenttime - timedelta(days = 1000)"
   ]
  },
  {
   "cell_type": "markdown",
   "metadata": {},
   "source": [
    "### 產生民國年月日"
   ]
  },
  {
   "cell_type": "code",
   "execution_count": 72,
   "metadata": {
    "collapsed": false
   },
   "outputs": [],
   "source": [
    "currenttime = datetime.now()\n",
    "year      = int(currenttime.strftime('%Y')) -1911\n",
    "monthdate = currenttime.strftime('%m/%d')\n",
    "#str(year) + '/' + monthdate\n",
    "ymd = '{}/{}'.format(year, monthdate)"
   ]
  },
  {
   "cell_type": "code",
   "execution_count": 74,
   "metadata": {
    "collapsed": true
   },
   "outputs": [],
   "source": [
    "def getTWDate(dt):\n",
    "    year      = int(dt.strftime('%Y')) -1911\n",
    "    monthdate = dt.strftime('%m/%d')\n",
    "    ymd = '{}/{}'.format(year, monthdate)\n",
    "    return ymd"
   ]
  },
  {
   "cell_type": "code",
   "execution_count": 78,
   "metadata": {
    "collapsed": false
   },
   "outputs": [
    {
     "data": {
      "text/plain": [
       "'106/04/16'"
      ]
     },
     "execution_count": 78,
     "metadata": {},
     "output_type": "execute_result"
    }
   ],
   "source": [
    "currenttime = datetime.now()\n",
    "getTWDate(currenttime)"
   ]
  },
  {
   "cell_type": "code",
   "execution_count": 84,
   "metadata": {
    "collapsed": false
   },
   "outputs": [
    {
     "name": "stdout",
     "output_type": "stream",
     "text": [
      "106/04/15\n",
      "106/04/14\n",
      "106/04/13\n",
      "106/04/12\n",
      "106/04/11\n",
      "106/04/10\n",
      "106/04/09\n",
      "106/04/08\n",
      "106/04/07\n"
     ]
    }
   ],
   "source": [
    "from datetime import datetime ,timedelta\n",
    "# for(i = 1; i< 11; i++)\n",
    "for i in range(1,10):\n",
    "    #print(i)\n",
    "    dt = currenttime - timedelta(days = i)\n",
    "    #print(dt)\n",
    "    print(getTWDate(dt))\n",
    "    "
   ]
  },
  {
   "cell_type": "markdown",
   "metadata": {},
   "source": [
    "### 增添欄位"
   ]
  },
  {
   "cell_type": "code",
   "execution_count": 94,
   "metadata": {
    "collapsed": false
   },
   "outputs": [
    {
     "data": {
      "text/html": [
       "<div>\n",
       "<table border=\"1\" class=\"dataframe\">\n",
       "  <thead>\n",
       "    <tr style=\"text-align: right;\">\n",
       "      <th></th>\n",
       "      <th>證券\n",
       "    \n",
       "     代號</th>\n",
       "      <th>證券\n",
       "    \n",
       "     名稱</th>\n",
       "      <th>外資\n",
       "    \n",
       "     買進股數</th>\n",
       "      <th>外資\n",
       "    \n",
       "     賣出股數</th>\n",
       "      <th>外資\n",
       "    \n",
       "     買賣超股數</th>\n",
       "      <th>投信\n",
       "    \n",
       "     買進股數</th>\n",
       "      <th>投信\n",
       "    \n",
       "     賣出股數</th>\n",
       "      <th>投信\n",
       "    \n",
       "     買賣超股數</th>\n",
       "      <th>自營商\n",
       "    \n",
       "     買賣超股數</th>\n",
       "      <th>自營商\n",
       "    \n",
       "     買進股數\n",
       "     \n",
       "      (自行買賣)</th>\n",
       "      <th>自營商\n",
       "    \n",
       "     賣出股數\n",
       "     \n",
       "      (自行買賣)</th>\n",
       "      <th>自營商\n",
       "    \n",
       "     買賣超股數\n",
       "     \n",
       "      (自行買賣)</th>\n",
       "      <th>自營商\n",
       "    \n",
       "     買進股數\n",
       "     \n",
       "      (避險)</th>\n",
       "      <th>自營商\n",
       "    \n",
       "     賣出股數\n",
       "     \n",
       "      (避險)</th>\n",
       "      <th>自營商\n",
       "    \n",
       "     買賣超股數\n",
       "     \n",
       "      (避險)</th>\n",
       "      <th>三大法人\n",
       "    \n",
       "     買賣超股數</th>\n",
       "      <th>ymd</th>\n",
       "      <th>qoo</th>\n",
       "    </tr>\n",
       "  </thead>\n",
       "  <tbody>\n",
       "    <tr>\n",
       "      <th>0</th>\n",
       "      <td>2344</td>\n",
       "      <td>華邦電</td>\n",
       "      <td>15123000</td>\n",
       "      <td>8986000</td>\n",
       "      <td>6137000</td>\n",
       "      <td>2433000</td>\n",
       "      <td>350000</td>\n",
       "      <td>2083000</td>\n",
       "      <td>7533000</td>\n",
       "      <td>2510000</td>\n",
       "      <td>979000</td>\n",
       "      <td>1531000</td>\n",
       "      <td>6996000</td>\n",
       "      <td>994000</td>\n",
       "      <td>6002000</td>\n",
       "      <td>15753000</td>\n",
       "      <td>2017-04-07 15:09:35.837595</td>\n",
       "      <td>100</td>\n",
       "    </tr>\n",
       "    <tr>\n",
       "      <th>1</th>\n",
       "      <td>2337</td>\n",
       "      <td>旺宏</td>\n",
       "      <td>13157600</td>\n",
       "      <td>9487606</td>\n",
       "      <td>3669994</td>\n",
       "      <td>8835000</td>\n",
       "      <td>0</td>\n",
       "      <td>8835000</td>\n",
       "      <td>1049000</td>\n",
       "      <td>1050000</td>\n",
       "      <td>1000</td>\n",
       "      <td>1049000</td>\n",
       "      <td>0</td>\n",
       "      <td>0</td>\n",
       "      <td>0</td>\n",
       "      <td>13553994</td>\n",
       "      <td>2017-04-07 15:09:35.837595</td>\n",
       "      <td>100</td>\n",
       "    </tr>\n",
       "    <tr>\n",
       "      <th>2</th>\n",
       "      <td>3006</td>\n",
       "      <td>晶豪科</td>\n",
       "      <td>2678000</td>\n",
       "      <td>854000</td>\n",
       "      <td>1824000</td>\n",
       "      <td>0</td>\n",
       "      <td>0</td>\n",
       "      <td>0</td>\n",
       "      <td>1370000</td>\n",
       "      <td>681000</td>\n",
       "      <td>354000</td>\n",
       "      <td>327000</td>\n",
       "      <td>2294000</td>\n",
       "      <td>1251000</td>\n",
       "      <td>1043000</td>\n",
       "      <td>3194000</td>\n",
       "      <td>2017-04-07 15:09:35.837595</td>\n",
       "      <td>100</td>\n",
       "    </tr>\n",
       "    <tr>\n",
       "      <th>3</th>\n",
       "      <td>2436</td>\n",
       "      <td>偉詮電</td>\n",
       "      <td>950000</td>\n",
       "      <td>124000</td>\n",
       "      <td>826000</td>\n",
       "      <td>0</td>\n",
       "      <td>0</td>\n",
       "      <td>0</td>\n",
       "      <td>99000</td>\n",
       "      <td>260000</td>\n",
       "      <td>161000</td>\n",
       "      <td>99000</td>\n",
       "      <td>0</td>\n",
       "      <td>0</td>\n",
       "      <td>0</td>\n",
       "      <td>925000</td>\n",
       "      <td>2017-04-07 15:09:35.837595</td>\n",
       "      <td>100</td>\n",
       "    </tr>\n",
       "    <tr>\n",
       "      <th>4</th>\n",
       "      <td>2458</td>\n",
       "      <td>義隆</td>\n",
       "      <td>867000</td>\n",
       "      <td>154000</td>\n",
       "      <td>713000</td>\n",
       "      <td>0</td>\n",
       "      <td>0</td>\n",
       "      <td>0</td>\n",
       "      <td>-85000</td>\n",
       "      <td>2000</td>\n",
       "      <td>22000</td>\n",
       "      <td>-20000</td>\n",
       "      <td>18000</td>\n",
       "      <td>83000</td>\n",
       "      <td>-65000</td>\n",
       "      <td>628000</td>\n",
       "      <td>2017-04-07 15:09:35.837595</td>\n",
       "      <td>100</td>\n",
       "    </tr>\n",
       "  </tbody>\n",
       "</table>\n",
       "</div>"
      ],
      "text/plain": [
       "   \\n    證券\\n    \\n     代號\\n    \\n    \\n    證券\\n    \\n     名稱\\n    \\n     \\\n",
       "0                                2344                                華邦電   \n",
       "1                                2337                                 旺宏   \n",
       "2                                3006                                晶豪科   \n",
       "3                                2436                                偉詮電   \n",
       "4                                2458                                 義隆   \n",
       "\n",
       "   \\n    外資\\n    \\n     買進股數\\n    \\n     \\n    外資\\n    \\n     賣出股數\\n    \\n     \\\n",
       "0                              15123000                               8986000   \n",
       "1                              13157600                               9487606   \n",
       "2                               2678000                                854000   \n",
       "3                                950000                                124000   \n",
       "4                                867000                                154000   \n",
       "\n",
       "   \\n    外資\\n    \\n     買賣超股數\\n    \\n     \\\n",
       "0                                6137000   \n",
       "1                                3669994   \n",
       "2                                1824000   \n",
       "3                                 826000   \n",
       "4                                 713000   \n",
       "\n",
       "   \\n    投信\\n    \\n     買進股數\\n    \\n     \\n    投信\\n    \\n     賣出股數\\n    \\n     \\\n",
       "0                               2433000                                350000   \n",
       "1                               8835000                                     0   \n",
       "2                                     0                                     0   \n",
       "3                                     0                                     0   \n",
       "4                                     0                                     0   \n",
       "\n",
       "   \\n    投信\\n    \\n     買賣超股數\\n    \\n     \\\n",
       "0                                2083000   \n",
       "1                                8835000   \n",
       "2                                      0   \n",
       "3                                      0   \n",
       "4                                      0   \n",
       "\n",
       "   \\n    自營商\\n    \\n     買賣超股數\\n    \\n     \\\n",
       "0                                 7533000   \n",
       "1                                 1049000   \n",
       "2                                 1370000   \n",
       "3                                   99000   \n",
       "4                                  -85000   \n",
       "\n",
       "   \\n    自營商\\n    \\n     買進股數\\n     \\n      (自行買賣)\\n     \\n    \\n     \\\n",
       "0                                            2510000                   \n",
       "1                                            1050000                   \n",
       "2                                             681000                   \n",
       "3                                             260000                   \n",
       "4                                               2000                   \n",
       "\n",
       "   \\n    自營商\\n    \\n     賣出股數\\n     \\n      (自行買賣)\\n     \\n    \\n     \\\n",
       "0                                             979000                   \n",
       "1                                               1000                   \n",
       "2                                             354000                   \n",
       "3                                             161000                   \n",
       "4                                              22000                   \n",
       "\n",
       "   \\n    自營商\\n    \\n     買賣超股數\\n     \\n      (自行買賣)\\n     \\n    \\n     \\\n",
       "0                                            1531000                    \n",
       "1                                            1049000                    \n",
       "2                                             327000                    \n",
       "3                                              99000                    \n",
       "4                                             -20000                    \n",
       "\n",
       "   \\n    自營商\\n    \\n     買進股數\\n     \\n      (避險)\\n     \\n    \\n     \\\n",
       "0                                            6996000                 \n",
       "1                                                  0                 \n",
       "2                                            2294000                 \n",
       "3                                                  0                 \n",
       "4                                              18000                 \n",
       "\n",
       "   \\n    自營商\\n    \\n     賣出股數\\n     \\n      (避險)\\n     \\n    \\n     \\\n",
       "0                                             994000                 \n",
       "1                                                  0                 \n",
       "2                                            1251000                 \n",
       "3                                                  0                 \n",
       "4                                              83000                 \n",
       "\n",
       "   \\n    自營商\\n    \\n     買賣超股數\\n     \\n      (避險)\\n     \\n    \\n     \\\n",
       "0                                            6002000                  \n",
       "1                                                  0                  \n",
       "2                                            1043000                  \n",
       "3                                                  0                  \n",
       "4                                             -65000                  \n",
       "\n",
       "   \\n    三大法人\\n    \\n     買賣超股數\\n    \\n                           ymd  qoo  \n",
       "0                                 15753000 2017-04-07 15:09:35.837595  100  \n",
       "1                                 13553994 2017-04-07 15:09:35.837595  100  \n",
       "2                                  3194000 2017-04-07 15:09:35.837595  100  \n",
       "3                                   925000 2017-04-07 15:09:35.837595  100  \n",
       "4                                   628000 2017-04-07 15:09:35.837595  100  "
      ]
     },
     "execution_count": 94,
     "metadata": {},
     "output_type": "execute_result"
    }
   ],
   "source": [
    "a = dfs[0]\n",
    "a['qoo'] = 100\n",
    "a.head()"
   ]
  },
  {
   "cell_type": "code",
   "execution_count": 100,
   "metadata": {
    "collapsed": true
   },
   "outputs": [],
   "source": [
    "url = 'http://www.twse.com.tw/ch/trading/fund/T86/T86.php'\n",
    "\n",
    "payload = {\n",
    "'qdate':'106/04/13',\n",
    "'select2':'24',\n",
    "'sorting':'by_issue'\n",
    "}\n",
    "\n",
    "def getTradingVolume(dt):\n",
    "    payload['qdate'] = getTWDate(dt)\n",
    "    res  = requests.post(url, data = payload)\n",
    "    soup = BeautifulSoup(res.text, 'html.parser')\n",
    "    tbl  = soup.select('#tbl-sortable')[0]\n",
    "    dfs  = pandas.read_html(tbl.prettify('utf-8'))\n",
    "    stockdf  = dfs[0]\n",
    "    stockdf['ymd'] = dt\n",
    "    return stockdf"
   ]
  },
  {
   "cell_type": "code",
   "execution_count": 101,
   "metadata": {
    "collapsed": false
   },
   "outputs": [],
   "source": [
    "dfs = []\n",
    "for i in range(1,10):\n",
    "    dt = currenttime - timedelta(days = i)\n",
    "    dfs.append(getTradingVolume(dt))"
   ]
  },
  {
   "cell_type": "code",
   "execution_count": 102,
   "metadata": {
    "collapsed": false
   },
   "outputs": [
    {
     "data": {
      "text/plain": [
       "9"
      ]
     },
     "execution_count": 102,
     "metadata": {},
     "output_type": "execute_result"
    }
   ],
   "source": [
    "len(dfs)"
   ]
  },
  {
   "cell_type": "code",
   "execution_count": 103,
   "metadata": {
    "collapsed": false
   },
   "outputs": [
    {
     "data": {
      "text/html": [
       "<div>\n",
       "<table border=\"1\" class=\"dataframe\">\n",
       "  <thead>\n",
       "    <tr style=\"text-align: right;\">\n",
       "      <th></th>\n",
       "      <th>證券\n",
       "    \n",
       "     代號</th>\n",
       "      <th>證券\n",
       "    \n",
       "     名稱</th>\n",
       "      <th>外資\n",
       "    \n",
       "     買進股數</th>\n",
       "      <th>外資\n",
       "    \n",
       "     賣出股數</th>\n",
       "      <th>外資\n",
       "    \n",
       "     買賣超股數</th>\n",
       "      <th>投信\n",
       "    \n",
       "     買進股數</th>\n",
       "      <th>投信\n",
       "    \n",
       "     賣出股數</th>\n",
       "      <th>投信\n",
       "    \n",
       "     買賣超股數</th>\n",
       "      <th>自營商\n",
       "    \n",
       "     買賣超股數</th>\n",
       "      <th>自營商\n",
       "    \n",
       "     買進股數\n",
       "     \n",
       "      (自行買賣)</th>\n",
       "      <th>自營商\n",
       "    \n",
       "     賣出股數\n",
       "     \n",
       "      (自行買賣)</th>\n",
       "      <th>自營商\n",
       "    \n",
       "     買賣超股數\n",
       "     \n",
       "      (自行買賣)</th>\n",
       "      <th>自營商\n",
       "    \n",
       "     買進股數\n",
       "     \n",
       "      (避險)</th>\n",
       "      <th>自營商\n",
       "    \n",
       "     賣出股數\n",
       "     \n",
       "      (避險)</th>\n",
       "      <th>自營商\n",
       "    \n",
       "     買賣超股數\n",
       "     \n",
       "      (避險)</th>\n",
       "      <th>三大法人\n",
       "    \n",
       "     買賣超股數</th>\n",
       "      <th>ymd</th>\n",
       "    </tr>\n",
       "  </thead>\n",
       "  <tbody>\n",
       "    <tr>\n",
       "      <th>0</th>\n",
       "      <td>2337.0</td>\n",
       "      <td>旺宏</td>\n",
       "      <td>10474000.0</td>\n",
       "      <td>4552000.0</td>\n",
       "      <td>5922000.0</td>\n",
       "      <td>0.0</td>\n",
       "      <td>0.0</td>\n",
       "      <td>0.0</td>\n",
       "      <td>-572000.0</td>\n",
       "      <td>230000.0</td>\n",
       "      <td>802000.0</td>\n",
       "      <td>-572000.0</td>\n",
       "      <td>0.0</td>\n",
       "      <td>0.0</td>\n",
       "      <td>0.0</td>\n",
       "      <td>5350000.0</td>\n",
       "      <td>2017-04-14 15:09:35.837595</td>\n",
       "    </tr>\n",
       "    <tr>\n",
       "      <th>1</th>\n",
       "      <td>3006.0</td>\n",
       "      <td>晶豪科</td>\n",
       "      <td>2101000.0</td>\n",
       "      <td>1033000.0</td>\n",
       "      <td>1068000.0</td>\n",
       "      <td>0.0</td>\n",
       "      <td>1000.0</td>\n",
       "      <td>-1000.0</td>\n",
       "      <td>566000.0</td>\n",
       "      <td>457000.0</td>\n",
       "      <td>436000.0</td>\n",
       "      <td>21000.0</td>\n",
       "      <td>837000.0</td>\n",
       "      <td>292000.0</td>\n",
       "      <td>545000.0</td>\n",
       "      <td>1633000.0</td>\n",
       "      <td>2017-04-14 15:09:35.837595</td>\n",
       "    </tr>\n",
       "    <tr>\n",
       "      <th>2</th>\n",
       "      <td>3661.0</td>\n",
       "      <td>世芯-KY</td>\n",
       "      <td>511000.0</td>\n",
       "      <td>341000.0</td>\n",
       "      <td>170000.0</td>\n",
       "      <td>450000.0</td>\n",
       "      <td>0.0</td>\n",
       "      <td>450000.0</td>\n",
       "      <td>-40000.0</td>\n",
       "      <td>0.0</td>\n",
       "      <td>40000.0</td>\n",
       "      <td>-40000.0</td>\n",
       "      <td>0.0</td>\n",
       "      <td>0.0</td>\n",
       "      <td>0.0</td>\n",
       "      <td>580000.0</td>\n",
       "      <td>2017-04-14 15:09:35.837595</td>\n",
       "    </tr>\n",
       "    <tr>\n",
       "      <th>3</th>\n",
       "      <td>3016.0</td>\n",
       "      <td>嘉晶</td>\n",
       "      <td>579000.0</td>\n",
       "      <td>32000.0</td>\n",
       "      <td>547000.0</td>\n",
       "      <td>0.0</td>\n",
       "      <td>1000.0</td>\n",
       "      <td>-1000.0</td>\n",
       "      <td>-60000.0</td>\n",
       "      <td>0.0</td>\n",
       "      <td>60000.0</td>\n",
       "      <td>-60000.0</td>\n",
       "      <td>0.0</td>\n",
       "      <td>0.0</td>\n",
       "      <td>0.0</td>\n",
       "      <td>486000.0</td>\n",
       "      <td>2017-04-14 15:09:35.837595</td>\n",
       "    </tr>\n",
       "    <tr>\n",
       "      <th>4</th>\n",
       "      <td>2436.0</td>\n",
       "      <td>偉詮電</td>\n",
       "      <td>489000.0</td>\n",
       "      <td>74000.0</td>\n",
       "      <td>415000.0</td>\n",
       "      <td>0.0</td>\n",
       "      <td>1000.0</td>\n",
       "      <td>-1000.0</td>\n",
       "      <td>0.0</td>\n",
       "      <td>0.0</td>\n",
       "      <td>0.0</td>\n",
       "      <td>0.0</td>\n",
       "      <td>0.0</td>\n",
       "      <td>0.0</td>\n",
       "      <td>0.0</td>\n",
       "      <td>414000.0</td>\n",
       "      <td>2017-04-14 15:09:35.837595</td>\n",
       "    </tr>\n",
       "  </tbody>\n",
       "</table>\n",
       "</div>"
      ],
      "text/plain": [
       "   \\n    證券\\n    \\n     代號\\n    \\n    \\n    證券\\n    \\n     名稱\\n    \\n     \\\n",
       "0                              2337.0                                 旺宏   \n",
       "1                              3006.0                                晶豪科   \n",
       "2                              3661.0                              世芯-KY   \n",
       "3                              3016.0                                 嘉晶   \n",
       "4                              2436.0                                偉詮電   \n",
       "\n",
       "   \\n    外資\\n    \\n     買進股數\\n    \\n     \\n    外資\\n    \\n     賣出股數\\n    \\n     \\\n",
       "0                            10474000.0                             4552000.0   \n",
       "1                             2101000.0                             1033000.0   \n",
       "2                              511000.0                              341000.0   \n",
       "3                              579000.0                               32000.0   \n",
       "4                              489000.0                               74000.0   \n",
       "\n",
       "   \\n    外資\\n    \\n     買賣超股數\\n    \\n     \\\n",
       "0                              5922000.0   \n",
       "1                              1068000.0   \n",
       "2                               170000.0   \n",
       "3                               547000.0   \n",
       "4                               415000.0   \n",
       "\n",
       "   \\n    投信\\n    \\n     買進股數\\n    \\n     \\n    投信\\n    \\n     賣出股數\\n    \\n     \\\n",
       "0                                   0.0                                   0.0   \n",
       "1                                   0.0                                1000.0   \n",
       "2                              450000.0                                   0.0   \n",
       "3                                   0.0                                1000.0   \n",
       "4                                   0.0                                1000.0   \n",
       "\n",
       "   \\n    投信\\n    \\n     買賣超股數\\n    \\n     \\\n",
       "0                                    0.0   \n",
       "1                                -1000.0   \n",
       "2                               450000.0   \n",
       "3                                -1000.0   \n",
       "4                                -1000.0   \n",
       "\n",
       "   \\n    自營商\\n    \\n     買賣超股數\\n    \\n     \\\n",
       "0                               -572000.0   \n",
       "1                                566000.0   \n",
       "2                                -40000.0   \n",
       "3                                -60000.0   \n",
       "4                                     0.0   \n",
       "\n",
       "   \\n    自營商\\n    \\n     買進股數\\n     \\n      (自行買賣)\\n     \\n    \\n     \\\n",
       "0                                           230000.0                   \n",
       "1                                           457000.0                   \n",
       "2                                                0.0                   \n",
       "3                                                0.0                   \n",
       "4                                                0.0                   \n",
       "\n",
       "   \\n    自營商\\n    \\n     賣出股數\\n     \\n      (自行買賣)\\n     \\n    \\n     \\\n",
       "0                                           802000.0                   \n",
       "1                                           436000.0                   \n",
       "2                                            40000.0                   \n",
       "3                                            60000.0                   \n",
       "4                                                0.0                   \n",
       "\n",
       "   \\n    自營商\\n    \\n     買賣超股數\\n     \\n      (自行買賣)\\n     \\n    \\n     \\\n",
       "0                                          -572000.0                    \n",
       "1                                            21000.0                    \n",
       "2                                           -40000.0                    \n",
       "3                                           -60000.0                    \n",
       "4                                                0.0                    \n",
       "\n",
       "   \\n    自營商\\n    \\n     買進股數\\n     \\n      (避險)\\n     \\n    \\n     \\\n",
       "0                                                0.0                 \n",
       "1                                           837000.0                 \n",
       "2                                                0.0                 \n",
       "3                                                0.0                 \n",
       "4                                                0.0                 \n",
       "\n",
       "   \\n    自營商\\n    \\n     賣出股數\\n     \\n      (避險)\\n     \\n    \\n     \\\n",
       "0                                                0.0                 \n",
       "1                                           292000.0                 \n",
       "2                                                0.0                 \n",
       "3                                                0.0                 \n",
       "4                                                0.0                 \n",
       "\n",
       "   \\n    自營商\\n    \\n     買賣超股數\\n     \\n      (避險)\\n     \\n    \\n     \\\n",
       "0                                                0.0                  \n",
       "1                                           545000.0                  \n",
       "2                                                0.0                  \n",
       "3                                                0.0                  \n",
       "4                                                0.0                  \n",
       "\n",
       "   \\n    三大法人\\n    \\n     買賣超股數\\n    \\n                           ymd  \n",
       "0                                5350000.0 2017-04-14 15:09:35.837595  \n",
       "1                                1633000.0 2017-04-14 15:09:35.837595  \n",
       "2                                 580000.0 2017-04-14 15:09:35.837595  \n",
       "3                                 486000.0 2017-04-14 15:09:35.837595  \n",
       "4                                 414000.0 2017-04-14 15:09:35.837595  "
      ]
     },
     "execution_count": 103,
     "metadata": {},
     "output_type": "execute_result"
    }
   ],
   "source": [
    "import pandas\n",
    "stockdf = pandas.concat(dfs, ignore_index = True)\n",
    "stockdf.head()"
   ]
  },
  {
   "cell_type": "code",
   "execution_count": 104,
   "metadata": {
    "collapsed": false
   },
   "outputs": [
    {
     "data": {
      "text/html": [
       "<div>\n",
       "<table border=\"1\" class=\"dataframe\">\n",
       "  <thead>\n",
       "    <tr style=\"text-align: right;\">\n",
       "      <th></th>\n",
       "      <th>證券\n",
       "    \n",
       "     代號</th>\n",
       "      <th>證券\n",
       "    \n",
       "     名稱</th>\n",
       "      <th>外資\n",
       "    \n",
       "     買進股數</th>\n",
       "      <th>外資\n",
       "    \n",
       "     賣出股數</th>\n",
       "      <th>外資\n",
       "    \n",
       "     買賣超股數</th>\n",
       "      <th>投信\n",
       "    \n",
       "     買進股數</th>\n",
       "      <th>投信\n",
       "    \n",
       "     賣出股數</th>\n",
       "      <th>投信\n",
       "    \n",
       "     買賣超股數</th>\n",
       "      <th>自營商\n",
       "    \n",
       "     買賣超股數</th>\n",
       "      <th>自營商\n",
       "    \n",
       "     買進股數\n",
       "     \n",
       "      (自行買賣)</th>\n",
       "      <th>自營商\n",
       "    \n",
       "     賣出股數\n",
       "     \n",
       "      (自行買賣)</th>\n",
       "      <th>自營商\n",
       "    \n",
       "     買賣超股數\n",
       "     \n",
       "      (自行買賣)</th>\n",
       "      <th>自營商\n",
       "    \n",
       "     買進股數\n",
       "     \n",
       "      (避險)</th>\n",
       "      <th>自營商\n",
       "    \n",
       "     賣出股數\n",
       "     \n",
       "      (避險)</th>\n",
       "      <th>自營商\n",
       "    \n",
       "     買賣超股數\n",
       "     \n",
       "      (避險)</th>\n",
       "      <th>三大法人\n",
       "    \n",
       "     買賣超股數</th>\n",
       "      <th>ymd</th>\n",
       "    </tr>\n",
       "  </thead>\n",
       "  <tbody>\n",
       "    <tr>\n",
       "      <th>69</th>\n",
       "      <td>2330.0</td>\n",
       "      <td>台積電</td>\n",
       "      <td>7041000.0</td>\n",
       "      <td>20324690.0</td>\n",
       "      <td>-13283690.0</td>\n",
       "      <td>40000.0</td>\n",
       "      <td>491000.0</td>\n",
       "      <td>-451000.0</td>\n",
       "      <td>755000.0</td>\n",
       "      <td>701000.0</td>\n",
       "      <td>230000.0</td>\n",
       "      <td>471000.0</td>\n",
       "      <td>701000.0</td>\n",
       "      <td>417000.0</td>\n",
       "      <td>284000.0</td>\n",
       "      <td>-12979690.0</td>\n",
       "      <td>2017-04-14 15:09:35.837595</td>\n",
       "    </tr>\n",
       "    <tr>\n",
       "      <th>72</th>\n",
       "      <td>2330.0</td>\n",
       "      <td>台積電</td>\n",
       "      <td>8737954.0</td>\n",
       "      <td>7580701.0</td>\n",
       "      <td>1157253.0</td>\n",
       "      <td>202000.0</td>\n",
       "      <td>167000.0</td>\n",
       "      <td>35000.0</td>\n",
       "      <td>-253000.0</td>\n",
       "      <td>171000.0</td>\n",
       "      <td>905000.0</td>\n",
       "      <td>-734000.0</td>\n",
       "      <td>624000.0</td>\n",
       "      <td>143000.0</td>\n",
       "      <td>481000.0</td>\n",
       "      <td>939253.0</td>\n",
       "      <td>2017-04-13 15:09:35.837595</td>\n",
       "    </tr>\n",
       "    <tr>\n",
       "      <th>145</th>\n",
       "      <td>2330.0</td>\n",
       "      <td>台積電</td>\n",
       "      <td>12328903.0</td>\n",
       "      <td>11543037.0</td>\n",
       "      <td>785866.0</td>\n",
       "      <td>208000.0</td>\n",
       "      <td>91000.0</td>\n",
       "      <td>117000.0</td>\n",
       "      <td>-71000.0</td>\n",
       "      <td>21000.0</td>\n",
       "      <td>160000.0</td>\n",
       "      <td>-139000.0</td>\n",
       "      <td>136000.0</td>\n",
       "      <td>68000.0</td>\n",
       "      <td>68000.0</td>\n",
       "      <td>831866.0</td>\n",
       "      <td>2017-04-12 15:09:35.837595</td>\n",
       "    </tr>\n",
       "    <tr>\n",
       "      <th>279</th>\n",
       "      <td>2330.0</td>\n",
       "      <td>台積電</td>\n",
       "      <td>7001711.0</td>\n",
       "      <td>7208669.0</td>\n",
       "      <td>-206958.0</td>\n",
       "      <td>25000.0</td>\n",
       "      <td>110000.0</td>\n",
       "      <td>-85000.0</td>\n",
       "      <td>-445000.0</td>\n",
       "      <td>60000.0</td>\n",
       "      <td>123000.0</td>\n",
       "      <td>-63000.0</td>\n",
       "      <td>230000.0</td>\n",
       "      <td>612000.0</td>\n",
       "      <td>-382000.0</td>\n",
       "      <td>-736958.0</td>\n",
       "      <td>2017-04-11 15:09:35.837595</td>\n",
       "    </tr>\n",
       "    <tr>\n",
       "      <th>352</th>\n",
       "      <td>2330.0</td>\n",
       "      <td>台積電</td>\n",
       "      <td>12613451.0</td>\n",
       "      <td>15089280.0</td>\n",
       "      <td>-2475829.0</td>\n",
       "      <td>31000.0</td>\n",
       "      <td>59000.0</td>\n",
       "      <td>-28000.0</td>\n",
       "      <td>116000.0</td>\n",
       "      <td>77000.0</td>\n",
       "      <td>22000.0</td>\n",
       "      <td>55000.0</td>\n",
       "      <td>79000.0</td>\n",
       "      <td>18000.0</td>\n",
       "      <td>61000.0</td>\n",
       "      <td>-2387829.0</td>\n",
       "      <td>2017-04-10 15:09:35.837595</td>\n",
       "    </tr>\n",
       "    <tr>\n",
       "      <th>426</th>\n",
       "      <td>2330.0</td>\n",
       "      <td>台積電</td>\n",
       "      <td>10468183.0</td>\n",
       "      <td>12014328.0</td>\n",
       "      <td>-1546145.0</td>\n",
       "      <td>74000.0</td>\n",
       "      <td>306000.0</td>\n",
       "      <td>-232000.0</td>\n",
       "      <td>-616000.0</td>\n",
       "      <td>766000.0</td>\n",
       "      <td>1605000.0</td>\n",
       "      <td>-839000.0</td>\n",
       "      <td>393000.0</td>\n",
       "      <td>170000.0</td>\n",
       "      <td>223000.0</td>\n",
       "      <td>-2394145.0</td>\n",
       "      <td>2017-04-07 15:09:35.837595</td>\n",
       "    </tr>\n",
       "  </tbody>\n",
       "</table>\n",
       "</div>"
      ],
      "text/plain": [
       "     \\n    證券\\n    \\n     代號\\n    \\n    \\n    證券\\n    \\n     名稱\\n    \\n     \\\n",
       "69                               2330.0                                台積電   \n",
       "72                               2330.0                                台積電   \n",
       "145                              2330.0                                台積電   \n",
       "279                              2330.0                                台積電   \n",
       "352                              2330.0                                台積電   \n",
       "426                              2330.0                                台積電   \n",
       "\n",
       "     \\n    外資\\n    \\n     買進股數\\n    \\n     \\\n",
       "69                              7041000.0   \n",
       "72                              8737954.0   \n",
       "145                            12328903.0   \n",
       "279                             7001711.0   \n",
       "352                            12613451.0   \n",
       "426                            10468183.0   \n",
       "\n",
       "     \\n    外資\\n    \\n     賣出股數\\n    \\n     \\\n",
       "69                             20324690.0   \n",
       "72                              7580701.0   \n",
       "145                            11543037.0   \n",
       "279                             7208669.0   \n",
       "352                            15089280.0   \n",
       "426                            12014328.0   \n",
       "\n",
       "     \\n    外資\\n    \\n     買賣超股數\\n    \\n     \\\n",
       "69                             -13283690.0   \n",
       "72                               1157253.0   \n",
       "145                               785866.0   \n",
       "279                              -206958.0   \n",
       "352                             -2475829.0   \n",
       "426                             -1546145.0   \n",
       "\n",
       "     \\n    投信\\n    \\n     買進股數\\n    \\n     \\\n",
       "69                                40000.0   \n",
       "72                               202000.0   \n",
       "145                              208000.0   \n",
       "279                               25000.0   \n",
       "352                               31000.0   \n",
       "426                               74000.0   \n",
       "\n",
       "     \\n    投信\\n    \\n     賣出股數\\n    \\n     \\\n",
       "69                               491000.0   \n",
       "72                               167000.0   \n",
       "145                               91000.0   \n",
       "279                              110000.0   \n",
       "352                               59000.0   \n",
       "426                              306000.0   \n",
       "\n",
       "     \\n    投信\\n    \\n     買賣超股數\\n    \\n     \\\n",
       "69                               -451000.0   \n",
       "72                                 35000.0   \n",
       "145                               117000.0   \n",
       "279                               -85000.0   \n",
       "352                               -28000.0   \n",
       "426                              -232000.0   \n",
       "\n",
       "     \\n    自營商\\n    \\n     買賣超股數\\n    \\n     \\\n",
       "69                                 755000.0   \n",
       "72                                -253000.0   \n",
       "145                                -71000.0   \n",
       "279                               -445000.0   \n",
       "352                                116000.0   \n",
       "426                               -616000.0   \n",
       "\n",
       "     \\n    自營商\\n    \\n     買進股數\\n     \\n      (自行買賣)\\n     \\n    \\n     \\\n",
       "69                                            701000.0                   \n",
       "72                                            171000.0                   \n",
       "145                                            21000.0                   \n",
       "279                                            60000.0                   \n",
       "352                                            77000.0                   \n",
       "426                                           766000.0                   \n",
       "\n",
       "     \\n    自營商\\n    \\n     賣出股數\\n     \\n      (自行買賣)\\n     \\n    \\n     \\\n",
       "69                                            230000.0                   \n",
       "72                                            905000.0                   \n",
       "145                                           160000.0                   \n",
       "279                                           123000.0                   \n",
       "352                                            22000.0                   \n",
       "426                                          1605000.0                   \n",
       "\n",
       "     \\n    自營商\\n    \\n     買賣超股數\\n     \\n      (自行買賣)\\n     \\n    \\n     \\\n",
       "69                                            471000.0                    \n",
       "72                                           -734000.0                    \n",
       "145                                          -139000.0                    \n",
       "279                                           -63000.0                    \n",
       "352                                            55000.0                    \n",
       "426                                          -839000.0                    \n",
       "\n",
       "     \\n    自營商\\n    \\n     買進股數\\n     \\n      (避險)\\n     \\n    \\n     \\\n",
       "69                                            701000.0                 \n",
       "72                                            624000.0                 \n",
       "145                                           136000.0                 \n",
       "279                                           230000.0                 \n",
       "352                                            79000.0                 \n",
       "426                                           393000.0                 \n",
       "\n",
       "     \\n    自營商\\n    \\n     賣出股數\\n     \\n      (避險)\\n     \\n    \\n     \\\n",
       "69                                            417000.0                 \n",
       "72                                            143000.0                 \n",
       "145                                            68000.0                 \n",
       "279                                           612000.0                 \n",
       "352                                            18000.0                 \n",
       "426                                           170000.0                 \n",
       "\n",
       "     \\n    自營商\\n    \\n     買賣超股數\\n     \\n      (避險)\\n     \\n    \\n     \\\n",
       "69                                            284000.0                  \n",
       "72                                            481000.0                  \n",
       "145                                            68000.0                  \n",
       "279                                          -382000.0                  \n",
       "352                                            61000.0                  \n",
       "426                                           223000.0                  \n",
       "\n",
       "     \\n    三大法人\\n    \\n     買賣超股數\\n    \\n                           ymd  \n",
       "69                               -12979690.0 2017-04-14 15:09:35.837595  \n",
       "72                                  939253.0 2017-04-13 15:09:35.837595  \n",
       "145                                 831866.0 2017-04-12 15:09:35.837595  \n",
       "279                                -736958.0 2017-04-11 15:09:35.837595  \n",
       "352                               -2387829.0 2017-04-10 15:09:35.837595  \n",
       "426                               -2394145.0 2017-04-07 15:09:35.837595  "
      ]
     },
     "execution_count": 104,
     "metadata": {},
     "output_type": "execute_result"
    }
   ],
   "source": [
    "stockdf[stockdf['\\n    證券\\n    \\n     代號\\n    \\n   ']  == 2330]"
   ]
  },
  {
   "cell_type": "code",
   "execution_count": 106,
   "metadata": {
    "collapsed": false
   },
   "outputs": [],
   "source": [
    "stockdf.to_excel('stock3.xlsx')"
   ]
  },
  {
   "cell_type": "markdown",
   "metadata": {},
   "source": [
    "## 更改DataFrame 的名稱"
   ]
  },
  {
   "cell_type": "code",
   "execution_count": 115,
   "metadata": {
    "collapsed": false
   },
   "outputs": [
    {
     "name": "stdout",
     "output_type": "stream",
     "text": [
      "證券代號\n"
     ]
    }
   ],
   "source": [
    "a = '\\n    證券\\n    \\n     代號\\n    \\n   '\n",
    "#print(a.strip())\n",
    "print(''.join(a.strip().split()))"
   ]
  },
  {
   "cell_type": "code",
   "execution_count": 116,
   "metadata": {
    "collapsed": false
   },
   "outputs": [],
   "source": [
    "newcolumns = []\n",
    "for ele in stockdf.columns:\n",
    "    newcolumns.append(''.join(ele.strip().split()))"
   ]
  },
  {
   "cell_type": "code",
   "execution_count": 118,
   "metadata": {
    "collapsed": false
   },
   "outputs": [],
   "source": [
    "stockdf.columns = newcolumns"
   ]
  },
  {
   "cell_type": "code",
   "execution_count": 119,
   "metadata": {
    "collapsed": false
   },
   "outputs": [
    {
     "data": {
      "text/html": [
       "<div>\n",
       "<table border=\"1\" class=\"dataframe\">\n",
       "  <thead>\n",
       "    <tr style=\"text-align: right;\">\n",
       "      <th></th>\n",
       "      <th>證券代號</th>\n",
       "      <th>證券名稱</th>\n",
       "      <th>外資買進股數</th>\n",
       "      <th>外資賣出股數</th>\n",
       "      <th>外資買賣超股數</th>\n",
       "      <th>投信買進股數</th>\n",
       "      <th>投信賣出股數</th>\n",
       "      <th>投信買賣超股數</th>\n",
       "      <th>自營商買賣超股數</th>\n",
       "      <th>自營商買進股數(自行買賣)</th>\n",
       "      <th>自營商賣出股數(自行買賣)</th>\n",
       "      <th>自營商買賣超股數(自行買賣)</th>\n",
       "      <th>自營商買進股數(避險)</th>\n",
       "      <th>自營商賣出股數(避險)</th>\n",
       "      <th>自營商買賣超股數(避險)</th>\n",
       "      <th>三大法人買賣超股數</th>\n",
       "      <th>ymd</th>\n",
       "    </tr>\n",
       "  </thead>\n",
       "  <tbody>\n",
       "    <tr>\n",
       "      <th>0</th>\n",
       "      <td>2337.0</td>\n",
       "      <td>旺宏</td>\n",
       "      <td>10474000.0</td>\n",
       "      <td>4552000.0</td>\n",
       "      <td>5922000.0</td>\n",
       "      <td>0.0</td>\n",
       "      <td>0.0</td>\n",
       "      <td>0.0</td>\n",
       "      <td>-572000.0</td>\n",
       "      <td>230000.0</td>\n",
       "      <td>802000.0</td>\n",
       "      <td>-572000.0</td>\n",
       "      <td>0.0</td>\n",
       "      <td>0.0</td>\n",
       "      <td>0.0</td>\n",
       "      <td>5350000.0</td>\n",
       "      <td>2017-04-14 15:09:35.837595</td>\n",
       "    </tr>\n",
       "    <tr>\n",
       "      <th>1</th>\n",
       "      <td>3006.0</td>\n",
       "      <td>晶豪科</td>\n",
       "      <td>2101000.0</td>\n",
       "      <td>1033000.0</td>\n",
       "      <td>1068000.0</td>\n",
       "      <td>0.0</td>\n",
       "      <td>1000.0</td>\n",
       "      <td>-1000.0</td>\n",
       "      <td>566000.0</td>\n",
       "      <td>457000.0</td>\n",
       "      <td>436000.0</td>\n",
       "      <td>21000.0</td>\n",
       "      <td>837000.0</td>\n",
       "      <td>292000.0</td>\n",
       "      <td>545000.0</td>\n",
       "      <td>1633000.0</td>\n",
       "      <td>2017-04-14 15:09:35.837595</td>\n",
       "    </tr>\n",
       "    <tr>\n",
       "      <th>2</th>\n",
       "      <td>3661.0</td>\n",
       "      <td>世芯-KY</td>\n",
       "      <td>511000.0</td>\n",
       "      <td>341000.0</td>\n",
       "      <td>170000.0</td>\n",
       "      <td>450000.0</td>\n",
       "      <td>0.0</td>\n",
       "      <td>450000.0</td>\n",
       "      <td>-40000.0</td>\n",
       "      <td>0.0</td>\n",
       "      <td>40000.0</td>\n",
       "      <td>-40000.0</td>\n",
       "      <td>0.0</td>\n",
       "      <td>0.0</td>\n",
       "      <td>0.0</td>\n",
       "      <td>580000.0</td>\n",
       "      <td>2017-04-14 15:09:35.837595</td>\n",
       "    </tr>\n",
       "    <tr>\n",
       "      <th>3</th>\n",
       "      <td>3016.0</td>\n",
       "      <td>嘉晶</td>\n",
       "      <td>579000.0</td>\n",
       "      <td>32000.0</td>\n",
       "      <td>547000.0</td>\n",
       "      <td>0.0</td>\n",
       "      <td>1000.0</td>\n",
       "      <td>-1000.0</td>\n",
       "      <td>-60000.0</td>\n",
       "      <td>0.0</td>\n",
       "      <td>60000.0</td>\n",
       "      <td>-60000.0</td>\n",
       "      <td>0.0</td>\n",
       "      <td>0.0</td>\n",
       "      <td>0.0</td>\n",
       "      <td>486000.0</td>\n",
       "      <td>2017-04-14 15:09:35.837595</td>\n",
       "    </tr>\n",
       "    <tr>\n",
       "      <th>4</th>\n",
       "      <td>2436.0</td>\n",
       "      <td>偉詮電</td>\n",
       "      <td>489000.0</td>\n",
       "      <td>74000.0</td>\n",
       "      <td>415000.0</td>\n",
       "      <td>0.0</td>\n",
       "      <td>1000.0</td>\n",
       "      <td>-1000.0</td>\n",
       "      <td>0.0</td>\n",
       "      <td>0.0</td>\n",
       "      <td>0.0</td>\n",
       "      <td>0.0</td>\n",
       "      <td>0.0</td>\n",
       "      <td>0.0</td>\n",
       "      <td>0.0</td>\n",
       "      <td>414000.0</td>\n",
       "      <td>2017-04-14 15:09:35.837595</td>\n",
       "    </tr>\n",
       "  </tbody>\n",
       "</table>\n",
       "</div>"
      ],
      "text/plain": [
       "     證券代號   證券名稱      外資買進股數     外資賣出股數    外資買賣超股數    投信買進股數  投信賣出股數  \\\n",
       "0  2337.0     旺宏  10474000.0  4552000.0  5922000.0       0.0     0.0   \n",
       "1  3006.0    晶豪科   2101000.0  1033000.0  1068000.0       0.0  1000.0   \n",
       "2  3661.0  世芯-KY    511000.0   341000.0   170000.0  450000.0     0.0   \n",
       "3  3016.0     嘉晶    579000.0    32000.0   547000.0       0.0  1000.0   \n",
       "4  2436.0    偉詮電    489000.0    74000.0   415000.0       0.0  1000.0   \n",
       "\n",
       "    投信買賣超股數  自營商買賣超股數  自營商買進股數(自行買賣)  自營商賣出股數(自行買賣)  自營商買賣超股數(自行買賣)  \\\n",
       "0       0.0 -572000.0       230000.0       802000.0       -572000.0   \n",
       "1   -1000.0  566000.0       457000.0       436000.0         21000.0   \n",
       "2  450000.0  -40000.0            0.0        40000.0        -40000.0   \n",
       "3   -1000.0  -60000.0            0.0        60000.0        -60000.0   \n",
       "4   -1000.0       0.0            0.0            0.0             0.0   \n",
       "\n",
       "   自營商買進股數(避險)  自營商賣出股數(避險)  自營商買賣超股數(避險)  三大法人買賣超股數  \\\n",
       "0          0.0          0.0           0.0  5350000.0   \n",
       "1     837000.0     292000.0      545000.0  1633000.0   \n",
       "2          0.0          0.0           0.0   580000.0   \n",
       "3          0.0          0.0           0.0   486000.0   \n",
       "4          0.0          0.0           0.0   414000.0   \n",
       "\n",
       "                         ymd  \n",
       "0 2017-04-14 15:09:35.837595  \n",
       "1 2017-04-14 15:09:35.837595  \n",
       "2 2017-04-14 15:09:35.837595  \n",
       "3 2017-04-14 15:09:35.837595  \n",
       "4 2017-04-14 15:09:35.837595  "
      ]
     },
     "execution_count": 119,
     "metadata": {},
     "output_type": "execute_result"
    }
   ],
   "source": [
    "stockdf.head()"
   ]
  },
  {
   "cell_type": "markdown",
   "metadata": {},
   "source": [
    "## 將資料儲存至SQLIte 之中"
   ]
  },
  {
   "cell_type": "code",
   "execution_count": 120,
   "metadata": {
    "collapsed": false
   },
   "outputs": [],
   "source": [
    "import sqlite3\n",
    "db = sqlite3.connect('finance.sqlite')\n",
    "stockdf.to_sql('trading_volume', con = db, if_exists='replace' )\n",
    "db.close()"
   ]
  },
  {
   "cell_type": "code",
   "execution_count": 122,
   "metadata": {
    "collapsed": false
   },
   "outputs": [
    {
     "data": {
      "text/html": [
       "<div>\n",
       "<table border=\"1\" class=\"dataframe\">\n",
       "  <thead>\n",
       "    <tr style=\"text-align: right;\">\n",
       "      <th></th>\n",
       "      <th>證券名稱</th>\n",
       "      <th>sum(`外資買進股數`)</th>\n",
       "    </tr>\n",
       "  </thead>\n",
       "  <tbody>\n",
       "    <tr>\n",
       "      <th>0</th>\n",
       "      <td>旺宏</td>\n",
       "      <td>76383855.0</td>\n",
       "    </tr>\n",
       "    <tr>\n",
       "      <th>1</th>\n",
       "      <td>華邦電</td>\n",
       "      <td>65561550.0</td>\n",
       "    </tr>\n",
       "    <tr>\n",
       "      <th>2</th>\n",
       "      <td>台積電</td>\n",
       "      <td>58191202.0</td>\n",
       "    </tr>\n",
       "    <tr>\n",
       "      <th>3</th>\n",
       "      <td>日月光</td>\n",
       "      <td>41086836.0</td>\n",
       "    </tr>\n",
       "    <tr>\n",
       "      <th>4</th>\n",
       "      <td>聯電</td>\n",
       "      <td>31948630.0</td>\n",
       "    </tr>\n",
       "  </tbody>\n",
       "</table>\n",
       "</div>"
      ],
      "text/plain": [
       "  證券名稱  sum(`外資買進股數`)\n",
       "0   旺宏     76383855.0\n",
       "1  華邦電     65561550.0\n",
       "2  台積電     58191202.0\n",
       "3  日月光     41086836.0\n",
       "4   聯電     31948630.0"
      ]
     },
     "execution_count": 122,
     "metadata": {},
     "output_type": "execute_result"
    }
   ],
   "source": [
    "import sqlite3 \n",
    "with sqlite3.connect('finance.sqlite') as db:\n",
    "    df2 = pandas.read_sql_query('SELECT `證券名稱`, sum(`外資買進股數`) FROM trading_volume group by `證券名稱` order by 2 desc', con = db)\n",
    "df2.head()\n",
    "    "
   ]
  },
  {
   "cell_type": "code",
   "execution_count": 133,
   "metadata": {
    "collapsed": false
   },
   "outputs": [],
   "source": [
    "import requests\n",
    "from bs4 import BeautifulSoup\n",
    "payload = {\n",
    "'utf8':'✓',\n",
    "#'authenticity_token':'jd+rMu2TAtMhUj7AXK/e5MNT1DNG/kvNUOKFKk2XYzdni6mKuV1NChRG2MG4LrhOYjKnK5Xk4tM/mPAug30A2Q==',\n",
    "'user[email]':'kaikouu@gmx.com',\n",
    "'user[password]':'',\n",
    "'user[remember_me]':'1'    \n",
    "}\n",
    "rs = requests.session()\n",
    "res = rs.get('https://statementdog.com/users/sign_in')\n",
    "soup = BeautifulSoup(res.text, 'html.parser')\n",
    "payload['authenticity_token'] = soup.select('meta[name==csrf-token]')[0]['content']\n",
    "res2  = rs.post('https://statementdog.com/users/sign_in', data = payload)\n",
    "res3 = rs.get('https://statementdog.com/feeds')\n",
    "#res3.text"
   ]
  },
  {
   "cell_type": "code",
   "execution_count": 135,
   "metadata": {
    "collapsed": false
   },
   "outputs": [],
   "source": [
    "import requests\n",
    "url = 'http://www.twse.com.tw/ch/trading/fund/T86/T86.php'\n",
    "payload = {\n",
    "'download': 'csv',\n",
    "'qdate':'106/04/13',\n",
    "'select2':'24',\n",
    "'sorting':'by_issue'\n",
    "}\n",
    "with open('stock0413.csv', 'wb') as f:    \n",
    "    res = requests.post(url, data = payload)\n",
    "    f.write(res.content)"
   ]
  },
  {
   "cell_type": "code",
   "execution_count": 136,
   "metadata": {
    "collapsed": true
   },
   "outputs": [],
   "source": [
    "import requests\n",
    "with open('stock.jpg', 'wb') as f:\n",
    "    res = requests.get('http://www.twse.com.tw/ch/trading/exchange/images/trading_pic.jpg')\n",
    "    f.write(res.content)"
   ]
  },
  {
   "cell_type": "code",
   "execution_count": 137,
   "metadata": {
    "collapsed": false
   },
   "outputs": [
    {
     "data": {
      "text/plain": [
       "'try{jsonp_prod({\"DYAJ86-A9007P24T-000\":{\"Seq\":16977490,\"Id\":\"DYAJ86-A9007P24T-000\",\"Name\":\"Apple iPhone 7 Plus (128G)-\\\\u66dc\\\\u77f3\\\\u9ed1\",\"Nick\":\"<font color=#FF00CC><b>\\\\u25bc\\\\u6bcf\\\\u65e5\\\\u5f37\\\\u6a94\\\\u2027\\\\u760b\\\\u6bba\\\\u7279\\\\u8ce3\\\\u25bc<\\\\/font><\\\\/b><BR><font color=FD0303><B>\\\\u66dc\\\\u77f3\\\\u9ed1\\\\u2605\\\\u9650\\\\u6642\\\\u4e0b\\\\u6bba\\\\u8d85\\\\u4f4e\\\\u50f9<\\\\/B><\\\\/font><BR>Apple iPhone 7 Plus (128G) \\\\u66dc\\\\u77f3\\\\u9ed1\",\"Store\":\"DYAJ95\",\"PreOrdDate\":\"\",\"SpeOrdDate\":\"\",\"Price\":{\"M\":0,\"P\":30500},\"Discount\":0,\"Pic\":{\"B\":\"\\\\/items\\\\/DYAJ86A9007P24T\\\\/000001_1492134550.jpg\",\"S\":\"\\\\/items\\\\/DYAJ86A9007P24T\\\\/000002_1480574566.jpg\"},\"Weight\":0.47,\"ISBN\":\"\",\"Qty\":2,\"Bonus\":0,\"isBig\":0,\"isSpec\":0,\"isCombine\":0,\"isDiy\":0,\"isRecyclable\":0,\"isCarrier\":0,\"isMedical\":0,\"isBigCart\":1,\"isSnapUp\":0,\"isDescAndIntroSync\":0,\"isFoodContents\":0,\"isHuge\":0,\"isEnergySubsidy\":0}});}catch(e){if(window.console){console.log(e);}}'"
      ]
     },
     "execution_count": 137,
     "metadata": {},
     "output_type": "execute_result"
    }
   ],
   "source": [
    "import requests\n",
    "res = requests.get('http://ecapi.pchome.com.tw/ecshop/prodapi/v2/prod/DYAJ86-A9007P24T-000&store=DYAJ95&fields=Seq,Id,Name,Nick,Store,PreOrdDate,SpeOrdDate,Price,Discount,Pic,Weight,ISBN,Qty,Bonus,isBig,isSpec,isCombine,isDiy,isRecyclable,isCarrier,isMedical,isBigCart,isSnapUp,isDescAndIntroSync,isFoodContents,isHuge,isEnergySubsidy&_callback=jsonp_prod&1492332300?_callback=jsonp_prod')\n",
    "res.text"
   ]
  }
 ],
 "metadata": {
  "kernelspec": {
   "display_name": "Python 3",
   "language": "python",
   "name": "python3"
  },
  "language_info": {
   "codemirror_mode": {
    "name": "ipython",
    "version": 3
   },
   "file_extension": ".py",
   "mimetype": "text/x-python",
   "name": "python",
   "nbconvert_exporter": "python",
   "pygments_lexer": "ipython3",
   "version": "3.6.0"
  }
 },
 "nbformat": 4,
 "nbformat_minor": 2
}
